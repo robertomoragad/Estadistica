{
  "nbformat": 4,
  "nbformat_minor": 0,
  "metadata": {
    "colab": {
      "provenance": [],
      "toc_visible": true,
      "authorship_tag": "ABX9TyN/7hXEFnv6lWC8lfipasXU",
      "include_colab_link": true
    },
    "kernelspec": {
      "name": "python3",
      "display_name": "Python 3"
    },
    "language_info": {
      "name": "python"
    }
  },
  "cells": [
    {
      "cell_type": "markdown",
      "metadata": {
        "id": "view-in-github",
        "colab_type": "text"
      },
      "source": [
        "<a href=\"https://colab.research.google.com/github/robertomoragad/Estadistica/blob/master/Prueba_de_hipotesis_de_diferencia_de_varianzas.ipynb\" target=\"_parent\"><img src=\"https://colab.research.google.com/assets/colab-badge.svg\" alt=\"Open In Colab\"/></a>"
      ]
    },
    {
      "cell_type": "markdown",
      "source": [
        "# La reducción de la varianza en los negocios: impactos positivos y la prueba de hipótesis de diferencia de varianzas\n",
        "\n",
        "<img src='https://drive.google.com/uc?export=view&id=19Dg70aXZBmo7Sj6s6hH1pMXyQKjxNvUl' width=\"600\" align=\"center\" style=\"margin-right: 20px\"> \n",
        "<br>\n",
        "\n",
        "\n",
        "<p style=\"font-size:8pt\"> \n",
        "Imagen gentileza de: Roberto Moraga</p>\n"
      ],
      "metadata": {
        "id": "vFUBhkXvkjC0"
      }
    },
    {
      "cell_type": "markdown",
      "source": [
        "##Introducción\n",
        "\n",
        "En el mundo de los negocios un objetivo central y medible es mejorar los procesos para maximizar la satisfacción de clientes, el crecimiento y la eficiencia empresarial. \n",
        "\n",
        "Uno de los desafíos más comunes que enfrentan las organizaciones es la variabilidad en sus procesos y en consecuencia la incosistencia en el resultado de sus productos y/o en las experiencias de servicio que viven sus clientes, esto se puede traducir en mayores costos, menor calidad y satisfacción de clientes y, en última instancia, baja retención de clientes, menor revenue y menores ganancias. Por lo tanto, la reducción de la varianza en los procesos de negocio es esencial para mejorar la eficiencia y la calidad de los productos o servicios que se ofrecen.\n",
        "\n",
        "La varianza es una medida de la dispersión de los datos en torno a su media. Cuando la varianza es alta existe mayor incosistencia ya que los datos están más dispersos, lo que significa que la probabilidad de que ocurran valores extremos es mayor. Por otro lado, cuando la varianza es baja, los datos están más agrupados y la probabilidad de valores extremos es menor. En el contexto empresarial, la varianza esta presente en diversos fenómenos, como:\n",
        "\n",
        "* la comercialización y marketing,\n",
        "* la producción de productos físicos, \n",
        "* la construcción de software,\n",
        "* la entrega de servicios, \n",
        "* la gestión de proyectos, \n",
        "* la post-venta o soporte, \n",
        "* otros.\n",
        "\n",
        "La satisfacción de los clientes se ve afectada cuando existe alta variabilidad en la experiencia de servicio, la satisfacción del clientes es una percepción de calidad que se construye en la mente de cada persona, pero esta no se construye calculando la media aritmética de satisfacción de cada experiencia pasada, se construye de una forma muy especial. Esto  aplica para cualquier negocio que entregue un servicio, sea este un banco, una compañía de telecomunicaciones, un hotel, Uber o McDonald's.\n",
        "\n",
        "Dado lo anterior la percepción sobre la calidad de un producto o servicio puede ser explicada de mejor forma con un indicador de dispersión, ya que según una [teoria ](https://en.wikipedia.org/wiki/Peak%E2%80%93end_rule)esta percepción está basada fuertemente en dos situaciones puntuales, independiente de la cantidad de veces que un cliente haya consumido un producto/servicio, estas situaciones son:\n",
        "* La última experiencia, y \n",
        "* La peor experiencia.\n",
        "\n",
        "Como los clientes no nos evaluan por la media, si no más bien por la dispersión, resulta relevante conocer la varianza de un producto o servicio, incluso para cuando se esta creando o lanzando un producto o servicio nuevo, cuando se quiere transformar un proceso de alta para nuevos clientes, o en el soporte comercial o técnico de clientes. \n",
        "\n",
        "Reducir la varianza en los procesos y productos puede tener impactos positivos en múltiples aspectos. Por ejemplo, puede mejorar la calidad del producto o servicio ofrecido al cliente, disminuir la cantidad de errores o defectos en la producción, reducir el tiempo y los costos en la entrega del servicio o la fabricación del producto, e incluso como ya se ha visto esto tiene un impacto significativo en la satisfacción de los clientes. Por lo tanto, reducir la varianza en los procesos de la cadena de valor del negocio y la de los productos/servicios consumidos por los clientes, puede crear a una ventaja competitiva para la empresa.\n",
        "\n",
        "\n",
        "Para reducir la varianza de procesos y productos, existen distintas herramienta de innovación y mejora continua, por ejemplo:\n",
        "\n",
        "* Control estadístico de procesos (SPC)\n",
        "* Análisis de capacidad de procesos\n",
        "* Diseño de experimentos (DoE)\n",
        "* Experimentación controlada\n",
        "* Otras\n",
        "\n",
        "En el presente documento se propone un método de trabajo para la reducción de varianza compuesto por las siguientes etapas:\n",
        "\n",
        "1.  Definir el problema\n",
        "2.  Seleccionar una Hipótesis\n",
        "3.  Ejecutar un experimento controlado\n",
        "4.  Analizar resultados\n",
        "5.  Tomar acciones\n",
        "\n",
        "Para desarrollar un experimento controlado, se necesita correr en forma concurrente 2 tratamientos:\n",
        "* proceso tradicional sin cambio, el que es aplicado en una muestra que actuará de control, y \n",
        "* proceso tradicional con un cambio, el que es aplicado en la muestra de experimentación.\n",
        "\n",
        "Una vez finalizado el experimento se consolidan los resultados y se comparar las varianzas, con el objeto de determinar si el tratamiento aplicado en la muestra de experimentación exhibe una menor varianza que la varianza de la muestra de control.\n",
        "\n",
        "Una herramienta estadística útil para comparar la varianza de dos poblaciones es la prueba de hipótesis de diferencia de varianzas. Esta prueba se utiliza para determinar si hay una diferencia significativa entre las varianzas de dos poblaciones. En el contexto empresarial, esta prueba puede ser útil para comparar las varianzas de dos procesos simultaneos, lo cual corresponde a un experimento controlado, o tamabién para comparar la varianza de de un proceso antes y después de implementar mejoras o cambios en el mismo, esto se puede llamar pre-post Testing. Por ejemplo, se puede utilizar para comparar la varianza en los tiempos de entrega de un servicio, uno de forma tradicional y otro simultaneo con la implementación de un nuevo sistema de gestión de pedidos.\n",
        "\n",
        "La prueba de hipótesis de diferencia de varianzas se basa en comparar el estadístico de prueba con un valor crítico obtenido a partir de una distribución F. Si el valor del estadístico de prueba es mayor que el valor crítico, se rechaza la hipótesis nula, que establece que las varianzas son iguales, y se concluye que hay una diferencia significativa entre las varianzas de las dos poblaciones. Por otro lado, si el valor del estadístico de prueba es menor que el valor crítico, se acepta la hipótesis nula y se concluye que no hay suficiente evidencia para afirmar que las varianzas son diferentes.\n",
        "\n",
        "La importancia de la reducción de la varianza en los procesos empresariales es clara y evidente, ya que puede tener impactos positivos en múltiples aspectos, como la calidad, la eficiencia operacional, la satisfacción y retención de clientes, y en suma en el crecimiento y sostenibilidad de una empresa.\n",
        "\n",
        "\n",
        "A continuación he preparado un set de ejemplos con este método de trabajo para reducir varianza y posteriormente analizar de forma científica si existe o no una mejora estadísticamente significativa (p-value) y relavante desde el punto de visto práctico (efecto y poder).\n",
        "\n",
        "\n",
        "\n",
        "\n"
      ],
      "metadata": {
        "id": "TNlH34wgkas1"
      }
    },
    {
      "cell_type": "markdown",
      "source": [
        "##Carga de librerias\n",
        "\n",
        "A continuación se importarás las librerías necesarias para desarrollar las pruebas estadísticas:"
      ],
      "metadata": {
        "id": "51BxBIDMj9xS"
      }
    },
    {
      "cell_type": "code",
      "execution_count": 1,
      "metadata": {
        "id": "E2Vutvm7sdsI"
      },
      "outputs": [],
      "source": [
        "#Importamos librerias\n",
        "import numpy as np #\n",
        "from scipy import stats \n",
        "import matplotlib.pyplot as plt"
      ]
    },
    {
      "cell_type": "markdown",
      "source": [
        "#Ejemplo 1"
      ],
      "metadata": {
        "id": "7RNfZM5eSyCu"
      }
    },
    {
      "cell_type": "markdown",
      "source": [
        "##Problema\n",
        "\n",
        "La variabilidad en la cantidad de impurezas presentes en un lote de productos químicos, utilizados en la industria de electromovilidad, es un indicador crítico a medir y gestionar. \n",
        "\n",
        "Un fabricante de clase mundial de estos productos químicos está viendo como la variabilidad de este indicador se encuentra aumentando de forma alarmante, lo cual ha impactado negativamente en las ventas, imagen y productividad de esta compañía."
      ],
      "metadata": {
        "id": "dLBsZ8-QV-AU"
      }
    },
    {
      "cell_type": "markdown",
      "source": [
        "##Hipótesis\n",
        "El equipo de ingeniería ha planteado diversas ideas para reducir la variabilidad de la cantidad de impurezas, una de ellas consiste en introducir en el proceso una tecnología de automatización que controlará en tiempo real un set de variables y luego gracias a un algoritmo actuará interviniendo oportunamente para asegurar un comportamiento del proceso bajo las especificaciones técnicas.\n",
        "\n",
        "###Hipótesis de negocio:\n",
        "La variabilidad de la cantidad de impurezas puede ser reducida si se equipa el proceso de producción de una tecnología inteligente.\n",
        "\n",
        "###Planteamiento estadístico:\n",
        "Aplicaremos el método **Fisher Test para diferencia de varianzas**, el método es simple, consiste en tomar la razón entre la varianza más grande, $\\sigma^2_{A}$ , y la varianza más pequeña, $\\sigma^2_{B}$, y luego buscar este ratio en una curva de distribución $F$. \n",
        "\n",
        "La hipótesis nula establece que la razón es igual a 1,\n",
        "$$H_0:  \\frac{\\sigma^2_{A}}{\\sigma^2_{B}} = 1$$\n",
        "\n",
        "y la hipótesis alternativa establece que el ratio es mayor a 1,\n",
        "\n",
        "$$H_1:  \\frac{\\sigma^2_{A}}{\\sigma^2_{B}}  > 1$$\n"
      ],
      "metadata": {
        "id": "BAfShD2CXnIW"
      }
    },
    {
      "cell_type": "markdown",
      "source": [
        "##Experimento\n",
        "\n",
        "El fabricante desarrollará un experimento controlado durante 1 semana, esto lo realizará por medio de 2 líneas de producción:\n",
        "\n",
        "* **Línea A:** en esta línea de producción no se realizará ningun cambio, es decir, se seguirá operando de forma tradicional. De esta línea se tomará una muestra de al menos 20 unidades, esta muestra corresponderá a la muestra de control.\n",
        "\n",
        "* **Línea B:** en esta línea de producción será aplicado el tratamiento seleccionado \"equipar proceso con tecnología\". De esta línea se tomará una muestra de al menos 20 unidades, esta muestra corresponderá a la muestra de experimentación.\n",
        "\n",
        "Las mediciones se desarrollará durante 1 semana de forma concurrente, es decir, las 2 líneas estará operando de forma paralela e independiente."
      ],
      "metadata": {
        "id": "HbrnfthWX06_"
      }
    },
    {
      "cell_type": "markdown",
      "source": [
        "##Análisis de Resultados\n",
        "\n",
        "Las muestras tomadas fueron de tamaño 25 para la línea de producción A y de tamaño 20 para la línea de producción B.\n",
        "\n",
        "Los resultados son los siguientes:\n",
        "\n",
        "**Línea A**\n",
        "* tamaño muestra = 25 \n",
        "* media muestra = 3.2\n",
        "* Varianza muestra = 1.04\n",
        "\n",
        "**Línea B**\n",
        "* tamaño muestra = 20\n",
        "* media muestra = 3.0\n",
        "* varianza muestra = 0.51\n",
        "\n",
        "\n",
        "Asumiendo normalidad en los datos de ambas muestras:\n",
        "¿Presentan los datos evidencia suficiente para indicar que las variaciones son menores para la Línea B ? \n",
        "\n",
        "Realice una prueba con un $a= 0.05$"
      ],
      "metadata": {
        "id": "HvvYXbULaJM7"
      }
    },
    {
      "cell_type": "markdown",
      "source": [
        "###Análisis Post-hoc\n",
        "\n",
        "La Hipótesis planteada anteriormente nos invita a desarrollar un análisis estadístico de 1 cola."
      ],
      "metadata": {
        "id": "MvvNjSKgTK9E"
      }
    },
    {
      "cell_type": "code",
      "source": [
        "#prueba de 1 cola\n",
        "\n",
        "#Datos\n",
        "xbar_1 = 3.2 #media\n",
        "s2_1 = 1.04 #var\n",
        "s1 = np.sqrt(s2_1) #desv std\n",
        "n1 = 25\n",
        "\n",
        "xbar_2 = 3.0\n",
        "s2_2 = 0.51\n",
        "s2 = np.sqrt(s2_2)\n",
        "n2 = 20\n",
        "\n",
        "\n",
        "alpha = 0.05\n",
        "\n",
        "#Test de hipotesis\n",
        "  #H0: S2_1 / S2_2 = 1\n",
        "  #H1: S2_1 / S2_2 > 1\n",
        "\n",
        "#Calcular estadístico F de prueba\n",
        "F = s1**2/s2**2\n",
        "\n",
        "#calcular F crítico (1 cola, derecha)\n",
        "LS = stats.f.ppf(1-(alpha), dfn=n1-1, dfd=n2-1, loc=0, scale=1)\n",
        "print(f'F critic:                      {LS:4.4f}')\n",
        "print(f'F test (ratio de varianzas):   {F:4.4f}')\n",
        "\n",
        "#calcular p-value\n",
        "pvalue = stats.f.sf(F, dfn=n1-1, dfd=n2-1, loc=0, scale=1)\n",
        "print(f'p-value:                       {pvalue:4.4f}')\n",
        "\n",
        "#calcular efecto relativo y su IC\n",
        "effect=s1/s2\n",
        "print(f'Efecto (ratio desv.std s1/s2): {effect:4.4f}')\n",
        "print(f'región de aceptación para s1/s2 al {1-alpha} NC: [{0:4.4f}; {np.sqrt(LS):4.4f}]')\n",
        "\n",
        "#calcular IC del ratio de las varianzas de F\n",
        "LI_F = 0\n",
        "LS_F = stats.f.ppf(1-(alpha), dfn=n1-1, dfd=n2-1, loc=0, scale=1*F)\n",
        "print(f'IC ratio de varianzas (σ12/σ22) al {1-alpha} NC: [{LI_F:4.4f}; {LS_F:4.4f}]')\n",
        "\n",
        "######################################################################\n",
        "# Graphing the Fisher distribution\n",
        "# project distribution F for H0\n",
        "f_H0 = stats.f(dfn=n1-1, dfd=n2-1, loc=0, scale=1)\n",
        "x = np.linspace(f_H0.ppf(0.0001), f_H0.ppf(0.9999), 100)\n",
        "pdf = f_H0.pdf(x) #probability density function\n",
        "\n",
        "F_test = stats.f(dfn=n1-1, dfd=n2-1, loc=0, scale=1*F)\n",
        "x_F = np.linspace(F_test.ppf(0.0001), F_test.ppf(0.99), 100)\n",
        "pdf_F = F_test.pdf(x_F) #probability density function\n",
        "\n",
        "plt.figure(figsize=(10, 5)) \n",
        "plt.plot(x, pdf,\"orange\", label=r'$H_0$') #  H0 fit\n",
        "plt.plot(x_F, pdf_F,\"b\", alpha=0.3, label=r'Dist. $F$') #  F fit\n",
        "\n",
        "plt.vlines(ymin=0, ymax=np.max(pdf)*1.2, x=LS, \n",
        "           color='r', label='$F$-critical right')#right\n",
        "plt.vlines(ymin=0, ymax=np.max(pdf), x=F, \n",
        "           color='b', label='F-test')#F\n",
        "\n",
        "plt.ylabel('Prob. density')\n",
        "plt.xlabel('F score')\n",
        "plt.title('F Test - dif. variances')\n",
        "\n",
        "# Relleno (fill) de áreas\n",
        "# Fill de alfa/2\n",
        "plt.fill_between(x, pdf, \n",
        "                 where = (x > LS),\n",
        "                 color='b', alpha=0.2, label=r'$\\alpha$')\n",
        "# Fill de p-value\n",
        "plt.fill_between(x, pdf, \n",
        "                 where = (x > F),\n",
        "                 color='r', hatch='|||', alpha=0.1, label=r'p-value')\n",
        "\n",
        "\n",
        "plt.legend()\n",
        "plt.show()"
      ],
      "metadata": {
        "id": "GgR7CPD2i5CE",
        "colab": {
          "base_uri": "https://localhost:8080/",
          "height": 454
        },
        "outputId": "a8fe1f97-8911-42c6-9e88-f2b5b9048b0a"
      },
      "execution_count": 8,
      "outputs": [
        {
          "output_type": "stream",
          "name": "stdout",
          "text": [
            "F critic:                      2.1141\n",
            "F test (ratio de varianzas):   2.0392\n",
            "p-value:                       0.0585\n",
            "Efecto (ratio desv.std s1/s2): 1.4280\n",
            "región de aceptación para s1/s2 al 0.95 NC: [0.0000; 1.4540]\n",
            "IC ratio de varianzas (σ12/σ22) al 0.95 NC: [0.0000; 4.3112]\n"
          ]
        },
        {
          "output_type": "display_data",
          "data": {
            "text/plain": [
              "<Figure size 720x360 with 1 Axes>"
            ],
            "image/png": "[encoded data removed]"
          },
          "metadata": {
            "needs_background": "light"
          }
        }
      ]
    },
    {
      "cell_type": "markdown",
      "source": [
        "###Conclusiones\n",
        "Regla de decisión:\n",
        "\n",
        "* Si $F_{test}$ <= 2.11, No se rechaza $H_0$,\n",
        "* Si $F_{test}$ > 2.11, se rechaza $H_0$.\n",
        "\n",
        "**Decisión y Justificación:**\n",
        "\n",
        "Como el $F$ de prueba igual a 2.0392 es menor que el $F$ crítico de 2.1141, o como el ${p}$-value obtenido de 0.0585 es mayor al $a$ pre-seteado en 0.005, no se puede rechazar $H_0$.\n",
        "\n",
        "Se concluye con un $a$ = 0.05 que no existe suficiente evidencia para decir que la varianza del proceso de la Línea B es menor que la del proceso de la Línea A."
      ],
      "metadata": {
        "id": "klSLcKScPuJm"
      }
    },
    {
      "cell_type": "markdown",
      "source": [
        "###Otros escenarios"
      ],
      "metadata": {
        "id": "Savch54rruKo"
      }
    },
    {
      "cell_type": "markdown",
      "source": [
        "####Escenario 2\n",
        "Del ejercicio anterior, donde la variabilidad en la cantidad de impurezas presentes en un lote de productos químicos es un indicador clave que venía en aumento, y para contrarestarlo el fabricante empleó dos líneas de producción A y B, y en está última introdujo una nueva técnología, realizar un Análisis Post hoc si le relación fuese de: $\\frac{\\sigma^2_{A}}{\\sigma^2_{B}} = 3.1$\n",
        "\n",
        "\n",
        "$$H_0:  \\frac{\\sigma^2_{A}}{\\sigma^2_{B}} = 1.0$$\n",
        "\n",
        "$$H_1:  \\frac{\\sigma^2_{A}}{\\sigma^2_{B}}  = 3.1$$\n",
        "\n"
      ],
      "metadata": {
        "id": "1ZaOIan1nh8-"
      }
    },
    {
      "cell_type": "code",
      "source": [
        "#Prueba de 1 cola\n",
        "F=3.1 #H1\n",
        "\n",
        "#Calculo de p-value\n",
        "pvalue = (stats.f.sf(F, dfn=n1-1, dfd=n2-1, loc=0, scale=1))#1 cola\n",
        "print(f'p-value:        {pvalue:4.4f}')\n",
        "\n",
        "#Calculo de poder, beta y efecto\n",
        "power = stats.f.sf(LS, dfn=n1-1, dfd=n2-1, loc=0, scale=1*F)\n",
        "print(f'Power:          {power:4.4f}')\n",
        "\n",
        "beta = stats.f.cdf(LS, dfn=n1-1, dfd=n2-1, loc=0, scale=1*F)\n",
        "print(f'beta:           {beta:4.4f}')\n",
        "\n",
        "effect = np.sqrt(F)\n",
        "print(f'efecto (ratio de desv. std s1/s2): {effect:4.4f}')\n",
        "\n",
        "LI_h1 = stats.f.ppf(alpha/2, dfn=n1-1, dfd=n2-1, loc=0, scale=1*F)\n",
        "LS_h1 = stats.f.ppf(1-(alpha/2), dfn=n1-1, dfd=n2-1, loc=0, scale=1*F)\n",
        "print(f'IC del ratio de varianzas (σ12/σ22) H1 al {1-alpha} NC: [{LI_h1:4.4f}; {LS_h1:4.4f}]')\n",
        "\n",
        "######################################################################\n",
        "# Graphing the Fisher distribution\n",
        "# project distribution F for H0\n",
        "f_H0 = stats.f(dfn=n1-1, dfd=n2-1, loc=0, scale=1)\n",
        "x = np.linspace(f_H0.ppf(0.0001), f_H0.ppf(0.9999), 100)\n",
        "pdf = f_H0.pdf(x) #probability density function\n",
        "\n",
        "# project distribution F for H1\n",
        "f_H1 = stats.f(dfn=n1-1, dfd=n2-1, loc=0, scale=1*F)\n",
        "x1 = np.linspace(f_H1.ppf(0.0001), f_H1.ppf(0.99), 100)\n",
        "pdf1 = f_H1.pdf(x1) #probability density function\n",
        "\n",
        "plt.figure(figsize=(10, 5)) \n",
        "plt.plot(x, pdf,\"orange\", label=r'$H_0$') #  H0 fit\n",
        "plt.plot(x1, pdf1,\"b\", alpha=0.5, label=r'$H_1$') #  H1 fit\n",
        "\n",
        "plt.vlines(ymin=-0.05, ymax=np.max(pdf)*1, x=LS, \n",
        "           color='r', label='$F$-critical right')#right\n",
        "plt.vlines(ymin=-0.05, ymax=np.max(pdf)*1.15, x=1, \n",
        "           color='orange', label='$\\sigma^2_{1}/\\sigma^2_{2}$  $H_0$')#F H0\n",
        "plt.vlines(ymin=-0.05, ymax=np.max(pdf)*1.15, x=F, \n",
        "           color='b', label='$\\sigma^2_{1}/\\sigma^2_{2}$  $H_1$')#F H1\n",
        "\n",
        "plt.ylabel('Prob. density')\n",
        "plt.xlabel('F score')\n",
        "plt.title('F Test - dif. variances')\n",
        "\n",
        "# Tamaño del efecto\n",
        "plt.hlines(xmin=1, xmax=F, y=1.03,  colors='cyan', alpha=0.5, label='Tamaño del efecto')\n",
        "plt.vlines(ymin=1, ymax=1.05, x=1,  colors='cyan', alpha=0.5)\n",
        "plt.vlines(ymin=1, ymax=1.05, x=F,  colors='cyan', alpha=0.5)\n",
        "plt.text((1 + (F-1)/2), 1.1, r'Tamaño del efecto', fontsize=12, ha='center')\n",
        "\n",
        "# Relleno (fill) de áreas\n",
        "# Fill de alfa\n",
        "plt.fill_between(x, pdf, \n",
        "                 where = (x > LS),\n",
        "                 color='b', alpha=0.2, label=r'$\\alpha$')\n",
        "# Fill de 1 - beta (Potencia)\n",
        "plt.fill_between(x1, pdf1, \n",
        "                 where = (x1 > LS),\n",
        "                 color='green', alpha=0.2, label=r'$1 - \\beta$, Power $(H_1)$')\n",
        "# Fill de beta\n",
        "plt.fill_between(x1, pdf1, \n",
        "                 where = (x1 < LS),\n",
        "                 color='red', alpha=0.2, label=r'$\\beta$ $(H_1)$')\n",
        "# Fill de p-value\n",
        "plt.fill_between(x, pdf, \n",
        "                 where = (x > F),\n",
        "                 color='r', hatch='|||', alpha=0.1, label=r'p-value')\n",
        "plt.legend()\n",
        "plt.show()"
      ],
      "metadata": {
        "id": "RMqhBLBl4m2a",
        "colab": {
          "base_uri": "https://localhost:8080/",
          "height": 437
        },
        "outputId": "6d544cb5-c45e-4bfe-88e6-36d2c3491cad"
      },
      "execution_count": 9,
      "outputs": [
        {
          "output_type": "stream",
          "name": "stdout",
          "text": [
            "p-value:        0.0072\n",
            "Power:          0.8138\n",
            "beta:           0.1862\n",
            "efecto (ratio de desv. std s1/s2): 1.7607\n",
            "IC del ratio de varianzas (σ12/σ22) H1 al 0.95 NC: [1.3219; 7.6022]\n"
          ]
        },
        {
          "output_type": "display_data",
          "data": {
            "text/plain": [
              "<Figure size 720x360 with 1 Axes>"
            ],
            "image/png": "[encoded data removed]"
          },
          "metadata": {
            "needs_background": "light"
          }
        }
      ]
    },
    {
      "cell_type": "markdown",
      "source": [
        "###Conclusión\n",
        "\n",
        "En este caso debido a que el p-value de 0.0072 es menor al α de 0.05, o como el $F$ de prueba es mayor al $F$ crítico, se procede a rechazar la $H_0$, luego se concluye que la varianza de las impurezas generadas en la Línea A es estadísticamente superior a la varianza exhibida en la Línea B.\n",
        "\n",
        "\n",
        "Una vez rechazada la $H_0$ se procede a evaluar el tamaño del efecto, y luego a calcular la potencia (poder) de este efecto generado.  Si el tamaño del efecto cumple el mínimo esperado por la organización, o si en términos relativos este efecto se encuentra en un nivel de aceptable, se procede a calcular el poder.\n",
        "\n",
        "Para este ejemplo vamos a utilizar una medida relativa del efecto, que es el ratio entre las desviaciones estándar de ambas muestras, en este caso este valor es de 1.76 cifra que sobrepasa el umbral X.X de aceptación.  Esto se interpreta así:  \n",
        "\n",
        "* la desviación estándar de la Línea A es un 76% más alta que la de la Línea B. o\n",
        "* la desviación estándar de la Línea B es un 43% más baja que la de la Línea A.\n",
        "\n",
        "Entonces como este efecto es relevante, procdemos a calcular el Poder de esta prueba, en este caso el poder es de 81% cifra superior al umbral de 80%, por tanto se concluye que la reducción de varianza producido por la nueva tecnología es significativa desde el punto estadístico y también práctico, se recomienda escalar esta forma de operar a todas las líneas de fabricación de esta compañía"
      ],
      "metadata": {
        "id": "M5oNnxDckOX_"
      }
    },
    {
      "cell_type": "markdown",
      "source": [
        "####Escenario 3\n",
        "Del ejercicio anterior, donde la variabilidad en la cantidad de impurezas presentes en un lote de productos químicos es un indicador clave que venía en aumento, y para contrarestarlo el fabricante empleó dos líneas de producción A y B, y en está última introdujo una nueva técnología, calcular la probabilidad de cometer Error Tipo II (${\\beta}$ ) si le relación fuese de: $\\frac{\\sigma^2_{A}}{\\sigma^2_{B}} = 1.5$\n",
        "\n",
        "\n",
        "$$H_0:  \\frac{\\sigma^2_{A}}{\\sigma^2_{B}} = 1.0$$\n",
        "\n",
        "$$H_1:  \\frac{\\sigma^2_{A}}{\\sigma^2_{B}}  = 1.5$$"
      ],
      "metadata": {
        "id": "EKrDHEXdrpIq"
      }
    },
    {
      "cell_type": "code",
      "source": [
        "##tu código aquí\n",
        "#\n",
        "#\n",
        "\n",
        "\n",
        "\n"
      ],
      "metadata": {
        "id": "PsTIpMGlr_0C"
      },
      "execution_count": 4,
      "outputs": []
    },
    {
      "cell_type": "markdown",
      "source": [
        "###Conclusión"
      ],
      "metadata": {
        "id": "9FDTT23ywJ0F"
      }
    },
    {
      "cell_type": "markdown",
      "source": [
        "# Ejemplo 2"
      ],
      "metadata": {
        "id": "kOnJsDmura_W"
      }
    },
    {
      "cell_type": "markdown",
      "source": [
        "##Problema\n",
        "\n",
        "Las capas de óxido en las obleas semiconductoras son depositadas en una mezcla de gases para alcanzar el espesor apropiado. La variabilidad del espesor es una característica crítica de la oblea, y lo deseable para los siguientes pasos de la fabricación es tener una variabilidad baja. Para ello se estudian dos mezclas diferentes de gases con la finalidad de determinar con cuál se obtienen mejores resultados en cuanto a la reducción en la variabilidad del espesor del óxido. \n",
        "\n",
        "21 obleas son depositadas en cada gas. Las desviaciones estándar de cada muestra del espesor del óxido son:\n",
        "* $S_1$ = 1.96 angstroms \n",
        "* $S_2$ = 2.13 angstroms \n",
        "\n",
        "\n",
        "\n",
        ">Nota: El ángstrom (símbolo Å)​ es una unidad de longitud empleada principalmente para expresar longitudes de onda, distancias moleculares y atómicas.\n",
        "\n",
        "\n",
        "\n",
        "\n"
      ],
      "metadata": {
        "id": "CyHDT3S1xetf"
      }
    },
    {
      "cell_type": "markdown",
      "source": [
        "¿Existe evidencia que indique una diferencia en las desviaciones? \n",
        "Utilice un α = 0.05.\n",
        "\n",
        "El estadístico de prueba es:\n",
        "\n",
        "* $F$ = \n",
        "$\\frac{S^2_{x}}{S^2_{y}} $\n",
        "\n",
        "En donde, ${S^2_{x}}$ es la varianza mayor y ${S^2_{y}}$ es la varianza menor; el cual tiene una distribución $F$ con n-1 (numerador) y m-1 (denominador) grados de libertad si la hipótesis nula de igualdad de varianzas es cierta. De lo contrario, tiene una distribución $F$ no central."
      ],
      "metadata": {
        "id": "b52ODUTTsaUs"
      }
    },
    {
      "cell_type": "markdown",
      "source": [
        "##Hipótesis\n",
        "\n",
        "La hipótesis nula establece que la razón es igual a 1,\n",
        "$$H_0:  \\frac{\\sigma^2_{1}}{\\sigma^2_{2}} = 1$$\n",
        "\n",
        "y la hipótesis alternativa establece que el ratio es diferente a 1,\n",
        "\n",
        "$$H_1:  \\frac{\\sigma^2_{1}}{\\sigma^2_{2}}  ≠  1$$"
      ],
      "metadata": {
        "id": "COjgkWriuCSM"
      }
    },
    {
      "cell_type": "markdown",
      "source": [
        "##Análisis de Resultados\n",
        "\n",
        "La hipótesis nos invita a realizar una prueba estadísitica de 2 colas."
      ],
      "metadata": {
        "id": "GJGgDzvouiHA"
      }
    },
    {
      "cell_type": "code",
      "source": [
        "#Prueba de 2 colas\n",
        "\n",
        "#Datos:\n",
        "\n",
        "s1= 2.13\n",
        "n1 = 21\n",
        "\n",
        "s2 = 1.96\n",
        "n2= 21\n",
        "\n",
        "alpha=0.05\n",
        "\n",
        "\n",
        "#Test de hipotesis\n",
        "  #H0: S2_1 / S2_2 = 1\n",
        "  #H1: S2_1 / S2_2 ≠ 1\n",
        "\n",
        "#Calcular estadístico F de prueba\n",
        "F = s1**2/s2**2\n",
        "\n",
        "#Calcular F criticos\n",
        "LI = stats.f.ppf(alpha/2, dfn=n1-1, dfd=n2-1, loc=0, scale=1)\n",
        "print(f'F critic left:                 {LI:4.4f}')\n",
        "LS = stats.f.ppf(1-(alpha/2), dfn=n1-1, dfd=n2-1, loc=0, scale=1)\n",
        "print(f'F critic right:                {LS:4.4f}')\n",
        "print(f'F test (ratio de varianzas):   {F:4.4f}')\n",
        "\n",
        "pvalue = stats.f.sf(F, dfn=n1-1, dfd=n2-1, loc=0, scale=1)*2\n",
        "print(f'p-value:                       {pvalue:4.4f}')\n",
        "\n",
        "effect=s1/s2\n",
        "print(f'Efecto (ratio desv.std s1/s2): {effect:4.4f}')\n",
        " \n",
        "print(f'región de aceptación para s1/s2 al {1-alpha} NC: [{np.sqrt(LI):4.4f}; {np.sqrt(LS):4.4f}]')\n",
        "\n",
        "#calcular IC del ratio de las varianzas de F\n",
        "LI_F = stats.f.ppf(alpha/2, dfn=n1-1, dfd=n2-1, loc=0, scale=1*F)\n",
        "LS_F = stats.f.ppf(1-(alpha/2), dfn=n1-1, dfd=n2-1, loc=0, scale=1*F)\n",
        "print(f'IC ratio de varianzas (σ12/σ22) al {1-alpha} NC: [{LI_F:4.4f}; {LS_F:4.4f}]')\n",
        "\n",
        "\n",
        "######################################################################\n",
        "# Graphing the Fisher distribution\n",
        "# project distribution F for H0\n",
        "f_H0 = stats.f(dfn=n1-1, dfd=n2-1, loc=0, scale=1)\n",
        "x = np.linspace(f_H0.ppf(0.0001), f_H0.ppf(0.999), 100)\n",
        "pdf = f_H0.pdf(x) #probability density function\n",
        "\n",
        "F_test = stats.f(dfn=n1-1, dfd=n2-1, loc=0, scale=1*F)\n",
        "x_F = np.linspace(F_test.ppf(0.0001), F_test.ppf(0.999), 100)\n",
        "pdf_F = F_test.pdf(x_F) #probability density function\n",
        "\n",
        "plt.figure(figsize=(10, 5)) \n",
        "plt.plot(x, pdf,\"orange\", label=r'$H_0$') #  H0 fit\n",
        "plt.plot(x_F, pdf_F,\"b\", alpha=0.3, label=r'Dist. $F$') #  F fit\n",
        "plt.vlines(ymin=0, ymax=np.max(pdf)*1.2, x=LI, \n",
        "           color='r', label='$F$-critical left')#lef\n",
        "plt.vlines(ymin=0, ymax=np.max(pdf)*1.2, x=LS, \n",
        "           color='r', label='$F$-critical right')#right\n",
        "plt.vlines(ymin=0, ymax=np.max(pdf), x=F, \n",
        "           color='b', label='F-test')#F\n",
        "\n",
        "plt.ylabel('Prob. density')\n",
        "plt.xlabel('F score')\n",
        "plt.title('F Test - dif. variances')\n",
        "\n",
        "# Relleno (fill) de áreas\n",
        "# Fill de alfa/2\n",
        "plt.fill_between(x, pdf, \n",
        "                 where = (x > LS) | (x < LI),\n",
        "                 color='b', alpha=0.2, label=r'$\\alpha/2$')\n",
        "# Fill de p-value\n",
        "plt.fill_between(x, pdf, \n",
        "                 where = (x > F),\n",
        "                 color='r', hatch='|||', alpha=0.1, label=r'p-value/2')\n",
        "\n",
        "\n",
        "plt.legend()\n",
        "plt.show()"
      ],
      "metadata": {
        "colab": {
          "base_uri": "https://localhost:8080/",
          "height": 472
        },
        "id": "U3XWd0lleRBy",
        "outputId": "b52a355e-3091-41ee-fab2-a17117e42713"
      },
      "execution_count": 5,
      "outputs": [
        {
          "output_type": "stream",
          "name": "stdout",
          "text": [
            "F critic left:                 0.4058\n",
            "F critic right:                2.4645\n",
            "F test (ratio de varianzas):   1.1810\n",
            "p-value:                       0.7135\n",
            "Efecto (ratio desv.std s1/s2): 1.0867\n",
            "región de aceptación para s1/s2 al 0.95 NC: [0.6370; 1.5699]\n",
            "IC ratio de varianzas (σ12/σ22) al 0.95 NC: [0.4792; 2.9105]\n"
          ]
        },
        {
          "output_type": "display_data",
          "data": {
            "text/plain": [
              "<Figure size 720x360 with 1 Axes>"
            ],
            "image/png": "[encoded data removed]"
          },
          "metadata": {
            "needs_background": "light"
          }
        }
      ]
    },
    {
      "cell_type": "markdown",
      "source": [
        "##Conclusiones\n",
        "\n",
        "Como el $F$ de prueba igual a 1.1810 se encuentra en la zona de no rechazo (de 0.4058 a 2.4645), o como el ${p}$-value obtenido de 0.7135 es mayor al $a$ pre-seteado en 0.005, no se puede rechazar $H_0$.\n",
        "\n",
        "Se concluye con un $a$ = 0.05 que no existe suficiente evidencia para concluir que las varianzas son estadísticamente diferentes."
      ],
      "metadata": {
        "id": "Ls8XSCA5vELm"
      }
    },
    {
      "cell_type": "markdown",
      "source": [
        "###Otro escenario\n",
        "\n",
        "Para el ejercicio anterior, encontrar la probabilidad de cometer error tipo II si la verdadera relación $\\frac{\\sigma^2_{1}}{\\sigma^2_{2}} = 2.0$.\n"
      ],
      "metadata": {
        "id": "RR8j0QuXzojp"
      }
    },
    {
      "cell_type": "code",
      "source": [
        "#Prueba de 2 colas\n",
        "\n",
        "F=2 #H1\n",
        "\n",
        "pvalue = (stats.f.sf(F, dfn=n1-1, dfd=n2-1, loc=0, scale=1))*2\n",
        "print(f'p-value:        {pvalue:4.4f}')\n",
        "\n",
        "power = stats.f.sf(LS, dfn=n1-1, dfd=n2-1, loc=0, scale=1*F) + stats.f.cdf(LI, dfn=n1-1, dfd=n2-1, loc=0, scale=1*F)\n",
        "print(f'Power:          {power:4.4f}')\n",
        "\n",
        "beta = stats.f.cdf(LS, dfn=n1-1, dfd=n2-1, loc=0, scale=1*F) - stats.f.cdf(LI, dfn=n1-1, dfd=n2-1, loc=0, scale=1*F)\n",
        "print(f'beta:           {beta:4.4f}')\n",
        "\n",
        "effect = np.sqrt(F)\n",
        "print(f'efecto (ratio de desv. std s1/s2): {effect:4.4f}')\n",
        "\n",
        "LI_h1 = stats.f.ppf(alpha/2, dfn=n1-1, dfd=n2-1, loc=0, scale=1*F)\n",
        "LS_h1 = stats.f.ppf(1-(alpha/2), dfn=n1-1, dfd=n2-1, loc=0, scale=1*F)\n",
        "print(f'IC del ratio de varianzas (σ12/σ22) H1 al {1-alpha} NC: [{LI_h1:4.4f}; {LS_h1:4.4f}]')\n",
        "\n",
        "######################################################################\n",
        "# Graphing the Fisher distribution\n",
        "# project distribution F for H0\n",
        "f_H0 = stats.f(dfn=n1-1, dfd=n2-1, loc=0, scale=1)\n",
        "x = np.linspace(f_H0.ppf(0.0001), f_H0.ppf(0.9999), 100)\n",
        "pdf = f_H0.pdf(x) #probability density function\n",
        "\n",
        "# project distribution F for H1\n",
        "f_H1 = stats.f(dfn=n1-1, dfd=n2-1, loc=0, scale=1*F)\n",
        "x1 = np.linspace(f_H1.ppf(0.0001), f_H1.ppf(0.99), 100)\n",
        "pdf1 = f_H1.pdf(x1) #probability density function\n",
        "\n",
        "plt.figure(figsize=(10, 5)) \n",
        "plt.plot(x, pdf,\"orange\", label=r'$H_0$') #  H0 fit\n",
        "plt.plot(x1, pdf1,\"b\", alpha=0.5, label=r'$H_1$') #  H1 fit\n",
        "\n",
        "plt.vlines(ymin=-0.05, ymax=np.max(pdf)*1.2, x=LI, \n",
        "           color='r', label='$F$-critical left')#lef\n",
        "plt.vlines(ymin=-0.05, ymax=np.max(pdf)*1.2, x=LS, \n",
        "           color='r', label='$F$-critical right')#right\n",
        "plt.vlines(ymin=-0.05, ymax=np.max(pdf), x=1, \n",
        "           color='orange', label='$\\sigma^2_{1}/\\sigma^2_{2}$  $H_0$')#F H0\n",
        "plt.vlines(ymin=-0.05, ymax=np.max(pdf), x=F, \n",
        "           color='b', label='$\\sigma^2_{1}/\\sigma^2_{2}$  $H_1$')#F H1\n",
        "\n",
        "plt.ylabel('Prob. density')\n",
        "plt.xlabel('F score')\n",
        "plt.title('F Test - dif. variances')\n",
        "\n",
        "\n",
        "\n",
        "# Tamaño del efecto\n",
        "plt.hlines(xmin=1, xmax=F, y=1.03,  colors='cyan', alpha=0.5, label='Tamaño del efecto')\n",
        "plt.vlines(ymin=1, ymax=1.05, x=1,  colors='cyan', alpha=0.5)\n",
        "plt.vlines(ymin=1, ymax=1.05, x=F,  colors='cyan', alpha=0.5)\n",
        "plt.text((1 + (F-1)/2), 1.1, r'Tamaño del efecto', fontsize=12, ha='center')\n",
        "\n",
        "# Relleno (fill) de áreas\n",
        "# Fill de alfa/2\n",
        "plt.fill_between(x, pdf, \n",
        "                 where = (x > LS) | (x < LI),\n",
        "                 color='b', alpha=0.2, label=r'$\\alpha/2$')\n",
        "# Fill de 1 - beta (Potencia)\n",
        "plt.fill_between(x1, pdf1, \n",
        "                 where = (x1 > LS) | (x1 < LI),\n",
        "                 color='green', alpha=0.2, label=r'$1 - \\beta$, Power $(H_1)$')\n",
        "# Fill de beta\n",
        "plt.fill_between(x1, pdf1, \n",
        "                 where = (x1 > LI) & (x1 < LS),\n",
        "                 color='red', alpha=0.2, label=r'$\\beta$ $(H_1)$')\n",
        "# Fill de p-value\n",
        "plt.fill_between(x, pdf, \n",
        "                 where = (x > F),\n",
        "                 color='r', hatch='|||', alpha=0.1, label=r'p-value/2')\n",
        "\n",
        "\n",
        "plt.legend()\n",
        "plt.show()"
      ],
      "metadata": {
        "colab": {
          "base_uri": "https://localhost:8080/",
          "height": 437
        },
        "id": "_6tH1VUPxlar",
        "outputId": "3e878153-88cf-4f83-bfa2-160922bd26eb"
      },
      "execution_count": 6,
      "outputs": [
        {
          "output_type": "stream",
          "name": "stdout",
          "text": [
            "p-value:        0.1295\n",
            "Power:          0.3229\n",
            "beta:           0.6771\n",
            "efecto (ratio de desv. std s1/s2): 1.4142\n",
            "IC del ratio de varianzas (σ12/σ22) H1 al 0.95 NC: [0.8115; 4.9290]\n"
          ]
        },
        {
          "output_type": "display_data",
          "data": {
            "text/plain": [
              "<Figure size 720x360 with 1 Axes>"
            ],
            "image/png": "[encoded data removed]"
          },
          "metadata": {
            "needs_background": "light"
          }
        }
      ]
    },
    {
      "cell_type": "markdown",
      "source": [
        "###Resultado\n",
        "La probabilidad de cometer Error Tipo 2 es 0.6771, cifra muy alta, sobrepasa el umbral de 0.20 para β.\n",
        "\n"
      ],
      "metadata": {
        "id": "FmpfJl1fvodi"
      }
    },
    {
      "cell_type": "markdown",
      "source": [
        "\n",
        "\n",
        "---\n",
        "\n",
        "\n",
        "¿Tienes alguna pregunta o sugerencia? \n",
        "\n",
        "Déjame comentarios en https://www.linkedin.com/in/robertomoragad/ y haré todo lo posible para responder."
      ],
      "metadata": {
        "id": "iqm8-YF05Onu"
      }
    },
    {
      "cell_type": "markdown",
      "source": [
        "Fuente ejercicios:\n",
        "\n",
        "https://virtual.uptc.edu.co/ova/estadistica/docs/libros/estadistica1/cap03c.html"
      ],
      "metadata": {
        "id": "bY1n9v8IgiTN"
      }
    }
  ]
}