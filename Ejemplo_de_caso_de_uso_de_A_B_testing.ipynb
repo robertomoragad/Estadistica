{
  "nbformat": 4,
  "nbformat_minor": 0,
  "metadata": {
    "colab": {
      "provenance": [],
      "authorship_tag": "ABX9TyOflRp+ht9Ot/RFvMxJICs2",
      "include_colab_link": true
    },
    "kernelspec": {
      "name": "python3",
      "display_name": "Python 3"
    },
    "language_info": {
      "name": "python"
    }
  },
  "cells": [
    {
      "cell_type": "markdown",
      "metadata": {
        "id": "view-in-github",
        "colab_type": "text"
      },
      "source": [
        "<a href=\"https://colab.research.google.com/github/robertomoragad/Estadistica/blob/master/Ejemplo_de_caso_de_uso_de_A_B_testing.ipynb\" target=\"_parent\"><img src=\"https://colab.research.google.com/assets/colab-badge.svg\" alt=\"Open In Colab\"/></a>"
      ]
    },
    {
      "cell_type": "markdown",
      "source": [
        "#Ejemplo de caso de uso de Experimentos\n",
        "\n",
        "\n",
        "En este notebook vamos a trabajar un ejemplo de caso de uso de las pruebas A/B (A/B testing) en un servicio digital. \n",
        "\n",
        "Presentaré 3 formas de hacer experimentos, pero solo una de ellas es un verdadero A/B testing.\n",
        "\n",
        "\n",
        "#Intro\n",
        "Si aplicas #Lean sabrás que la gestión de empresas también es ciencia, de hecho en el centro de Lean están las personas y el **método científico**.\n",
        "\n",
        "El método científico es un ciclo virtuoso que habilita nuevo conocimiento y crecimiento en las personas y las organzaciones, este método consiste en crear hipótesis, ejecutar experimentos, recopilar datos, extraer insights, validar o modificar la hipótesis, para luego implementar el aprendizaje accionable capturado.\n",
        "\n",
        "Si quieres ideas sobre cómo ejecutar experimentos, bueno aquí están estos apuntes, donde pongo en relieve los Experimentos controlados aplicando A/B Testing. Este método es el estándar de oro para crear experimentos verificables y por cierto repetibles. \n",
        "\n",
        "Espero sea de valor."
      ],
      "metadata": {
        "id": "cVtnncc66csl"
      }
    },
    {
      "cell_type": "markdown",
      "source": [
        "\n",
        "\n",
        "##Antecedentes\n",
        "Imaginemos que trabajamos en un banco digital, que actualmente tiene problemas con el engagement y la retención de sus clientes.\n",
        "\n",
        "Los indicadores que maneja la empresa respecto al uso de su servicio digital por parte de sus clientes son:\n",
        "\n",
        "* Tráfico:  cuenta con una promedio de visitas mensuales de 13.8 Millones\n",
        "* Engagement: las visitas al servicio tienen una duración promedio de 5:18 minutos\n",
        "* Rebote: la tasa de rebote del servicio es de 25.91%\n",
        "\n",
        "<img src='https://drive.google.com/uc?export=view&id=1oS4n7RdWI-Vv26_qUn8XSBbwglbl2oNF' width=\"800\" align=\"center\" style=\"margin-right: 20px\"> \n",
        "<br>\n",
        "\n",
        "<p style=\"font-size:8pt\" align=\"center\" > \n",
        "Imagen gentileza de: Roberto Moraga (workshop A/B testing) </p>\n",
        "\n",
        "Se ha formado un equipo de Growth hacking, cuyo primer desafío a trabajar es el aumento del **engagement de clientes**.\n",
        "\n",
        "\n",
        "\n",
        "> Nota: un Growth Team es un grupo pequeño, versátil, enfocado, impulsado por datos y agresivo de personas, que constantemente se esfuerzan por aprender y ejecutar nuevas estrategias, tácticas y técnicas de Growth.\n"
      ],
      "metadata": {
        "id": "c_nE5EI78m0N"
      }
    },
    {
      "cell_type": "markdown",
      "source": [
        "\n",
        "\n",
        "### Análisis exploratorios\n",
        "\n",
        "El equipo ha realizado distintos análisis exploratorios y ha encontrado correlaciones entre el tiempo de duración de las visitas al servicio y la tasa de conversión del producto estrella de la compañía (e.g.: crédito de consumo).\n",
        "\n",
        "Adicionalmente han encontrado una correlación negativa en el tiempo de duración de las visitas al servicio y el churn de clientes.\n",
        "\n",
        "Veamos estos análisis y sus conclusiones:\n",
        "\n",
        "<img src='https://drive.google.com/uc?export=view&id=1QaAfn3vhkDeR1PnLrScfuslKHvKcsCLJ' width=\"800\" align=\"center\" style=\"margin-right: 20px\"> \n",
        "<br>\n",
        "\n",
        "<p style=\"font-size:8pt\"> \n",
        "Imagen gentileza de: Roberto Moraga (workshop A/B testing) </p>\n",
        "\n",
        "\n",
        "<img src='https://drive.google.com/uc?export=view&id=1h4u2Ivo1goTkAFI2yYfKz4C105aK_8YF' width=\"800\" align=\"center\" style=\"margin-right: 20px\"> \n",
        "<br>\n",
        "\n",
        "<p style=\"font-size:8pt\" align=\"center\" > \n",
        "Imagen gentileza de: Roberto Moraga (workshop A/B testing) </p>\n"
      ],
      "metadata": {
        "id": "piZaupSW-FTH"
      }
    },
    {
      "cell_type": "markdown",
      "source": [
        "Se puede concluir de estos análisis que al aumentar el tiempo de duración de las visitas, esto tendrá un impacto positivo en el Revenue de la compañía ya que aumenta la conversión del producto estrella, y adicionalmente controlará o minimizará el ratio de fuga de clientes \"churn\" impactando positivamente en la Retención y con ello en el aumento de clientes y posiblemente en la disminución de costos de adquisición de nuevos clientes.\n"
      ],
      "metadata": {
        "id": "VuM-KQjR7IOn"
      }
    },
    {
      "cell_type": "markdown",
      "source": [
        "### Análisis de rendimiento y tráfico del competidor\n",
        "\n",
        "Sumado a lo anterior se cuenta con un estudio de inteligencia digital del principal competidor. Las analíticas web reportadas en este estudio indican que este competidor tiene un tráfico promedio mensual de 14.9 millones de visitas (un 7% más que nuestra compañía), con un engagement traducido en tiempo de duración de visitas de 7:01 minutos (cerca de 2 minutos más que nosotros), y una tasa de rebote de 13.80% (casi la mitad de la actual nuestra).\n",
        "\n",
        "Veamos la comparativa:\n",
        "\n",
        "<img src='https://drive.google.com/uc?export=view&id=12a2LGSn_ebh-pMkaF6F7RWIS5CW9EIq4' width=\"800\" align=\"center\" style=\"margin-right: 20px\"> \n",
        "<br>\n",
        "\n",
        "<p style=\"font-size:6pt\" align=\"center\" > \n",
        "Imagen gentileza de: Roberto Moraga\n",
        "</p>\n"
      ],
      "metadata": {
        "id": "0oj0tuWP7GMG"
      }
    },
    {
      "cell_type": "markdown",
      "source": [
        "En suma, con base en los análisis anteriores, el equipo de trabajo ha acordado desarrollar ideas que apunten a aumentar el tiempo promedio de visitas en la página del banco, esto con el objetivo de mover la métrica global de engagement.\n",
        "\n",
        "La métrica global de engagement podrá ser medida por:\n",
        "\n",
        "* Promedio de tiempo de las visitas. Si se toma este indicador lo que se buscará es aumentar el actual promedio que es de 5.30 minutos, moviéndolo a valores cercanos a los de la competencia. \n",
        " \n",
        " Por ejemplo aquí la dirección del negocio podría definir un efecto mínimo a alcanzar por un tratamiento igual a 30 segundos, es decir, 0.5 minutos más del actual tiempo promedio.\n",
        "\n",
        "* Proporción de visitas con tiempo mayor o igual a 7 minutos. Si se toma este indicador lo que se buscará será aumentar el rendimiento actual que es de 25%. En simulación de dataset se podrá apreciar esta proporción.\n",
        "\n",
        " Por ejemplo aquí la dirección del negocio podría definir un efecto mínimo a alcanzar por un tratamiento igual a 500 puntos base, es decir, 5 puntos porcentuales adicionales al actual rendimiento.\n",
        " \n",
        " \n",
        "A continuación vamos a simular la data de las visitas del mes de junio de nuestra compañía:"
      ],
      "metadata": {
        "id": "AFeJBLOvKIzL"
      }
    },
    {
      "cell_type": "code",
      "source": [
        "#Importamos librerias\n",
        "import numpy as np #\n",
        "from scipy import stats \n",
        "import matplotlib.pyplot as plt "
      ],
      "metadata": {
        "id": "ENM7OTBwQFqt"
      },
      "execution_count": 1,
      "outputs": []
    },
    {
      "cell_type": "code",
      "source": [
        "#crear data set Distribucion tiempos de visitas\n",
        "#parametros\n",
        "media = 5.30\n",
        "N = 13800000\n",
        "\n",
        "#descomponer y calcular alpha y beta para proyectar Distribucion Gamma\n",
        "alpha= 2.1\n",
        "lam = alpha/media #lam = lambda\n",
        "beta = 1/lam\n",
        "\n",
        "print('beta: ', beta)\n",
        "print('alpha: ', alpha)\n",
        "print('media: ', alpha*beta)\n",
        "print('sigma: ', np.sqrt(alpha)*beta)\n",
        "\n",
        "#simular data set con Distribucion gamma\n",
        "data = np.random.RandomState(seed=1).gamma(alpha, beta, N)\n",
        "#print(data)\n",
        "\n",
        "#calcular estadisticos data set\n",
        "xbar= np.average(data)\n",
        "s= np.std(data, ddof=1)\n",
        "print('media muestra: ', xbar)\n",
        "print('sigma muestra: ', s)"
      ],
      "metadata": {
        "colab": {
          "base_uri": "https://localhost:8080/"
        },
        "id": "zpYOlNfTPyYc",
        "outputId": "4b027544-96d6-4559-8b46-2344db3b16bb"
      },
      "execution_count": 29,
      "outputs": [
        {
          "output_type": "stream",
          "name": "stdout",
          "text": [
            "beta:  2.5238095238095237\n",
            "alpha:  2.1\n",
            "media:  5.3\n",
            "sigma:  3.6573474645144772\n",
            "media muestra:  5.301262104304427\n",
            "sigma muestra:  3.6585510761106885\n"
          ]
        }
      ]
    },
    {
      "cell_type": "markdown",
      "source": [
        "Recordemos la Distribución Gamma y sus 2 parámetros (alpha y beta):\n",
        "\n",
        "<img src='https://drive.google.com/uc?export=view&id=1SLMGIGUyX88lto2LJn0nGp-dMpW9YDD7' width=\"500\" align=\"center\" style=\"margin-right: 20px\"> \n",
        "<br>\n",
        "\n",
        "<p style=\"font-size:6pt\" align=\"center\" > \n",
        "Imagen gentileza de: Roberto Moraga\n",
        "</p>"
      ],
      "metadata": {
        "id": "Srt-cGxSQdax"
      }
    },
    {
      "cell_type": "code",
      "source": [
        "#Umbral Target service time\n",
        "k = 7 #minutes\n",
        "\n",
        "#Momento 1\n",
        "data = data\n",
        "\n",
        "#Contador cumplimiento Umbral  \n",
        "count = 0\n",
        "for i in data : \n",
        "    if i <= k : \n",
        "        count = count + 1\n",
        "\n",
        "#calculo estadistica descriptiva\n",
        "muestra_a = np.size(data)\n",
        "media_a = np.mean(data)\n",
        "mediana_a = np.median(data)\n",
        "per75_a = np.percentile(data, 75)\n",
        "sigma_a = np.std(data, ddof=1)\n",
        "\n",
        "#calculo indicador negocio SLA\n",
        "q_target_a = count\n",
        "sla_a = 1- (count/muestra_a)\n",
        "\n",
        "#Graficar\n",
        "plt.figure(figsize=(10, 5)) #tamaño grafico\n",
        "plt.hist(data, bins=15, range=[0, 19], alpha=0.6, density=\"true\")\n",
        "plt.vlines(ymin=0, ymax=0.15, x=k, colors='r')#Z critico\n",
        "plt.legend(['Target', 'duracion de visita'],bbox_to_anchor=(1.1,1.05))\n",
        "plt.show()\n",
        "\n",
        "\n",
        "print('muestra: ', muestra_a)\n",
        "print(\"Cantidad en target: \", q_target_a)\n",
        "print(\"Cumplimiento target: \", sla_a)\n",
        "print('media: ', media_a)\n",
        "print('mediana: ', mediana_a)\n",
        "print('cuartil 3: ', per75_a)\n",
        "print('desv. std: ', sigma_a)"
      ],
      "metadata": {
        "colab": {
          "base_uri": "https://localhost:8080/",
          "height": 453
        },
        "id": "IwgOXXCaSoZY",
        "outputId": "a11f9bb0-9179-4227-e241-2efbbe9f31d8"
      },
      "execution_count": 30,
      "outputs": [
        {
          "output_type": "display_data",
          "data": {
            "text/plain": [
              "<Figure size 720x360 with 1 Axes>"
            ],
            "image/png": "[encoded data removed]"
          },
          "metadata": {
            "needs_background": "light"
          }
        },
        {
          "output_type": "stream",
          "name": "stdout",
          "text": [
            "muestra:  13800000\n",
            "Cantidad en target:  10237151\n",
            "Cumplimiento target:  0.2581774637681159\n",
            "media:  5.301262104304427\n",
            "mediana:  4.487902573418348\n",
            "cuartil 3:  7.114129190221909\n",
            "desv. std:  3.6585510761106885\n"
          ]
        }
      ]
    },
    {
      "cell_type": "code",
      "source": [
        "# Graficando Gamma con funcion de scipy\n",
        "\n",
        "gamma = stats.gamma(a=alpha, loc= 0 , scale =beta ) # Distribución\n",
        "x = np.linspace(gamma.ppf(0.001),\n",
        "              gamma.ppf(0.995))\n",
        "fdp = gamma.pdf(x) # Función de Densidad de Probabilidad\n",
        "\n",
        "plt.figure(figsize=(10, 5)) #tamaño grafico\n",
        "plt.plot(x, fdp, '--')\n",
        "plt.vlines(x, 0, fdp, colors='b', lw=5, alpha=0.5)\n",
        "plt.title('Distribución Gamma')\n",
        "plt.ylabel('probabilidad')\n",
        "plt.xlabel('valores')\n",
        "plt.show()\n",
        "\n",
        "media = gamma.mean()\n",
        "sigma = gamma.std()\n",
        "print('media: ', media)\n",
        "print('sigma: ', sigma)"
      ],
      "metadata": {
        "colab": {
          "base_uri": "https://localhost:8080/",
          "height": 386
        },
        "id": "LglhlhFYFjVh",
        "outputId": "ea6ab813-e122-40d3-a106-1ab276847e6b"
      },
      "execution_count": 31,
      "outputs": [
        {
          "output_type": "display_data",
          "data": {
            "text/plain": [
              "<Figure size 720x360 with 1 Axes>"
            ],
            "image/png": "[encoded data removed]"
          },
          "metadata": {
            "needs_background": "light"
          }
        },
        {
          "output_type": "stream",
          "name": "stdout",
          "text": [
            "media:  5.3\n",
            "sigma:  3.6573474645144772\n"
          ]
        }
      ]
    },
    {
      "cell_type": "code",
      "source": [
        "#probabilidad de que visita dure >= 7 min\n",
        "gamma.sf(7)"
      ],
      "metadata": {
        "colab": {
          "base_uri": "https://localhost:8080/"
        },
        "id": "7GVnguSFHWGL",
        "outputId": "0691f731-8ee5-479b-d831-7743ca8b76a4"
      },
      "execution_count": 32,
      "outputs": [
        {
          "output_type": "execute_result",
          "data": {
            "text/plain": [
              "0.25801425519335236"
            ]
          },
          "metadata": {},
          "execution_count": 32
        }
      ]
    },
    {
      "cell_type": "markdown",
      "source": [
        "25% es el porcentaje de visitas que exhiben una duración mayor o igual que 7 minutos. "
      ],
      "metadata": {
        "id": "7236OJ2bXi-M"
      }
    },
    {
      "cell_type": "markdown",
      "source": [
        "## Experimentos\n",
        "\n",
        "Para optimizar el engagement el equipo de trabajo puede aplicar un ciclo experimentación como el que se presenta en el siguiente diagrama:\n",
        "\n",
        "\n",
        "<img src='https://drive.google.com/uc?export=view&id=188DgjXaFbW8PrONuIxpAmVEH8luDsY0e' width=\"800\" align=\"center\" style=\"margin-right: 20px\"> \n",
        "<br>\n",
        "\n",
        "<p style=\"font-size:6pt\" align=\"center\" > \n",
        "Imagen gentileza de: Roberto Moraga\n",
        "</p>\n",
        "\n",
        "\n",
        "\n"
      ],
      "metadata": {
        "id": "5yYdp10t0Yzk"
      }
    },
    {
      "cell_type": "markdown",
      "source": [
        "### 0.- Selecciona el desafío de negocio\n",
        "El punto 0 consiste en escoger el Desafío de Negocio, en este caso: *Aumentar el engagement de clientes*.\n",
        "\n",
        "El siguiente paso tiene que ver con identificar ideas que podrían generar una:\n",
        "\n",
        "* mejor experiencia de navegación\n",
        "* mayor simplicidad de los pasos para que el cliente consiga lo que busca\n",
        "* mayor personalización de la plataforma\n",
        "* etc, etc, etc\n",
        "\n",
        "y gracias a ello hacer que los clientes disfruten el servicio y consigan lo que están buscando, y por cierto vuelvan la próxima vez a consumir el servicio digital, y hagan Referral del banco (nos promuevan en sus redes)."
      ],
      "metadata": {
        "id": "sDCUeJ9g8PWL"
      }
    },
    {
      "cell_type": "markdown",
      "source": [
        "### 1.- Definir la Hipótesis\n",
        "Ejemplo de una hipótesis:\n",
        "\n",
        ">*un cambio del orden de las funciones del **menú principal** hará que los clientes no se desconecten del servicio y consigan activar lo que necesitan del banco. Esto lo mediremos con el tiempo de duración de su visita.*\n",
        "\n",
        "\n",
        "* Métrica de éxito: aquí podríamos tener 2 opciones:\n",
        "  * Tiempo promedio de duración de la visita en minutos\n",
        "  * Proporción de visitas que tienen una duración mayor o igual a **7** minutos.\n",
        "\n",
        "\n",
        "\n",
        "Para esta Hipótesis el equipo de trabajo podría aplicar al menos los siguientes experimentos:\n",
        "\n",
        "1.   **Experimento no controlado de 1 muestra**\n",
        "\n",
        " Desarrollar 1 nueva versión de menú (distinta a la actual productiva) y presentarla a un grupo de clientes (muestra experimental),  para luego comparar los resultados contra el rendimiento del último mes (línea base de 5.3 minutos promedio de Junio). Esto puede ser aplicado en el caso de que la empresa si tenga la capacidad de medir el 100% de las interacciones de sus clientes y por tanto cuenta con la línea base del total de visitas.\n",
        " \n",
        " Lo que se aplica aquí es un \"Test de hipótesis de 1 muestra V/S target\" para determinar la efectividad del tratamiento (nueva versión). \n",
        "\n",
        " >Nota: Esto no es un Experimento controlado del tipo A/B Testing.\n",
        "\n",
        "\n",
        "2.   **Experimento no controlado de 2 muestras**\n",
        "\n",
        " Desarrollar 1 nueva versión de menú (distinta a la actual productiva) y presentarla a un grupo de clientes (muestra experimental),  para luego comparar los resultados contra el rendimiento exhibido por un grupo inicial (muestra piloto) de clientes en el último mes (Junio) quienes accedieron a la versión actual productiva. Esto se aplica en el caso de que la empresa no tenga la capacidad de medir el 100% de las interacciones de sus clientes, pero si puede tomar muestras cada mes.\n",
        "  \n",
        "  Lo que se aplica aquí es un \"Test de hipótesis de 2 muestras\" para determinar la efectividad del tratamiento (nueva versión). \n",
        "\n",
        " >Nota: Esto no es un Experimento controlado del tipo A/B Testing. Este tipo de experimento se llama Pre-Post Testing.\n",
        "\n",
        "\n",
        "3. **Experimento controlado de 2 muestras**\n",
        "\n",
        " Desarrollar 1 nueva versión de menú (distintas a la actual productiva) y presentarla a un grupo de clientes (muestra experimental). De forma paralela a otro grupo de clientes (muestra de control) se le presenta la actual versión productiva.  Al finalizar el experimento se comparan los resultados de los 2 grupos para determinar la efectividad de ambas variantes (2 versiones: la actual y la nueva). Esto puede ser aplicado tanto si la empresa puede medir el 100% de las interacciones, como si puede aplicar muestreos de ellas.\n",
        "\n",
        " Lo que se aplica aquí es un \"Test de hipótesis de 2 muestras\" para determinar la efectividad del tratamiento (nueva versión). \n",
        "\n",
        " >Nota: Esto si es un Experimento controlado del tipo A/B Testing, y es el estándar dorado en ciencia para evaluar el efecto de un tratamiento. \n",
        "\n",
        " El caso 3 es la mejor alternativa si se quiere evaluar correctamente la casualidad de los tratamientos.\n",
        "\n",
        " Recordemos que un **Experimento controlado** es una prueba científica hecha bajo condiciones controladas, esto es, que solo uno (o algunos) factores cambian en un momento dado, mientras que el resto se mantiene constante.\n",
        "\n",
        "\n",
        "**Ventajas de un Experimento controlado:**\n",
        "\n",
        "* nos permiten evaluar la causalidad de un factor en el efecto de la variable de respuesta (métrica a mejorar). \n",
        "* cuando se corren las variantes (control 'A' y experimental 'B') de forma concurrente (en paralelo), solo hay 2 cosas que pueden explicar un cambio en la variable de respuesta (métrica):\n",
        "\n",
        " 1. el factor cambiado (A v/s B)\n",
        " 2. aleatoriedad estadística\n",
        "\n",
        "  todo lo demás que cambie o suceda afectará a ambas variantes.\n",
        "\n",
        "  Para el punto #2, se corren pruebas de hipótesis para evaluar la significancia estadística."
      ],
      "metadata": {
        "id": "0xNs28btTpyN"
      }
    },
    {
      "cell_type": "markdown",
      "source": [
        "### Caso 1\n",
        "Para el primer caso, se podría aplicar un Test de Hipótesis de 1 muestra contra un target, donde el target podría ser la línea base del servicio utilizando la media de 5.3 minutos, y en la eventualidad de rechazar la hipótesis nula (toda vez que el p-value sea menor al Alpha pre-seteado) proceder a calcular el tamaño del efecto y la potencia de la prueba con la media obtenida en el grupo de clientes con la nueva versión. \n",
        "\n",
        "Este estudio puede ser aplicado por medio de la prueba Z de 1 muestra o la prueba T Student de 1 muestra, ambas para Test de hipótesis para medias.\n",
        "\n",
        "Una alternativa sería calcular la proporción actual de visitas que tienen una duración mayor o igual al umbral de 7 minutos,  y considerar esta proporción como el indicador a maximizar.  Esta opción es mucho más simple, ya que no es necesario considerar los supuestos de normalidad de la variable, que como fue visto en el primer gráfico a simple vista podemos ver que la distribución no es normal, más bien es asimétrica con una aproximación a una distribución continua tipo Gamma.\n",
        "\n",
        "> Nota: existen pruebas estadísticas de bondad de ajuste para validar el tipo de distribución aplicable, véase Test de Anderson Darling.\n",
        "\n",
        "En el ejemplo que vemos en la siguiente gráfica, se observa que:\n",
        "\n",
        "* se seleccionó una muestra de 830 visitas, de acuerdo al análisis a priori ejecutado, que pre-seteó un alpha (error tipo I) de 0.05, un beta (error tipo II) de 0.20 y un tamaño del efecto (efecto mínimo a detectar) de 500 puntos base (0.05).\n",
        "\n",
        "* se ejecutó el experimento en 830 visitas aleatorias a las cuales se les presentó la nueva versión. Estas visitas dieron una proporción muestral de 0.31 (proporción de visitas >= 7 minutos).   \n",
        "\n",
        "* para validar si este valor es estadísticamente diferente a la línea base de 0.25 , lo que se ejecuta es un Test de Hipótesis de 1 muestra, de acuerdo al siguiente planteamiento estadístico:\n",
        " * Hipótesis nula **H0** : P = 0.25\n",
        " * Hipótesis alternativa **H1** : P > 0.25\n",
        "\n",
        " y para este ejemplo se puede observar que el p-value obtenido es mucho menor al nivel de significancia (alpha de 0.05) definido para el experimento en el análisis a priorí. Por tanto se rechaza la Hipótesis nula, es decir, existen diferencias estadísticamente significativas. \n",
        "\n",
        "* si eventualmente se rechaza la H0 tal como lo visto en el punto anterior, estamos en condiciones de evaluar la significancia práctica del efecto obtenido con esta nueva versión. Para realizar esto lo que se hace es probar la Hipótesis alternativa, la que ahora se plantea de la siguiente forma: \n",
        " * Hipótesis nula **H0** : P = 0.25\n",
        " * Hipótesis alternativa **H1** : P = 0.31\n",
        "\n",
        " si el efecto creado por la nueva versión es mayor al exigido por el negocio, en este caso sí ya que el efecto creado fue de 600 puntos base, y la potencia de la prueba arroja un valor superior a 0.80, se puede concluir que el cambio propuesto genera un impacto relevante para la compañía.\n",
        "\n",
        "\n",
        "\n",
        "\n",
        "<img src='https://drive.google.com/uc?export=view&id=1Aic7t74gHvX4zDOcK06L54NyQkLIRvsc' width=\"1000\" align=\"center\" style=\"margin-right: 20px\"> \n",
        "<br>\n",
        "\n",
        "<p style=\"font-size:6pt\" align=\"center\" > \n",
        "Imagen gentileza de: Roberto Moraga\n",
        "</p>\n",
        "\n",
        "\n",
        "\n",
        "\n",
        "> Nota: como este no es un experimento controlado no podemos estar seguros de que el efecto solo se explica por el factor modificado y no por otros factores.\n",
        "\n"
      ],
      "metadata": {
        "id": "zE3pOtZ71rB-"
      }
    },
    {
      "cell_type": "markdown",
      "source": [
        "###Caso 2\n",
        "\n",
        "Para el segundo caso, se podría aplicar un Test de hipótesis de diferencia de medias, aplicando la prueba T Student de 2 muestras independientes. El problema aquí es nuevamente la normalidad de los datos, como hemos visto en este ejemplo la variable 'tiempo de duración' no es normal. En este caso podríamos recomendar 2 alternativas:\n",
        "\n",
        "* a) Una prueba no paramétrica de diferencia de medianas de muestras, como la prueba U Mann-Whitney.\n",
        "* b) A cada muestra calcular el porcentaje de visitas con duración mayor o igual a 7 minutos, y luego aplicar una prueba Z de diferencia de 2 proporciones.\n",
        "\n",
        "\n",
        "De estas opciones, es mucho más simple trabajar con las proporciones muestrales, el problema aquí es identificar el umbral de corte, que este caso de 7 minutos. En la última sección hablaré de tips para identificar este umbral.\n",
        "\n",
        "\n",
        "En el ejemplo que vemos en la siguiente gráfica, se observa que:\n",
        "\n",
        "* se seleccionó una muestra piloto inicial de 1600 visitas (aleatoria), de acuerdo al análisis a priori (test de diferencia de proporciones) ejecutado, que pre-seteó un alpha (error tipo I) de 0.05, un beta (error tipo II) de 0.20 y un tamaño del efecto (efecto mínimo a detectar) de 500 puntos base (0.05).\n",
        "\n",
        "* esta muestra accedió a la versión actual productiva, generando una proporción de visitas mayor o igual a 7 minutos igual a 0.27 .\n",
        "\n",
        "* luego, por ejemplo, durante la siguiente semana o mes, se volvió a tomar una nueva muestra de forma aleatoria de 1600 visitas.\n",
        "\n",
        "* con esta nueva muestra se ejecutó el experimento, es decir, se les presentó la nueva versión. Estas visitas dieron una proporción muestral de 0.34 (proporción de visitas >= 7 minutos).   \n",
        "\n",
        "* para validar si la diferencia entre las proporciones  muestrales (pre y post) es estadísticamente significativa, lo que se ejecuta es un Test de Hipótesis de diferencia de proporciones, de acuerdo al siguiente planteamiento estadístico:\n",
        " * Hipótesis nula **H0** : P post - P pre  = 0.00\n",
        " * Hipótesis alternativa **H1** : P post - P pre  > 0.00\n",
        "\n",
        " y para este ejemplo se puede observar que el p-value obtenido es mucho menor al nivel de significancia (alpha de 0.05) definido para el experimento en el análisis a priorí. Por tanto se rechaza la Hipótesis nula, es decir, existen diferencias estadísticamente significativas. \n",
        "\n",
        "* si eventualmente se rechaza la H0 tal como lo visto en el punto anterior, estamos en condiciones de evaluar la significancia práctica del efecto obtenido con esta nueva versión. Para realizar esto lo que se hace es probar la Hipótesis alternativa, la que ahora se plantea de la siguiente forma: \n",
        " * Hipótesis nula **H0** : P post - P pre  = 0.00\n",
        " * Hipótesis alternativa **H1** : P post - P pre  = 0.07\n",
        "\n",
        " si el efecto creado por la nueva versión es mayor al exigido por el negocio, en este caso sí ya que el efecto creado fue de 700 puntos base, y la potencia de la prueba arroja un valor superior a 0.80, se puede concluir que el cambio propuesto genera un impacto relevante para la compañía.\n",
        "\n",
        "\n",
        "<img src='https://drive.google.com/uc?export=view&id=1z0ihmlBciq2Q8LP_PImqGz48rzRSNPQX' width=\"1200\" align=\"center\" style=\"margin-right: 20px\"> \n",
        "<br>\n",
        "\n",
        "<p style=\"font-size:6pt\" align=\"center\" > \n",
        "Imagen gentileza de: Roberto Moraga\n",
        "</p>\n",
        "\n",
        "\n",
        "\n",
        "> Nota: como este no es un experimento controlado no podemos estar seguros de que el efecto solo se explica por el factor modificado y no por otros factores.\n",
        "\n"
      ],
      "metadata": {
        "id": "-tSloTR0K41m"
      }
    },
    {
      "cell_type": "markdown",
      "source": [
        "###Caso 3\n",
        "\n",
        "Para el tercer caso, se podría aplicar un Test de hipótesis de diferencia de medias, aplicando la prueba T Student de 2 muestras independientes. El problema aquí también es la normalidad de los datos, ya que como hemos visto en este ejemplo la variable 'tiempo de duración' no es normal. En este caso podríamos recomendar 2 alternativas:\n",
        "\n",
        "* a) Una prueba no paramétrica de diferencia de medianas de muestras, como la prueba U Mann-Whitney.\n",
        "\n",
        "* b) A cada muestra calcular el porcentaje de visitas con duración mayor o igual a 7 minutos, y luego aplicar una prueba Z de diferencia de 2 proporciones.\n",
        "\n",
        "\n",
        "De estas opciones, es mucho más simple trabajar con las proporciones muestrales, el problema aquí es identificar el umbral de corte, que este caso de 7 minutos. En la última sección hablaré de tips para identificar este umbral.\n",
        "\n",
        "\n",
        "En el ejemplo que vemos en la siguiente gráfica, se observa que:\n",
        "\n",
        "* se seleccionan 2 muestras aleatorias de tamaño 1600 visitas, una de control y otra de experimentación. El tamaño de estas muestras fue calculado con un análisis a priori (test de diferencia de proporciones), en el que se pre-seteó un alpha (error tipo I) de 0.05, un beta (error tipo II) de 0.20 y un tamaño del efecto (efecto mínimo a detectar) de 500 puntos base (0.05).\n",
        "\n",
        "* a la muestra de control se le entregó la versión actual productiva (le llamaremos versión **A** o versión Champion), generando una proporción de visitas mayor o igual a 7 minutos igual a 0.28 .\n",
        "\n",
        "* en paralelo a la muestra de experimentación se le entregó la nueva versión (le llamaremos versión **B** o versión Challenger), generando una proporción de visitas mayor o igual a 7 minutos igual a 0.35 .\n",
        "\n",
        "* para validar si la diferencia entre las proporciones muestrales (A v/s B)  es estadísticamente significativa, lo que se ejecuta es un Test de Hipótesis de diferencia de proporciones, de acuerdo al siguiente planteamiento estadístico:\n",
        " * Hipótesis nula **H0** : P B - P A  = 0.00\n",
        " * Hipótesis alternativa **H1** : P B - P A  > 0.00\n",
        "\n",
        " y para este ejemplo se puede observar que el p-value obtenido es mucho menor al nivel de significancia (alpha de 0.05) definido para el experimento en el análisis a priorí. Por tanto se rechaza la Hipótesis nula, es decir, existe una diferencia estadísticamente significativas. \n",
        "\n",
        "* si eventualmente se rechaza la H0 tal como lo visto en el punto anterior, estamos en condiciones de evaluar la significancia práctica del efecto obtenido con esta nueva versión (B). Para realizar esto lo que se hace es probar la Hipótesis alternativa, la que ahora se plantea de la siguiente forma: \n",
        " * Hipótesis nula **H0** : P B - P A  = 0.00\n",
        " * Hipótesis alternativa **H1** : P B - P A  = 0.07\n",
        "\n",
        " si el efecto creado por la nueva versión es mayor al exigido por el negocio, en este caso sí ya que el efecto creado fue de 700 puntos base, y la potencia de la prueba arroja un valor superior a 0.80, se puede concluir que el cambio propuesto genera un impacto relevante para la compañía.\n",
        "\n",
        " Se debe destacar que esta es la mejor forma de desarrollar un experimento si lo que se desea probar la causalidad del cambio de un factor, en este caso la nueva versión. Este si es un experimento controlado, y es el estándar dorado en ciencia.\n",
        "\n",
        "\n",
        "<img src='https://drive.google.com/uc?export=view&id=1cvUX-JdS13xzuzGDfei-0oTC6G6L0f-f' width=\"1200\" align=\"center\" style=\"margin-right: 20px\"> \n",
        "<br>\n",
        "\n",
        "<p style=\"font-size:6pt\" align=\"center\" > \n",
        "Imagen gentileza de: Roberto Moraga\n",
        "</p>"
      ],
      "metadata": {
        "id": "D_sWm4j2JDAq"
      }
    },
    {
      "cell_type": "markdown",
      "source": [
        "## Umbral de corte\n",
        "**¿Cómo encontrar el umbral para medir el KPI?**\n",
        "\n",
        "Para responder esta pregunta, los análisis exploratorios son de gran ayuda, y pueden resultar clave para determinar el umbral, en este caso los 7 minutos, ya que como se observó en el análisis inicial los clientes que exhiben una duración igual o mayor a dicho umbral tienen mayor probabilidad de convertir y menor probabilidad de abandonar el servicio. Este mismo análisis nos podría dar pistas del tamaño del efecto a lograr, de hecho podríamos hacer simulaciones o análisis de sensibilidad para determinar por ejemplo el impacto en Retención y Revenue de una mejora de 1%, 5% o 10% del engagement de la compañia.\n",
        "\n",
        "\n",
        "Otra forma de determinar este umbral podría ser por medio de un Benchmark, tal como lo hicimos en este ejemplo observando al principal competidor o líder del mercado, pero al cumplirlo no tendríamos certeza de su consecuencia al negocio, en términos de impacto en Retención o Revenue por ejemplo.\n",
        "\n",
        "\n",
        "Otra forma es siguiendo la definición de clase mundial de un Cuerpo de conocimiento de la industria donde operamos o una definición normativa (legislación), o por supuesto lo exigido por un cliente si es el caso de un servicio B2B.\n",
        "\n",
        "\n",
        "------"
      ],
      "metadata": {
        "id": "7QOEh867Qu-P"
      }
    },
    {
      "cell_type": "markdown",
      "source": [
        "## Cierre\n",
        "En este documento he querido compartir diferentes formas de plantear y ejecutar un experimento, y a la vez poner en relieve la mejor forma de hacerlo, que es el denominado \"Experimento controlado\".  Esto siempre que sea factible.\n",
        "\n",
        "Hacer un experimento es simple, pero insuficiente, el desafío está en crear una cultura de experimentación de alta frecuencia, que sea generalizada en toda la organización.\n",
        "\n",
        "\n",
        "Seguiré puliendo el documento, incorporando más información y futuros datasets con los cuales haré los análisis de distribución, umbrales y las pruebas de hipótesis con python.\n",
        "\n",
        "\n",
        "\n",
        "\n",
        "\n",
        "\n",
        "\n",
        "\n"
      ],
      "metadata": {
        "id": "629krKRZVNWz"
      }
    },
    {
      "cell_type": "markdown",
      "source": [
        "##Referencias\n",
        "\n",
        "\n",
        "\n",
        "* Quieres aprender más sobre Análisis de umbrales, puedes revisar esta publicación: https://www.linkedin.com/pulse/an%C3%A1lisis-de-umbrales-roberto-moraga-diaz-lean-agile-coach/\n",
        "\n",
        "* más sobre pruebas A/B:  https://www.linkedin.com/pulse/introducci%25C3%25B3n-al-m%25C3%25A9todo-ab-testing-roberto-moraga-diaz/\n",
        "\n",
        "* Cohen J.  Things I have learned (so far) Am Psychol, 1990.\n",
        "\n",
        "* Gail M. Sullivan, Richard Feinn.   Using Effect Size—or Why the P Value Is Not Enough, 2012.\n",
        "\n",
        "* Geoff Cumming.  Understanding The New Statistics (Multivariate Applications Series), 2012.\n",
        "\n",
        "* https://en.wikipedia.org/wiki/Effect_size\n",
        "\n",
        "* https://github.com/robertomoragad/Estadistica/blob/master/Tama%C3%B1o_del_Efecto_y_Potencia_Estad%C3%ADstica_en_la_prueba_de_T_de_Student_para_dos_grupos.ipynb\n",
        "\n",
        "* https://github.com/robertomoragad/Estadistica/blob/master/Calculo_de_poder_Experimento_01.ipynb"
      ],
      "metadata": {
        "id": "4810CZWIU18w"
      }
    },
    {
      "cell_type": "markdown",
      "source": [
        "\n",
        ".\n",
        "\n",
        ".\n",
        "\n",
        ".\n",
        "\n",
        ".\n",
        "\n",
        ".\n",
        "\n",
        ".\n",
        "\n",
        ".\n",
        "\n",
        ".\n",
        "\n",
        ".\n",
        "\n",
        ".\n",
        "\n",
        "\n",
        ".\n",
        "\n",
        ".\n",
        "\n",
        ".\n",
        "\n",
        ".\n",
        "\n",
        ".\n",
        "\n",
        ".\n",
        "\n",
        ".\n",
        "\n",
        "\n",
        "\n",
        ".\n",
        "\n",
        ".\n",
        "\n",
        ".\n",
        "\n",
        ".\n",
        "\n",
        ".\n",
        "\n",
        ".\n",
        "\n",
        ".\n",
        ".\n",
        ".\n",
        ".\n",
        "\n",
        ".\n",
        ".\n",
        ".\n",
        ".\n",
        ".\n",
        ".\n",
        "\n",
        ".\n",
        "\n",
        "\n",
        "\n",
        "\n",
        "\n",
        "\n",
        "\n",
        "\n",
        "\n",
        "\n",
        "\n",
        "\n",
        "\n",
        "\n",
        "\n",
        "\n",
        "\n",
        "-----------\n",
        "."
      ],
      "metadata": {
        "id": "yRhYI_-nUBTg"
      }
    }
  ]
}