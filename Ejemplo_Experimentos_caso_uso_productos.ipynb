{
  "cells": [
    {
      "cell_type": "markdown",
      "metadata": {
        "id": "view-in-github",
        "colab_type": "text"
      },
      "source": [
        "<a href=\"https://colab.research.google.com/github/robertomoragad/Estadistica/blob/master/Ejemplo_Experimentos_caso_uso_productos.ipynb\" target=\"_parent\"><img src=\"https://colab.research.google.com/assets/colab-badge.svg\" alt=\"Open In Colab\"/></a>"
      ]
    },
    {
      "cell_type": "code",
      "execution_count": 1,
      "metadata": {
        "id": "PBaL3RlAtpNR"
      },
      "outputs": [],
      "source": [
        "#Importamos librerias\n",
        "import numpy as np #\n",
        "from scipy import stats \n",
        "import matplotlib.pyplot as plt \n"
      ]
    },
    {
      "cell_type": "markdown",
      "metadata": {
        "id": "K4MsHbHVtuVI"
      },
      "source": [
        "#Ejemplo de experimentos\n",
        "\n",
        "En el presente notebook voy a desarrollar a modo de ejemplo un set de pruebas estadísticas con el fin de compartir ideas sobre como podríamos desarrollar un experimento aplicando el método científico.\n",
        "\n",
        "* Paso 0: Identificar un problema.\n",
        "* Paso 1: Elaborar una hipótesis.\n",
        "* Paso 2: Prueben la hipótesis haciendo un experimento. \n",
        "* Paso 3: Analizar los datos y obtener una conclusión.\n",
        "* Paso 4: Compartir los resultados.\n",
        "\n",
        "He tomado como base un video en youtube de una marca de pisco en Chile.  Los datos y la forma de plantear mis ejemplos son invenciones propias, que no representan los datasets de la marca.\n",
        "\n",
        "\n",
        "[Ver aquí video con el estudio](https://www.youtube.com/watch?v=P4iFsx0l7uY)\n",
        "\n",
        "<img src='https://drive.google.com/uc?export=view&id=1dwMXa6MEa8_99oo1020MO4KLIZRSGERZ' width=\"400\" align=\"center\" style=\"margin-right: 20px\"> \n",
        "<br>\n"
      ]
    },
    {
      "cell_type": "code",
      "source": [
        "from IPython.display import YouTubeVideo\n",
        "video = YouTubeVideo('P4iFsx0l7uY')\n",
        "display(video)"
      ],
      "metadata": {
        "colab": {
          "base_uri": "https://localhost:8080/",
          "height": 321
        },
        "id": "GtVlfqSrdIBN",
        "outputId": "11497567-3db3-4672-cf29-b2cf420d4cc5"
      },
      "execution_count": 21,
      "outputs": [
        {
          "output_type": "display_data",
          "data": {
            "text/plain": [
              "<IPython.lib.display.YouTubeVideo at 0x7f8b476930d0>"
            ],
            "text/html": [
              "\n",
              "        <iframe\n",
              "            width=\"400\"\n",
              "            height=\"300\"\n",
              "            src=\"https://www.youtube.com/embed/P4iFsx0l7uY\"\n",
              "            frameborder=\"0\"\n",
              "            allowfullscreen\n",
              "        ></iframe>\n",
              "        "
            ],
            "image/jpeg": "[encoded data removed]"
          },
          "metadata": {}
        }
      ]
    },
    {
      "cell_type": "markdown",
      "metadata": {
        "id": "rKYxQCQWI7kn"
      },
      "source": [
        "##Problema\n",
        "\n",
        "Existe una mala percepción de la calidad del Producto por parte de los consumidores.\n",
        "\n",
        "El equipo de estrategia de producto iniciará un proyecto para resolver este desafío del negocio."
      ]
    },
    {
      "cell_type": "markdown",
      "metadata": {
        "id": "YyQV2DctyJOU"
      },
      "source": [
        "\n",
        "\n",
        "###Antecedentes\n",
        "Imaginemos que contamos con información de estudios de mercado sobre la calidad del producto.\n",
        "\n",
        "####Nuestro Producto:\n",
        "<img src='https://drive.google.com/uc?export=view&id=1dJTnwdmIeV_PiwJgJc8fY3HeR2LoOS_g' width=\"100\" align=\"center\" style=\"margin-right: 20px\"> \n",
        "<br>\n",
        "En una escala de 1 a 7 la percepción de calidad del Producto es de 4.95 en promedio, y la proporción de notas 6 o 7 es de 22%.\n",
        "n: 500\n",
        "\n",
        "####La Competencia:\n",
        "En una escala de 1 a 7 la percepción de calidad del Producto es de 6.11 en promedio, y la proporción de notas 6 o 7 es de 44%.\n",
        "n: 500\n",
        "\n",
        "\n",
        "*Nota: la proporción de notas 6 y 7 se llama Top 2 Box, que corresponde al porcentaje de clientes/consumidores que evalúan al producto como un producto a Alta o Muy Alta Calidad.*\n"
      ]
    },
    {
      "cell_type": "markdown",
      "metadata": {
        "id": "a5_W68u5yUIQ"
      },
      "source": [
        "##Hipótesis\n",
        "\n",
        "Un cambio de imagen del Producto aumentará la percepción de calidad del mismo por parte de los consumidores.\n",
        "\n",
        "Cambio de imagen incluye:\n",
        "* nuevo nombre y logotipo\n",
        "* nueva etiqueta\n",
        "* nueva botella\n",
        "* nueva caja\n",
        "\n",
        "<img src='https://drive.google.com/uc?export=view&id=1AgMUKtK-DnDrsBFyXiJ3b-bOg6t2044z' width=\"130\" align=\"center\" style=\"margin-right: 20px\"> \n",
        "<br>\n",
        "\n",
        "\n",
        "\n",
        "\n",
        "Para probar esta Hipótesis se pueden aplicar diferentes experimentos, en esta oportunidad voy a presentar 2 modos de ejemplo que están asociados a las proporciones (porcentaje de notas 6 y 7), que es mucho más simple ya que la distribución de la percepción de calidad de 1 a 7 no sigue una distribución normal al ser una variable cualitativa ordinal, y en consecuencia no aplicaría de buena forma realizar una prueba paramétrica (e.g.: T Student).\n",
        "\n",
        "**Principal criterio de evaluación:** Es la métrica que vamos a utilizar para determinar si la Idea funciona o no funciona.\n",
        "En estae caso será el Indicador Top 2 Box, que corresponde al porcentaje de clientes que valoran el producto como uno de alta calidad (Nota 6 o 7).\n",
        "\n",
        ">*Nota: Una alternativa que se podrá desarrollar en otro artículo es por medio de una prueba no paramétrica, como la Prueba U de Mann-Whitney*\n",
        "\n",
        "\n",
        "\n",
        "\n",
        "\n",
        "\n"
      ]
    },
    {
      "cell_type": "markdown",
      "metadata": {
        "id": "vGP9HLG7JUZw"
      },
      "source": [
        "##1.- Diseño de experimento básico (1 muestra)"
      ]
    },
    {
      "cell_type": "markdown",
      "metadata": {
        "id": "JT4zgT1gJb-g"
      },
      "source": [
        "###General\n",
        "Se desarrolla un experimento donde se toma el valor histórico de percepción de calidad de los estudios de mercado como una línea base o target (media o proporción), y luego se selecciona una muestra aleatoria de clientes a la cual se le entregará la nueva versión del Producto para conocer la percepción de calidad del mismo por parte de los usuarios.\n",
        "\n",
        "Para conocer la percepción de calidad, se aplicará el mismo instrumento utilizado en los estudios de mercado, que es una encuesta con una pregunta que evalua la percepción de calidad del producto, en una escala de 1 a 7, donde:\n",
        "* Nota 1 significa muy baja calidad\n",
        "* Nota 2 significa baja calidad\n",
        "* Nota 3, 4 y 5 son notas intermedias de calidad\n",
        "* Nota 6 significa alta calidad\n",
        "* Nota 7 significa muy alta calidad\n",
        "\n",
        "Con los datos que se obtengan del estudio de percepción, obtendremos una media y también la proporción de usuarios que ponen nota 6 o 7, este indicador se llama 'Top 2 Box Score', que corresponde al porcentaje de clientes que valoran el producto como uno de alta calidad. \n",
        "\n",
        "Con este indicador \"proporción\" se desarrollará la prueba de hipótesis estadística.\n",
        "\n",
        "\n",
        "\n",
        "*Nota: El método top two box se utiliza en la investigación de mercados, pruebas comerciales o desarrollo de productos, con el objetivo de informar los resultados de preguntas de escala categórica, en la cual se combinan dos respuestas principales.*"
      ]
    },
    {
      "cell_type": "markdown",
      "metadata": {
        "id": "R72TN5DdJe9N"
      },
      "source": [
        "###Define Hipótesis\n",
        "La prueba de hipótesis estadística aquí sería:\n",
        "* Hipótesis nula (H0): la proporción de consumidores que evalúan con nota 6 o 7 la calidad de la nueva versión de Producto es **igual** a la del actual Producto, es decir, un 22%.\n",
        "* Hipótesis alternativa (H1): la proporción de consumidores que evalúan con nota 6 o 7 la calidad de la nueva versión de Producto es **mayor** a la del actual Producto, es decir, sobre un 22%.\n",
        "\n",
        "Planteamiento estadístico:\n",
        "* Hipótesis nula (H0): p = 0.22\n",
        "* Hipótesis alternativa (H1): p > 0.22\n",
        "\n",
        "\n",
        "*Nota: Como se puede notar, la hipótesis que se desea rechazar se planteó en la nula y la que se desea probar\n",
        "en la alternativa.*"
      ]
    },
    {
      "cell_type": "markdown",
      "metadata": {
        "id": "cGoy7PnShqj3"
      },
      "source": [
        "###Determina la muestra\n",
        "En este paso haremos un **Análisis A priori**, para determinar el tamaño correcto de la muestra donde aplicaremos el experimento. \n",
        "\n",
        "Este tamaño es la cantidad mínima de sujetos/individuos que deben inscribirse en un estudio para tener el poder estadístico suficiente para detectar un efecto del tratamiento.\n",
        "\n",
        "\n",
        "Es importante mencionar que antes de realizar un estudio, los investigadores deben determinar cuántos sujetos deben incluirse en el experimento. Si se aplica el experimento a muy pocos sujetos, es posible que un estudio no tenga suficiente poder estadístico para detectar una diferencia (error de tipo II). Por el contrario si el experimento se aplica a demasiados sujetos puede ser innecesariamente costoso o llevarnos mucho tiempo.\n",
        "\n",
        "\n",
        "Para determinar la cantidad adecuada es necesario contar con los siguientes indicadores:\n",
        "\n",
        "* Nivel de significancia (alpha)\n",
        "* Potencia de prueba (1- beta)\n",
        "* Tamaño del efecto\n",
        "* Variabilidad de la población (Sigma)\n",
        "\n",
        "Normalmente se presetea el alpha en un 0.05 y el beta en 0.20, y con ello la Potencia en 0.80.\n",
        "\n",
        "Para determinar el tamaño del efecto, aquí es necesario hablar con el cuerpo experto en esta materia o con los directores del negocio donde estemos operando. Para este ejemplo vamos a suponer que los directores del negocio les solicitan al equipo de Estrategia de Producto un efecto mínimo a lograr con este cambio de versión de producto de al menos 10 puntos porcentuales brutos, de tal forma que con la nueva versión el porcentaje de clientes que ponen nota 6 o 7 sea de al menos un 32% (0.32).\n",
        "\n",
        ">Este 10% fue calculado a partir de un análisis de umbrales, que demostró que subir 1000 puntos base tiene una incidencia positiva en el Revenue (ingresos) y en el nivel de Referral (recomendación) del producto.\n",
        "\n",
        "Otro tamaño de efecto podría ser:\n",
        "*  llegar al valor exhibido por la competencia, es decir, a 44%, de tal forma que el tamaño del efecto debiese ser de 22 puntos porcentuales brutos (0.22).\n",
        "\n",
        "\n",
        "Entonces imaginemos que para el negocio es crítico aumentar en términos absolutos 1000 puntos base (10%) el Top 2 Box Score.\n",
        "\n",
        "Recordar que este análisis se llama __análisis A priori__, ya que primero se diseña el experimento y luego se ejecuta, y esto se realiza con base en el _alpha_, _beta_, _Sigma población_ y _tamaño del efecto_ mínimo a detectar, y desde allí se obtiene el tamaño de la muestra mínima a la cuál se aplicará el experimento o tratamiento. \n",
        "\n",
        "Datos:\n",
        "* Efecto mínimo a determinar: 0.10\n",
        "* Nivel de significancia: 0.05 (pre-seteado por defecto)\n",
        "* Beta: 0.20 (pre-seteado por defecto)\n",
        "* Potencia o Poder: 0.80. (recordar que poder = 1 - Beta)\n",
        "* Variabilidad: se aplicará la variabilidad de la línea base $\\sqrt{ p* (1-p) }$\n",
        "* Tipo de prueba: 2 colas (two-sided). Esta prueba es más conservadora entregando un mayor tamaño muestral. También se puede utilizar la prueba de 1 cola (larger = mayor que) dado que lo que se busca es aumentar la proporción de alta percepción (notas 6 y 7).\n",
        "\n",
        "\n",
        "A continuación calcularemos el tamaño mínimo de la muestra con la siguiente ecuación:\n",
        "\n",
        "<img src='https://drive.google.com/uc?export=view&id=1oeiGQtUnaXkkGRi-DGodsyH8MzzDJ0BG' width=\"300\" align=\"center\" style=\"margin-right: 20px\"> \n",
        "<br>\n",
        "\n",
        "* p0 = proportion of population\n",
        "* p1 = proportion of study group (valor mínimo que quisiéramos alcanzar)\n",
        "* N = sample size for study group\n",
        "* α = probability of type I error (usually 0.05)\n",
        "* β = probability of type II error (usually 0.2)\n",
        "* Z = critical Z value for a given α or β\n",
        "\n",
        "\n",
        "---\n",
        "\n",
        "*Nota: Si se necesita tener mayor información sobre tamaño del efecto, D de Cohen (diferencia estandarizada),  error tipo I (alpha), error tipo II (beta) y poder de la prueba, en este [notebook](https://github.com/robertomoragad/Estadistica/blob/master/Tama%C3%B1o_del_Efecto_y_Potencia_Estad%C3%ADstica_en_la_prueba_de_T_de_Student_para_dos_grupos.ipynb) en github se puede acceder a ejemplos detallados.*\n"
      ]
    },
    {
      "cell_type": "code",
      "execution_count": 2,
      "metadata": {
        "colab": {
          "base_uri": "https://localhost:8080/"
        },
        "id": "v7-yV3wxMMiQ",
        "outputId": "eb41db36-39e3-44c9-faa6-8bc436b241ec"
      },
      "outputs": [
        {
          "output_type": "stream",
          "name": "stdout",
          "text": [
            "tamaño mínimo muestra:  145.0830054181437\n"
          ]
        }
      ],
      "source": [
        "#datos para la ecuacion\n",
        "\n",
        "p0 = 0.22 # linea base de proporcion de notas 6 y 7\n",
        "efecto_bruto = 0.10 #valor minimo (diferencia) a detectar como mejora del estudio\n",
        "p1 = p0 + efecto_bruto\n",
        "alpha = 0.05\n",
        "beta = 0.20\n",
        "\n",
        "N = ( p0*(1-p0)*( stats.norm.ppf(1-alpha/2) + stats.norm.ppf(1-beta)* np.sqrt( (p1*(1-p1)) / (p0*(1-p0)) ) )**2 ) / (p1 - p0)**2\n",
        "\n",
        "print('tamaño mínimo muestra: ', N)\n"
      ]
    },
    {
      "cell_type": "markdown",
      "metadata": {
        "id": "lJ91nZGkSJey"
      },
      "source": [
        "**Alternativa con T-Student**: \n",
        "A continuación se desarrollará un código python utilizando la librería **Stats Models** (aplicaremos la prueba de 1 muestra de Student, la cual funciona bien con muestras menores a 30, y entrega resultados muy similares a la prueba $Z$ cuando la muestra es superior a 30).\n",
        "\n",
        "*Nota: esta es una alternativa, pero se recomienda utilizar la fórmula anterior.*"
      ]
    },
    {
      "cell_type": "code",
      "execution_count": 3,
      "metadata": {
        "colab": {
          "base_uri": "https://localhost:8080/"
        },
        "id": "WjYRC51oKT8O",
        "outputId": "a1e9ca2d-6d35-4ec5-9d96-e38631785b05"
      },
      "outputs": [
        {
          "output_type": "execute_result",
          "data": {
            "text/plain": [
              "136.6196247009021"
            ]
          },
          "metadata": {},
          "execution_count": 3
        }
      ],
      "source": [
        "# cargar Liberia Stats Model\n",
        "from statsmodels.stats.power import tt_solve_power\n",
        "\n",
        "# definir datos de la prueba\n",
        "p0 = 0.22 # linea base de prop de notas 6 y 7\n",
        "efecto_bruto = 0.1\n",
        "p1 = p0 + efecto_bruto\n",
        "\n",
        "sigma = np.sqrt(p0 * (1- p0))\n",
        "\n",
        "alpha = 0.05\n",
        "beta = 0.20\n",
        "poder = 1 - beta\n",
        "\n",
        "# calcular el tamaño muestral\n",
        "tt_solve_power(effect_size=efecto_bruto/sigma, nobs=None, alpha=alpha, power=poder, alternative='two-sided')\n"
      ]
    },
    {
      "cell_type": "markdown",
      "metadata": {
        "id": "ZfHydc1MJn4S"
      },
      "source": [
        "###Ejecuta el experimento\n",
        "En este caso tomaremos el valor de 146 para nuestra muestra. \n",
        "Por tanto se deberá aplicar el tratamiento (nueva versión del Producto) al menos a 146 clientes escogidos de forma aleatoria.\n",
        "\n",
        "Se entrega a cada consumidor la nueva versión del Producto para su consumo, y luego se le pedirá a las personas que lo evalúen en una escala de 1 a 7, manteniendo el mismo instrumento donde nota 1 significa muy baja calidad y la nota 7 muy alta calidad."
      ]
    },
    {
      "cell_type": "markdown",
      "metadata": {
        "id": "K9jgo_HaWMba"
      },
      "source": [
        "###Análisis de resultados\n",
        "\n",
        "Imaginemos que en realidad se pudo aplicar el experimento en solo 90 clientes, y los resultados fueron los siguientes:\n",
        "\n",
        "* n= 90\n",
        "* media= 6.01\n",
        "* proporción de notas 6 y 7= 35%\n",
        "\n",
        "Con estos datos podríamos pensar que el indicador \"Top 2 Box\" subió de 22% a 35%, más que los 1000 puntos base exigidos como mínimo por el negocio al equipo de Estrategia de Producto.\n",
        "\n",
        "A continuación se desarrollará un **Análisis Post hoc** para determinar la significancia estadística y práctica del efecto creado.\n",
        "\n",
        "<img src='https://drive.google.com/uc?export=view&id=1oJToSNQuItZtDeNx1Ih1XRdzCMdZyVQR' width=\"800\" align=\"center\" style=\"margin-right: 20px\"> \n",
        "<br>\n",
        "<p style=\"font-size:8pt\"> \n",
        "Imagen gentileza de: Roberto Moraga </p>"
      ]
    },
    {
      "cell_type": "code",
      "execution_count": 4,
      "metadata": {
        "colab": {
          "base_uri": "https://localhost:8080/"
        },
        "id": "SJgsXDHZYT6X",
        "outputId": "86c57806-b066-4860-80b2-da8c2561e477"
      },
      "outputs": [
        {
          "output_type": "stream",
          "name": "stdout",
          "text": [
            "Z crítico:  1.645\n",
            "Valor media para Z crítico:  0.292\n"
          ]
        }
      ],
      "source": [
        "#Analisis Post hoc\n",
        "# Pasos\n",
        "# 1) Cargamos data línea base (población)\n",
        "p = 0.22\n",
        "Sigma = np.sqrt(p* (1-p))\n",
        "\n",
        "# 2) Cargar datos de la muestra\n",
        "n = 90\n",
        "p_muestra = 0.35 # Prop 6 y 7\n",
        "Sigma_muestra = np.sqrt( p_muestra * (1 - p_muestra))\n",
        "\n",
        "# 3) Determinar el nivel de significancia de la prueba\n",
        "alpha = 0.05\n",
        "\n",
        "# 4) Definir hipótesis a contrastar (prueba unilateral - cola derecha)\n",
        " # H0:   p = 0.22\n",
        " # H1:   p > 0.22 \n",
        "\n",
        "# regla decision (1 cola)\n",
        " # no rechazar H0 si: Z prueba <= Z crítico\n",
        " # rechazar HO si: Z prueba > Zcritico\n",
        "\n",
        "# 5) Determinar el valor crítico de Z\n",
        "Zcritico = stats.norm.ppf(1-alpha)# 1 cola derecha\n",
        "print(f'Z crítico: {Zcritico: 4.3f}')\n",
        "\n",
        "# 5.1) Calcular el valor en porcentaje correspondiente al Z crítico\n",
        "valor_proporcion_zcritico= stats.norm(p, Sigma/np.sqrt(n)).ppf(1-alpha) # buscar valor cola derecha\n",
        "print(f\"Valor media para Z crítico: {valor_proporcion_zcritico: 4.3f}\")"
      ]
    },
    {
      "cell_type": "code",
      "execution_count": 5,
      "metadata": {
        "colab": {
          "base_uri": "https://localhost:8080/",
          "height": 320
        },
        "id": "dx1rEcBMZApI",
        "outputId": "e1cd1e2f-f80a-4db2-fe09-7e94697a0615"
      },
      "outputs": [
        {
          "output_type": "display_data",
          "data": {
            "text/plain": [
              "<Figure size 720x360 with 1 Axes>"
            ],
            "image/png": "[encoded data removed]"
          },
          "metadata": {
            "needs_background": "light"
          }
        }
      ],
      "source": [
        "# visualizando la distribución de las proprociones muestrales cuando el n=90 y el límite crítico de Rechazo H0\n",
        "\n",
        "# proyectar distribución H0\n",
        "muestral_z = stats.norm(p, Sigma / np.sqrt(n))\n",
        "x_z = np.linspace(muestral_z.ppf(0.0001), muestral_z.ppf(0.9999), 100)\n",
        "pdf_z = muestral_z.pdf(x_z) # función densidad probabilidad\n",
        "\n",
        "plt.figure(figsize=(10, 5)) # tamaño gráfico\n",
        "plt.plot(x_z, pdf_z,\"b\") # medias H0\n",
        "plt.vlines(ymin=0, ymax=17, x=valor_proporcion_zcritico,  colors='r')\n",
        "plt.legend(['$H_0$', '$p_{95}$'])\n",
        "plt.show()"
      ]
    },
    {
      "cell_type": "markdown",
      "metadata": {
        "id": "3EWRZLQ0ZSan"
      },
      "source": [
        "Para esta prueba de Hipótesis, como el valor de proporción muestral obtenido con los 90 clientes fue de 0.35 \"Prop 6 y 7= 35%\", cifra mayor al límite de 0.292, se puede concluir que la proporción de notas 6 y 7 obtenido con la nueva versión ha aumentado de forma estadísticamente significativa, esto al comparar con su línea base de 0.22.\n",
        "\n",
        "Otra forma de evaluar este paso es calculando el valor-p (p-value), si este valor es menor al Nivel de significancia establecido, se procede a Rechazar la H0 (Hipótesis Nula), de lo contrario no se puede rechazar la H0."
      ]
    },
    {
      "cell_type": "code",
      "execution_count": 6,
      "metadata": {
        "colab": {
          "base_uri": "https://localhost:8080/"
        },
        "id": "JZkUT5kbZMS1",
        "outputId": "b29e9ae2-cba2-46d4-dde1-457be2a75df4"
      },
      "outputs": [
        {
          "output_type": "stream",
          "name": "stdout",
          "text": [
            "Z prueba:  2.9771859806932386\n",
            "p-value (significancia estadística):  0.0014545374097558739\n",
            "p-value con scipy:  0.0014545374097558739\n"
          ]
        }
      ],
      "source": [
        "## 6 ) Calcular el estadístico Z de prueba.\n",
        "Z = ( p_muestra - p) / (Sigma /np.sqrt( n ))\n",
        "print('Z prueba: ', Z)\n",
        "\n",
        "## 7) Calcular el p-value y comparar con el nivel de significancia establecido.\n",
        "# calcular p-value\n",
        "pvalue = 1- stats.norm.cdf(Z) # Z de prueba se encuentra en cola derecha\n",
        "print('p-value (significancia estadística): ', pvalue) # 1 cola\n",
        "\n",
        "# Otra forma usando Scipy\n",
        "pvalue2 = 1 - stats.norm(p, Sigma /np.sqrt( n )).cdf(p_muestra)\n",
        "print('p-value con scipy: ', pvalue2)"
      ]
    },
    {
      "cell_type": "markdown",
      "metadata": {
        "id": "wgoWqwiiaNpf"
      },
      "source": [
        "**Concluir prueba de hipótesis:**\n",
        "como el Z prueba (2.977) es mayor al Zcritico (1.645), o como el valor-p (p-value= 0.001) es menor al Nivel de significancia \"alpha\" establecido en 0.05, se rechaza H0. Por tanto se concluye que existe una diferencia estadísticamente significativa entre la Proporción de notas 6 y 7 exhibida en la versión experimental (nueva) y la proporción tomada de la línea base.\n",
        "\n",
        "\n",
        "Una vez finalizada esta parte de la prueba, y siempre que se haya rechazado la H0, se procede a realizar el cálculo del tamaño del efecto real y el Poder de la prueba (potencia estadística).  En caso contrario no es necesario continuar, ya que el resultado obtenido en la versión B no sería mayor a la línea base de la organización."
      ]
    },
    {
      "cell_type": "code",
      "execution_count": 7,
      "metadata": {
        "colab": {
          "base_uri": "https://localhost:8080/"
        },
        "id": "AW7FDQrqa0JE",
        "outputId": "a4e26bdb-1da5-49bb-f136-6ec614465d1e"
      },
      "outputs": [
        {
          "output_type": "stream",
          "name": "stdout",
          "text": [
            "d Cohen:  0.314\n",
            "tamaño del efecto:  0.130\n",
            "Beta:  0.091\n",
            "Potencia de la prueba:  0.909\n"
          ]
        }
      ],
      "source": [
        "# Ahora tendremos las siguientes hipótesis\n",
        "  # H0: p = 0.22\n",
        "  # H1: p = 0.35\n",
        "H1= p_muestra\n",
        "\n",
        "## 8) Calcular el tamaño del efecto\n",
        "efecto = (p_muestra - p) # Diferencia bruta\n",
        "dCohen = efecto/Sigma # d de Cohen \n",
        "print(f'd Cohen: {dCohen: 4.3f}')\n",
        "print(f'tamaño del efecto: {efecto: 4.3f}')\n",
        "\n",
        "## 9) Calcular la potencia de la prueba (1 - beta)\n",
        "# Calcular Beta (error tipo II)\n",
        "# Forma simple con Scipy\n",
        "beta = stats.norm(H1, Sigma/np.sqrt(n)).cdf(valor_proporcion_zcritico)\n",
        "print(f'Beta: {beta: 5.3f}')\n",
        "\n",
        "# Calcular Potencia estadística (1- beta)\n",
        "print(f'Potencia de la prueba: {1 - beta: 5.3f}')"
      ]
    },
    {
      "cell_type": "code",
      "execution_count": 8,
      "metadata": {
        "colab": {
          "base_uri": "https://localhost:8080/"
        },
        "id": "R1nmih11Qh4U",
        "outputId": "8099ca4b-e797-4f86-972c-45e1085f84d3"
      },
      "outputs": [
        {
          "output_type": "stream",
          "name": "stdout",
          "text": [
            "Poder a una cola :  0.909\n",
            "Poder a dos colas :  0.845\n"
          ]
        }
      ],
      "source": [
        "##Otra forma de calcular poder\n",
        "##1 cola, cola derecha:\n",
        "Zcritico = stats.norm.ppf(1-alpha)# 1 cola derecha\n",
        "#Z = es el Z de prueba \n",
        "\n",
        "poder1 = 1- stats.norm(Z, 1).cdf(Zcritico)\n",
        "print(f'Poder a una cola : {poder1: 5.3f}')\n",
        "\n",
        "##2 colas:\n",
        "Zcritico2 = stats.norm.ppf(1-alpha/2)# 2 colas\n",
        "#Z = es el Z de prueba \n",
        "\n",
        "poder2 = 1- stats.norm(Z, 1).cdf(Zcritico2)\n",
        "print(f'Poder a dos colas : {poder2: 5.3f}')\n"
      ]
    },
    {
      "cell_type": "code",
      "execution_count": 9,
      "metadata": {
        "colab": {
          "base_uri": "https://localhost:8080/",
          "height": 320
        },
        "id": "ff4V-j0_lUVx",
        "outputId": "3cc3f9b9-39f1-401d-f5df-ed81559d5ba0"
      },
      "outputs": [
        {
          "output_type": "display_data",
          "data": {
            "text/plain": [
              "<Figure size 720x360 with 1 Axes>"
            ],
            "image/png": "[encoded data removed]"
          },
          "metadata": {
            "needs_background": "light"
          }
        }
      ],
      "source": [
        "# Visualizando\n",
        "# Proyectar distribucion H0\n",
        "h0_z = stats.norm(p, Sigma / np.sqrt(n))\n",
        "x0_z = np.linspace(h0_z.ppf(0.0001), h0_z.ppf(0.9999), 100)\n",
        "pdf0_z = h0_z.pdf(x0_z) # Función densidad probabilidad\n",
        "\n",
        "# proyectar distribucion H1\n",
        "h1_z = stats.norm(H1, Sigma / np.sqrt(n))\n",
        "x1_z = np.linspace(h1_z.ppf(0.0001), h1_z.ppf(0.9999), 100)\n",
        "pdf1_z = h1_z.pdf(x1_z) # Función densidad probabilidad\n",
        "\n",
        "plt.figure(figsize=(10, 5)) # Tamaño gráfico\n",
        "plt.plot(x0_z, pdf0_z,\"b\") # medias H0\n",
        "plt.plot(x1_z, pdf1_z,\"r\") # medias H1\n",
        "plt.vlines(ymin=0, ymax=11, x=valor_proporcion_zcritico,  colors='y')# valor_proporcion_zcritico\n",
        "plt.legend(['$H_0$', '$H_1$','$p_ 95$'])\n",
        "plt.show()"
      ]
    },
    {
      "cell_type": "markdown",
      "metadata": {
        "id": "wOWggBxTlkrs"
      },
      "source": [
        "**Conclusión final**\n",
        "\n",
        "El nuevo tratamiento aplicado versión B del Producto en 90 consumidores aleatorios durante 1 semana, demuestra que la Proporción de notas 6 o 7 (Top 2 box) de 35% exhibida es estadísticamente superior que el actual, esto con un nivel de confianza del 0.95. \n",
        "\n",
        "También se aprecia que la diferencia (tamaño del efecto bruto) obtenida es relevante desde el punto de vista de negocio, ya que es de 1300 puntos base. Al evaluar la potencia de esta diferencia, el análisis arrojó un Poder de 0.909, cifra por sobre el mínimo recomendable de 0.80, es decir, el efecto si tiene una potencia aceptable para respaldar la H1 (Hipótesis alternativa).\n",
        "\n",
        "Se puede afirmar que el tratamiento (cambio de imagen de Producto) si funciona mejorando la percepción de calidad del Producto.\n",
        "\n",
        "Dicho de otra manera, si se rechaza la Hipótesis nula (H0) existe una baja probabilidad de cometer Error Tipo II (beta = 0.091).\n",
        "\n",
        "\n",
        "<img src='https://drive.google.com/uc?export=view&id=1r4a5LTpwoo8NJoBZ_zpm86sGkSi_AoGe' width=\"600\" align=\"left\" style=\"margin-right: 20px\"> \n",
        "<br>\n",
        "\n",
        "<p style=\"font-size:8pt\"> \n",
        "Imagen gentileza de: Roberto Moraga </p>\n"
      ]
    },
    {
      "cell_type": "code",
      "execution_count": 10,
      "metadata": {
        "colab": {
          "base_uri": "https://localhost:8080/"
        },
        "id": "Uc-7IPLHcdqA",
        "outputId": "126776da-eccc-475e-a046-651ff859ee93"
      },
      "outputs": [
        {
          "output_type": "execute_result",
          "data": {
            "text/plain": [
              "0.9048310914930515"
            ]
          },
          "metadata": {},
          "execution_count": 10
        }
      ],
      "source": [
        "#Otra forma de calular Poder es utilizando STATS de la prueba TStudent\n",
        "#modificando los parametros con los resultados obtenidos\n",
        "\n",
        "# calcular el Poder\n",
        "tt_solve_power(effect_size=efecto/sigma, nobs=90, alpha=alpha, power=None, alternative='larger')"
      ]
    },
    {
      "cell_type": "markdown",
      "metadata": {
        "id": "KYzSuytMpONM"
      },
      "source": [
        "*Nota:  nótese que el cálculo de poder ha sido aplicado con una prueba de 1 cola, si se aplica con 2 colas el valor del Poder será menor.*\n",
        "\n",
        "---"
      ]
    },
    {
      "cell_type": "markdown",
      "metadata": {
        "id": "KVIUL0sPq_VB"
      },
      "source": [
        "###Conclusión\n",
        "\n",
        "Finalmente se concluye que la versión B entrega una alta seguridad de que los resultados son significativos tanto desde el punto de vista estadístico, como desde el negocio. \n",
        "\n",
        "Se recomienda escalar la versión a todos los consumidores."
      ]
    },
    {
      "cell_type": "markdown",
      "metadata": {
        "id": "lbrtSNvuhtsi"
      },
      "source": [
        "##2.- Diseño de experimento controlado (2 muestras)\n",
        "\n"
      ]
    },
    {
      "cell_type": "markdown",
      "metadata": {
        "id": "QqABSF2GqYFs"
      },
      "source": [
        "###General\n",
        "\n",
        "Se desarrollará un experimento controlado, donde a una muestra aleatoria de consumidores se le entregará la versión actual del Producto (Grupo de control) y a otra muestra aleatoria la nueva versión del Producto (Grupo experimental). Con ambos grupos se aplicará una encuesta para para conocer la percepción de calidad del Producto por parte de los consumidores.\n",
        "\n",
        "\n",
        "Para conocer la percepción de calidad, se aplicará el mismo instrumento utilizado en los estudios de mercado, que es una encuesta con una pregunta que evalúa la percepción de calidad del producto, en una escala de 1 a 7, donde:\n",
        "* Nota 1 significa muy baja calidad\n",
        "* Nota 2 significa baja calidad\n",
        "* Nota 3, 4 y 5 son notas intermedias de calidad\n",
        "* Nota 6 significa alta calidad\n",
        "* Nota 7 significa muy alta calidad\n",
        "\n",
        "Con los datos que se obtengan del estudio de percepción, obtendremos para cada grupo una media y también la proporción de usuarios que ponen nota 6 o 7, este indicador se llama 'Top 2 Box Score', que corresponde al porcentaje de clientes que valoran el producto como uno de alta calidad. \n",
        "\n",
        "Con este indicador \"proporción\" se desarrollará la prueba de hipótesis estadística.\n",
        "\n",
        "\n",
        "\n",
        "*Nota 1: El método top two box se utiliza en la investigación de mercados, pruebas comerciales o desarrollo de productos, con el objetivo de informar los resultados de preguntas de escala categórica, en la cual se combinan dos respuestas principales.*\n",
        "\n",
        "*Nota 2: Este tipo de Experimento controlado, también se le llama método A/B testing.*"
      ]
    },
    {
      "cell_type": "markdown",
      "metadata": {
        "id": "ToLTfW_JqeXt"
      },
      "source": [
        "###Define Hipótesis\n",
        "La prueba de hipótesis estadística aquí sería:\n",
        "* Hipótesis nula (H0): la proporción de consumidores que evalúan con nota 6 o 7 la calidad de la nueva versión de Producto (versión B) es **igual** a la de los consumidores que consumen la versión actual del Producto (versión A).\n",
        "* Hipótesis alternativa (H1): la proporción de consumidores que evalúan con nota 6 o 7 la calidad de la nueva versión de Producto (Versión B) es **mayor** a la de los consumidores que consumen la versión actual del Producto (versión A).\n",
        "\n",
        "Planteamiento estadístico:\n",
        "* Hipótesis nula (H0): pB = pA\n",
        "* Hipótesis alternativa (H1): pB > pA"
      ]
    },
    {
      "cell_type": "markdown",
      "metadata": {
        "id": "jKYVp37MqlUR"
      },
      "source": [
        "###Determina la muestra\n",
        "En este paso haremos un **Análisis A priori**, para determinar el tamaño correcto de la muestra donde aplicaremos el experimento. \n",
        "\n",
        "Este tamaño es la cantidad mínima de sujetos/individuos que deben inscribirse en un estudio para tener el poder estadístico suficiente para detectar un efecto del tratamiento.\n",
        "\n",
        "\n",
        "Es importante mencionar que antes de realizar un estudio, los investigadores deben determinar cuántos sujetos deben incluirse en el experimento. Si se aplica el experimento a muy pocos sujetos, es posible que un estudio no tenga suficiente poder estadístico para detectar una diferencia (error de tipo II). Por el contrario si el experimento se aplica a demasiados sujetos puede ser innecesariamente costoso o llevarnos mucho tiempo.\n",
        "\n",
        "\n",
        "Para determinar la cantidad adecuada es necesario contar con los siguientes indicadores:\n",
        "\n",
        "* Nivel de significancia (alpha)\n",
        "* Potencia de prueba (1- beta)\n",
        "* Tamaño del efecto\n",
        "* Variabilidad de la población o referencia (Sigma)\n",
        "\n",
        "Normalmente se presetea el alpha en un 0.05 y el beta en 0.20, y con ello la Potencia en 0.80.\n",
        "\n",
        "Para determinar el tamaño del efecto, aquí es necesario hablar con el cuerpo experto en esta materia o con los directores del negocio donde estamos operando. Para este ejemplo vamos a suponer que los directores del negocio les solicitan al equipo de Estrategia de Producto un efecto mínimo a lograr con este cambio de versión de producto de al menos 10 puntos porcentuales brutos, de tal forma que con la nueva versión (versión B) el porcentaje de clientes que ponen nota 6 o 7 sea de al menos un 10% (0.10) más que la de los que consumen la versión tradicional (versión A).\n",
        "\n",
        ">Este 10% fue calculado a partir de un análisis de umbrales, que demostró que subir 1000 puntos base tiene una incidencia positiva en el Revenue (ingresos) y en el nivel de Referral (recomendación) del producto.\n",
        "\n",
        "Entonces imaginemos que para el negocio es crítico aumentar en términos absolutos 1000 puntos base (10%) el Top 2 box Score.\n",
        "\n",
        "Datos:\n",
        "* Efecto mínimo a determinar: 0.10\n",
        "* Nivel de significancia: 0.05 (pre-seteado por defecto)\n",
        "* Beta: 0.20 (pre-seteado por defecto)\n",
        "* Potencia o Poder: 0.80. (recordar que poder = 1 - Beta)\n",
        "* Variabilidad: se aplicará la variabilidad de la línea base o valor de referencia $\\sqrt{ p* (1-p )}$\n",
        "* Tipo de prueba: 2 colas (two-sided). Esta prueba es más conservadora entregando un mayor tamaño muestral. También se puede utilizar la prueba de 1 cola (larger = mayor que) dado que lo que se busca es aumentar la proporción de alta percepción (notas 6 y 7).\n",
        "\n",
        "\n",
        "A continuación calcularemos el tamaño mínimo de la muestra con la siguiente ecuación:\n",
        "\n",
        "<img src='https://drive.google.com/uc?export=view&id=1sNr1ta8ohv12QaXBD2ddL7vyT5iwVYDS' width=\"650\" align=\"center\" style=\"margin-right: 20px\"> \n",
        "<br>\n",
        "Donde: \n",
        "* p1, p2 = proportion of groups #1 and #2\n",
        "* Δ = |p2-p1| = absolute difference between two proportions\n",
        "* α = probability of type I error (usually 0.05)\n",
        "* β = probability of type II error (usually 0.2)\n",
        "* z = critical Z value for a given α or β\n",
        "* K = ratio of sample size for group #2 to group #1\n",
        "\n",
        "\n",
        "Y el resultado arrojado será:\n",
        "* n1 = sample size for group #1\n",
        "* n2 = sample size for group #2"
      ]
    },
    {
      "cell_type": "code",
      "execution_count": 11,
      "metadata": {
        "colab": {
          "base_uri": "https://localhost:8080/"
        },
        "id": "Cq75jpfcDaWR",
        "outputId": "6cfc18ee-99a4-4b1f-f5ba-f4055f1ea76a"
      },
      "outputs": [
        {
          "output_type": "stream",
          "name": "stdout",
          "text": [
            "tamaño mínimo muestra uno :  308.22127026528506\n",
            "tamaño mínimo muestra dos :  308.22127026528506\n"
          ]
        }
      ],
      "source": [
        "#datos para la ecuacion\n",
        "\n",
        "p1 = 0.22 # linea base de proporcion de notas 6 y 7\n",
        "efecto_bruto = 0.10 #valor minimo (diferencia) a detectar como mejora del estudio\n",
        "p2 = p1 + efecto_bruto\n",
        "alpha = 0.05\n",
        "beta = 0.20\n",
        "k = 1 #Con esta parametro podemos ajustar las muestras\n",
        "\n",
        "\n",
        "pbar = (p1 + k*p2)/(1+ k)\n",
        "qbar = (1-pbar)\n",
        "\n",
        "N1 = ((stats.norm.ppf(1-alpha/2) * np.sqrt(pbar * qbar * (1+ (1/k))) ) + (stats.norm.ppf(1-beta) * np.sqrt(p1 * (1-p1) + (p2*(1-p2)/k))))**2 / (p2 - p1)**2\n",
        "N2 = N1*k\n",
        "\n",
        "#Nota si queremos calcular con prueba de 1 cola para calcular el primer Z aplicar:\n",
        "        #(stats.norm.ppf(1-alpha/1)\n",
        "\n",
        "print('tamaño mínimo muestra uno : ', N1)\n",
        "print('tamaño mínimo muestra dos : ', N2)"
      ]
    },
    {
      "cell_type": "markdown",
      "metadata": {
        "id": "ATo5pey6I5jm"
      },
      "source": [
        "En el siguiente código se hará un cálculo del tamaño de las 2 muestras, aplicando T-Student de 2 muestras y una prueba Normal de 2 muestras, ambas entregarán resultados muy similares.\n",
        "\n",
        "Pero es necesario mencionar que aquí la adecuada es la prueba paramétrica de diferencia de proporciones con distribución Z de 2 muestras."
      ]
    },
    {
      "cell_type": "code",
      "execution_count": 12,
      "metadata": {
        "colab": {
          "base_uri": "https://localhost:8080/"
        },
        "id": "2La2Mi55Hean",
        "outputId": "1da45aeb-5f0a-447e-ed72-8b3db0a15a64"
      },
      "outputs": [
        {
          "output_type": "stream",
          "name": "stdout",
          "text": [
            "Tamaño del efecto d Cohen:  0.22668802672263905\n",
            "Sample Size con TStudent: 306.441\n",
            "Sample Size con Normal: 305.478\n"
          ]
        }
      ],
      "source": [
        "# estimar tamaño de muestra con analisis de Potencia\n",
        "# cargar Stats Model\n",
        "from statsmodels.stats.power import TTestIndPower\n",
        "from statsmodels.stats.power import NormalIndPower\n",
        "\n",
        "# definir parametros para el analisis\n",
        "efecto_bruto = 0.10 # criterio relevancia experto\n",
        "p1 = 0.22 # Aqui incorporar el ratio histórico o un bench de referencia\n",
        "p2 = p1 + efecto_bruto #aqui sumar el efecto, ya que lo que buscamos es aumentar top2box\n",
        "\n",
        "sigma = np.sqrt( ((p1*(1-p1)) + (p2*(1-p2)))/2) # s pooled\n",
        "tamano_efecto = (efecto_bruto / sigma) # efecto estandarizado d Cohen\n",
        "print('Tamaño del efecto d Cohen: ', tamano_efecto)\n",
        "alpha = 0.05\n",
        "potencia = 0.8\n",
        "\n",
        "# ejecuta analisis con T Student\n",
        "analysis = TTestIndPower()\n",
        "result = analysis.solve_power(effect_size=tamano_efecto, power=potencia, nobs1=None, ratio=1.0, alpha=alpha, alternative='two-sided')\n",
        "print('Sample Size con TStudent: %.3f' % result)\n",
        "\n",
        "# ejecuta con Z\n",
        "analysis2 = NormalIndPower()\n",
        "result2 = analysis2.solve_power(effect_size=tamano_efecto, nobs1=None, alpha=alpha, power=potencia, ratio=1.0, alternative='two-sided')\n",
        "print('Sample Size con Normal: %.3f' % result2)"
      ]
    },
    {
      "cell_type": "markdown",
      "metadata": {
        "id": "z59ISuxiJK7o"
      },
      "source": [
        "Los resultados son muy similares a la de la ecuación, sugiero para el caso de proporciones utilizar la Normal de 2 muestras en vez de la T-Student de 2 muestras."
      ]
    },
    {
      "cell_type": "markdown",
      "metadata": {
        "id": "kjFUrxXB5no8"
      },
      "source": [
        "----\n",
        "Si eventualmente no tienes acceso a python, existe una simplificación de la formula para una potencia recomendada del 80% y un alpha de 0.05, en este caso la fórmula es:\n",
        "\n",
        "$n= \\frac{16 * σ^2}{δ^2}$\n",
        "\n",
        "Donde:\n",
        "* n es el número de usuarios en cada variante\n",
        "* σ2 es la varianza de la métrica, y\n",
        "* δ es la sensibilidad, el cambio mínimo que desea detectar (efecto bruto)\n",
        "\n",
        "\n",
        "\n"
      ]
    },
    {
      "cell_type": "code",
      "execution_count": 13,
      "metadata": {
        "colab": {
          "base_uri": "https://localhost:8080/"
        },
        "id": "4s5ahYon5J6z",
        "outputId": "e30bdacb-3639-44d6-aae5-f7299b9d8215"
      },
      "outputs": [
        {
          "output_type": "stream",
          "name": "stdout",
          "text": [
            "311.35999999999996\n"
          ]
        }
      ],
      "source": [
        "##aplicando formula\n",
        "n = ( 16* sigma**2) / efecto_bruto**2\n",
        "print(n)"
      ]
    },
    {
      "cell_type": "markdown",
      "metadata": {
        "id": "Ms8RkUuJqo-s"
      },
      "source": [
        "###Ejecuta el experimento\n",
        "En este caso tomaremos el valor de 309 para cada muestra. \n",
        "\n",
        "Por tanto se deberá aplicar el tratamiento (nueva versión (B) del Producto) al menos a 309 clientes escogidos de forma aleatoria.\n",
        "Y en paralelo se aplicará la versión tradicional (A) del Producto en al menos 309 clientes, también seleccionados de forma aleatoria.\n",
        "\n",
        "> **Grupo de control (versión A)**\n",
        "Se entrega a cada consumidor la versión actual del Producto para su consumo, y luego se le pedirá a las personas que lo evalúen en una escala de 1 a 7, manteniendo el mismo instrumento donde nota 1 significa muy baja calidad y la nota 7 muy alta calidad.\n",
        "\n",
        "> **Grupo de experimentación (Versión B):**\n",
        "Se entrega a cada consumidor la nueva versión del Producto para su consumo, y luego se le pedirá a las personas que lo evalúen en una escala de 1 a 7, manteniendo el mismo instrumento donde nota 1 significa muy baja calidad y la nota 7 muy alta calidad."
      ]
    },
    {
      "cell_type": "markdown",
      "metadata": {
        "id": "yWtQ3KnVqs3G"
      },
      "source": [
        "###Análisis de resultados\n",
        "\n",
        "Imaginemos que en realidad se pudo aplicar el experimento en solo 220 clientes, y que el grupo de control solo alcanzó a ser desarrollado con 110 clientes.\n",
        "\n",
        "Aquí los resultados:\n",
        "\n",
        ">Grupo de control (muestra 1)\n",
        "* n= 110\n",
        "* media= 5.1\n",
        "* proporción de notas 6 y 7= 26%\n",
        "\n",
        ">Grupo de experimentación (muestra 2)\n",
        "* n= 220\n",
        "* media= 6.0\n",
        "* proporción de notas 6 y 7= 38.5%\n",
        "\n",
        "<img src='https://drive.google.com/uc?export=view&id=1sHFiyJCfC6JGcZEP8VxWR25ZGJ0nsULs' width=\"800\" align=\"center\" style=\"margin-right: 20px\"> \n",
        "<br>\n",
        "<p style=\"font-size:8pt\"> \n",
        "Imagen gentileza de: Roberto Moraga </p>\n",
        "\n",
        "Con estos datos podríamos pensar que el indicador \"Top 2 Box\" del Producto actual subió de 22% a 26% (recordar los antecedentes de estudios de mercado), lo más probable que esta no sea una diferencia real. Si quieres puedes desarrollar una Análisis Post-hoc para comprobar esta hipótesis."
      ]
    },
    {
      "cell_type": "code",
      "execution_count": 14,
      "metadata": {
        "id": "u9QR6WPrL1Q0"
      },
      "outputs": [],
      "source": [
        "##tu código aquí\n",
        "\n"
      ]
    },
    {
      "cell_type": "markdown",
      "metadata": {
        "id": "ERa5RJtOL1ln"
      },
      "source": [
        "Adicionalmente podemos ver que el indicador 'Top 2 box' es diferente entre las muestras, podriamos pensar que este indicador aumentó de un 26% (percepción consumidores con Producto actual) a un 39% (percepción con nueva versión). Este aumento es mayor a los 1000 puntos base exigidos como mínimo por el negocio al equipo de Estrategia de Producto.\n",
        "\n",
        "A continuación se desarrollará un **Análisis Post hoc** para determinar la significancia estadística y práctica del efecto creado."
      ]
    },
    {
      "cell_type": "code",
      "execution_count": 15,
      "metadata": {
        "colab": {
          "base_uri": "https://localhost:8080/",
          "height": 397
        },
        "id": "j8jnV6RTXUHg",
        "outputId": "1cd2b14b-e6e1-40b5-a732-d7acb589d553"
      },
      "outputs": [
        {
          "output_type": "stream",
          "name": "stdout",
          "text": [
            "Z critico (para Intervalo confianza):  1.959963984540054\n",
            "S diferencia proporciones:  0.053153935969887586\n",
            "IC diferencia proporciones al 0.95 NC :  0.02082019986247223 0.22917980013752776\n",
            "IC diferencia proporciones al 0.95 NC :  (0.02082019986247223, 0.22917980013752776)\n"
          ]
        },
        {
          "output_type": "display_data",
          "data": {
            "text/plain": [
              "<Figure size 720x360 with 1 Axes>"
            ],
            "image/png": "[encoded data removed]"
          },
          "metadata": {
            "needs_background": "light"
          }
        }
      ],
      "source": [
        "#Analisis post hoc utilizando prueba parametrica de diferencia de 2 proporciones***\n",
        "\n",
        "## 1) cargar datos muestras: tamaño (n), proporcion (p)\n",
        "#muestra 1 (control)\n",
        "n_1 = 110\n",
        "p_1 = 0.26\n",
        "\n",
        "#muestra 2 (experimental)\n",
        "n_2 = 220\n",
        "p_2 = 0.385\n",
        "\n",
        "\n",
        "## 2) Determinar Nivel de Significancia\n",
        "alpha = 0.05\n",
        "\n",
        "\n",
        "#calcular Z critico 2 colas con Scipy\n",
        "Zcritico = stats.norm.ppf(1 - (alpha/2))\n",
        "print ('Z critico (para Intervalo confianza): ',Zcritico)\n",
        "\n",
        "## 3) Estimar el IC de la diferencia de proporciones\n",
        "#'Sigma diferencias  proporciones' es de la siguiente forma:\n",
        "#Calcular Desv. Standar de las diferencias de proporciones\n",
        "Sp_1p_2 = np.sqrt( (p_1*(1-p_1)/n_1) + (p_2*(1-p_2)/n_2))\n",
        "\n",
        "print('S diferencia proporciones: ',Sp_1p_2)\n",
        "\n",
        "#IC diferencia proporciones al 1-alpha:\n",
        "LI = (p_2 - p_1) - Zcritico * Sp_1p_2\n",
        "LS = (p_2 - p_1) + Zcritico * Sp_1p_2\n",
        "print('IC diferencia proporciones al', 1-alpha, 'NC : ', LI, LS)\n",
        "\n",
        "#otra forma con Scipy\n",
        "IC = stats.norm.interval(1-alpha, loc=p_2 - p_1, scale=Sp_1p_2)\n",
        "print('IC diferencia proporciones al', 1-alpha, 'NC : ', IC)\n",
        "\n",
        "\n",
        "#Graficar\n",
        "#proyectar distribucion diferencia proporciones\n",
        "dif_prop = stats.norm(p_2 - p_1,Sp_1p_2 )\n",
        "x_dif_prop = np.linspace(dif_prop.ppf(0.01), dif_prop.ppf(0.99), 100)\n",
        "pdf_dif_prop = dif_prop.pdf(x_dif_prop) #funcion densidad probabilidad\n",
        "\n",
        "plt.figure(figsize=(10, 5)) #tamaño grafico\n",
        "plt.plot(x_dif_prop, pdf_dif_prop,\"b\", ) #medias h1 fit\n",
        "plt.vlines(ymin=0, ymax=5, x=LI)#Limite inf\n",
        "plt.vlines(ymin=0, ymax=5, x=LS)#Limite sup\n",
        "plt.legend(['Dif propor','Limit Inf', 'Limit Sup'],bbox_to_anchor=(1.1,1.05))\n",
        "plt.show()"
      ]
    },
    {
      "cell_type": "markdown",
      "metadata": {
        "id": "GVwxE_xNYw4D"
      },
      "source": [
        "*Resultado: se puede apreciar que el intervalo de Confianza de la diferencia de proporciones no incluye el valor 0, esto quiere decir que la H0 será rechazada. Veamos los siguientes pasos para ratificar esto.*\n"
      ]
    },
    {
      "cell_type": "code",
      "execution_count": 16,
      "metadata": {
        "colab": {
          "base_uri": "https://localhost:8080/"
        },
        "id": "jzNwYT2tZQpS",
        "outputId": "ddee1b05-1ed2-40af-e0c6-8148c030d41c"
      },
      "outputs": [
        {
          "output_type": "stream",
          "name": "stdout",
          "text": [
            "Z critico:  1.6448536269514722\n",
            "Z prueba:  2.351660281015016\n",
            "p-value (significancia estadística):  0.009344917796091257\n"
          ]
        }
      ],
      "source": [
        "#4) plantear hipotesis\n",
        " # H0:  Prop 2 = Prop 1\n",
        " # H1:  Prop 2 >  Prop 1\n",
        "\n",
        "#regla decision (1 cola)\n",
        " # no rechazar H0 si: Z <= Zcritico\n",
        " # rechazar HO si:  Z > Zcritico\n",
        "\n",
        "\n",
        "## 5) Calcular el estadístico Z crítico a emplear\n",
        "Zcritico2 = stats.norm.ppf(1 - (alpha/2)) #2 colas, fue calculado anteriormente\n",
        "Zcritico1 = stats.norm.ppf(1 - (alpha)) #1 cola, cola derecha\n",
        "print ('Z critico: ',Zcritico1)\n",
        "\n",
        "\n",
        "## 6) Determinar el tipo de test, una o dos colas.\n",
        "#como la hipotesis alternativa es del tipo “mayor que” se trata de un test de una cola\n",
        "#Nota: Se recomienda utilizar el contraste bilateral para estos análisis dado que éstos \n",
        "#requieren una mayor diferencia para detectar una misma potencia\n",
        "\n",
        "\n",
        "## 7 ) Calcular el estadístico Z de prueba\n",
        "\n",
        "Z = ( p_2 - p_1 - 0) / Sp_1p_2\n",
        "print('Z prueba: ', Z)\n",
        "\n",
        "## 8) Calcular el p-value y comparación con el nivel de significancia establecido.\n",
        "#calcular p-value\n",
        "pvalue = 1- (stats.norm.cdf(Z)) #Z prueba se encuentra en cola derecha\n",
        "print('p-value (significancia estadística): ', pvalue) #1 cola \n"
      ]
    },
    {
      "cell_type": "markdown",
      "metadata": {
        "id": "kx3HhzB-bFiF"
      },
      "source": [
        "**Concluir prueba de hipótesis:**\n",
        "Como el Z prueba (2.351) es mayor al Zcritico (1.645), o como el valor-p (p-value= 0.009) es menor al Nivel de signficancia \"alpha\" establecido en 0.05, se rechaza H0. Por tanto se concluye que existe una diferencia estadísticamente significativa entre la proporción de notas 6 y 7 exhibida en la versión experimental (versión B) y la proporción de notas 6 y 7 exhibida en la versión actual del producto (versión A).\n",
        "\n",
        "\n",
        "Una vez finalizada esta parte de la prueba, y siempre que se haya rechazado la H0, se procede a realizar el cálculo del tamaño del efecto real y el Poder de la prueba (potencia estadística).  En caso contrario no es necesario continuar, ya que el resultado obtenido en la versión B no sería mayor a la línea base de la organización.\n",
        "\n",
        "En este caso como se rechaza la Hipótesis nula, es recomendable realizar un análisis de potencia de prueba para medir la relevancia del efecto creado."
      ]
    },
    {
      "cell_type": "code",
      "execution_count": 17,
      "metadata": {
        "colab": {
          "base_uri": "https://localhost:8080/",
          "height": 432
        },
        "id": "_6pDjgTpbRL8",
        "outputId": "4f4769d1-33c2-4871-e709-fbfac42576ca"
      },
      "outputs": [
        {
          "output_type": "stream",
          "name": "stdout",
          "text": [
            "X promedio para Z= 1.6448536269514722 :  0.08743044436681592\n",
            "Beta:  0.23984331945225396\n",
            "otra forma beta:  0.23984331945225396\n",
            "Potencia de la prueba:  0.760156680547746\n",
            "diferencia bruta:  0.125\n",
            "Tamaño del efecto d Cohen:  0.2833600334032988\n"
          ]
        },
        {
          "output_type": "display_data",
          "data": {
            "text/plain": [
              "<Figure size 720x360 with 1 Axes>"
            ],
            "image/png": "[encoded data removed]"
          },
          "metadata": {
            "needs_background": "light"
          }
        }
      ],
      "source": [
        "## 10) Calcular la potencia de la prueba (1 - beta)\n",
        "\n",
        "#buscar el valor en Porcentaje correspondiente al Z critico\n",
        "x = (Zcritico1 * Sp_1p_2)# por la derecha\n",
        "print('X promedio para Z=',Zcritico1,': ',x)\n",
        "\n",
        "#otra forma mas simple con Scipy usando ppf\n",
        "x_b = stats.norm.ppf((1-alpha), loc=0, scale=Sp_1p_2) # 0 es la media de H0\n",
        "#print('X promedio para Z=',Zcritico,': ',x_b)\n",
        "\n",
        "\n",
        "#Calcular Beta (error tipo II)\n",
        "#forma simple con Scipy\n",
        "beta = stats.norm.cdf(Zcritico1, loc=Z, scale=1) #en Z el sigma = 1 (scale)\n",
        "print('Beta: ',beta)\n",
        "\n",
        "#otra forma simple para calcular Beta con Scipy\n",
        "beta1 = stats.norm.cdf(Zcritico1-Z)\n",
        "print('otra forma beta: ', beta1)\n",
        "\n",
        "#Calcular Potencia estadística (1- beta)\n",
        "print('Potencia de la prueba: ', 1-beta)\n",
        "\n",
        "\n",
        "## 11) Calcular el tamaño del efecto\n",
        "\n",
        "efecto_bruto = (p_2 - p_1)\n",
        "print('diferencia bruta: ', efecto_bruto)\n",
        "\n",
        "tamano_efecto = (efecto_bruto / sigma) # efecto estandarizado d Cohen\n",
        "print('Tamaño del efecto d Cohen: ', tamano_efecto)\n",
        "\n",
        "\n",
        "#graficar H0 y H1\n",
        "\n",
        "#proyectar distribucion diferencias prop H0\n",
        "H0_dif_prop = stats.norm(0, Sp_1p_2 )\n",
        "H0_x_dif_prop = np.linspace(H0_dif_prop.ppf(0.001), H0_dif_prop.ppf(0.999), 100)\n",
        "H0_pdf_dif_prop = H0_dif_prop.pdf(H0_x_dif_prop) #funcion densidad probabilidad\n",
        "\n",
        "#proyectar distribucion diferencias prop H0\n",
        "H1_dif_prop = stats.norm(p_2 - p_1, Sp_1p_2 )\n",
        "H1_x_dif_prop = np.linspace(H1_dif_prop.ppf(0.001), H1_dif_prop.ppf(0.999), 100)\n",
        "H1_pdf_dif_prop = H1_dif_prop.pdf(H1_x_dif_prop) #funcion densidad probabilidad\n",
        "\n",
        "\n",
        "plt.figure(figsize=(10, 5)) #tamaño grafico\n",
        "plt.plot(H0_x_dif_prop, H0_pdf_dif_prop,\"r\", ) #medias h0 fit\n",
        "plt.plot(H1_x_dif_prop, H1_pdf_dif_prop,\"b\", ) #medias h1 fit\n",
        "plt.vlines(ymin=0, ymax=9, x=x)#Z critico\n",
        "plt.legend(['H0','H1', 'Valor Z Critico'],bbox_to_anchor=(1.1,1.05))\n",
        "plt.show()"
      ]
    },
    {
      "cell_type": "markdown",
      "metadata": {
        "id": "64BVZLVYjlm2"
      },
      "source": [
        "**Conclusión final**\n",
        "\n",
        "El nuevo tratamiento aplicado 'versión B' del Producto en 220 consumidores escogidos de forma aleatoria durante 1 semana, demuestra que el Top 2 Box Score de 38.5% (Notas 6 y 7) es estadísticamente mayor que el Top 2 Box Score de 26% reportado por los 110 consumidores seleccionado de forma aleatoria que probaron la 'versión A' del producto, esto con un nivel de confianza del 0.95. \n",
        "\n",
        "\n",
        "También se aprecia que la diferencia (tamaño del efecto bruto) obtenida es relevante desde el punto de vista de negocio, ya que es de 1250 puntos base, sin embargo al evaluar su potencia, el análisis arrojó un Poder por debajo del mínimo recomendable de 0.80, es decir, el efecto no tiene una potencia aceptable para respaldar la H1 (Hipótesis alternativa).\n",
        "No se puede afirmar que el tratamiento funciona.\n",
        "\n",
        "Dicho de otra manera, si se rechaza la Hipótesis nula (H0) existe una alta probabilidad de cometer Error Tipo II (beta = 0.239)."
      ]
    },
    {
      "cell_type": "code",
      "execution_count": 18,
      "metadata": {
        "colab": {
          "base_uri": "https://localhost:8080/"
        },
        "id": "u67hn-PAk6Ua",
        "outputId": "6b861602-038f-4eb5-a012-d32f38766fd2"
      },
      "outputs": [
        {
          "output_type": "stream",
          "name": "stdout",
          "text": [
            "Poder: 0.783\n"
          ]
        }
      ],
      "source": [
        "#Otra forma de calular Poder es utilizando STATS de la prueba Normal de 2 muestras\n",
        "#modificando los parametros con los resultados obtenidos - 1 cola (mayor que)\n",
        "\n",
        "# calcular el Poder\n",
        "analysis2 = NormalIndPower()\n",
        "result2 = analysis2.solve_power(effect_size= tamano_efecto, nobs1=110, alpha=alpha, power=None, ratio=2, alternative='larger')\n",
        "print('Poder: %.3f' % result2)"
      ]
    },
    {
      "cell_type": "code",
      "execution_count": 19,
      "metadata": {
        "colab": {
          "base_uri": "https://localhost:8080/"
        },
        "id": "6UVoTTTepAB8",
        "outputId": "81c5100a-78f2-4cbb-853e-2d8bc018793c"
      },
      "outputs": [
        {
          "output_type": "stream",
          "name": "stdout",
          "text": [
            "Poder: 0.680\n"
          ]
        }
      ],
      "source": [
        "#Otra forma de calular Poder es utilizando STATS de la prueba Normal de 2 muestras\n",
        "#modificando los parametros con los resultados obtenidos - 2 cola (igual que)\n",
        "\n",
        "# calcular el Poder\n",
        "analysis2 = NormalIndPower()\n",
        "result2 = analysis2.solve_power(effect_size= tamano_efecto, nobs1=110, alpha=alpha, power=None, ratio=2, alternative='two-sided')\n",
        "print('Poder: %.3f' % result2)"
      ]
    },
    {
      "cell_type": "markdown",
      "metadata": {
        "id": "jrCQGOLKo2fZ"
      },
      "source": [
        "*Nota:  nótese que el cálculo de poder ha sido aplicado con una prueba de 1 cola (mayor que), si se aplica con 2 colas el valor del Poder será menor.*\n",
        "\n",
        "---"
      ]
    },
    {
      "cell_type": "markdown",
      "metadata": {
        "id": "bzWuDUiQrXFx"
      },
      "source": [
        "###Conclusión\n",
        "\n",
        "Finalmente se concluye que el efecto (aumento del Top 2 Box Score) creado por la versión B del producto no cuenta con la seguridad necesaria para validar la relevancia de sus resultados desde el punto de vista de negocio. \n",
        "\n",
        "No se recomienda escalar la versión a todos los consumidores.\n",
        "\n",
        "Se recomienda volver a desarrollar el experimento considerando la cantidad de muestra calculado en el Anàlisis A priori."
      ]
    },
    {
      "cell_type": "markdown",
      "metadata": {
        "id": "mQmfMHSK8w-w"
      },
      "source": [
        "##Cierre\n",
        "\n",
        "Esperando que estas ideas y ejemplos contribuyan a los equipos de producto e investigación en sus líneas de trabajo y en el aumento de la capacidad de desarrollar experimentos.\n",
        "\n",
        "*No olvidemos que mientras más experimentas más aprendes, y\n",
        "que mientras más aprendes.... más creces.*\n",
        "\n",
        "De los 2 casos desarrollados yo recomiendo el segundo (el tipo A/B testing). Ya que un experimento con una muestra que haga de control genera resultados mucho más fiables, ya que al probar de forma paralela ambas versiones (con muestras independientes), estamos incluyendo en ambos grupos (control y experimentación) los nuevos factores que emergen en el tiempo (e.g: precio, publicidad, información, etc), mejorando así el proceso de comparación, ya que tendríamos condiciones similares en ambos grupos.\n",
        "\n",
        "Una consideración: cuando se aplica el método A/B testing lo que se hace es evaluar en la muestra de experimentación el 'producto base' más un solo cambio de factor (e.g.: color, botella, nombre, caja, etc).  No como en este ejemplo, donde se hacen varios cambios, lo que dificulta entender los impactos de cada factor modificado.\n",
        "\n",
        "No olvidar que los casos ejecutados son solo ejemplos, al igual que los datos presentados. Te invito a proponer nuevos escenarios y concluir sus resultados.\n",
        "\n"
      ]
    },
    {
      "cell_type": "markdown",
      "metadata": {
        "id": "WlhXAlyhPjPk"
      },
      "source": [
        "##Reflexión final\n",
        "Tomando como base los resultados presentados en el video en youtube de la marca, y si tú fueras el líder del equipo de Estrategia de Producto, ¿qué acción distinta hubieses implementado?\n",
        "\n",
        "Si gustas me compartes tu comentario.\n",
        "\n",
        "---\n",
        "\n",
        "¿Tienes alguna pregunta o sugerencia? Déjame comentarios en https://www.linkedin.com/in/robertomoragad/ y haré todo lo posible para responder.\n",
        "\n"
      ]
    },
    {
      "cell_type": "markdown",
      "metadata": {
        "id": "ubGvCw9RuVjs"
      },
      "source": [
        "## Referencias\n",
        "\n",
        "* https://www.nature.com/articles/nrn3475\n",
        "\n",
        "* https://www.statsmodels.org/dev/index.html\n",
        "\n",
        "* https://docs.scipy.org/doc/scipy/reference/index.html\n",
        "\n",
        "* Cohen J.  Things I have learned (so far) Am Psychol, 1990.\n",
        "\n",
        "* Gail M. Sullivan, Richard Feinn.   Using Effect Size—or Why the P Value Is Not Enough, 2012.\n",
        "\n",
        "* Geoff Cumming.  Understanding The New Statistics (Multivariate Applications Series), 2012.\n",
        "\n",
        "* https://en.wikipedia.org/wiki/Effect_size\n",
        "\n",
        "* https://github.com/robertomoragad/Estadistica/blob/master/Tama%C3%B1o_del_Efecto_y_Potencia_Estad%C3%ADstica_en_la_prueba_de_T_de_Student_para_dos_grupos.ipynb\n",
        "\n",
        "* https://github.com/robertomoragad/Estadistica/blob/master/Calculo_de_poder_Experimento_01.ipynb\n",
        "\n",
        "* https://github.com/robertomoragad/Estadistica/blob/master/A_B_Testing_101.ipynb\n",
        "\n"
      ]
    }
  ],
  "metadata": {
    "colab": {
      "toc_visible": true,
      "provenance": [],
      "authorship_tag": "ABX9TyP3JQZN/nX5BTFUYH/n/J/n",
      "include_colab_link": true
    },
    "kernelspec": {
      "display_name": "Python 3",
      "name": "python3"
    },
    "language_info": {
      "name": "python"
    }
  },
  "nbformat": 4,
  "nbformat_minor": 0
}