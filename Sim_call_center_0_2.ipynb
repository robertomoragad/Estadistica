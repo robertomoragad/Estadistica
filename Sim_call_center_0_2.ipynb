{
  "nbformat": 4,
  "nbformat_minor": 0,
  "metadata": {
    "colab": {
      "provenance": [],
      "include_colab_link": true
    },
    "kernelspec": {
      "name": "python3",
      "display_name": "Python 3"
    },
    "language_info": {
      "name": "python"
    }
  },
  "cells": [
    {
      "cell_type": "markdown",
      "metadata": {
        "id": "view-in-github",
        "colab_type": "text"
      },
      "source": [
        "<a href=\"https://colab.research.google.com/github/robertomoragad/Estadistica/blob/master/Sim_call_center_0_2.ipynb\" target=\"_parent\"><img src=\"https://colab.research.google.com/assets/colab-badge.svg\" alt=\"Open In Colab\"/></a>"
      ]
    },
    {
      "cell_type": "code",
      "execution_count": null,
      "metadata": {
        "colab": {
          "base_uri": "https://localhost:8080/"
        },
        "id": "UVz6uniOfVGO",
        "outputId": "30049ec2-a83d-4371-e243-1ad22fcccd4b"
      },
      "outputs": [
        {
          "output_type": "stream",
          "name": "stdout",
          "text": [
            "Looking in indexes: https://pypi.org/simple, https://us-python.pkg.dev/colab-wheels/public/simple/\n",
            "Requirement already satisfied: simpy in /usr/local/lib/python3.8/dist-packages (4.0.1)\n"
          ]
        }
      ],
      "source": [
        "pip install simpy"
      ]
    },
    {
      "cell_type": "code",
      "source": [
        "#Cargamos librerias\n",
        "\n",
        "import random\n",
        "import simpy\n",
        "import numpy as np\n",
        "import matplotlib.pyplot as plt"
      ],
      "metadata": {
        "id": "GHZUHAMWfcLX"
      },
      "execution_count": null,
      "outputs": []
    },
    {
      "cell_type": "markdown",
      "source": [
        "#Modelo de simulacion discreto para centros de atención de clientes\n",
        "\n",
        "En el presente notebooks vamos a compartir un modelo muy sencillo de simulación estocástico, que nos permitirá evaluar y predicir el comportamiento de un centro de atención de clientes. Esto puede ser desde un call center, una tienda física o sucursal, un centro de atención online e incluso un backoffice.\n",
        "\n",
        "En este modelo existe una demanda de los clientes, por ejemplo para resolver una solicitud ténica o comercial, estos clientes arriban al sistema cada 3 minutos en promedio. Para considerar la variabilidad de este proceso de ingreso, hemos preparado una distribución uniforme con mínimo 2 y máximo 4 minutos.\n",
        "Estos clientes ingresan a una cola de atención, donde esperan hasta ser atendidos por un agente de soporte. \n",
        "\n",
        "El agente de soporte tarda en atender al cliente en promedio 5.25 minutos, para considerar la variabilidad de este proceso de atención, hemos preparado una distribución gamma con parámetros alpha= 2.5 y beta=2.1.\n",
        "\n",
        "Simularemos durante 120 minutos este sistema y mediremos los siguientes indicadores:\n",
        "\n",
        "* Cantidad de atenciones realizadas (volumen) en las 2 horas\n",
        "* Tiempos de espera en la cola promedio, más la distribución completa de  estos tiempos\n",
        "* Tiempo de atención/soprote promedio, más la distribución completa de  estos tiempos\n",
        "* Tiempo total de atención (la espera en cola + la atención con el agente) promedio, más la distribución completa de  estos tiempos.\n",
        "\n",
        "Luego de simular, podremos hacer experimentos que den respuestas a nuestras hipótesis, ejemplo: qué pasa si aumentamos en 1 o 2 la cantidad de agentes, y así un sinnúmero de ideas a evaluar.\n",
        "\n",
        "Nota: No olvidar que en un modelo estocástico se sugiere correr varias veces un intervalo de simulación, una sola réplica es muy pobre.\n",
        "\n",
        "\n",
        "\n",
        "<img src='https://drive.google.com/uc?export=view&id=12HA05oxY27vpXLgJWTW4FTgD_oz3fska' width=\"1000\" align=\"center\" style=\"margin-right: 20px\"> \n",
        "<br>\n",
        "\n",
        "\n",
        "<p style=\"font-size:8pt\"> \n",
        "Imagen gentileza de: Roberto Moraga</p>"
      ],
      "metadata": {
        "id": "LLCs0BHgbOR-"
      }
    },
    {
      "cell_type": "code",
      "source": [
        "#Inicio\n",
        "#crear listas para almacenar datasets\n",
        "wait_times = [] #corresponde al tiempo transcurrido desde que el cliente ingresa a la cola de espera hasta que comienza la atención\n",
        "support_times = [] #corresponde al tiempo transcurrido desde que el cliente comienza la atención hasta que termina su atención\n",
        "total_times = [] #corresponde al tiempo transcurrido desde que el cliente ingresa a la cola de espera hasta que sale del call center\n",
        "\n",
        "#RANDOM_SEED = 42\n",
        "\n",
        "#Creamos parametros\n",
        "NUM_EMPLOYEES = 2     # Number of employees in contact center\n",
        "#support times\n",
        "alpha= 2.5\n",
        "beta= 2.1\n",
        "AVG_SUPPORT_TIME = np.random.gamma(alpha , beta)  # Minutes it takes to support a customer\n",
        "CUSTOMER_INTERVAL = 3 # Create a customer every ~X minutes\n",
        "SIM_TIME = 120        # Simulation time in minutes\n",
        "\n",
        "customers_handled = 0\n",
        "\n",
        "class CallCenter(object):\n",
        "#A call center has a limited number\n",
        "\n",
        "    def __init__(self, env, num_employees, support_time):\n",
        "        self.env = env\n",
        "        self.staff = simpy.Resource(env, num_employees)\n",
        "        self.support_time = support_time\n",
        "\n",
        "    def support(self, customer):\n",
        "        #random_time = max(1, np.random.normal(self.support_time, STD_SUPPORT_TIME))\n",
        "        random_time = np.random.gamma(alpha , beta)\n",
        "        yield self.env.timeout(random_time)\n",
        "        print(f\"Support finished for {customer} at {self.env.now:.2f}\")\n",
        "\n",
        "\n",
        "\n",
        "def customer(env, name, call_center):\n",
        "    # Customer arrives at the Queue\n",
        "    arrival_time = env.now\n",
        "\n",
        "    global customers_handled\n",
        "    print(f\"Customer {name} enters waiting queue at {env.now:.2f}!\")\n",
        "    with call_center.staff.request() as request:\n",
        "        yield request\n",
        "        print(f\"Customer {name} enters call at {env.now:.2f}\")\n",
        "        start_support_time = env.now\n",
        "        # Customer heads into the CallCenter\n",
        "        wait_times.append(env.now - arrival_time)\n",
        "\n",
        "        yield env.process(call_center.support(name))\n",
        "        print(f\"Customer {name} left call at {env.now:.2f}\")\n",
        "        customers_handled += 1\n",
        "\n",
        "        # Customer left the CallCenter\n",
        "        support_times.append(env.now - start_support_time)\n",
        "\n",
        "        # Customer left the CallCenter\n",
        "        total_times.append(env.now - arrival_time)\n",
        "\n",
        "\n",
        "def setup(env, num_employees, support_time, customer_interval):\n",
        "    call_center = CallCenter(env, num_employees, support_time)\n",
        "\n",
        "    for i in range(1, 6):\n",
        "        env.process(customer(env, i, call_center))\n",
        "\n",
        "    while True:\n",
        "        yield env.timeout(random.randint(customer_interval - 1, customer_interval + 1 ))\n",
        "        i += 1\n",
        "        env.process(customer(env, i, call_center))\n",
        "\n",
        "\n",
        "      \n",
        "print(\"Starting Call Center Simulation\")\n",
        "env = simpy.Environment()\n",
        "env.process(setup(env, NUM_EMPLOYEES, AVG_SUPPORT_TIME, CUSTOMER_INTERVAL))\n",
        "env.run(until=SIM_TIME)\n",
        "\n",
        "print(\"Customer handled: \" + str(customers_handled))\n",
        "\n",
        "\n"
      ],
      "metadata": {
        "colab": {
          "base_uri": "https://localhost:8080/"
        },
        "id": "WpLY1OSVfeys",
        "outputId": "3b971344-2bb5-40f0-ee9d-30b9aaefe0c0"
      },
      "execution_count": null,
      "outputs": [
        {
          "output_type": "stream",
          "name": "stdout",
          "text": [
            "Starting Call Center Simulation\n",
            "Customer 1 enters waiting queue at 0.00!\n",
            "Customer 2 enters waiting queue at 0.00!\n",
            "Customer 3 enters waiting queue at 0.00!\n",
            "Customer 4 enters waiting queue at 0.00!\n",
            "Customer 5 enters waiting queue at 0.00!\n",
            "Customer 1 enters call at 0.00\n",
            "Customer 2 enters call at 0.00\n",
            "Support finished for 1 at 3.44\n",
            "Customer 1 left call at 3.44\n",
            "Customer 3 enters call at 3.44\n",
            "Customer 6 enters waiting queue at 4.00!\n",
            "Support finished for 3 at 4.57\n",
            "Customer 3 left call at 4.57\n",
            "Customer 4 enters call at 4.57\n",
            "Customer 7 enters waiting queue at 6.00!\n",
            "Customer 8 enters waiting queue at 8.00!\n",
            "Support finished for 4 at 8.89\n",
            "Customer 4 left call at 8.89\n",
            "Customer 5 enters call at 8.89\n",
            "Customer 9 enters waiting queue at 10.00!\n",
            "Customer 10 enters waiting queue at 12.00!\n",
            "Support finished for 2 at 12.31\n",
            "Customer 2 left call at 12.31\n",
            "Customer 6 enters call at 12.31\n",
            "Support finished for 5 at 15.23\n",
            "Customer 5 left call at 15.23\n",
            "Customer 7 enters call at 15.23\n",
            "Support finished for 6 at 15.77\n",
            "Customer 6 left call at 15.77\n",
            "Customer 8 enters call at 15.77\n",
            "Customer 11 enters waiting queue at 16.00!\n",
            "Support finished for 8 at 17.92\n",
            "Customer 8 left call at 17.92\n",
            "Customer 9 enters call at 17.92\n",
            "Customer 12 enters waiting queue at 20.00!\n",
            "Support finished for 9 at 21.95\n",
            "Customer 9 left call at 21.95\n",
            "Customer 10 enters call at 21.95\n",
            "Support finished for 7 at 22.19\n",
            "Customer 7 left call at 22.19\n",
            "Customer 11 enters call at 22.19\n",
            "Customer 13 enters waiting queue at 23.00!\n",
            "Support finished for 10 at 26.16\n",
            "Customer 10 left call at 26.16\n",
            "Customer 12 enters call at 26.16\n",
            "Customer 14 enters waiting queue at 27.00!\n",
            "Customer 15 enters waiting queue at 30.00!\n",
            "Support finished for 11 at 30.43\n",
            "Customer 11 left call at 30.43\n",
            "Customer 13 enters call at 30.43\n",
            "Support finished for 13 at 31.79\n",
            "Customer 13 left call at 31.79\n",
            "Customer 14 enters call at 31.79\n",
            "Customer 16 enters waiting queue at 33.00!\n",
            "Support finished for 12 at 33.24\n",
            "Customer 12 left call at 33.24\n",
            "Customer 15 enters call at 33.24\n",
            "Customer 17 enters waiting queue at 35.00!\n",
            "Support finished for 15 at 38.28\n",
            "Customer 15 left call at 38.28\n",
            "Customer 16 enters call at 38.28\n",
            "Customer 18 enters waiting queue at 39.00!\n",
            "Support finished for 14 at 39.12\n",
            "Customer 14 left call at 39.12\n",
            "Customer 17 enters call at 39.12\n",
            "Support finished for 17 at 41.78\n",
            "Customer 17 left call at 41.78\n",
            "Customer 18 enters call at 41.78\n",
            "Support finished for 16 at 41.90\n",
            "Customer 16 left call at 41.90\n",
            "Customer 19 enters waiting queue at 43.00!\n",
            "Customer 19 enters call at 43.00\n",
            "Support finished for 18 at 44.54\n",
            "Customer 18 left call at 44.54\n",
            "Customer 20 enters waiting queue at 46.00!\n",
            "Customer 20 enters call at 46.00\n",
            "Support finished for 20 at 48.76\n",
            "Customer 20 left call at 48.76\n",
            "Support finished for 19 at 48.93\n",
            "Customer 19 left call at 48.93\n",
            "Customer 21 enters waiting queue at 49.00!\n",
            "Customer 21 enters call at 49.00\n",
            "Customer 22 enters waiting queue at 53.00!\n",
            "Customer 22 enters call at 53.00\n",
            "Customer 23 enters waiting queue at 55.00!\n",
            "Support finished for 21 at 56.25\n",
            "Customer 21 left call at 56.25\n",
            "Customer 23 enters call at 56.25\n",
            "Customer 24 enters waiting queue at 58.00!\n",
            "Customer 25 enters waiting queue at 60.00!\n",
            "Support finished for 23 at 60.29\n",
            "Customer 23 left call at 60.29\n",
            "Customer 24 enters call at 60.29\n",
            "Support finished for 22 at 62.72\n",
            "Customer 22 left call at 62.72\n",
            "Customer 25 enters call at 62.72\n",
            "Customer 26 enters waiting queue at 63.00!\n",
            "Support finished for 25 at 63.97\n",
            "Customer 25 left call at 63.97\n",
            "Customer 26 enters call at 63.97\n",
            "Support finished for 24 at 64.32\n",
            "Customer 24 left call at 64.32\n",
            "Customer 27 enters waiting queue at 66.00!\n",
            "Customer 27 enters call at 66.00\n",
            "Customer 28 enters waiting queue at 69.00!\n",
            "Support finished for 27 at 69.91\n",
            "Customer 27 left call at 69.91\n",
            "Customer 28 enters call at 69.91\n",
            "Customer 29 enters waiting queue at 72.00!\n",
            "Customer 30 enters waiting queue at 76.00!\n",
            "Support finished for 28 at 79.29\n",
            "Customer 28 left call at 79.29\n",
            "Customer 29 enters call at 79.29\n",
            "Customer 31 enters waiting queue at 80.00!\n",
            "Support finished for 26 at 82.79\n",
            "Customer 26 left call at 82.79\n",
            "Customer 30 enters call at 82.79\n",
            "Customer 32 enters waiting queue at 83.00!\n",
            "Support finished for 29 at 84.93\n",
            "Customer 29 left call at 84.93\n",
            "Customer 31 enters call at 84.93\n",
            "Customer 33 enters waiting queue at 86.00!\n",
            "Support finished for 30 at 88.96\n",
            "Customer 30 left call at 88.96\n",
            "Customer 32 enters call at 88.96\n",
            "Customer 34 enters waiting queue at 89.00!\n",
            "Support finished for 31 at 89.02\n",
            "Customer 31 left call at 89.02\n",
            "Customer 33 enters call at 89.02\n",
            "Support finished for 32 at 91.52\n",
            "Customer 32 left call at 91.52\n",
            "Customer 34 enters call at 91.52\n",
            "Support finished for 33 at 91.58\n",
            "Customer 33 left call at 91.58\n",
            "Customer 35 enters waiting queue at 93.00!\n",
            "Customer 35 enters call at 93.00\n",
            "Customer 36 enters waiting queue at 97.00!\n",
            "Support finished for 35 at 97.03\n",
            "Customer 35 left call at 97.03\n",
            "Customer 36 enters call at 97.03\n",
            "Support finished for 34 at 98.26\n",
            "Customer 34 left call at 98.26\n",
            "Customer 37 enters waiting queue at 100.00!\n",
            "Customer 37 enters call at 100.00\n",
            "Support finished for 36 at 101.03\n",
            "Customer 36 left call at 101.03\n",
            "Customer 38 enters waiting queue at 102.00!\n",
            "Customer 38 enters call at 102.00\n",
            "Customer 39 enters waiting queue at 105.00!\n",
            "Support finished for 37 at 105.18\n",
            "Customer 37 left call at 105.18\n",
            "Customer 39 enters call at 105.18\n",
            "Support finished for 39 at 106.51\n",
            "Customer 39 left call at 106.51\n",
            "Customer 40 enters waiting queue at 108.00!\n",
            "Customer 40 enters call at 108.00\n",
            "Support finished for 40 at 109.48\n",
            "Customer 40 left call at 109.48\n",
            "Customer 41 enters waiting queue at 111.00!\n",
            "Customer 41 enters call at 111.00\n",
            "Support finished for 38 at 114.56\n",
            "Customer 38 left call at 114.56\n",
            "Customer 42 enters waiting queue at 115.00!\n",
            "Customer 42 enters call at 115.00\n",
            "Support finished for 42 at 116.06\n",
            "Customer 42 left call at 116.06\n",
            "Support finished for 41 at 116.24\n",
            "Customer 41 left call at 116.24\n",
            "Customer 43 enters waiting queue at 119.00!\n",
            "Customer 43 enters call at 119.00\n",
            "Customer handled: 42\n"
          ]
        }
      ]
    },
    {
      "cell_type": "code",
      "source": [
        "#Crear graficas de Tiempos de espera\n",
        "\n",
        "print(wait_times) #dataset tiempos de espera\n",
        "print('Tamaño: ',np.size(wait_times)) #tamaño muestra\n",
        "print('Media: ',np.mean(wait_times)) #media\n",
        "print('Sigma: ',np.std(wait_times)) #desv. std\n",
        "\n",
        "plt.hist(wait_times, bins=10)\n",
        "plt.ylabel('frecuencia')\n",
        "plt.xlabel('tiempos de espera en minutos')\n",
        "plt.title('Histograma')\n",
        "plt.show"
      ],
      "metadata": {
        "id": "azpOiFsAr28M",
        "colab": {
          "base_uri": "https://localhost:8080/",
          "height": 402
        },
        "outputId": "ee474e59-51d1-4ec1-926b-b96bbe4804f4"
      },
      "execution_count": null,
      "outputs": [
        {
          "output_type": "stream",
          "name": "stdout",
          "text": [
            "[0, 0, 3.4447531535866975, 4.568366769564104, 8.886496476596152, 8.306952691423003, 9.229171127809028, 7.774350595631146, 7.922142366857987, 9.949296442066686, 6.187463074884363, 6.159235396749899, 7.432632413894854, 4.793428704801382, 3.2437798265610382, 5.280867926724028, 4.124750061439251, 2.777217148943542, 0, 0, 0, 0, 1.245914886395795, 2.2942861123278036, 2.7169640869798144, 0.9680560862915257, 0, 0.9107442791938638, 7.285350137526663, 6.792518456094314, 4.925272298102939, 5.955937122433326, 3.0164926212985677, 2.520723647131561, 0, 0.031653339512857315, 0, 0, 0.17812480418488974, 0, 0, 0, 0]\n",
            "Tamaño:  43\n",
            "Media:  3.2307660943024907\n",
            "Sigma:  3.2249958363851112\n"
          ]
        },
        {
          "output_type": "execute_result",
          "data": {
            "text/plain": [
              "<function matplotlib.pyplot.show(*args, **kw)>"
            ]
          },
          "metadata": {},
          "execution_count": 4
        },
        {
          "output_type": "display_data",
          "data": {
            "text/plain": [
              "<Figure size 432x288 with 1 Axes>"
            ],
            "image/png": "[encoded data removed]"
          },
          "metadata": {
            "needs_background": "light"
          }
        }
      ]
    },
    {
      "cell_type": "code",
      "source": [
        "#Crear graficas de Tiempos totales de atención\n",
        "\n",
        "print(total_times) #dataset tiempos totales de atencion\n",
        "print('Tamaño: ',np.size(total_times)) #tamaño muestra\n",
        "print('Media: ',np.mean(total_times)) #media\n",
        "print('Sigma: ',np.std(total_times)) #desv. std\n",
        "\n",
        "plt.hist(total_times, bins=10)\n",
        "plt.ylabel('frecuencia')\n",
        "plt.xlabel('tiempos totales de atención en minutos')\n",
        "plt.title('Histograma')\n",
        "plt.show"
      ],
      "metadata": {
        "colab": {
          "base_uri": "https://localhost:8080/",
          "height": 403
        },
        "id": "8_ksvmyOIa9_",
        "outputId": "50cb9bcc-c191-40b6-b8db-51fdbc7fb310"
      },
      "execution_count": null,
      "outputs": [
        {
          "output_type": "stream",
          "name": "stdout",
          "text": [
            "[3.4447531535866975, 4.568366769564104, 8.886496476596152, 12.306952691423003, 15.229171127809028, 11.774350595631146, 9.922142366857987, 11.949296442066686, 16.187463074884363, 14.1592353967499, 14.432632413894854, 8.793428704801382, 13.243779826561038, 8.280867926724028, 12.12475006143925, 6.777217148943542, 8.903450403095462, 5.536444075119917, 2.7607025350601475, 5.933117672674527, 7.245914886395795, 5.2942861123278036, 9.716964086979814, 3.9680560862915257, 6.31885268428006, 3.910744279193864, 10.285350137526663, 19.792518456094314, 12.92527229810294, 12.955937122433326, 9.016492621298568, 8.520723647131561, 5.57958012983832, 4.031653339512857, 9.261929538614183, 4.029074913078034, 5.17812480418489, 1.5142214123684994, 1.4764654575989624, 12.562487735284861, 1.058924899485035, 5.2365161857706255]\n",
            "Tamaño:  42\n",
            "Media:  8.45463594517323\n",
            "Sigma:  4.391243197955154\n"
          ]
        },
        {
          "output_type": "execute_result",
          "data": {
            "text/plain": [
              "<function matplotlib.pyplot.show(*args, **kw)>"
            ]
          },
          "metadata": {},
          "execution_count": 5
        },
        {
          "output_type": "display_data",
          "data": {
            "text/plain": [
              "<Figure size 432x288 with 1 Axes>"
            ],
            "image/png": "[encoded data removed]"
          },
          "metadata": {
            "needs_background": "light"
          }
        }
      ]
    },
    {
      "cell_type": "code",
      "source": [
        "#Crear graficas de Tiempos de atención (solo el tiempo con ejecutivo)\n",
        "\n",
        "print(support_times) #dataset tiempos de atencion\n",
        "print('Tamaño: ',np.size(support_times)) #tamaño muestra\n",
        "print('Media: ',np.mean(support_times)) #media\n",
        "print('Sigma: ',np.std(support_times)) #desv. std\n",
        "\n",
        "plt.hist(support_times, bins=10)\n",
        "plt.ylabel('frecuencia')\n",
        "plt.xlabel('tiempos de atención en minutos')\n",
        "plt.title('Histograma')\n",
        "plt.show"
      ],
      "metadata": {
        "colab": {
          "base_uri": "https://localhost:8080/",
          "height": 403
        },
        "id": "rLOhl4fTJDOG",
        "outputId": "bb682ebe-8a99-4d01-fe7c-7eb6e2218b1d"
      },
      "execution_count": null,
      "outputs": [
        {
          "output_type": "stream",
          "name": "stdout",
          "text": [
            "[3.4447531535866975, 1.1236136159774066, 4.318129707032048, 12.306952691423003, 6.342674651212876, 3.467397904208143, 2.1477917712268404, 4.027154075208699, 6.958291947075335, 4.2099389546832136, 8.245169339010491, 1.3607962909065279, 7.084544429811139, 5.03708810016299, 7.3313213566378685, 2.6524670875042915, 3.6225824763714343, 2.7592269261763747, 2.7607025350601475, 5.933117672674527, 7.245914886395795, 4.048371225932009, 9.716964086979814, 1.2510919993117113, 4.024566571952256, 3.910744279193864, 9.3746058583328, 18.824462369802788, 5.639922160576276, 6.1634186663390125, 4.091220323195628, 2.564786524698235, 2.563087508539752, 4.031653339512857, 6.741205891482622, 3.997421573565177, 5.17812480418489, 1.3360966081836096, 1.4764654575989624, 12.562487735284861, 1.058924899485035, 5.2365161857706255]\n",
            "Tamaño:  42\n",
            "Media:  5.1469468486254435\n",
            "Sigma:  3.493823223989493\n"
          ]
        },
        {
          "output_type": "execute_result",
          "data": {
            "text/plain": [
              "<function matplotlib.pyplot.show(*args, **kw)>"
            ]
          },
          "metadata": {},
          "execution_count": 6
        },
        {
          "output_type": "display_data",
          "data": {
            "text/plain": [
              "<Figure size 432x288 with 1 Axes>"
            ],
            "image/png": "[encoded data removed]"
          },
          "metadata": {
            "needs_background": "light"
          }
        }
      ]
    },
    {
      "cell_type": "markdown",
      "source": [
        "### aquí tus preguntas para evaluar ajustes al modelo:\n",
        "\n",
        "* qué pasa sí ....\n",
        "* ..."
      ],
      "metadata": {
        "id": "l3ooDXRkfCHX"
      }
    }
  ]
}