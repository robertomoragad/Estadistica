{
  "nbformat": 4,
  "nbformat_minor": 0,
  "metadata": {
    "colab": {
      "provenance": [],
      "include_colab_link": true
    },
    "kernelspec": {
      "name": "python3",
      "display_name": "Python 3"
    },
    "language_info": {
      "name": "python"
    }
  },
  "cells": [
    {
      "cell_type": "markdown",
      "metadata": {
        "id": "view-in-github",
        "colab_type": "text"
      },
      "source": [
        "<a href=\"https://colab.research.google.com/github/robertomoragad/Estadistica/blob/master/Sim_call_center_0_2.ipynb\" target=\"_parent\"><img src=\"https://colab.research.google.com/assets/colab-badge.svg\" alt=\"Open In Colab\"/></a>"
      ]
    },
    {
      "cell_type": "code",
      "execution_count": 1,
      "metadata": {
        "colab": {
          "base_uri": "https://localhost:8080/"
        },
        "id": "UVz6uniOfVGO",
        "outputId": "1924c8e5-7360-4a72-b1f0-7323b18ec876"
      },
      "outputs": [
        {
          "output_type": "stream",
          "name": "stdout",
          "text": [
            "Looking in indexes: https://pypi.org/simple, https://us-python.pkg.dev/colab-wheels/public/simple/\n",
            "Requirement already satisfied: simpy in /usr/local/lib/python3.8/dist-packages (4.0.1)\n"
          ]
        }
      ],
      "source": [
        "pip install simpy"
      ]
    },
    {
      "cell_type": "code",
      "source": [
        "#Cargamos librerias\n",
        "import random\n",
        "import simpy\n",
        "import numpy as np\n",
        "import matplotlib.pyplot as plt"
      ],
      "metadata": {
        "id": "GHZUHAMWfcLX"
      },
      "execution_count": 2,
      "outputs": []
    },
    {
      "cell_type": "markdown",
      "source": [
        "#Modelo de simulacion discreto para centros de atención de clientes\n",
        "\n",
        "En el presente notebook vamos a compartir un modelo muy sencillo de simulación estocástico, que nos permitirá evaluar y predicir el comportamiento de un centro de atención de clientes. Esto puede ser desde un call center, una tienda física o sucursal, un centro de atención online e incluso un backoffice.\n",
        "\n",
        "En este modelo existe una demanda de los clientes, por ejemplo para resolver una solicitud técnica o comercial, estos clientes arriban al sistema cada 3 minutos en promedio. Para considerar la variabilidad de este proceso de ingreso, hemos preparado una distribución uniforme con mínimo 2 y máximo 4 minutos.\n",
        "Estos clientes ingresan a una cola de atención, donde esperan hasta ser atendidos por un agente de soporte. \n",
        "\n",
        "El agente de soporte tarda en atender al cliente en promedio 5.25 minutos, para considerar la variabilidad de este proceso de atención, hemos preparado una distribución gamma con parámetros alpha= 2.5 y beta=2.1.\n",
        "\n",
        "Simularemos durante 120 minutos este sistema y mediremos los siguientes indicadores:\n",
        "\n",
        "* Cantidad de atenciones realizadas (volumen) en las 2 horas\n",
        "* Tiempos de espera en la cola promedio, más la distribución completa de  estos tiempos\n",
        "* Tiempo de atención/soprote promedio, más la distribución completa de  estos tiempos\n",
        "* Tiempo total de atención (la espera en cola + la atención con el agente) promedio, más la distribución completa de  estos tiempos.\n",
        "\n",
        "Luego de simular, podremos hacer experimentos que den respuestas a nuestras hipótesis. Por ejemplo: qué pasa si aumentamos en 1 o 2 la cantidad de agentes, y así un sinnúmero de ideas a evaluar.\n",
        "\n",
        "Nota: No olvidar que en un modelo estocástico se sugiere correr varias veces un intervalo de simulación, una sola réplica nos entregará un resultado muy pobre para nuestra toma de decisión.\n",
        "\n",
        "\n",
        "\n",
        "<img src='https://drive.google.com/uc?export=view&id=12HA05oxY27vpXLgJWTW4FTgD_oz3fska' width=\"1000\" align=\"center\" style=\"margin-right: 20px\"> \n",
        "<br>\n",
        "\n",
        "\n",
        "<p style=\"font-size:8pt\"> \n",
        "Imagen gentileza de: Roberto Moraga</p>"
      ],
      "metadata": {
        "id": "LLCs0BHgbOR-"
      }
    },
    {
      "cell_type": "code",
      "source": [
        "#Inicio\n",
        "#crear listas para almacenar datasets\n",
        "wait_times = [] #corresponde al tiempo transcurrido desde que el cliente ingresa a la cola de espera hasta que comienza la atención\n",
        "support_times = [] #corresponde al tiempo transcurrido desde que el cliente comienza la atención hasta que termina su atención\n",
        "total_times = [] #corresponde al tiempo transcurrido desde que el cliente ingresa a la cola de espera hasta que sale del call center\n",
        "\n",
        "RANDOM_SEED = 2 #fijar una semilla para correr 1 replica reproducible\n",
        "\n",
        "#Creamos parametros del modelo:\n",
        "NUM_EMPLOYEES = 2     # Number of employees in contact center\n",
        "#support time with gamma distribution\n",
        "alpha= 2.5\n",
        "beta= 2.1\n",
        "SUPPORT_TIME = alpha * beta  # Minutos promedio para atender a un cliente (soporte)\n",
        "AVG_CUSTOMER_HOUR = 20 #en promedio llegan 20 clientes por hora a la cola\n",
        "CUSTOMER_INTERVAL = 60/AVG_CUSTOMER_HOUR # Crea un cliente cada 3 minutos\n",
        "SIM_TIME = 120        # tiempo de simulación en minutos\n",
        "\n",
        "customers_handled = 0\n",
        "\n",
        "class CallCenter(object):\n",
        "#Un call center tiene un número limitado de agentes (empleados) para atender clientes en paralelo\n",
        "#Los clientes tienen esperar a uno de los agentes\n",
        "#Cuando un cliente consigue disponibilidad de un agente, comienza a ser atendido hasta que finaliza\n",
        "#este tiempo toma SUPPORT_TIME minutos\n",
        "\n",
        "    def __init__(self, env, num_employees, support_time):\n",
        "        self.env = env\n",
        "        self.staff = simpy.Resource(env, num_employees)\n",
        "        self.support_time = support_time\n",
        "\n",
        "    def support(self, customer):\n",
        "        #Los procesos de atención/soporte atienden a un cliente\n",
        "        #random_time = max(1, np.random.normal(self.support_time, STD_SUPPORT_TIME))\n",
        "        #random_time = np.random.gamma(alpha , beta)\n",
        "        random_time = random.gammavariate(alpha, beta)\n",
        "        yield self.env.timeout(random_time)\n",
        "        print(f\"Support finished for {customer} at {self.env.now:.2f}\")\n",
        "\n",
        "\n",
        "\n",
        "def customer(env, name, call_center):\n",
        "    #Los clientes (cada cliente tiene un nombre) arriban al CallCenter y necesitan ser atendidos\n",
        "    #Luego los clientes comienzan a ser atendidos por un Agente de soporte, esperan hasta\n",
        "    #que finaliza la atención, y luego dejan/salen del call center (para no volver de nuevo..)  \n",
        "    arrival_time = env.now\n",
        "\n",
        "    global customers_handled\n",
        "    print(f\"Customer {name} enters waiting queue at {env.now:.2f}!\")\n",
        "    with call_center.staff.request() as request:\n",
        "        yield request\n",
        "        print(f\"Customer {name} enters call at {env.now:.2f}\")\n",
        "        start_support_time = env.now\n",
        "        # Cliente se dirije a ser atendido por un agente\n",
        "        wait_times.append(env.now - arrival_time)\n",
        "\n",
        "        yield env.process(call_center.support(name))\n",
        "        print(f\"Customer {name} left call at {env.now:.2f}\")\n",
        "        customers_handled += 1\n",
        "\n",
        "        # Cliente sale/deja el CallCenter\n",
        "        support_times.append(env.now - start_support_time)\n",
        "\n",
        "        total_times.append(env.now - arrival_time)\n",
        "\n",
        "\n",
        "def setup(env, num_employees, support_time, customer_interval):\n",
        "#Crea un Call Center, un número inicial de clientes y luego se mantendrá creando clientes cada \"CUSTOMER_INTERVAL\" minutos\n",
        "    #Crea el call center\n",
        "    call_center = CallCenter(env, num_employees, support_time)\n",
        "\n",
        "    #Crea 5 clientes iniciales\n",
        "    for i in range(1, 6):\n",
        "        env.process(customer(env, i, call_center))\n",
        "\n",
        "    #crea más clientes mientras la simulaciíon está corriendo\n",
        "    while True:\n",
        "        yield env.timeout(random.randint(customer_interval - 1, customer_interval + 1 ))\n",
        "        i += 1\n",
        "        env.process(customer(env, i, call_center))\n",
        "\n",
        "\n",
        "# Setup and start the simulation  \n",
        "print(\"Starting Call Center Simulation\")\n",
        "random.seed(RANDOM_SEED)  # This helps reproducing the results\n",
        "\n",
        "# Create an environment and start the setup process\n",
        "env = simpy.Environment()\n",
        "env.process(setup(env, NUM_EMPLOYEES, SUPPORT_TIME, CUSTOMER_INTERVAL))\n",
        "\n",
        "# Execute!\n",
        "env.run(until=SIM_TIME)\n",
        "\n",
        "print(\"Customer handled: \" + str(customers_handled))\n"
      ],
      "metadata": {
        "colab": {
          "base_uri": "https://localhost:8080/"
        },
        "id": "WpLY1OSVfeys",
        "outputId": "f9b9bf34-e15a-4435-d0fd-30b318e489bd"
      },
      "execution_count": 17,
      "outputs": [
        {
          "output_type": "stream",
          "name": "stdout",
          "text": [
            "Starting Call Center Simulation\n",
            "Customer 1 enters waiting queue at 0.00!\n",
            "Customer 2 enters waiting queue at 0.00!\n",
            "Customer 3 enters waiting queue at 0.00!\n",
            "Customer 4 enters waiting queue at 0.00!\n",
            "Customer 5 enters waiting queue at 0.00!\n",
            "Customer 1 enters call at 0.00\n",
            "Customer 2 enters call at 0.00\n",
            "Support finished for 1 at 1.67\n",
            "Customer 1 left call at 1.67\n",
            "Customer 3 enters call at 1.67\n",
            "Customer 6 enters waiting queue at 2.00!\n",
            "Support finished for 2 at 2.37\n",
            "Customer 2 left call at 2.37\n",
            "Customer 4 enters call at 2.37\n",
            "Support finished for 3 at 4.39\n",
            "Customer 3 left call at 4.39\n",
            "Customer 5 enters call at 4.39\n",
            "Support finished for 4 at 4.65\n",
            "Customer 4 left call at 4.65\n",
            "Customer 6 enters call at 4.65\n",
            "Customer 7 enters waiting queue at 6.00!\n",
            "Support finished for 5 at 8.62\n",
            "Customer 5 left call at 8.62\n",
            "Customer 7 enters call at 8.62\n",
            "Customer 8 enters waiting queue at 9.00!\n",
            "Support finished for 6 at 10.38\n",
            "Customer 6 left call at 10.38\n",
            "Customer 8 enters call at 10.38\n",
            "Customer 9 enters waiting queue at 12.00!\n",
            "Customer 10 enters waiting queue at 15.00!\n",
            "Support finished for 8 at 15.28\n",
            "Customer 8 left call at 15.28\n",
            "Customer 9 enters call at 15.28\n",
            "Customer 11 enters waiting queue at 18.00!\n",
            "Customer 12 enters waiting queue at 20.00!\n",
            "Support finished for 9 at 21.20\n",
            "Customer 9 left call at 21.20\n",
            "Customer 10 enters call at 21.20\n",
            "Customer 13 enters waiting queue at 22.00!\n",
            "Support finished for 7 at 24.48\n",
            "Customer 7 left call at 24.48\n",
            "Customer 11 enters call at 24.48\n",
            "Support finished for 10 at 24.85\n",
            "Customer 10 left call at 24.85\n",
            "Customer 12 enters call at 24.85\n",
            "Customer 14 enters waiting queue at 26.00!\n",
            "Support finished for 11 at 28.41\n",
            "Customer 11 left call at 28.41\n",
            "Customer 13 enters call at 28.41\n",
            "Customer 15 enters waiting queue at 29.00!\n",
            "Support finished for 12 at 30.77\n",
            "Customer 12 left call at 30.77\n",
            "Customer 14 enters call at 30.77\n",
            "Customer 16 enters waiting queue at 32.00!\n",
            "Customer 17 enters waiting queue at 35.00!\n",
            "Customer 18 enters waiting queue at 37.00!\n",
            "Support finished for 13 at 38.81\n",
            "Customer 13 left call at 38.81\n",
            "Customer 15 enters call at 38.81\n",
            "Customer 19 enters waiting queue at 40.00!\n",
            "Support finished for 14 at 40.95\n",
            "Customer 14 left call at 40.95\n",
            "Customer 16 enters call at 40.95\n",
            "Support finished for 16 at 43.98\n",
            "Customer 16 left call at 43.98\n",
            "Customer 17 enters call at 43.98\n",
            "Customer 20 enters waiting queue at 44.00!\n",
            "Customer 21 enters waiting queue at 47.00!\n",
            "Support finished for 15 at 47.13\n",
            "Customer 15 left call at 47.13\n",
            "Customer 18 enters call at 47.13\n",
            "Support finished for 17 at 49.21\n",
            "Customer 17 left call at 49.21\n",
            "Customer 19 enters call at 49.21\n",
            "Customer 22 enters waiting queue at 51.00!\n",
            "Support finished for 19 at 54.06\n",
            "Customer 19 left call at 54.06\n",
            "Customer 20 enters call at 54.06\n",
            "Customer 23 enters waiting queue at 55.00!\n",
            "Customer 24 enters waiting queue at 57.00!\n",
            "Customer 25 enters waiting queue at 60.00!\n",
            "Support finished for 18 at 61.54\n",
            "Customer 18 left call at 61.54\n",
            "Customer 21 enters call at 61.54\n",
            "Support finished for 20 at 62.56\n",
            "Customer 20 left call at 62.56\n",
            "Customer 22 enters call at 62.56\n",
            "Customer 26 enters waiting queue at 64.00!\n",
            "Customer 27 enters waiting queue at 67.00!\n",
            "Support finished for 22 at 69.21\n",
            "Customer 22 left call at 69.21\n",
            "Customer 23 enters call at 69.21\n",
            "Customer 28 enters waiting queue at 70.00!\n",
            "Support finished for 23 at 72.68\n",
            "Customer 23 left call at 72.68\n",
            "Customer 24 enters call at 72.68\n",
            "Support finished for 21 at 73.35\n",
            "Customer 21 left call at 73.35\n",
            "Customer 25 enters call at 73.35\n",
            "Customer 29 enters waiting queue at 74.00!\n",
            "Customer 30 enters waiting queue at 78.00!\n",
            "Support finished for 24 at 78.63\n",
            "Customer 24 left call at 78.63\n",
            "Customer 26 enters call at 78.63\n",
            "Support finished for 25 at 80.00\n",
            "Customer 25 left call at 80.00\n",
            "Customer 27 enters call at 80.00\n",
            "Customer 31 enters waiting queue at 80.00!\n",
            "Customer 32 enters waiting queue at 83.00!\n",
            "Support finished for 26 at 83.76\n",
            "Customer 26 left call at 83.76\n",
            "Customer 28 enters call at 83.76\n",
            "Support finished for 28 at 84.24\n",
            "Customer 28 left call at 84.24\n",
            "Customer 29 enters call at 84.24\n",
            "Customer 33 enters waiting queue at 87.00!\n",
            "Support finished for 27 at 87.72\n",
            "Customer 27 left call at 87.72\n",
            "Customer 30 enters call at 87.72\n",
            "Support finished for 29 at 90.34\n",
            "Customer 29 left call at 90.34\n",
            "Customer 31 enters call at 90.34\n",
            "Support finished for 30 at 90.57\n",
            "Customer 30 left call at 90.57\n",
            "Customer 32 enters call at 90.57\n",
            "Customer 34 enters waiting queue at 91.00!\n",
            "Support finished for 31 at 92.15\n",
            "Customer 31 left call at 92.15\n",
            "Customer 33 enters call at 92.15\n",
            "Support finished for 32 at 93.28\n",
            "Customer 32 left call at 93.28\n",
            "Customer 34 enters call at 93.28\n",
            "Customer 35 enters waiting queue at 94.00!\n",
            "Support finished for 34 at 94.57\n",
            "Customer 34 left call at 94.57\n",
            "Customer 35 enters call at 94.57\n",
            "Customer 36 enters waiting queue at 96.00!\n",
            "Customer 37 enters waiting queue at 98.00!\n",
            "Customer 38 enters waiting queue at 100.00!\n",
            "Customer 39 enters waiting queue at 102.00!\n",
            "Support finished for 35 at 102.09\n",
            "Customer 35 left call at 102.09\n",
            "Customer 36 enters call at 102.09\n",
            "Support finished for 36 at 104.10\n",
            "Customer 36 left call at 104.10\n",
            "Customer 37 enters call at 104.10\n",
            "Customer 40 enters waiting queue at 106.00!\n",
            "Support finished for 33 at 107.73\n",
            "Customer 33 left call at 107.73\n",
            "Customer 38 enters call at 107.73\n",
            "Customer 41 enters waiting queue at 108.00!\n",
            "Customer 42 enters waiting queue at 110.00!\n",
            "Support finished for 38 at 111.89\n",
            "Customer 38 left call at 111.89\n",
            "Customer 39 enters call at 111.89\n",
            "Customer 43 enters waiting queue at 112.00!\n",
            "Support finished for 37 at 112.84\n",
            "Customer 37 left call at 112.84\n",
            "Customer 40 enters call at 112.84\n",
            "Support finished for 40 at 113.78\n",
            "Customer 40 left call at 113.78\n",
            "Customer 41 enters call at 113.78\n",
            "Customer 44 enters waiting queue at 115.00!\n",
            "Customer 45 enters waiting queue at 118.00!\n",
            "Customer handled: 39\n"
          ]
        }
      ]
    },
    {
      "cell_type": "code",
      "source": [
        "#Crear graficas de Tiempos de espera\n",
        "\n",
        "print(wait_times) #dataset tiempos de espera\n",
        "print('Tamaño: ',np.size(wait_times)) #tamaño muestra\n",
        "print('Media: ',np.mean(wait_times)) #media\n",
        "print('Sigma: ',np.std(wait_times)) #desv. std\n",
        "\n",
        "plt.hist(wait_times, bins=10, range= (0, 30))\n",
        "plt.ylabel('frecuencia')\n",
        "plt.xlabel('tiempos de espera en minutos')\n",
        "plt.title('Histograma')\n",
        "plt.show"
      ],
      "metadata": {
        "id": "azpOiFsAr28M",
        "colab": {
          "base_uri": "https://localhost:8080/",
          "height": 402
        },
        "outputId": "ec99ae2f-c496-4484-86f9-9cc5da1ef6f8"
      },
      "execution_count": 9,
      "outputs": [
        {
          "output_type": "stream",
          "name": "stdout",
          "text": [
            "[0, 0, 1.6669738037349224, 2.3682710445819395, 4.3918604357160405, 2.6457591885671228, 2.6209338172645857, 1.3820520852045277, 3.275514345690123, 6.204450932871264, 6.477547292191176, 4.848553219075477, 6.412410749895194, 4.770033934634064, 9.807264092125962, 8.945001390616106, 8.97529630198968, 10.125873262062605, 9.205022469359108, 10.060433654530662, 14.538181644707713, 11.558642091613294, 14.212933269829108, 15.676864472191482, 13.349603473928724, 14.626041323294174, 12.99633299167715, 13.760823091749373, 10.244659861776867, 9.724504601158628, 10.343945835903938, 7.566397143788123, 5.154253084930275, 2.277099080960795, 0.5653991537134999, 6.0930862677736854, 6.102602989085071, 7.729008403036843, 9.88783621691698, 6.841219249529516, 5.777286232185006]\n",
            "Tamaño:  41\n",
            "Media:  7.395365182923434\n",
            "Sigma:  4.350278296048656\n"
          ]
        },
        {
          "output_type": "execute_result",
          "data": {
            "text/plain": [
              "<function matplotlib.pyplot.show(*args, **kw)>"
            ]
          },
          "metadata": {},
          "execution_count": 9
        },
        {
          "output_type": "display_data",
          "data": {
            "text/plain": [
              "<Figure size 432x288 with 1 Axes>"
            ],
            "image/png": "[encoded data removed]"
          },
          "metadata": {
            "needs_background": "light"
          }
        }
      ]
    },
    {
      "cell_type": "code",
      "source": [
        "#Crear graficas de Tiempos totales de atención\n",
        "\n",
        "print(total_times) #dataset tiempos totales de atencion\n",
        "print('Tamaño: ',np.size(total_times)) #tamaño muestra\n",
        "print('Media: ',np.mean(total_times)) #media\n",
        "print('Sigma: ',np.std(total_times)) #desv. std\n",
        "\n",
        "plt.hist(total_times, bins=10, range= (0, 50))\n",
        "plt.ylabel('frecuencia')\n",
        "plt.xlabel('tiempos totales de atención en minutos')\n",
        "plt.title('Histograma')\n",
        "plt.show"
      ],
      "metadata": {
        "colab": {
          "base_uri": "https://localhost:8080/",
          "height": 403
        },
        "id": "8_ksvmyOIa9_",
        "outputId": "bb4e0b2e-74a6-4f7c-e060-1a38b1b8fb1e"
      },
      "execution_count": 10,
      "outputs": [
        {
          "output_type": "stream",
          "name": "stdout",
          "text": [
            "[1.6669738037349224, 2.3682710445819395, 4.3918604357160405, 4.645759188567123, 8.620933817264586, 8.382052085204528, 6.275514345690123, 9.204450932871264, 18.477547292191176, 9.848553219075477, 10.412410749895194, 10.770033934634064, 16.807264092125962, 14.945001390616106, 11.97529630198968, 18.125873262062605, 14.205022469359108, 14.060433654530662, 24.538181644707713, 18.558642091613294, 18.212933269829108, 17.676864472191482, 26.349603473928724, 21.626041323294174, 19.99633299167715, 19.760823091749373, 14.244659861776867, 20.72450460115863, 16.343945835903938, 12.566397143788123, 12.154253084930275, 10.277099080960795, 3.5653991537135, 8.093086267773685, 8.10260298908507, 20.729008403036843, 11.88783621691698, 14.841219249529516, 7.777286232185006]\n",
            "Tamaño:  39\n",
            "Media:  13.159230064098994\n",
            "Sigma:  6.106052020707774\n"
          ]
        },
        {
          "output_type": "execute_result",
          "data": {
            "text/plain": [
              "<function matplotlib.pyplot.show(*args, **kw)>"
            ]
          },
          "metadata": {},
          "execution_count": 10
        },
        {
          "output_type": "display_data",
          "data": {
            "text/plain": [
              "<Figure size 432x288 with 1 Axes>"
            ],
            "image/png": "[encoded data removed]"
          },
          "metadata": {
            "needs_background": "light"
          }
        }
      ]
    },
    {
      "cell_type": "code",
      "source": [
        "#Crear graficas de Tiempos de atención (solo el tiempo con ejecutivo)\n",
        "\n",
        "print(support_times) #dataset tiempos de atencion\n",
        "print('Tamaño: ',np.size(support_times)) #tamaño muestra\n",
        "print('Media: ',np.mean(support_times)) #media\n",
        "print('Sigma: ',np.std(support_times)) #desv. std\n",
        "\n",
        "plt.hist(support_times, bins=10, range= (0, 20))\n",
        "plt.ylabel('frecuencia')\n",
        "plt.xlabel('tiempos de atención en minutos')\n",
        "plt.title('Histograma')\n",
        "plt.show"
      ],
      "metadata": {
        "colab": {
          "base_uri": "https://localhost:8080/",
          "height": 403
        },
        "id": "rLOhl4fTJDOG",
        "outputId": "94bf748a-eced-41d9-9250-c7d54cd981d6"
      },
      "execution_count": 11,
      "outputs": [
        {
          "output_type": "stream",
          "name": "stdout",
          "text": [
            "[1.6669738037349224, 2.3682710445819395, 2.724886631981118, 2.2774881439851833, 4.229073381548545, 5.736292896637405, 4.893462260485595, 5.928936587181141, 15.85661347492659, 3.6441022862042125, 3.9348634577040187, 5.921480715558587, 10.394853342230768, 10.174967455982042, 3.0302949113735735, 8.318609169936643, 5.229726167369428, 4.855411185171555, 14.412308382645108, 8.498208437082631, 6.654291178215814, 3.4639312023623745, 11.811421829221011, 5.949176851102692, 6.646729517748426, 5.134781768455198, 0.48383677002749437, 7.728171609481478, 6.099285974127071, 2.8418925426294948, 1.8103072490263372, 2.710701937172672, 1.2883000727527048, 7.5276871140601855, 2.0095167213113854, 15.574755318106568, 4.158827813880137, 8.738616260444445, 0.9360669826554897]\n",
            "Tamaño:  39\n",
            "Media:  5.786285191002615\n",
            "Sigma:  3.8506332975511146\n"
          ]
        },
        {
          "output_type": "execute_result",
          "data": {
            "text/plain": [
              "<function matplotlib.pyplot.show(*args, **kw)>"
            ]
          },
          "metadata": {},
          "execution_count": 11
        },
        {
          "output_type": "display_data",
          "data": {
            "text/plain": [
              "<Figure size 432x288 with 1 Axes>"
            ],
            "image/png": "[encoded data removed]"
          },
          "metadata": {
            "needs_background": "light"
          }
        }
      ]
    },
    {
      "cell_type": "markdown",
      "source": [
        "### aquí tus preguntas para evaluar ajustes al modelo:\n",
        "\n",
        "* qué pasa sí ....\n",
        "* ..."
      ],
      "metadata": {
        "id": "l3ooDXRkfCHX"
      }
    }
  ]
}