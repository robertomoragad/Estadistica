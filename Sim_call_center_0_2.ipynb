{
  "nbformat": 4,
  "nbformat_minor": 0,
  "metadata": {
    "colab": {
      "provenance": [],
      "include_colab_link": true
    },
    "kernelspec": {
      "name": "python3",
      "display_name": "Python 3"
    },
    "language_info": {
      "name": "python"
    }
  },
  "cells": [
    {
      "cell_type": "markdown",
      "metadata": {
        "id": "view-in-github",
        "colab_type": "text"
      },
      "source": [
        "<a href=\"https://colab.research.google.com/github/robertomoragad/Estadistica/blob/master/Sim_call_center_0_2.ipynb\" target=\"_parent\"><img src=\"https://colab.research.google.com/assets/colab-badge.svg\" alt=\"Open In Colab\"/></a>"
      ]
    },
    {
      "cell_type": "code",
      "execution_count": 2,
      "metadata": {
        "colab": {
          "base_uri": "https://localhost:8080/"
        },
        "id": "UVz6uniOfVGO",
        "outputId": "9890ccb7-2a6c-458e-aed6-451a1823e056"
      },
      "outputs": [
        {
          "output_type": "stream",
          "name": "stdout",
          "text": [
            "Looking in indexes: https://pypi.org/simple, https://us-python.pkg.dev/colab-wheels/public/simple/\n",
            "Collecting simpy\n",
            "  Downloading simpy-4.0.1-py2.py3-none-any.whl (29 kB)\n",
            "Installing collected packages: simpy\n",
            "Successfully installed simpy-4.0.1\n"
          ]
        }
      ],
      "source": [
        "pip install simpy"
      ]
    },
    {
      "cell_type": "code",
      "source": [
        "#Cargamos librerias\n",
        "import random\n",
        "import simpy\n",
        "import numpy as np\n",
        "import matplotlib.pyplot as plt"
      ],
      "metadata": {
        "id": "GHZUHAMWfcLX"
      },
      "execution_count": 3,
      "outputs": []
    },
    {
      "cell_type": "markdown",
      "source": [
        "#Modelo de simulacion discreto para centros de atención de clientes\n",
        "\n",
        "En el presente notebook vamos a compartir un modelo muy sencillo de simulación estocástico, que nos permitirá evaluar y predicir el comportamiento de un centro de atención de clientes. Esto puede ser desde un call center, una tienda física o sucursal, un centro de atención online e incluso un backoffice.\n",
        "\n",
        "En este modelo existe una demanda de los clientes, por ejemplo para resolver una solicitud técnica o comercial, estos clientes arriban al sistema cada 3 minutos en promedio. Para considerar la variabilidad de este proceso de ingreso, hemos preparado una distribución uniforme con mínimo 2 y máximo 4 minutos.\n",
        "Estos clientes ingresan a una cola de atención, donde esperan hasta ser atendidos por un agente de soporte. \n",
        "\n",
        "El agente de soporte tarda en atender al cliente en promedio 5.25 minutos, para considerar la variabilidad de este proceso de atención, hemos preparado una distribución gamma con parámetros alpha= 2.5 y beta=2.1.\n",
        "\n",
        "Simularemos durante 120 minutos este sistema y mediremos los siguientes indicadores:\n",
        "\n",
        "* Cantidad de atenciones realizadas (volumen) en las 2 horas\n",
        "* Tiempos de espera en la cola promedio, más la distribución completa de  estos tiempos\n",
        "* Tiempo de atención/soprote promedio, más la distribución completa de  estos tiempos\n",
        "* Tiempo total de atención (la espera en cola + la atención con el agente) promedio, más la distribución completa de  estos tiempos.\n",
        "\n",
        "Luego de simular, podremos hacer experimentos que den respuestas a nuestras hipótesis. Por ejemplo: qué pasa si aumentamos en 1 o 2 la cantidad de agentes, y así un sinnúmero de ideas a evaluar.\n",
        "\n",
        "Nota: No olvidar que en un modelo estocástico se sugiere correr varias veces un intervalo de simulación, una sola réplica nos entregará un resultado muy pobre para nuestra toma de decisión.\n",
        "\n",
        "\n",
        "\n",
        "<img src='https://drive.google.com/uc?export=view&id=12HA05oxY27vpXLgJWTW4FTgD_oz3fska' width=\"1000\" align=\"center\" style=\"margin-right: 20px\"> \n",
        "<br>\n",
        "\n",
        "\n",
        "<p style=\"font-size:8pt\"> \n",
        "Imagen gentileza de: Roberto Moraga</p>"
      ],
      "metadata": {
        "id": "LLCs0BHgbOR-"
      }
    },
    {
      "cell_type": "code",
      "source": [
        "#Inicio\n",
        "\n",
        "#crear listas para almacenar datasets y su posterior análisis de resultados\n",
        "wait_times = [] #corresponde al tiempo transcurrido desde que el cliente ingresa a la cola de espera hasta que comienza la atención\n",
        "support_times = [] #corresponde al tiempo transcurrido desde que el cliente comienza la atención hasta que termina su atención\n",
        "total_times = [] #corresponde al tiempo transcurrido desde que el cliente ingresa a la cola de espera hasta que sale del call center\n",
        "\n",
        "RANDOM_SEED = 2 #fijar una semilla para correr 1 replica reproducible\n",
        "\n",
        "#Creamos parametros del modelo:\n",
        "NUM_EMPLOYEES = 2     # Number of employees in contact center\n",
        "#support time with gamma distribution\n",
        "alpha= 2.5\n",
        "beta= 2.1\n",
        "SUPPORT_TIME = alpha * beta  # Minutos promedio para atender a un cliente (soporte)\n",
        "AVG_CUSTOMER_HOUR = 20 #en promedio llegan 20 clientes por hora a la cola\n",
        "CUSTOMER_INTERVAL = 60/AVG_CUSTOMER_HOUR # Crea un cliente cada 3 minutos\n",
        "SIM_TIME = 120        # tiempo de simulación en minutos\n",
        "\n",
        "customers_handled = 0\n",
        "\n",
        "class CallCenter(object):\n",
        "#Un call center tiene un número limitado de agentes (empleados) para atender clientes en paralelo\n",
        "#Los clientes tienen esperar a uno de los agentes\n",
        "#Cuando un cliente consigue disponibilidad de un agente, comienza a ser atendido hasta que finaliza la atencion\n",
        "#este tiempo toma SUPPORT_TIME minutos\n",
        "\n",
        "    def __init__(self, env, num_employees, support_time):\n",
        "        self.env = env\n",
        "        self.staff = simpy.Resource(env, num_employees)\n",
        "        self.support_time = support_time\n",
        "\n",
        "    def support(self, customer):\n",
        "        #Los procesos de atención/soporte atienden a un cliente\n",
        "        #random_time = max(1, np.random.normal(self.support_time, STD_SUPPORT_TIME))\n",
        "        #random_time = np.random.gamma(alpha , beta)\n",
        "        random_time = random.gammavariate(alpha, beta)\n",
        "        yield self.env.timeout(random_time)\n",
        "        print(f\"Support finished for {customer} at {self.env.now:.2f}\")\n",
        "\n",
        "\n",
        "def customer(env, name, call_center):\n",
        "    #Los clientes (cada cliente tiene un nombre) arriban al CallCenter y necesitan ser atendidos\n",
        "    #Luego los clientes comienzan a ser atendidos por un Agente de soporte, esperan hasta\n",
        "    #que finaliza la atención, y luego dejan/salen del call center (para no volver de nuevo..)  \n",
        "    \n",
        "    arrival_time = env.now #guarda el minuto de llegada del cliente\n",
        "    global customers_handled\n",
        "    print(f\"Customer {name} enters waiting queue at {env.now:.2f}!\")\n",
        "    with call_center.staff.request() as request:\n",
        "        yield request\n",
        "        # Cliente se dirije a ser atendido por un agente\n",
        "        print(f\"Customer {name} enters call at {env.now:.2f}\")\n",
        "        start_support_time = env.now #guarda el minuto en que se inicia la atención del cliente \n",
        "        wait_times.append(env.now - arrival_time) #calcula el tiempo de espera en la cola\n",
        "        \n",
        "        yield env.process(call_center.support(name))\n",
        "        # Cliente sale/deja el CallCenter\n",
        "        print(f\"Customer {name} left call at {env.now:.2f}\")\n",
        "        customers_handled += 1       \n",
        "        support_times.append(env.now - start_support_time) #calcula el tiempo de atención\n",
        "        total_times.append(env.now - arrival_time) #calcula el tiempo total (espera + atención)\n",
        "\n",
        "\n",
        "def setup(env, num_employees, support_time, customer_interval):\n",
        "#Crea un Call Center, un número inicial de clientes y luego se mantendrá creando clientes cada \"CUSTOMER_INTERVAL\" minutos\n",
        "    #Crea el call center\n",
        "    call_center = CallCenter(env, num_employees, support_time)\n",
        "\n",
        "    #Crea 5 clientes iniciales\n",
        "    for i in range(1, 6):\n",
        "        env.process(customer(env, i, call_center))\n",
        "\n",
        "    #crea más clientes mientras la simulaciíon está corriendo\n",
        "    while True:\n",
        "        #yield env.timeout(random.randint(customer_interval - 1, customer_interval + 1 ))\n",
        "        yield env.timeout(random.uniform(customer_interval - 1, customer_interval + 1))\n",
        "        i += 1\n",
        "        env.process(customer(env, i, call_center))\n",
        "\n",
        "\n",
        "# Setup and start the simulation  \n",
        "print(\"Starting Call Center Simulation\")\n",
        "random.seed(RANDOM_SEED)  #esto nos ayudará a reproducir los resultados\n",
        "\n",
        "# Crea un environment e inicia el proceso setup\n",
        "env = simpy.Environment()\n",
        "env.process(setup(env, NUM_EMPLOYEES, SUPPORT_TIME, CUSTOMER_INTERVAL))\n",
        "\n",
        "# Execute!\n",
        "env.run(until=SIM_TIME)\n",
        "\n",
        "print(\"Customer handled: \" + str(customers_handled))\n"
      ],
      "metadata": {
        "colab": {
          "base_uri": "https://localhost:8080/"
        },
        "id": "WpLY1OSVfeys",
        "outputId": "b21c420b-7769-4607-9775-c4ecc8deab18"
      },
      "execution_count": 4,
      "outputs": [
        {
          "output_type": "stream",
          "name": "stdout",
          "text": [
            "Starting Call Center Simulation\n",
            "Customer 1 enters waiting queue at 0.00!\n",
            "Customer 2 enters waiting queue at 0.00!\n",
            "Customer 3 enters waiting queue at 0.00!\n",
            "Customer 4 enters waiting queue at 0.00!\n",
            "Customer 5 enters waiting queue at 0.00!\n",
            "Customer 1 enters call at 0.00\n",
            "Customer 2 enters call at 0.00\n",
            "Support finished for 1 at 1.60\n",
            "Customer 1 left call at 1.60\n",
            "Customer 3 enters call at 1.60\n",
            "Customer 6 enters waiting queue at 3.91!\n",
            "Support finished for 3 at 5.10\n",
            "Customer 3 left call at 5.10\n",
            "Customer 4 enters call at 5.10\n",
            "Customer 7 enters waiting queue at 7.13!\n",
            "Support finished for 2 at 8.77\n",
            "Customer 2 left call at 8.77\n",
            "Customer 5 enters call at 8.77\n",
            "Customer 8 enters waiting queue at 9.99!\n",
            "Support finished for 4 at 11.29\n",
            "Customer 4 left call at 11.29\n",
            "Customer 6 enters call at 11.29\n",
            "Support finished for 5 at 12.99\n",
            "Customer 5 left call at 12.99\n",
            "Customer 7 enters call at 12.99\n",
            "Customer 9 enters waiting queue at 13.98!\n",
            "Support finished for 6 at 15.99\n",
            "Customer 6 left call at 15.99\n",
            "Customer 8 enters call at 15.99\n",
            "Customer 10 enters waiting queue at 16.74!\n",
            "Support finished for 7 at 17.89\n",
            "Customer 7 left call at 17.89\n",
            "Customer 9 enters call at 17.89\n",
            "Customer 11 enters waiting queue at 18.78!\n",
            "Support finished for 9 at 21.53\n",
            "Customer 9 left call at 21.53\n",
            "Customer 10 enters call at 21.53\n",
            "Customer 12 enters waiting queue at 21.80!\n",
            "Support finished for 8 at 21.92\n",
            "Customer 8 left call at 21.92\n",
            "Customer 11 enters call at 21.92\n",
            "Support finished for 10 at 24.01\n",
            "Customer 10 left call at 24.01\n",
            "Customer 12 enters call at 24.01\n",
            "Customer 13 enters waiting queue at 25.40!\n",
            "Customer 14 enters waiting queue at 28.11!\n",
            "Support finished for 11 at 30.65\n",
            "Customer 11 left call at 30.65\n",
            "Customer 13 enters call at 30.65\n",
            "Customer 15 enters waiting queue at 32.07!\n",
            "Support finished for 12 at 33.42\n",
            "Customer 12 left call at 33.42\n",
            "Customer 14 enters call at 33.42\n",
            "Customer 16 enters waiting queue at 34.99!\n",
            "Customer 17 enters waiting queue at 38.84!\n",
            "Support finished for 14 at 39.00\n",
            "Customer 14 left call at 39.00\n",
            "Customer 15 enters call at 39.00\n",
            "Support finished for 13 at 39.84\n",
            "Customer 13 left call at 39.84\n",
            "Customer 16 enters call at 39.84\n",
            "Customer 18 enters waiting queue at 41.84!\n",
            "Support finished for 16 at 44.69\n",
            "Customer 16 left call at 44.69\n",
            "Customer 17 enters call at 44.69\n",
            "Customer 19 enters waiting queue at 45.68!\n",
            "Customer 20 enters waiting queue at 48.13!\n",
            "Customer 21 enters waiting queue at 50.78!\n",
            "Support finished for 17 at 53.19\n",
            "Customer 17 left call at 53.19\n",
            "Customer 18 enters call at 53.19\n",
            "Support finished for 15 at 53.42\n",
            "Customer 15 left call at 53.42\n",
            "Customer 19 enters call at 53.42\n",
            "Customer 22 enters waiting queue at 54.17!\n",
            "Support finished for 18 at 55.53\n",
            "Customer 18 left call at 55.53\n",
            "Customer 20 enters call at 55.53\n",
            "Support finished for 19 at 56.59\n",
            "Customer 19 left call at 56.59\n",
            "Customer 21 enters call at 56.59\n",
            "Customer 23 enters waiting queue at 56.79!\n",
            "Customer 24 enters waiting queue at 59.42!\n",
            "Support finished for 20 at 60.83\n",
            "Customer 20 left call at 60.83\n",
            "Customer 22 enters call at 60.83\n",
            "Customer 25 enters waiting queue at 61.83!\n",
            "Support finished for 21 at 63.77\n",
            "Customer 21 left call at 63.77\n",
            "Customer 23 enters call at 63.77\n",
            "Customer 26 enters waiting queue at 65.08!\n",
            "Support finished for 23 at 65.27\n",
            "Customer 23 left call at 65.27\n",
            "Customer 24 enters call at 65.27\n",
            "Support finished for 22 at 66.20\n",
            "Customer 22 left call at 66.20\n",
            "Customer 25 enters call at 66.20\n",
            "Customer 27 enters waiting queue at 68.53!\n",
            "Support finished for 25 at 69.05\n",
            "Customer 25 left call at 69.05\n",
            "Customer 26 enters call at 69.05\n",
            "Customer 28 enters waiting queue at 70.74!\n",
            "Support finished for 24 at 72.47\n",
            "Customer 24 left call at 72.47\n",
            "Customer 27 enters call at 72.47\n",
            "Customer 29 enters waiting queue at 73.23!\n",
            "Support finished for 26 at 74.54\n",
            "Customer 26 left call at 74.54\n",
            "Customer 28 enters call at 74.54\n",
            "Support finished for 27 at 75.18\n",
            "Customer 27 left call at 75.18\n",
            "Customer 29 enters call at 75.18\n",
            "Customer 30 enters waiting queue at 76.08!\n",
            "Support finished for 28 at 78.49\n",
            "Customer 28 left call at 78.49\n",
            "Customer 30 enters call at 78.49\n",
            "Support finished for 30 at 79.34\n",
            "Customer 30 left call at 79.34\n",
            "Customer 31 enters waiting queue at 79.99!\n",
            "Customer 31 enters call at 79.99\n",
            "Customer 32 enters waiting queue at 82.03!\n",
            "Support finished for 29 at 82.71\n",
            "Customer 29 left call at 82.71\n",
            "Customer 32 enters call at 82.71\n",
            "Support finished for 31 at 83.07\n",
            "Customer 31 left call at 83.07\n",
            "Customer 33 enters waiting queue at 84.35!\n",
            "Customer 33 enters call at 84.35\n",
            "Support finished for 32 at 85.20\n",
            "Customer 32 left call at 85.20\n",
            "Support finished for 33 at 85.46\n",
            "Customer 33 left call at 85.46\n",
            "Customer 34 enters waiting queue at 87.12!\n",
            "Customer 34 enters call at 87.12\n",
            "Support finished for 34 at 88.13\n",
            "Customer 34 left call at 88.13\n",
            "Customer 35 enters waiting queue at 89.42!\n",
            "Customer 35 enters call at 89.42\n",
            "Customer 36 enters waiting queue at 92.65!\n",
            "Customer 36 enters call at 92.65\n",
            "Support finished for 35 at 93.16\n",
            "Customer 35 left call at 93.16\n",
            "Customer 37 enters waiting queue at 95.55!\n",
            "Customer 37 enters call at 95.55\n",
            "Customer 38 enters waiting queue at 99.35!\n",
            "Support finished for 36 at 102.15\n",
            "Customer 36 left call at 102.15\n",
            "Customer 38 enters call at 102.15\n",
            "Customer 39 enters waiting queue at 102.76!\n",
            "Support finished for 37 at 104.78\n",
            "Customer 37 left call at 104.78\n",
            "Customer 39 enters call at 104.78\n",
            "Customer 40 enters waiting queue at 106.08!\n",
            "Support finished for 38 at 107.12\n",
            "Customer 38 left call at 107.12\n",
            "Customer 40 enters call at 107.12\n",
            "Support finished for 39 at 108.35\n",
            "Customer 39 left call at 108.35\n",
            "Customer 41 enters waiting queue at 108.98!\n",
            "Customer 41 enters call at 108.98\n",
            "Support finished for 41 at 111.13\n",
            "Customer 41 left call at 111.13\n",
            "Customer 42 enters waiting queue at 112.01!\n",
            "Customer 42 enters call at 112.01\n",
            "Support finished for 40 at 113.35\n",
            "Customer 40 left call at 113.35\n",
            "Customer 43 enters waiting queue at 114.53!\n",
            "Customer 43 enters call at 114.53\n",
            "Customer 44 enters waiting queue at 116.56!\n",
            "Support finished for 42 at 118.52\n",
            "Customer 42 left call at 118.52\n",
            "Customer 44 enters call at 118.52\n",
            "Customer 45 enters waiting queue at 118.68!\n",
            "Support finished for 44 at 119.50\n",
            "Customer 44 left call at 119.50\n",
            "Customer 45 enters call at 119.50\n",
            "Customer handled: 43\n"
          ]
        }
      ]
    },
    {
      "cell_type": "code",
      "source": [
        "#Crear graficas de Tiempos de espera\n",
        "\n",
        "print(wait_times) #dataset tiempos de espera\n",
        "print('Tamaño: ',np.size(wait_times)) #tamaño muestra\n",
        "print('Media: ',np.mean(wait_times)) #media\n",
        "print('Sigma: ',np.std(wait_times)) #desv. std\n",
        "\n",
        "plt.hist(wait_times, bins=10, range= (0, 30))\n",
        "plt.ylabel('frecuencia')\n",
        "plt.xlabel('tiempos de espera en minutos')\n",
        "plt.title('Histograma')\n",
        "plt.show()"
      ],
      "metadata": {
        "id": "azpOiFsAr28M",
        "colab": {
          "base_uri": "https://localhost:8080/",
          "height": 386
        },
        "outputId": "13628c8d-097f-4fc6-b760-714cb2814f3c"
      },
      "execution_count": 5,
      "outputs": [
        {
          "output_type": "stream",
          "name": "stdout",
          "text": [
            "[0, 0, 1.598823732860909, 5.10247298760057, 8.765217743622761, 7.375157351677558, 5.86861911411113, 5.999854823666787, 3.9111029681147027, 4.795175410517487, 3.1314062828654556, 2.202095870725575, 5.247423510519852, 5.317944338812239, 6.935017509030786, 4.846494081384485, 5.852241122366898, 11.348767434188218, 7.732505348357627, 7.407308210305054, 5.817325332504851, 6.653634196717782, 6.975895712521115, 5.851171399454813, 4.371565541694913, 3.96692791087267, 3.9376419887380507, 3.792799382883402, 1.9461480046816462, 2.414962572820258, 0.0, 0.6765857518246179, 0.0, 0.0, 0.0, 0.0, 0.0, 2.7965913807929894, 2.017949086285668, 1.035801848182345, 0.0, 0.0, 0.0, 1.9578006618424126, 0.822506333265423]\n",
            "Tamaño:  45\n",
            "Media:  3.521620776573579\n",
            "Sigma:  2.919360224345057\n"
          ]
        },
        {
          "output_type": "display_data",
          "data": {
            "text/plain": [
              "<Figure size 432x288 with 1 Axes>"
            ],
            "image/png": "[encoded data removed]"
          },
          "metadata": {
            "needs_background": "light"
          }
        }
      ]
    },
    {
      "cell_type": "code",
      "source": [
        "#Crear graficas de Tiempos de atención (solo el tiempo con ejecutivo)\n",
        "\n",
        "print(support_times) #dataset tiempos de atencion\n",
        "print('Tamaño: ',np.size(support_times)) #tamaño muestra\n",
        "print('Media: ',np.mean(support_times)) #media\n",
        "print('Sigma: ',np.std(support_times)) #desv. std\n",
        "\n",
        "plt.hist(support_times, bins=10, range= (0, 20))\n",
        "plt.ylabel('frecuencia')\n",
        "plt.xlabel('tiempos de atención en minutos')\n",
        "plt.title('Histograma')\n",
        "plt.show()"
      ],
      "metadata": {
        "colab": {
          "base_uri": "https://localhost:8080/",
          "height": 387
        },
        "id": "rLOhl4fTJDOG",
        "outputId": "981f7da2-c4f0-4660-c90c-d98255e27f4a"
      },
      "execution_count": 9,
      "outputs": [
        {
          "output_type": "stream",
          "name": "stdout",
          "text": [
            "[1.598823732860909, 3.5036492547396607, 8.765217743622761, 6.184752907855487, 4.2290733815485435, 4.699640219853443, 4.893462260485595, 3.644102286204209, 5.928936587181141, 2.4750843101640534, 8.729984762172077, 9.416942266613152, 5.5790263163628, 9.191411068176052, 4.855411185171555, 8.498208437082631, 14.412308382645108, 2.342823676482716, 3.1777764936670394, 5.294803750091006, 7.176839906055669, 1.498964336035698, 5.376383193053904, 2.8418925426294948, 7.200536286765427, 5.490302012256379, 2.710701937172672, 3.957662442654282, 0.8465984847537698, 7.527687114060171, 3.077083700241161, 2.4908362525228256, 1.1150275453618974, 1.018472117435607, 3.744770598298274, 9.497938222477643, 9.23267968308727, 4.971557744804912, 3.5709359502720446, 2.1518059067565076, 6.232661825662646, 6.512059946596665, 0.9782676630694027]\n",
            "Tamaño:  43\n",
            "Media:  5.03821173104661\n",
            "Sigma:  2.9309202832681316\n"
          ]
        },
        {
          "output_type": "display_data",
          "data": {
            "text/plain": [
              "<Figure size 432x288 with 1 Axes>"
            ],
            "image/png": "[encoded data removed]"
          },
          "metadata": {
            "needs_background": "light"
          }
        }
      ]
    },
    {
      "cell_type": "code",
      "source": [
        "#Crear graficas de Tiempos totales de atención (espera + atención)\n",
        "\n",
        "print(total_times) #dataset tiempos totales de atencion\n",
        "print('Tamaño: ',np.size(total_times)) #tamaño muestra\n",
        "print('Media: ',np.mean(total_times)) #media\n",
        "print('Sigma: ',np.std(total_times)) #desv. std\n",
        "\n",
        "plt.hist(total_times, bins=10, range= (0, 40))\n",
        "plt.ylabel('frecuencia')\n",
        "plt.xlabel('tiempos totales de atención en minutos')\n",
        "plt.title('Histograma')\n",
        "plt.show()"
      ],
      "metadata": {
        "colab": {
          "base_uri": "https://localhost:8080/",
          "height": 387
        },
        "id": "8_ksvmyOIa9_",
        "outputId": "225a037c-305b-4e50-c316-687addb77d01"
      },
      "execution_count": 10,
      "outputs": [
        {
          "output_type": "stream",
          "name": "stdout",
          "text": [
            "[1.598823732860909, 5.10247298760057, 8.765217743622761, 11.287225895456057, 12.994291125171305, 12.074797571531, 10.762081374596725, 7.555205254318912, 11.928791410847928, 7.2702597206815405, 11.861391045037532, 11.619038137338727, 10.89697065517504, 14.438834578695904, 9.70190526655604, 14.35044955944953, 21.347325891675894, 13.691591110670934, 10.910281842024666, 12.70211196039606, 12.99416523856052, 8.474860048556813, 12.030017389771686, 7.213458084324408, 13.05170768622024, 9.457229923129049, 6.648343925910723, 7.750461825537684, 3.2615610575740277, 9.473835118741817, 3.077083700241161, 3.1674220043474435, 1.1150275453618974, 1.018472117435607, 3.744770598298274, 9.497938222477643, 9.23267968308727, 7.768149125597901, 5.588885036557713, 2.1518059067565076, 7.268463673844991, 6.512059946596665, 2.9360683249118154]\n",
            "Tamaño:  43\n",
            "Media:  8.704500768547671\n",
            "Sigma:  4.3058094542354235\n"
          ]
        },
        {
          "output_type": "display_data",
          "data": {
            "text/plain": [
              "<Figure size 432x288 with 1 Axes>"
            ],
            "image/png": "[encoded data removed]"
          },
          "metadata": {
            "needs_background": "light"
          }
        }
      ]
    },
    {
      "cell_type": "code",
      "source": [
        "utilizacion = sum(support_times) / (NUM_EMPLOYEES * SIM_TIME)\n",
        "print(\"Utilización del sistema: \", utilizacion)"
      ],
      "metadata": {
        "colab": {
          "base_uri": "https://localhost:8080/"
        },
        "id": "6SMmHlKoCwMM",
        "outputId": "f503c137-efa9-493f-b295-e0dd85784fd3"
      },
      "execution_count": 8,
      "outputs": [
        {
          "output_type": "stream",
          "name": "stdout",
          "text": [
            "Utilización del sistema:  0.9026796018125179\n"
          ]
        }
      ]
    },
    {
      "cell_type": "markdown",
      "source": [
        "### aquí tus preguntas para evaluar ajustes al modelo:\n",
        "\n",
        "* qué pasa sí ....\n",
        "* ..."
      ],
      "metadata": {
        "id": "l3ooDXRkfCHX"
      }
    }
  ]
}