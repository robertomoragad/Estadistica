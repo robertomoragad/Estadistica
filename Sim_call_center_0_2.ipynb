{
  "nbformat": 4,
  "nbformat_minor": 0,
  "metadata": {
    "colab": {
      "provenance": [],
      "include_colab_link": true
    },
    "kernelspec": {
      "name": "python3",
      "display_name": "Python 3"
    },
    "language_info": {
      "name": "python"
    }
  },
  "cells": [
    {
      "cell_type": "markdown",
      "metadata": {
        "id": "view-in-github",
        "colab_type": "text"
      },
      "source": [
        "<a href=\"https://colab.research.google.com/github/robertomoragad/Estadistica/blob/master/Sim_call_center_0_2.ipynb\" target=\"_parent\"><img src=\"https://colab.research.google.com/assets/colab-badge.svg\" alt=\"Open In Colab\"/></a>"
      ]
    },
    {
      "cell_type": "code",
      "execution_count": null,
      "metadata": {
        "colab": {
          "base_uri": "https://localhost:8080/"
        },
        "id": "UVz6uniOfVGO",
        "outputId": "30049ec2-a83d-4371-e243-1ad22fcccd4b"
      },
      "outputs": [
        {
          "output_type": "stream",
          "name": "stdout",
          "text": [
            "Looking in indexes: https://pypi.org/simple, https://us-python.pkg.dev/colab-wheels/public/simple/\n",
            "Requirement already satisfied: simpy in /usr/local/lib/python3.8/dist-packages (4.0.1)\n"
          ]
        }
      ],
      "source": [
        "pip install simpy"
      ]
    },
    {
      "cell_type": "code",
      "source": [
        "#Cargamos librerias\n",
        "\n",
        "import random\n",
        "import simpy\n",
        "import numpy as np\n",
        "import matplotlib.pyplot as plt"
      ],
      "metadata": {
        "id": "GHZUHAMWfcLX"
      },
      "execution_count": null,
      "outputs": []
    },
    {
      "cell_type": "markdown",
      "source": [
        "#Modelo de simulacion discreto para centros de atención de clientes\n",
        "\n",
        "En el presente notebook vamos a compartir un modelo muy sencillo de simulación estocástico, que nos permitirá evaluar y predicir el comportamiento de un centro de atención de clientes. Esto puede ser desde un call center, una tienda física o sucursal, un centro de atención online e incluso un backoffice.\n",
        "\n",
        "En este modelo existe una demanda de los clientes, por ejemplo para resolver una solicitud técnica o comercial, estos clientes arriban al sistema cada 3 minutos en promedio. Para considerar la variabilidad de este proceso de ingreso, hemos preparado una distribución uniforme con mínimo 2 y máximo 4 minutos.\n",
        "Estos clientes ingresan a una cola de atención, donde esperan hasta ser atendidos por un agente de soporte. \n",
        "\n",
        "El agente de soporte tarda en atender al cliente en promedio 5.25 minutos, para considerar la variabilidad de este proceso de atención, hemos preparado una distribución gamma con parámetros alpha= 2.5 y beta=2.1.\n",
        "\n",
        "Simularemos durante 120 minutos este sistema y mediremos los siguientes indicadores:\n",
        "\n",
        "* Cantidad de atenciones realizadas (volumen) en las 2 horas\n",
        "* Tiempos de espera en la cola promedio, más la distribución completa de  estos tiempos\n",
        "* Tiempo de atención/soprote promedio, más la distribución completa de  estos tiempos\n",
        "* Tiempo total de atención (la espera en cola + la atención con el agente) promedio, más la distribución completa de  estos tiempos.\n",
        "\n",
        "Luego de simular, podremos hacer experimentos que den respuestas a nuestras hipótesis. Por ejemplo: qué pasa si aumentamos en 1 o 2 la cantidad de agentes, y así un sinnúmero de ideas a evaluar.\n",
        "\n",
        "Nota: No olvidar que en un modelo estocástico se sugiere correr varias veces un intervalo de simulación, una sola réplica nos entregará un resultado muy pobre para nuestra toma de decisión.\n",
        "\n",
        "\n",
        "\n",
        "<img src='https://drive.google.com/uc?export=view&id=12HA05oxY27vpXLgJWTW4FTgD_oz3fska' width=\"1000\" align=\"center\" style=\"margin-right: 20px\"> \n",
        "<br>\n",
        "\n",
        "\n",
        "<p style=\"font-size:8pt\"> \n",
        "Imagen gentileza de: Roberto Moraga</p>"
      ],
      "metadata": {
        "id": "LLCs0BHgbOR-"
      }
    },
    {
      "cell_type": "code",
      "source": [
        "#Inicio\n",
        "#crear listas para almacenar datasets\n",
        "wait_times = [] #corresponde al tiempo transcurrido desde que el cliente ingresa a la cola de espera hasta que comienza la atención\n",
        "support_times = [] #corresponde al tiempo transcurrido desde que el cliente comienza la atención hasta que termina su atención\n",
        "total_times = [] #corresponde al tiempo transcurrido desde que el cliente ingresa a la cola de espera hasta que sale del call center\n",
        "\n",
        "#RANDOM_SEED = 42\n",
        "\n",
        "#Creamos parametros\n",
        "NUM_EMPLOYEES = 2     # Number of employees in contact center\n",
        "#support times\n",
        "alpha= 2.5\n",
        "beta= 2.1\n",
        "AVG_SUPPORT_TIME = alpha * beta  # Minutes it takes to support a customer\n",
        "CUSTOMER_INTERVAL = 3 # Create a customer every ~X minutes\n",
        "SIM_TIME = 120        # Simulation time in minutes\n",
        "\n",
        "customers_handled = 0\n",
        "\n",
        "class CallCenter(object):\n",
        "#A call center has a limited number\n",
        "\n",
        "    def __init__(self, env, num_employees, support_time):\n",
        "        self.env = env\n",
        "        self.staff = simpy.Resource(env, num_employees)\n",
        "        self.support_time = support_time\n",
        "\n",
        "    def support(self, customer):\n",
        "        #random_time = max(1, np.random.normal(self.support_time, STD_SUPPORT_TIME))\n",
        "        random_time = np.random.gamma(alpha , beta)\n",
        "        yield self.env.timeout(random_time)\n",
        "        print(f\"Support finished for {customer} at {self.env.now:.2f}\")\n",
        "\n",
        "\n",
        "\n",
        "def customer(env, name, call_center):\n",
        "    # Customer arrives at the Queue\n",
        "    arrival_time = env.now\n",
        "\n",
        "    global customers_handled\n",
        "    print(f\"Customer {name} enters waiting queue at {env.now:.2f}!\")\n",
        "    with call_center.staff.request() as request:\n",
        "        yield request\n",
        "        print(f\"Customer {name} enters call at {env.now:.2f}\")\n",
        "        start_support_time = env.now\n",
        "        # Customer heads into the CallCenter\n",
        "        wait_times.append(env.now - arrival_time)\n",
        "\n",
        "        yield env.process(call_center.support(name))\n",
        "        print(f\"Customer {name} left call at {env.now:.2f}\")\n",
        "        customers_handled += 1\n",
        "\n",
        "        # Customer left the CallCenter\n",
        "        support_times.append(env.now - start_support_time)\n",
        "\n",
        "        # Customer left the CallCenter\n",
        "        total_times.append(env.now - arrival_time)\n",
        "\n",
        "\n",
        "def setup(env, num_employees, support_time, customer_interval):\n",
        "    call_center = CallCenter(env, num_employees, support_time)\n",
        "\n",
        "    for i in range(1, 6):\n",
        "        env.process(customer(env, i, call_center))\n",
        "\n",
        "    while True:\n",
        "        yield env.timeout(random.randint(customer_interval - 1, customer_interval + 1 ))\n",
        "        i += 1\n",
        "        env.process(customer(env, i, call_center))\n",
        "\n",
        "\n",
        "      \n",
        "print(\"Starting Call Center Simulation\")\n",
        "env = simpy.Environment()\n",
        "env.process(setup(env, NUM_EMPLOYEES, AVG_SUPPORT_TIME, CUSTOMER_INTERVAL))\n",
        "env.run(until=SIM_TIME)\n",
        "\n",
        "print(\"Customer handled: \" + str(customers_handled))\n"
      ],
      "metadata": {
        "colab": {
          "base_uri": "https://localhost:8080/"
        },
        "id": "WpLY1OSVfeys",
        "outputId": "6d57763e-977f-4ae1-e133-eee853f0dc87"
      },
      "execution_count": 26,
      "outputs": [
        {
          "output_type": "stream",
          "name": "stdout",
          "text": [
            "Starting Call Center Simulation\n",
            "Customer 1 enters waiting queue at 0.00!\n",
            "Customer 2 enters waiting queue at 0.00!\n",
            "Customer 3 enters waiting queue at 0.00!\n",
            "Customer 4 enters waiting queue at 0.00!\n",
            "Customer 5 enters waiting queue at 0.00!\n",
            "Customer 1 enters call at 0.00\n",
            "Customer 2 enters call at 0.00\n",
            "Support finished for 2 at 1.13\n",
            "Customer 2 left call at 1.13\n",
            "Customer 3 enters call at 1.13\n",
            "Customer 6 enters waiting queue at 4.00!\n",
            "Support finished for 3 at 4.83\n",
            "Customer 3 left call at 4.83\n",
            "Customer 4 enters call at 4.83\n",
            "Customer 7 enters waiting queue at 7.00!\n",
            "Support finished for 1 at 8.35\n",
            "Customer 1 left call at 8.35\n",
            "Customer 5 enters call at 8.35\n",
            "Support finished for 4 at 9.33\n",
            "Customer 4 left call at 9.33\n",
            "Customer 6 enters call at 9.33\n",
            "Customer 8 enters waiting queue at 10.00!\n",
            "Support finished for 6 at 10.60\n",
            "Customer 6 left call at 10.60\n",
            "Customer 7 enters call at 10.60\n",
            "Customer 9 enters waiting queue at 12.00!\n",
            "Support finished for 5 at 13.81\n",
            "Customer 5 left call at 13.81\n",
            "Customer 8 enters call at 13.81\n",
            "Customer 10 enters waiting queue at 14.00!\n",
            "Support finished for 8 at 16.08\n",
            "Customer 8 left call at 16.08\n",
            "Customer 9 enters call at 16.08\n",
            "Customer 11 enters waiting queue at 17.00!\n",
            "Customer 12 enters waiting queue at 21.00!\n",
            "Customer 13 enters waiting queue at 23.00!\n",
            "Customer 14 enters waiting queue at 25.00!\n",
            "Support finished for 9 at 25.12\n",
            "Customer 9 left call at 25.12\n",
            "Customer 10 enters call at 25.12\n",
            "Support finished for 7 at 26.98\n",
            "Customer 7 left call at 26.98\n",
            "Customer 11 enters call at 26.98\n",
            "Support finished for 10 at 27.57\n",
            "Customer 10 left call at 27.57\n",
            "Customer 12 enters call at 27.57\n",
            "Customer 15 enters waiting queue at 29.00!\n",
            "Customer 16 enters waiting queue at 33.00!\n",
            "Support finished for 11 at 34.25\n",
            "Customer 11 left call at 34.25\n",
            "Customer 13 enters call at 34.25\n",
            "Support finished for 12 at 34.49\n",
            "Customer 12 left call at 34.49\n",
            "Customer 14 enters call at 34.49\n",
            "Customer 17 enters waiting queue at 35.00!\n",
            "Customer 18 enters waiting queue at 38.00!\n",
            "Support finished for 14 at 38.32\n",
            "Customer 14 left call at 38.32\n",
            "Customer 15 enters call at 38.32\n",
            "Support finished for 13 at 38.77\n",
            "Customer 13 left call at 38.77\n",
            "Customer 16 enters call at 38.77\n",
            "Support finished for 15 at 41.61\n",
            "Customer 15 left call at 41.61\n",
            "Customer 17 enters call at 41.61\n",
            "Customer 19 enters waiting queue at 42.00!\n",
            "Customer 20 enters waiting queue at 46.00!\n",
            "Support finished for 17 at 46.06\n",
            "Customer 17 left call at 46.06\n",
            "Customer 18 enters call at 46.06\n",
            "Support finished for 16 at 49.32\n",
            "Customer 16 left call at 49.32\n",
            "Customer 19 enters call at 49.32\n",
            "Customer 21 enters waiting queue at 50.00!\n",
            "Support finished for 18 at 50.80\n",
            "Customer 18 left call at 50.80\n",
            "Customer 20 enters call at 50.80\n",
            "Customer 22 enters waiting queue at 52.00!\n",
            "Support finished for 20 at 54.00\n",
            "Customer 20 left call at 54.00\n",
            "Customer 21 enters call at 54.00\n",
            "Support finished for 19 at 54.55\n",
            "Customer 19 left call at 54.55\n",
            "Customer 22 enters call at 54.55\n",
            "Customer 23 enters waiting queue at 56.00!\n",
            "Support finished for 22 at 57.43\n",
            "Customer 22 left call at 57.43\n",
            "Customer 23 enters call at 57.43\n",
            "Support finished for 23 at 58.78\n",
            "Customer 23 left call at 58.78\n",
            "Support finished for 21 at 59.97\n",
            "Customer 21 left call at 59.97\n",
            "Customer 24 enters waiting queue at 60.00!\n",
            "Customer 24 enters call at 60.00\n",
            "Customer 25 enters waiting queue at 62.00!\n",
            "Customer 25 enters call at 62.00\n",
            "Customer 26 enters waiting queue at 65.00!\n",
            "Support finished for 24 at 65.31\n",
            "Customer 24 left call at 65.31\n",
            "Customer 26 enters call at 65.31\n",
            "Customer 27 enters waiting queue at 68.00!\n",
            "Customer 28 enters waiting queue at 72.00!\n",
            "Support finished for 26 at 73.42\n",
            "Customer 26 left call at 73.42\n",
            "Customer 27 enters call at 73.42\n",
            "Support finished for 27 at 74.34\n",
            "Customer 27 left call at 74.34\n",
            "Customer 28 enters call at 74.34\n",
            "Customer 29 enters waiting queue at 76.00!\n",
            "Customer 30 enters waiting queue at 78.00!\n",
            "Customer 31 enters waiting queue at 80.00!\n",
            "Support finished for 28 at 80.50\n",
            "Customer 28 left call at 80.50\n",
            "Customer 29 enters call at 80.50\n",
            "Support finished for 25 at 82.47\n",
            "Customer 25 left call at 82.47\n",
            "Customer 30 enters call at 82.47\n",
            "Customer 32 enters waiting queue at 84.00!\n",
            "Support finished for 29 at 85.70\n",
            "Customer 29 left call at 85.70\n",
            "Customer 31 enters call at 85.70\n",
            "Customer 33 enters waiting queue at 87.00!\n",
            "Support finished for 30 at 87.98\n",
            "Customer 30 left call at 87.98\n",
            "Customer 32 enters call at 87.98\n",
            "Customer 34 enters waiting queue at 90.00!\n",
            "Support finished for 31 at 93.56\n",
            "Customer 31 left call at 93.56\n",
            "Customer 33 enters call at 93.56\n",
            "Customer 35 enters waiting queue at 94.00!\n",
            "Support finished for 32 at 96.05\n",
            "Customer 32 left call at 96.05\n",
            "Customer 34 enters call at 96.05\n",
            "Customer 36 enters waiting queue at 98.00!\n",
            "Support finished for 34 at 100.68\n",
            "Customer 34 left call at 100.68\n",
            "Customer 35 enters call at 100.68\n",
            "Support finished for 33 at 101.42\n",
            "Customer 33 left call at 101.42\n",
            "Customer 36 enters call at 101.42\n",
            "Customer 37 enters waiting queue at 102.00!\n",
            "Support finished for 36 at 102.72\n",
            "Customer 36 left call at 102.72\n",
            "Customer 37 enters call at 102.72\n",
            "Customer 38 enters waiting queue at 104.00!\n",
            "Support finished for 35 at 105.10\n",
            "Customer 35 left call at 105.10\n",
            "Customer 38 enters call at 105.10\n",
            "Customer 39 enters waiting queue at 106.00!\n",
            "Customer 40 enters waiting queue at 108.00!\n",
            "Support finished for 37 at 109.44\n",
            "Customer 37 left call at 109.44\n",
            "Customer 39 enters call at 109.44\n",
            "Customer 41 enters waiting queue at 110.00!\n",
            "Customer 42 enters waiting queue at 112.00!\n",
            "Customer 43 enters waiting queue at 115.00!\n",
            "Support finished for 38 at 115.76\n",
            "Customer 38 left call at 115.76\n",
            "Customer 40 enters call at 115.76\n",
            "Customer 44 enters waiting queue at 117.00!\n",
            "Customer 45 enters waiting queue at 119.00!\n",
            "Customer handled: 38\n"
          ]
        }
      ]
    },
    {
      "cell_type": "code",
      "source": [
        "#Crear graficas de Tiempos de espera\n",
        "\n",
        "print(wait_times) #dataset tiempos de espera\n",
        "print('Tamaño: ',np.size(wait_times)) #tamaño muestra\n",
        "print('Media: ',np.mean(wait_times)) #media\n",
        "print('Sigma: ',np.std(wait_times)) #desv. std\n",
        "\n",
        "plt.hist(wait_times, bins=10, range= (0, 30))\n",
        "plt.ylabel('frecuencia')\n",
        "plt.xlabel('tiempos de espera en minutos')\n",
        "plt.title('Histograma')\n",
        "plt.show"
      ],
      "metadata": {
        "id": "azpOiFsAr28M",
        "colab": {
          "base_uri": "https://localhost:8080/",
          "height": 402
        },
        "outputId": "29ccefb6-77b3-4ebb-ff57-458f8d2d0cb3"
      },
      "execution_count": 27,
      "outputs": [
        {
          "output_type": "stream",
          "name": "stdout",
          "text": [
            "[0, 0, 1.1317505182270342, 4.831748005285337, 8.3467758069108, 5.327663877964266, 3.601136793752417, 3.8138654417029016, 4.080317423038107, 11.123719275148975, 9.983470801059319, 6.567154380076779, 11.245887307972822, 9.485968027648198, 9.3209131124988, 5.771231900265832, 6.613577920961923, 8.062698112602448, 7.323124058563813, 4.801615618347263, 4.004408745508208, 2.5546584070652045, 1.428702772257381, 0, 0, 0.31082617791925315, 5.423748693483077, 2.336847704807198, 4.503860471911622, 4.467208930500092, 5.69609414430407, 3.978475251667845, 6.556739157531823, 6.0538028098267915, 6.680627390404979, 3.4209751237146264, 0.7165214878074977, 1.09641282805012, 3.4416209015296886, 7.759504337276596]\n",
            "Tamaño:  40\n",
            "Media:  4.796591342939828\n",
            "Sigma:  3.134446865366701\n"
          ]
        },
        {
          "output_type": "execute_result",
          "data": {
            "text/plain": [
              "<function matplotlib.pyplot.show(*args, **kw)>"
            ]
          },
          "metadata": {},
          "execution_count": 27
        },
        {
          "output_type": "display_data",
          "data": {
            "text/plain": [
              "<Figure size 432x288 with 1 Axes>"
            ],
            "image/png": "[encoded data removed]"
          },
          "metadata": {
            "needs_background": "light"
          }
        }
      ]
    },
    {
      "cell_type": "code",
      "source": [
        "#Crear graficas de Tiempos totales de atención\n",
        "\n",
        "print(total_times) #dataset tiempos totales de atencion\n",
        "print('Tamaño: ',np.size(total_times)) #tamaño muestra\n",
        "print('Media: ',np.mean(total_times)) #media\n",
        "print('Sigma: ',np.std(total_times)) #desv. std\n",
        "\n",
        "plt.hist(total_times, bins=10, range= (0, 50))\n",
        "plt.ylabel('frecuencia')\n",
        "plt.xlabel('tiempos totales de atención en minutos')\n",
        "plt.title('Histograma')\n",
        "plt.show"
      ],
      "metadata": {
        "colab": {
          "base_uri": "https://localhost:8080/",
          "height": 403
        },
        "id": "8_ksvmyOIa9_",
        "outputId": "5cb751ac-f538-4d41-a75a-48fb7bf0fd67"
      },
      "execution_count": 28,
      "outputs": [
        {
          "output_type": "stream",
          "name": "stdout",
          "text": [
            "[1.1317505182270342, 4.831748005285337, 8.3467758069108, 9.327663877964266, 6.601136793752417, 13.813865441702902, 6.080317423038107, 13.123719275148975, 19.98347080105932, 13.56715438007678, 17.245887307972822, 13.485968027648198, 13.3209131124988, 15.771231900265832, 12.613577920961923, 11.062698112602448, 16.323124058563813, 12.801615618347263, 8.004408745508208, 12.554658407065205, 5.428702772257381, 2.7801074728278152, 9.971260251532065, 5.310826177919253, 8.423748693483077, 6.336847704807198, 8.503860471911622, 20.467208930500092, 9.69609414430407, 9.978475251667845, 13.556739157531823, 12.053802809826792, 10.680627390404979, 14.420975123714626, 4.716521487807498, 11.09641282805012, 7.441620901529689, 11.759504337276596]\n",
            "Tamaño:  38\n",
            "Media:  10.59513214320929\n",
            "Sigma:  4.390275474053594\n"
          ]
        },
        {
          "output_type": "execute_result",
          "data": {
            "text/plain": [
              "<function matplotlib.pyplot.show(*args, **kw)>"
            ]
          },
          "metadata": {},
          "execution_count": 28
        },
        {
          "output_type": "display_data",
          "data": {
            "text/plain": [
              "<Figure size 432x288 with 1 Axes>"
            ],
            "image/png": "[encoded data removed]"
          },
          "metadata": {
            "needs_background": "light"
          }
        }
      ]
    },
    {
      "cell_type": "code",
      "source": [
        "#Crear graficas de Tiempos de atención (solo el tiempo con ejecutivo)\n",
        "\n",
        "print(support_times) #dataset tiempos de atencion\n",
        "print('Tamaño: ',np.size(support_times)) #tamaño muestra\n",
        "print('Media: ',np.mean(support_times)) #media\n",
        "print('Sigma: ',np.std(support_times)) #desv. std\n",
        "\n",
        "plt.hist(support_times, bins=10, range= (0, 20))\n",
        "plt.ylabel('frecuencia')\n",
        "plt.xlabel('tiempos de atención en minutos')\n",
        "plt.title('Histograma')\n",
        "plt.show"
      ],
      "metadata": {
        "colab": {
          "base_uri": "https://localhost:8080/",
          "height": 403
        },
        "id": "rLOhl4fTJDOG",
        "outputId": "64e65305-cbde-41bd-e970-34910f0c052d"
      },
      "execution_count": 29,
      "outputs": [
        {
          "output_type": "stream",
          "name": "stdout",
          "text": [
            "[1.1317505182270342, 3.699997487058303, 8.3467758069108, 4.495915872678929, 1.273472915788151, 5.467089634792101, 2.266451981335205, 9.043401852110868, 16.382334007306902, 2.4434351049278042, 7.262416506913503, 6.918813647571419, 3.8349450848506024, 4.52534459229301, 3.2926648084631225, 4.4491201916405245, 10.551892158297981, 4.738917505744816, 3.2027931271609447, 5.231534348501391, 2.8740443651921765, 1.3514047005704342, 5.966851506023858, 5.310826177919253, 8.112922515563824, 0.9130990113241211, 6.167012767104424, 20.467208930500092, 5.192233672392447, 5.511266321167753, 7.860645013227753, 8.075327558158946, 4.626824580578187, 7.864235966182804, 1.2955463640928713, 4.415785437645141, 6.725099413722191, 10.663091509226476]\n",
            "Tamaño:  38\n",
            "Media:  5.840855077978058\n",
            "Sigma:  3.921210512430136\n"
          ]
        },
        {
          "output_type": "execute_result",
          "data": {
            "text/plain": [
              "<function matplotlib.pyplot.show(*args, **kw)>"
            ]
          },
          "metadata": {},
          "execution_count": 29
        },
        {
          "output_type": "display_data",
          "data": {
            "text/plain": [
              "<Figure size 432x288 with 1 Axes>"
            ],
            "image/png": "[encoded data removed]"
          },
          "metadata": {
            "needs_background": "light"
          }
        }
      ]
    },
    {
      "cell_type": "markdown",
      "source": [
        "### aquí tus preguntas para evaluar ajustes al modelo:\n",
        "\n",
        "* qué pasa sí ....\n",
        "* ..."
      ],
      "metadata": {
        "id": "l3ooDXRkfCHX"
      }
    }
  ]
}