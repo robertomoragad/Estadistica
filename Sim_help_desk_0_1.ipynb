{
  "nbformat": 4,
  "nbformat_minor": 0,
  "metadata": {
    "colab": {
      "provenance": [],
      "toc_visible": true,
      "authorship_tag": "ABX9TyOoGFuvoITO1/CDaMTGoj8j",
      "include_colab_link": true
    },
    "kernelspec": {
      "name": "python3",
      "display_name": "Python 3"
    },
    "language_info": {
      "name": "python"
    },
    "accelerator": "TPU",
    "gpuClass": "standard"
  },
  "cells": [
    {
      "cell_type": "markdown",
      "metadata": {
        "id": "view-in-github",
        "colab_type": "text"
      },
      "source": [
        "<a href=\"https://colab.research.google.com/github/robertomoragad/Estadistica/blob/master/Sim_help_desk_0_1.ipynb\" target=\"_parent\"><img src=\"https://colab.research.google.com/assets/colab-badge.svg\" alt=\"Open In Colab\"/></a>"
      ]
    },
    {
      "cell_type": "markdown",
      "source": [
        "#Modelo de simulación discreta\n",
        "\n",
        "En el presente notebook vamos a compartir un modelo de simulación discreta que he desarrollado para representar la operación de un centro de ayuda, al cual le llamaremos **Help Desk**.\n",
        "\n",
        "El modelo es muy sencillo y puede ser ajustado para adaptarse perfectamente a otras realidades de procesos, servicios y negocios, como:\n",
        "\n",
        "* centro de atención de clientes\n",
        "* unidad de venta y activación de productos/servicios\n",
        "* equipos de desarrollo y explotación de software\n",
        "* atención médica / urgencias \n",
        "* línea de ensamble\n",
        "* otros.\n",
        "\n",
        "Una vez creado el modelo con la ayuda de python y el framework **SimPy**, procederemos a correr simulaciones de un escenario actual, con el propósito de conocer el rendimiento inicial del sistema Help Desk.  Luego procederemos a desarrollar distintos experimentos con el objetivo de buscar un escenario que satisfaga las necesidades de negocio que serán planteadas. Para tal efecto aplicaremos análisis estadístico que nos permita determinar la mejor solución."
      ],
      "metadata": {
        "id": "g5gCOHxIKXco"
      }
    },
    {
      "cell_type": "markdown",
      "source": [
        "**¿Qué es una simulación?**\n",
        "\n",
        "Es una representación de un sistema del mundo real. Podemos usar modelos matemáticos o computacionales para estudiar cómo funciona un sistema, o qué sucede cuando se cambian partes de él.\n",
        "Las simulaciones se utilizan en centros de antención, bancos, restaurantes, aeropuertos, mecánicos, hospitales y muchos otros sistemas donde la mala asignación de recursos y aqruitecturas de procesos y métodos, puede provocar congestión, insatisfacción del cliente y retrasos críticos con impacto en las personas y resultados de negocio."
      ],
      "metadata": {
        "id": "ggK4P-Tn0MtA"
      }
    },
    {
      "cell_type": "markdown",
      "source": [
        "##Procedemos a instalar SimPy y cargar las librerias\n",
        "\n",
        "**¿Qué es SimPy?**: \n",
        "Es un framework de simulación de eventos discretos basado en procesos, que está basado en Python estándar. SimPy se lanza como software de código abierto bajo la licencia MIT. La primera versión fue lanzada en diciembre de 2002."
      ],
      "metadata": {
        "id": "SUAZfjz9qMnK"
      }
    },
    {
      "cell_type": "code",
      "source": [
        "pip install simpy"
      ],
      "metadata": {
        "colab": {
          "base_uri": "https://localhost:8080/"
        },
        "id": "sGVxosOjaOG0",
        "outputId": "58b8013a-6e0b-4bfb-cdc9-4c1aa79d52b6"
      },
      "execution_count": null,
      "outputs": [
        {
          "output_type": "stream",
          "name": "stdout",
          "text": [
            "Looking in indexes: https://pypi.org/simple, https://us-python.pkg.dev/colab-wheels/public/simple/\n",
            "Requirement already satisfied: simpy in /usr/local/lib/python3.8/dist-packages (4.0.1)\n"
          ]
        }
      ]
    },
    {
      "cell_type": "code",
      "source": [
        "#Cargamos principales librerias para trabajar nuestro modelamiento\n",
        "import random\n",
        "import simpy\n",
        "import numpy as np\n",
        "import scipy.stats as stats\n",
        "import matplotlib.pyplot as plt"
      ],
      "metadata": {
        "id": "GHZUHAMWfcLX"
      },
      "execution_count": null,
      "outputs": []
    },
    {
      "cell_type": "markdown",
      "source": [
        "## Modelamiento del Help Desk\n",
        "\n",
        "Vamos a imaginar que trabajamos en un HelpDesk que tiene la misión de atender requerimientos de clientes.\n",
        "\n",
        "El servicio que vamos a modelar tiene la siguiente estructura secuencial de procesos:\n",
        "\n",
        "> Creación de Requerimiento >>  Proceso N°1  >>  Proceso N°2  >>  Fin\n",
        "\n",
        "<img src='https://drive.google.com/uc?export=view&id=1kdEGpORIMMtnP3Xl3bZQ-gYh7o44QAtE' width=\"1000\" align=\"center\" style=\"margin-right: 20px\"> \n",
        "<br>\n",
        "\n",
        "\n",
        "<p style=\"font-size:8pt\"> \n",
        "Imagen gentileza de: Roberto Moraga</p>\n"
      ],
      "metadata": {
        "id": "9y5rDJ5BQw5V"
      }
    },
    {
      "cell_type": "markdown",
      "source": [
        "\n",
        "###Creación de Requerimiento\n",
        "\n",
        "Por una parte tenemos clientes, quienes son los que crean tickets para solicitar una atención, a esto le llamaremos Requerimiento.\n",
        "\n",
        "Para considerar la variabilidad a este proceso de arribo de Requerimientos al sistema Help Desk, hemos estudiado la cantidad promedio de tickets que se crean por hora (durante el último mes) y esto nos da una media de 15.0 Tickets creados por hora (este parámetro se llama lambda en una distribución poisson).\n",
        "\n",
        "* λ = 15.0 (ticket / hora) = 0.25 (ticket / minuto)\n",
        "\n",
        "Con este parametro calcularemos el tiempo promedio entre llegadas de tickets al sistema, lo que nos da una media en minutos igual a 4.0 (minutos/ticket), es decir, en promedio un ticket arriba al sistema Help Desk cada 4 minutos. Incorporaremos una distribución exponencial a esta variable, tal como se aprecia en la imagen superior.\n",
        "\n",
        "* 1/λ = 1 / 0.25  = 4.0 minutos/ticket\n",
        "\n",
        "Una vez creado el ticket (Requerimiento) este es depositado en un Backlog único, al cual le llamaremos **Backlog #1**. En este lugar los tickets esperan hasta que exista disponibilidad de un Agente del proceso #1 para ser atendido.\n",
        "\n"
      ],
      "metadata": {
        "id": "Ae-GuDgBUjPf"
      }
    },
    {
      "cell_type": "markdown",
      "source": [
        "\n",
        "###Proceso N°1\n",
        "\n",
        "Este proceso corresponde a la primera parte del trabajo que debe ser desarrollado para atender y resolver por completo el Requerimiento.\n",
        "\n",
        "Este proceso es ejecutado por \"Agentes de proceso #1\", ellas son personas especializadas en esta etapa del servicio. Actualmente el sistema cuenta con **2** Agentes de proceso #1.\n",
        "\n",
        "Para incorporar la variabilidad que existe en este proceso #1, hemos estudiado el tiempo de ciclo de este proceso, el cual sigue una distribución Gamma, tal como se muestra en la imagen superior. Este proceso tiene una media de 17.9 minutos de duración.\n",
        "\n",
        "Una vez finalizada esta parte del servicio, el ticket queda en un segundo backlog único, al cual le llamaremos **Backlog #2**.  En este lugar los tickets esperan hasta que exista disponibilidad de un Agente del proceso #2 para ser atendido y finalizar por completo el trabajo requerido por los clientes."
      ],
      "metadata": {
        "id": "V_ieqAC1Uzft"
      }
    },
    {
      "cell_type": "markdown",
      "source": [
        "###Proceso N°2\n",
        "\n",
        "Este proceso corresponde a la segunda y última parte del trabajo que debe ser desarrollado para resolver por completo el Requerimiento.\n",
        "\n",
        "Este proceso es ejecutado por \"Agentes de proceso #2\", ellas son personas especializadas en esta etapa del servicio. Actualmente el sistema cuenta con **2** Agentes de proceso #2.\n",
        "\n",
        "Para incorporar la variabilidad que existe en este proceso #2, hemos estudiado el tiempo de ciclo de este proceso, el cual sigue una distribución Gamma, tal como se muestra en la imagen superior. Este proceso tiene una media de 24.5 minutos de duración.\n",
        "\n",
        "Una vez finalizada esta parte del servicio, el ticket queda resuelto y así se finaliza por completo el Requerimiento del cliente.\n",
        "\n"
      ],
      "metadata": {
        "id": "eeO63E64U1gG"
      }
    },
    {
      "cell_type": "markdown",
      "source": [
        "###Simulación y Respuestas\n",
        "\n",
        "El escenario que será simulado corresponde a la situación inicial del Help Desk. Este escenario cuenta con los siguientes parámetros:\n",
        "\n",
        "* Tasa de creación tickets: λ = 15 (ticket/hora)\n",
        "* Tiempo entre creación de tickets sigue distribución Exponencial con:\n",
        "  * 1/ λ = 4 minutos\n",
        "* Tiempo de proceso #1 sigue distribución Gamma con \n",
        "  * alpha = 9.0\n",
        "  * beta = 2.0\n",
        "* Tiempo de proceso #2 sigue distribución Gamma con \n",
        "  * alpha = 7.0\n",
        "  * beta = 3.5\n",
        "* Cantidad Agentes proceso N°1:   2 personas\n",
        "* Cantidad Agentes proceso N°2:   2 personas\n",
        "\n",
        "El tiempo de simulación será de 8 horas, ya que se necesita evaluar el rendimiento de un día de trabajo en el Help Desk.\n",
        "\n",
        "> 1 día laboral = 8 horas cronológicas\n",
        "\n",
        "Las respuestas del sistema que serán medidas son:\n",
        "* Cantidad de tickets creados en un día laboral\n",
        "* Cantidad de tickets resueltos en un día laboral\n",
        "* Nivel de atención de un día laboral. Correponde a la proporción de los tickets que fueron resueltos del total de tickets creados.\n",
        "* Leadtime end to end de un día laboral. Corresponde al tiempo promedio de duración de un ticket, desde que es creado por cliente hasta que este es resuelto.\n"
      ],
      "metadata": {
        "id": "hGfNpLNcVAWV"
      }
    },
    {
      "cell_type": "markdown",
      "source": [
        "##Creación del modelo en python con SimPy\n",
        "\n",
        "A continuación encontrarás el código que se ha desarrollado para simular el Help Desk propuesto."
      ],
      "metadata": {
        "id": "S_QlzT88Ykkw"
      }
    },
    {
      "cell_type": "code",
      "source": [
        "#Inicio\n",
        "\n",
        "#crear listas para almacenar datasets y su posterior análisis de resultados\n",
        "arrival_times = [] #corresponde al tiempo en que ingresa al Backlog el requerimiento\n",
        "wait_times_1 = [] #corresponde al tiempo transcurrido desde que el cliente ingresa un requerimiento (ticket) al HelpDesk hasta que lo comienza a trabajar un agente del proceso #1\n",
        "wait_times_2 = [] #corresponde al tiempo transcurrido desde que el agente del proceso #1 finaliza su parte, hasta el agente del proceso #2 comienza su etapa del trabajo\n",
        "support_times_1 = [] #corresponde al tiempo transcurrido desde que agente del proceso #1 comienza a trabajar el requerimiento hasta que finaliza su etapa del trabajo\n",
        "support_times_2 = [] #corresponde al tiempo transcurrido desde que agente del proceso #2 comienza a trabajar el requerimiento hasta que finaliza su etapa del trabajo\n",
        "total_times = [] #corresponde al tiempo transcurrido desde que el cliente ingresa un requerimiento (ticket) al HelpDesk hasta que es completamente resuelto\n",
        "\n",
        "RANDOM_SEED = 2 #fijar una semilla para correr 1 replica reproducible\n",
        "\n",
        "#Creamos parametros del modelo:\n",
        "NUM_EMPLOYEES_1 = 2     #Número de agentes en el proceso #1 del ciclo de trabajo\n",
        "NUM_EMPLOYEES_2 = 2    #Número de agentes en el proceso #2 del ciclo de trabajo\n",
        "\n",
        "#Tiempos de los 2 procesos secuenciales con gamma distribution\n",
        "# proceso #1\n",
        "alpha= 9.0\n",
        "beta= 2.0\n",
        "# proceso #2\n",
        "alpha_2 = 7.00\n",
        "beta_2= 3.50\n",
        "\n",
        "SUPPORT_TIME_1 = alpha * beta  #Minutos promedio para el trabajo del proceso #1\n",
        "SUPPORT_TIME_2 = alpha_2 * beta_2  #Minutos promedio para el trabajo del proceso #1\n",
        "AVG_CUSTOMER_HOUR = 15 #en promedio llegan X tickets por hora al backlog del HelpDesk (esto es el lambda de poisson)\n",
        "CUSTOMER_INTERVAL = 60/AVG_CUSTOMER_HOUR # Crea un cliente cada X minutos\n",
        "SIM_TIME = 60*8        # tiempo de simulación en minutos\n",
        "\n",
        "customers_handled = 0\n",
        "\n",
        "class HelpDesk(object):\n",
        "#Un Help Desk tiene un número limitado de agentes (empleados) para atender requerimientos de clientes\n",
        "#El ciclo de vida del Requerimiento consta de 2 procesos (etapas) secuenciales (proceso #1 y proceso #2)\n",
        "#Los clientes crean un Requerimiento, este ingresa a un Backlog donde debe esperar a uno de los agentes del primer proceso\n",
        "#Cuando un Requerimiento consigue disponibilidad de un agente del primer proceso, comienza a ser atendido requerimiento hasta que finaliza el proceso #1\n",
        "#Una vez finalizada la parte del primer proceso, el requerimiento entra al backlog del segundo proceso\n",
        "#Cuando un Requerimiento consigue disponibilidad de un agente del segundo proceso, comienza a ser atendido hasta que finaliza el proceso #2 y allí finaliza la atención\n",
        "\n",
        "    def __init__(self, env, num_employees_1, num_employees_2, support_time_1, support_time_2):\n",
        "        self.env = env\n",
        "        self.staff_1 = simpy.Resource(env, num_employees_1)\n",
        "        self.staff_2 = simpy.Resource(env, num_employees_2)\n",
        "        self.support_time_1 = support_time_1\n",
        "        self.support_time_2 = support_time_2\n",
        "\n",
        "    def support_1(self, customer):\n",
        "        #El proceso #1 trabaja en la primera parte del Requerimiento\n",
        "        random_time_1 = random.gammavariate(alpha, beta)\n",
        "        yield self.env.timeout(random_time_1)\n",
        "        print(f\"Proceso #1 finalizado para Cliente {customer} at {self.env.now:.2f}\")\n",
        "\n",
        "    def support_2(self, customer):\n",
        "        #El proceso #2 trabaja en la segunda parte del Requerimiento\n",
        "        random_time_2 = random.gammavariate(alpha_2, beta_2)\n",
        "        yield self.env.timeout(random_time_2)\n",
        "        print(f\"Proceso #2 finalizado para Cliente {customer} at {self.env.now:.2f}\")\n",
        "\n",
        "def customer(env, name, help_desk):\n",
        "    #Los clientes (cada cliente tiene un nombre) crean Requerimientos en el Help Desk y para ser resueltos por agentes\n",
        "    #Luego los Requerimiento de clientes comienzan a ser atendidos por un Agente del proceso #1, esperan hasta\n",
        "    #que finaliza la la primera parte del trabajo del proceso #1, luego el requerimiento ingresa al backlog del proceso #2\n",
        "    #El Requerimiento comienza a ser atendido por un Agente del proceso #2, los clientes esperan hasta que finaliza la segunda parte\n",
        "    #del trabajo del proceso #2, y luego el Requerimiento finaliza por completo, saliendo del Help Desk (para no volver de nuevo..)  \n",
        "    \n",
        "    arrival_time = env.now #guarda el minuto de creación del Requerimiento del cliente\n",
        "    arrival_times.append(arrival_time) #calcula el tiempo de que ingresa ticket al backlog\n",
        "    global customers_handled\n",
        "    print(f\"Cliente {name} ingresa requerimiento al Backlog #1 at {env.now:.2f}!\")\n",
        "    with help_desk.staff_1.request() as request:\n",
        "        yield request\n",
        "        # Cliente se dirije a ser atendido por un primer agente\n",
        "        print(f\"Cliente {name} comienza a ser atendido su requerimiento por el proceso #1 at {env.now:.2f}\")\n",
        "        start_support_time_1 = env.now #guarda el minuto en que se inicia la atención del cliente \n",
        "        wait_times_1.append(env.now - arrival_time) #calcula el tiempo de espera en la cola 1\n",
        "        \n",
        "        yield env.process(help_desk.support_1(name))\n",
        "        # Cliente sale del primer proceso\n",
        "        print(f\"Cliente {name} su requerimiento finaliza el proceso #1 at {env.now:.2f}\")\n",
        "        #customers_handled += 1       \n",
        "        support_times_1.append(env.now - start_support_time_1) #calcula el tiempo de atención del proceso #1\n",
        "\n",
        "    print(f\"Cliente {name} su requerimiento ingresa al Backlog #2 at {env.now:.2f}!\")\n",
        "    with help_desk.staff_2.request() as request:\n",
        "        yield request\n",
        "        # Cliente se dirije a ser atendido por un segundo agente\n",
        "        print(f\"Cliente {name} comienza a ser atendido su requerimiento por el proceso #2 at {env.now:.2f}\")\n",
        "        start_support_time_2 = env.now #guarda el minuto en que se inicia la atención del cliente \n",
        "        #wait_times_2.append(env.now - arrival_time) #calcula el tiempo de espera en la cola 2\n",
        "        \n",
        "        yield env.process(help_desk.support_2(name))\n",
        "        # Cliente sale del segundo proceso y finaliza la atención\n",
        "        print(f\"Cliente {name} su requerimiento finaliza el proceso #2 y se cierra ticket at {env.now:.2f}\")\n",
        "        customers_handled += 1       \n",
        "        support_times_2.append(env.now - start_support_time_2) #calcula el tiempo de atención del proceso #2\n",
        "        total_times.append(env.now - arrival_time) #calcula el tiempo total (todo el proceso de atención)\n",
        "\n",
        "def setup(env, num_employees_1, num_employees_2, support_time_1, support_time_2, customer_interval):\n",
        "#Crea un Help Desk, un número inicial de clientes y luego se mantendrá creando clientes cada \"CUSTOMER_INTERVAL\" minutos\n",
        "    #Crea el Help Desk\n",
        "    help_desk = HelpDesk(env, num_employees_1, num_employees_2, support_time_1, support_time_2)\n",
        "\n",
        "    #Crea 5 clientes iniciales\n",
        "    for i in range(1, 2):\n",
        "        env.process(customer(env, i, help_desk))\n",
        "\n",
        "    #crea más clientes mientras la simulaciíon está corriendo\n",
        "    while True:\n",
        "        yield env.timeout(random.expovariate(1/customer_interval))\n",
        "        i += 1\n",
        "        env.process(customer(env, i, help_desk))\n",
        "\n",
        "\n",
        "# Setup and start the simulation  \n",
        "print(\"Se inicia la Simulación del Help Desk - por\", SIM_TIME , \"minutos\")\n",
        "random.seed(RANDOM_SEED)  #esto nos ayudará a reproducir los resultados\n",
        "\n",
        "# Crea un environment e inicia el proceso setup\n",
        "env = simpy.Environment()\n",
        "env.process(setup(env, NUM_EMPLOYEES_1, NUM_EMPLOYEES_2, SUPPORT_TIME_1, SUPPORT_TIME_2, CUSTOMER_INTERVAL))\n",
        "\n",
        "# Execute!\n",
        "env.run(until=SIM_TIME)\n",
        "\n",
        "print(\"Customer handled: \" + str(customers_handled))\n",
        "\n",
        "\n",
        "#Respuestas\n",
        "NA = customers_handled / len(arrival_times) #Nivel de atencion\n",
        "print(len(arrival_times), \";\") #cantidad tickets creados\n",
        "print(customers_handled, \";\") #cantidad tickets resueltos\n",
        "print(NA, \";\") #Nivel atencion\n",
        "print(np.mean(total_times)) #leadtime "
      ],
      "metadata": {
        "colab": {
          "base_uri": "https://localhost:8080/"
        },
        "id": "tnMk3dmyAVvs",
        "outputId": "64e2450a-daa6-4804-c018-9d3e41c45e76"
      },
      "execution_count": null,
      "outputs": [
        {
          "output_type": "stream",
          "name": "stdout",
          "text": [
            "Se inicia la Simulación del Help Desk - por 480 minutos\n",
            "Cliente 1 ingresa requerimiento al Backlog #1 at 0.00!\n",
            "Cliente 1 comienza a ser atendido su requerimiento por el proceso #1 at 0.00\n",
            "Proceso #1 finalizado para Cliente 1 at 10.11\n",
            "Cliente 1 su requerimiento finaliza el proceso #1 at 10.11\n",
            "Cliente 1 su requerimiento ingresa al Backlog #2 at 10.11!\n",
            "Cliente 1 comienza a ser atendido su requerimiento por el proceso #2 at 10.11\n",
            "Cliente 2 ingresa requerimiento al Backlog #1 at 12.50!\n",
            "Cliente 2 comienza a ser atendido su requerimiento por el proceso #1 at 12.50\n",
            "Cliente 3 ingresa requerimiento al Backlog #1 at 13.97!\n",
            "Cliente 3 comienza a ser atendido su requerimiento por el proceso #1 at 13.97\n",
            "Cliente 4 ingresa requerimiento al Backlog #1 at 17.45!\n",
            "Cliente 5 ingresa requerimiento al Backlog #1 at 19.45!\n",
            "Cliente 6 ingresa requerimiento al Backlog #1 at 24.59!\n",
            "Proceso #1 finalizado para Cliente 3 at 25.98\n",
            "Cliente 3 su requerimiento finaliza el proceso #1 at 25.98\n",
            "Cliente 3 su requerimiento ingresa al Backlog #2 at 25.98!\n",
            "Cliente 3 comienza a ser atendido su requerimiento por el proceso #2 at 25.98\n",
            "Cliente 4 comienza a ser atendido su requerimiento por el proceso #1 at 25.98\n",
            "Proceso #1 finalizado para Cliente 2 at 32.48\n",
            "Cliente 2 su requerimiento finaliza el proceso #1 at 32.48\n",
            "Cliente 2 su requerimiento ingresa al Backlog #2 at 32.48!\n",
            "Cliente 5 comienza a ser atendido su requerimiento por el proceso #1 at 32.48\n",
            "Proceso #2 finalizado para Cliente 1 at 42.67\n",
            "Cliente 1 su requerimiento finaliza el proceso #2 y se cierra ticket at 42.67\n",
            "Cliente 2 comienza a ser atendido su requerimiento por el proceso #2 at 42.67\n",
            "Proceso #1 finalizado para Cliente 4 at 43.37\n",
            "Cliente 4 su requerimiento finaliza el proceso #1 at 43.37\n",
            "Cliente 4 su requerimiento ingresa al Backlog #2 at 43.37!\n",
            "Cliente 6 comienza a ser atendido su requerimiento por el proceso #1 at 43.37\n",
            "Cliente 7 ingresa requerimiento al Backlog #1 at 45.64!\n",
            "Cliente 8 ingresa requerimiento al Backlog #1 at 47.21!\n",
            "Cliente 9 ingresa requerimiento al Backlog #1 at 47.80!\n",
            "Proceso #1 finalizado para Cliente 5 at 48.46\n",
            "Cliente 5 su requerimiento finaliza el proceso #1 at 48.46\n",
            "Cliente 5 su requerimiento ingresa al Backlog #2 at 48.46!\n",
            "Cliente 7 comienza a ser atendido su requerimiento por el proceso #1 at 48.46\n",
            "Proceso #2 finalizado para Cliente 3 at 49.02\n",
            "Cliente 3 su requerimiento finaliza el proceso #2 y se cierra ticket at 49.02\n",
            "Cliente 4 comienza a ser atendido su requerimiento por el proceso #2 at 49.02\n",
            "Cliente 10 ingresa requerimiento al Backlog #1 at 50.66!\n",
            "Proceso #1 finalizado para Cliente 6 at 56.91\n",
            "Cliente 6 su requerimiento finaliza el proceso #1 at 56.91\n",
            "Cliente 6 su requerimiento ingresa al Backlog #2 at 56.91!\n",
            "Cliente 8 comienza a ser atendido su requerimiento por el proceso #1 at 56.91\n",
            "Cliente 11 ingresa requerimiento al Backlog #1 at 60.14!\n",
            "Proceso #1 finalizado para Cliente 7 at 60.96\n",
            "Cliente 7 su requerimiento finaliza el proceso #1 at 60.96\n",
            "Cliente 7 su requerimiento ingresa al Backlog #2 at 60.96!\n",
            "Cliente 9 comienza a ser atendido su requerimiento por el proceso #1 at 60.96\n",
            "Cliente 12 ingresa requerimiento al Backlog #1 at 61.89!\n",
            "Cliente 13 ingresa requerimiento al Backlog #1 at 62.59!\n",
            "Proceso #2 finalizado para Cliente 2 at 67.88\n",
            "Cliente 2 su requerimiento finaliza el proceso #2 y se cierra ticket at 67.88\n",
            "Cliente 5 comienza a ser atendido su requerimiento por el proceso #2 at 67.88\n",
            "Cliente 14 ingresa requerimiento al Backlog #1 at 68.20!\n",
            "Cliente 15 ingresa requerimiento al Backlog #1 at 71.22!\n",
            "Cliente 16 ingresa requerimiento al Backlog #1 at 73.91!\n",
            "Proceso #1 finalizado para Cliente 8 at 80.81\n",
            "Cliente 8 su requerimiento finaliza el proceso #1 at 80.81\n",
            "Cliente 8 su requerimiento ingresa al Backlog #2 at 80.81!\n",
            "Cliente 10 comienza a ser atendido su requerimiento por el proceso #1 at 80.81\n",
            "Cliente 17 ingresa requerimiento al Backlog #1 at 84.27!\n",
            "Proceso #2 finalizado para Cliente 4 at 84.80\n",
            "Cliente 4 su requerimiento finaliza el proceso #2 y se cierra ticket at 84.80\n",
            "Cliente 6 comienza a ser atendido su requerimiento por el proceso #2 at 84.80\n",
            "Cliente 18 ingresa requerimiento al Backlog #1 at 86.01!\n",
            "Cliente 19 ingresa requerimiento al Backlog #1 at 88.49!\n",
            "Cliente 20 ingresa requerimiento al Backlog #1 at 91.84!\n",
            "Proceso #1 finalizado para Cliente 10 at 98.82\n",
            "Cliente 10 su requerimiento finaliza el proceso #1 at 98.82\n",
            "Cliente 10 su requerimiento ingresa al Backlog #2 at 98.82!\n",
            "Cliente 11 comienza a ser atendido su requerimiento por el proceso #1 at 98.82\n",
            "Proceso #2 finalizado para Cliente 5 at 99.50\n",
            "Cliente 5 su requerimiento finaliza el proceso #2 y se cierra ticket at 99.50\n",
            "Cliente 7 comienza a ser atendido su requerimiento por el proceso #2 at 99.50\n",
            "Cliente 21 ingresa requerimiento al Backlog #1 at 101.96!\n",
            "Cliente 22 ingresa requerimiento al Backlog #1 at 106.77!\n",
            "Cliente 23 ingresa requerimiento al Backlog #1 at 107.50!\n",
            "Proceso #1 finalizado para Cliente 9 at 107.80\n",
            "Cliente 9 su requerimiento finaliza el proceso #1 at 107.80\n",
            "Cliente 9 su requerimiento ingresa al Backlog #2 at 107.80!\n",
            "Cliente 12 comienza a ser atendido su requerimiento por el proceso #1 at 107.80\n",
            "Proceso #2 finalizado para Cliente 7 at 116.80\n",
            "Cliente 7 su requerimiento finaliza el proceso #2 y se cierra ticket at 116.80\n",
            "Cliente 8 comienza a ser atendido su requerimiento por el proceso #2 at 116.80\n",
            "Cliente 24 ingresa requerimiento al Backlog #1 at 117.04!\n",
            "Proceso #1 finalizado para Cliente 11 at 121.56\n",
            "Cliente 11 su requerimiento finaliza el proceso #1 at 121.56\n",
            "Cliente 11 su requerimiento ingresa al Backlog #2 at 121.56!\n",
            "Cliente 13 comienza a ser atendido su requerimiento por el proceso #1 at 121.56\n",
            "Proceso #1 finalizado para Cliente 12 at 121.91\n",
            "Cliente 12 su requerimiento finaliza el proceso #1 at 121.91\n",
            "Cliente 12 su requerimiento ingresa al Backlog #2 at 121.91!\n",
            "Cliente 14 comienza a ser atendido su requerimiento por el proceso #1 at 121.91\n",
            "Cliente 25 ingresa requerimiento al Backlog #1 at 121.94!\n",
            "Cliente 26 ingresa requerimiento al Backlog #1 at 123.43!\n",
            "Cliente 27 ingresa requerimiento al Backlog #1 at 124.36!\n",
            "Cliente 28 ingresa requerimiento al Backlog #1 at 127.23!\n",
            "Proceso #2 finalizado para Cliente 6 at 127.70\n",
            "Cliente 6 su requerimiento finaliza el proceso #2 y se cierra ticket at 127.70\n",
            "Cliente 10 comienza a ser atendido su requerimiento por el proceso #2 at 127.70\n",
            "Proceso #2 finalizado para Cliente 8 at 136.42\n",
            "Cliente 8 su requerimiento finaliza el proceso #2 y se cierra ticket at 136.42\n",
            "Cliente 9 comienza a ser atendido su requerimiento por el proceso #2 at 136.42\n",
            "Cliente 29 ingresa requerimiento al Backlog #1 at 138.12!\n",
            "Proceso #1 finalizado para Cliente 13 at 139.64\n",
            "Cliente 13 su requerimiento finaliza el proceso #1 at 139.64\n",
            "Cliente 13 su requerimiento ingresa al Backlog #2 at 139.64!\n",
            "Cliente 15 comienza a ser atendido su requerimiento por el proceso #1 at 139.64\n",
            "Proceso #1 finalizado para Cliente 14 at 142.85\n",
            "Cliente 14 su requerimiento finaliza el proceso #1 at 142.85\n",
            "Cliente 14 su requerimiento ingresa al Backlog #2 at 142.85!\n",
            "Cliente 16 comienza a ser atendido su requerimiento por el proceso #1 at 142.85\n",
            "Cliente 30 ingresa requerimiento al Backlog #1 at 147.64!\n",
            "Cliente 31 ingresa requerimiento al Backlog #1 at 148.92!\n",
            "Cliente 32 ingresa requerimiento al Backlog #1 at 149.95!\n",
            "Proceso #1 finalizado para Cliente 16 at 152.04\n",
            "Cliente 16 su requerimiento finaliza el proceso #1 at 152.04\n",
            "Cliente 16 su requerimiento ingresa al Backlog #2 at 152.04!\n",
            "Cliente 17 comienza a ser atendido su requerimiento por el proceso #1 at 152.04\n",
            "Proceso #1 finalizado para Cliente 15 at 152.33\n",
            "Cliente 15 su requerimiento finaliza el proceso #1 at 152.33\n",
            "Cliente 15 su requerimiento ingresa al Backlog #2 at 152.33!\n",
            "Cliente 18 comienza a ser atendido su requerimiento por el proceso #1 at 152.33\n",
            "Proceso #2 finalizado para Cliente 10 at 155.87\n",
            "Cliente 10 su requerimiento finaliza el proceso #2 y se cierra ticket at 155.87\n",
            "Cliente 11 comienza a ser atendido su requerimiento por el proceso #2 at 155.87\n",
            "Cliente 33 ingresa requerimiento al Backlog #1 at 158.28!\n",
            "Cliente 34 ingresa requerimiento al Backlog #1 at 160.48!\n",
            "Proceso #1 finalizado para Cliente 17 at 162.78\n",
            "Cliente 17 su requerimiento finaliza el proceso #1 at 162.78\n",
            "Cliente 17 su requerimiento ingresa al Backlog #2 at 162.78!\n",
            "Cliente 19 comienza a ser atendido su requerimiento por el proceso #1 at 162.78\n",
            "Cliente 35 ingresa requerimiento al Backlog #1 at 165.53!\n",
            "Cliente 36 ingresa requerimiento al Backlog #1 at 166.28!\n",
            "Proceso #1 finalizado para Cliente 19 at 170.64\n",
            "Cliente 19 su requerimiento finaliza el proceso #1 at 170.64\n",
            "Cliente 19 su requerimiento ingresa al Backlog #2 at 170.64!\n",
            "Cliente 20 comienza a ser atendido su requerimiento por el proceso #1 at 170.64\n",
            "Cliente 37 ingresa requerimiento al Backlog #1 at 170.75!\n",
            "Cliente 38 ingresa requerimiento al Backlog #1 at 170.85!\n",
            "Proceso #2 finalizado para Cliente 11 at 172.85\n",
            "Cliente 11 su requerimiento finaliza el proceso #2 y se cierra ticket at 172.85\n",
            "Cliente 12 comienza a ser atendido su requerimiento por el proceso #2 at 172.85\n",
            "Proceso #2 finalizado para Cliente 9 at 173.75\n",
            "Cliente 9 su requerimiento finaliza el proceso #2 y se cierra ticket at 173.75\n",
            "Cliente 13 comienza a ser atendido su requerimiento por el proceso #2 at 173.75\n",
            "Cliente 39 ingresa requerimiento al Backlog #1 at 176.08!\n",
            "Proceso #1 finalizado para Cliente 18 at 179.95\n",
            "Cliente 18 su requerimiento finaliza el proceso #1 at 179.95\n",
            "Cliente 18 su requerimiento ingresa al Backlog #2 at 179.95!\n",
            "Cliente 21 comienza a ser atendido su requerimiento por el proceso #1 at 179.95\n",
            "Proceso #1 finalizado para Cliente 20 at 180.69\n",
            "Cliente 20 su requerimiento finaliza el proceso #1 at 180.69\n",
            "Cliente 20 su requerimiento ingresa al Backlog #2 at 180.69!\n",
            "Cliente 22 comienza a ser atendido su requerimiento por el proceso #1 at 180.69\n",
            "Proceso #2 finalizado para Cliente 12 at 189.05\n",
            "Cliente 12 su requerimiento finaliza el proceso #2 y se cierra ticket at 189.05\n",
            "Cliente 14 comienza a ser atendido su requerimiento por el proceso #2 at 189.05\n",
            "Proceso #1 finalizado para Cliente 21 at 191.80\n",
            "Cliente 21 su requerimiento finaliza el proceso #1 at 191.80\n",
            "Cliente 21 su requerimiento ingresa al Backlog #2 at 191.80!\n",
            "Cliente 23 comienza a ser atendido su requerimiento por el proceso #1 at 191.80\n",
            "Cliente 40 ingresa requerimiento al Backlog #1 at 194.50!\n",
            "Proceso #2 finalizado para Cliente 13 at 195.28\n",
            "Cliente 13 su requerimiento finaliza el proceso #2 y se cierra ticket at 195.28\n",
            "Cliente 16 comienza a ser atendido su requerimiento por el proceso #2 at 195.28\n",
            "Proceso #1 finalizado para Cliente 22 at 196.09\n",
            "Cliente 22 su requerimiento finaliza el proceso #1 at 196.09\n",
            "Cliente 22 su requerimiento ingresa al Backlog #2 at 196.09!\n",
            "Cliente 24 comienza a ser atendido su requerimiento por el proceso #1 at 196.09\n",
            "Cliente 41 ingresa requerimiento al Backlog #1 at 196.89!\n",
            "Cliente 42 ingresa requerimiento al Backlog #1 at 204.82!\n",
            "Proceso #1 finalizado para Cliente 23 at 207.08\n",
            "Cliente 23 su requerimiento finaliza el proceso #1 at 207.08\n",
            "Cliente 23 su requerimiento ingresa al Backlog #2 at 207.08!\n",
            "Cliente 25 comienza a ser atendido su requerimiento por el proceso #1 at 207.08\n",
            "Cliente 43 ingresa requerimiento al Backlog #1 at 209.71!\n",
            "Cliente 44 ingresa requerimiento al Backlog #1 at 214.03!\n",
            "Cliente 45 ingresa requerimiento al Backlog #1 at 215.55!\n",
            "Cliente 46 ingresa requerimiento al Backlog #1 at 215.99!\n",
            "Cliente 47 ingresa requerimiento al Backlog #1 at 218.36!\n",
            "Proceso #2 finalizado para Cliente 14 at 221.92\n",
            "Cliente 14 su requerimiento finaliza el proceso #2 y se cierra ticket at 221.92\n",
            "Cliente 15 comienza a ser atendido su requerimiento por el proceso #2 at 221.92\n",
            "Proceso #1 finalizado para Cliente 25 at 224.61\n",
            "Cliente 25 su requerimiento finaliza el proceso #1 at 224.61\n",
            "Cliente 25 su requerimiento ingresa al Backlog #2 at 224.61!\n",
            "Cliente 26 comienza a ser atendido su requerimiento por el proceso #1 at 224.61\n",
            "Cliente 48 ingresa requerimiento al Backlog #1 at 226.67!\n",
            "Proceso #1 finalizado para Cliente 24 at 226.93\n",
            "Cliente 24 su requerimiento finaliza el proceso #1 at 226.93\n",
            "Cliente 24 su requerimiento ingresa al Backlog #2 at 226.93!\n",
            "Cliente 27 comienza a ser atendido su requerimiento por el proceso #1 at 226.93\n",
            "Cliente 49 ingresa requerimiento al Backlog #1 at 227.29!\n",
            "Cliente 50 ingresa requerimiento al Backlog #1 at 227.37!\n",
            "Proceso #2 finalizado para Cliente 16 at 229.32\n",
            "Cliente 16 su requerimiento finaliza el proceso #2 y se cierra ticket at 229.32\n",
            "Cliente 17 comienza a ser atendido su requerimiento por el proceso #2 at 229.32\n",
            "Cliente 51 ingresa requerimiento al Backlog #1 at 230.63!\n",
            "Cliente 52 ingresa requerimiento al Backlog #1 at 230.77!\n",
            "Cliente 53 ingresa requerimiento al Backlog #1 at 231.47!\n",
            "Cliente 54 ingresa requerimiento al Backlog #1 at 231.87!\n",
            "Cliente 55 ingresa requerimiento al Backlog #1 at 235.91!\n",
            "Proceso #2 finalizado para Cliente 15 at 236.29\n",
            "Cliente 15 su requerimiento finaliza el proceso #2 y se cierra ticket at 236.29\n",
            "Cliente 19 comienza a ser atendido su requerimiento por el proceso #2 at 236.29\n",
            "Cliente 56 ingresa requerimiento al Backlog #1 at 238.74!\n",
            "Proceso #1 finalizado para Cliente 26 at 240.81\n",
            "Cliente 26 su requerimiento finaliza el proceso #1 at 240.81\n",
            "Cliente 26 su requerimiento ingresa al Backlog #2 at 240.81!\n",
            "Cliente 28 comienza a ser atendido su requerimiento por el proceso #1 at 240.81\n",
            "Cliente 57 ingresa requerimiento al Backlog #1 at 242.32!\n",
            "Proceso #2 finalizado para Cliente 17 at 244.15\n",
            "Cliente 17 su requerimiento finaliza el proceso #2 y se cierra ticket at 244.15\n",
            "Cliente 18 comienza a ser atendido su requerimiento por el proceso #2 at 244.15\n",
            "Proceso #1 finalizado para Cliente 27 at 246.91\n",
            "Cliente 27 su requerimiento finaliza el proceso #1 at 246.91\n",
            "Cliente 27 su requerimiento ingresa al Backlog #2 at 246.91!\n",
            "Cliente 29 comienza a ser atendido su requerimiento por el proceso #1 at 246.91\n",
            "Cliente 58 ingresa requerimiento al Backlog #1 at 247.27!\n",
            "Cliente 59 ingresa requerimiento al Backlog #1 at 247.41!\n",
            "Cliente 60 ingresa requerimiento al Backlog #1 at 249.51!\n",
            "Cliente 61 ingresa requerimiento al Backlog #1 at 249.99!\n",
            "Cliente 62 ingresa requerimiento al Backlog #1 at 255.13!\n",
            "Cliente 63 ingresa requerimiento al Backlog #1 at 256.23!\n",
            "Cliente 64 ingresa requerimiento al Backlog #1 at 256.65!\n",
            "Cliente 65 ingresa requerimiento al Backlog #1 at 257.46!\n",
            "Cliente 66 ingresa requerimiento al Backlog #1 at 258.51!\n",
            "Proceso #2 finalizado para Cliente 19 at 259.32\n",
            "Cliente 19 su requerimiento finaliza el proceso #2 y se cierra ticket at 259.32\n",
            "Cliente 20 comienza a ser atendido su requerimiento por el proceso #2 at 259.32\n",
            "Cliente 67 ingresa requerimiento al Backlog #1 at 259.49!\n",
            "Cliente 68 ingresa requerimiento al Backlog #1 at 260.97!\n",
            "Proceso #1 finalizado para Cliente 28 at 261.16\n",
            "Cliente 28 su requerimiento finaliza el proceso #1 at 261.16\n",
            "Cliente 28 su requerimiento ingresa al Backlog #2 at 261.16!\n",
            "Cliente 30 comienza a ser atendido su requerimiento por el proceso #1 at 261.16\n",
            "Proceso #2 finalizado para Cliente 18 at 262.39\n",
            "Cliente 18 su requerimiento finaliza el proceso #2 y se cierra ticket at 262.39\n",
            "Cliente 21 comienza a ser atendido su requerimiento por el proceso #2 at 262.39\n",
            "Cliente 69 ingresa requerimiento al Backlog #1 at 265.08!\n",
            "Proceso #1 finalizado para Cliente 29 at 265.37\n",
            "Cliente 29 su requerimiento finaliza el proceso #1 at 265.37\n",
            "Cliente 29 su requerimiento ingresa al Backlog #2 at 265.37!\n",
            "Cliente 31 comienza a ser atendido su requerimiento por el proceso #1 at 265.37\n",
            "Cliente 70 ingresa requerimiento al Backlog #1 at 268.56!\n",
            "Cliente 71 ingresa requerimiento al Backlog #1 at 271.54!\n",
            "Cliente 72 ingresa requerimiento al Backlog #1 at 272.34!\n",
            "Cliente 73 ingresa requerimiento al Backlog #1 at 272.73!\n",
            "Proceso #1 finalizado para Cliente 31 at 274.24\n",
            "Cliente 31 su requerimiento finaliza el proceso #1 at 274.24\n",
            "Cliente 31 su requerimiento ingresa al Backlog #2 at 274.24!\n",
            "Cliente 32 comienza a ser atendido su requerimiento por el proceso #1 at 274.24\n",
            "Proceso #1 finalizado para Cliente 30 at 274.26\n",
            "Cliente 30 su requerimiento finaliza el proceso #1 at 274.26\n",
            "Cliente 30 su requerimiento ingresa al Backlog #2 at 274.26!\n",
            "Cliente 33 comienza a ser atendido su requerimiento por el proceso #1 at 274.26\n",
            "Cliente 74 ingresa requerimiento al Backlog #1 at 279.22!\n",
            "Cliente 75 ingresa requerimiento al Backlog #1 at 280.59!\n",
            "Proceso #2 finalizado para Cliente 20 at 284.39\n",
            "Cliente 20 su requerimiento finaliza el proceso #2 y se cierra ticket at 284.39\n",
            "Cliente 22 comienza a ser atendido su requerimiento por el proceso #2 at 284.39\n",
            "Proceso #2 finalizado para Cliente 21 at 285.14\n",
            "Cliente 21 su requerimiento finaliza el proceso #2 y se cierra ticket at 285.14\n",
            "Cliente 23 comienza a ser atendido su requerimiento por el proceso #2 at 285.14\n",
            "Proceso #1 finalizado para Cliente 32 at 290.00\n",
            "Cliente 32 su requerimiento finaliza el proceso #1 at 290.00\n",
            "Cliente 32 su requerimiento ingresa al Backlog #2 at 290.00!\n",
            "Cliente 34 comienza a ser atendido su requerimiento por el proceso #1 at 290.00\n",
            "Cliente 76 ingresa requerimiento al Backlog #1 at 297.01!\n",
            "Cliente 77 ingresa requerimiento al Backlog #1 at 301.48!\n",
            "Cliente 78 ingresa requerimiento al Backlog #1 at 301.54!\n",
            "Cliente 79 ingresa requerimiento al Backlog #1 at 303.94!\n",
            "Proceso #1 finalizado para Cliente 34 at 304.75\n",
            "Cliente 34 su requerimiento finaliza el proceso #1 at 304.75\n",
            "Cliente 34 su requerimiento ingresa al Backlog #2 at 304.75!\n",
            "Cliente 35 comienza a ser atendido su requerimiento por el proceso #1 at 304.75\n",
            "Proceso #2 finalizado para Cliente 22 at 305.59\n",
            "Cliente 22 su requerimiento finaliza el proceso #2 y se cierra ticket at 305.59\n",
            "Cliente 25 comienza a ser atendido su requerimiento por el proceso #2 at 305.59\n",
            "Cliente 80 ingresa requerimiento al Backlog #1 at 306.06!\n",
            "Proceso #1 finalizado para Cliente 33 at 306.97\n",
            "Cliente 33 su requerimiento finaliza el proceso #1 at 306.97\n",
            "Cliente 33 su requerimiento ingresa al Backlog #2 at 306.97!\n",
            "Cliente 36 comienza a ser atendido su requerimiento por el proceso #1 at 306.97\n",
            "Cliente 81 ingresa requerimiento al Backlog #1 at 307.40!\n",
            "Cliente 82 ingresa requerimiento al Backlog #1 at 307.72!\n",
            "Cliente 83 ingresa requerimiento al Backlog #1 at 313.34!\n",
            "Cliente 84 ingresa requerimiento al Backlog #1 at 314.20!\n",
            "Proceso #2 finalizado para Cliente 23 at 315.55\n",
            "Cliente 23 su requerimiento finaliza el proceso #2 y se cierra ticket at 315.55\n",
            "Cliente 24 comienza a ser atendido su requerimiento por el proceso #2 at 315.55\n",
            "Cliente 85 ingresa requerimiento al Backlog #1 at 317.59!\n",
            "Proceso #1 finalizado para Cliente 35 at 322.51\n",
            "Cliente 35 su requerimiento finaliza el proceso #1 at 322.51\n",
            "Cliente 35 su requerimiento ingresa al Backlog #2 at 322.51!\n",
            "Cliente 37 comienza a ser atendido su requerimiento por el proceso #1 at 322.51\n",
            "Proceso #1 finalizado para Cliente 36 at 322.84\n",
            "Cliente 36 su requerimiento finaliza el proceso #1 at 322.84\n",
            "Cliente 36 su requerimiento ingresa al Backlog #2 at 322.84!\n",
            "Cliente 38 comienza a ser atendido su requerimiento por el proceso #1 at 322.84\n",
            "Cliente 86 ingresa requerimiento al Backlog #1 at 323.19!\n",
            "Cliente 87 ingresa requerimiento al Backlog #1 at 330.78!\n",
            "Proceso #2 finalizado para Cliente 25 at 332.65\n",
            "Cliente 25 su requerimiento finaliza el proceso #2 y se cierra ticket at 332.65\n",
            "Cliente 26 comienza a ser atendido su requerimiento por el proceso #2 at 332.65\n",
            "Proceso #1 finalizado para Cliente 38 at 333.98\n",
            "Cliente 38 su requerimiento finaliza el proceso #1 at 333.98\n",
            "Cliente 38 su requerimiento ingresa al Backlog #2 at 333.98!\n",
            "Cliente 39 comienza a ser atendido su requerimiento por el proceso #1 at 333.98\n",
            "Cliente 88 ingresa requerimiento al Backlog #1 at 334.88!\n",
            "Proceso #2 finalizado para Cliente 24 at 337.23\n",
            "Cliente 24 su requerimiento finaliza el proceso #2 y se cierra ticket at 337.23\n",
            "Cliente 27 comienza a ser atendido su requerimiento por el proceso #2 at 337.23\n",
            "Cliente 89 ingresa requerimiento al Backlog #1 at 337.63!\n",
            "Proceso #1 finalizado para Cliente 37 at 338.74\n",
            "Cliente 37 su requerimiento finaliza el proceso #1 at 338.74\n",
            "Cliente 37 su requerimiento ingresa al Backlog #2 at 338.74!\n",
            "Cliente 40 comienza a ser atendido su requerimiento por el proceso #1 at 338.74\n",
            "Proceso #2 finalizado para Cliente 26 at 341.49\n",
            "Cliente 26 su requerimiento finaliza el proceso #2 y se cierra ticket at 341.49\n",
            "Cliente 28 comienza a ser atendido su requerimiento por el proceso #2 at 341.49\n",
            "Cliente 90 ingresa requerimiento al Backlog #1 at 344.05!\n",
            "Cliente 91 ingresa requerimiento al Backlog #1 at 350.57!\n",
            "Proceso #1 finalizado para Cliente 40 at 352.87\n",
            "Cliente 40 su requerimiento finaliza el proceso #1 at 352.87\n",
            "Cliente 40 su requerimiento ingresa al Backlog #2 at 352.87!\n",
            "Cliente 41 comienza a ser atendido su requerimiento por el proceso #1 at 352.87\n",
            "Proceso #2 finalizado para Cliente 27 at 358.06\n",
            "Cliente 27 su requerimiento finaliza el proceso #2 y se cierra ticket at 358.06\n",
            "Cliente 29 comienza a ser atendido su requerimiento por el proceso #2 at 358.06\n",
            "Proceso #1 finalizado para Cliente 39 at 358.36\n",
            "Cliente 39 su requerimiento finaliza el proceso #1 at 358.36\n",
            "Cliente 39 su requerimiento ingresa al Backlog #2 at 358.36!\n",
            "Cliente 42 comienza a ser atendido su requerimiento por el proceso #1 at 358.36\n",
            "Cliente 92 ingresa requerimiento al Backlog #1 at 361.33!\n",
            "Proceso #2 finalizado para Cliente 28 at 365.38\n",
            "Cliente 28 su requerimiento finaliza el proceso #2 y se cierra ticket at 365.38\n",
            "Cliente 31 comienza a ser atendido su requerimiento por el proceso #2 at 365.38\n",
            "Cliente 93 ingresa requerimiento al Backlog #1 at 365.88!\n",
            "Proceso #1 finalizado para Cliente 42 at 372.31\n",
            "Cliente 42 su requerimiento finaliza el proceso #1 at 372.31\n",
            "Cliente 42 su requerimiento ingresa al Backlog #2 at 372.31!\n",
            "Cliente 43 comienza a ser atendido su requerimiento por el proceso #1 at 372.31\n",
            "Cliente 94 ingresa requerimiento al Backlog #1 at 372.69!\n",
            "Proceso #2 finalizado para Cliente 29 at 375.63\n",
            "Cliente 29 su requerimiento finaliza el proceso #2 y se cierra ticket at 375.63\n",
            "Cliente 30 comienza a ser atendido su requerimiento por el proceso #2 at 375.63\n",
            "Proceso #1 finalizado para Cliente 41 at 379.59\n",
            "Cliente 41 su requerimiento finaliza el proceso #1 at 379.59\n",
            "Cliente 41 su requerimiento ingresa al Backlog #2 at 379.59!\n",
            "Cliente 44 comienza a ser atendido su requerimiento por el proceso #1 at 379.59\n",
            "Proceso #1 finalizado para Cliente 43 at 382.76\n",
            "Cliente 43 su requerimiento finaliza el proceso #1 at 382.76\n",
            "Cliente 43 su requerimiento ingresa al Backlog #2 at 382.76!\n",
            "Cliente 45 comienza a ser atendido su requerimiento por el proceso #1 at 382.76\n",
            "Proceso #2 finalizado para Cliente 30 at 390.65\n",
            "Cliente 30 su requerimiento finaliza el proceso #2 y se cierra ticket at 390.65\n",
            "Cliente 32 comienza a ser atendido su requerimiento por el proceso #2 at 390.65\n",
            "Cliente 95 ingresa requerimiento al Backlog #1 at 397.07!\n",
            "Cliente 96 ingresa requerimiento al Backlog #1 at 401.51!\n",
            "Proceso #1 finalizado para Cliente 45 at 403.63\n",
            "Cliente 45 su requerimiento finaliza el proceso #1 at 403.63\n",
            "Cliente 45 su requerimiento ingresa al Backlog #2 at 403.63!\n",
            "Cliente 46 comienza a ser atendido su requerimiento por el proceso #1 at 403.63\n",
            "Cliente 97 ingresa requerimiento al Backlog #1 at 406.09!\n",
            "Cliente 98 ingresa requerimiento al Backlog #1 at 406.56!\n",
            "Cliente 99 ingresa requerimiento al Backlog #1 at 409.67!\n",
            "Proceso #1 finalizado para Cliente 44 at 409.89\n",
            "Cliente 44 su requerimiento finaliza el proceso #1 at 409.89\n",
            "Cliente 44 su requerimiento ingresa al Backlog #2 at 409.89!\n",
            "Cliente 47 comienza a ser atendido su requerimiento por el proceso #1 at 409.89\n",
            "Proceso #2 finalizado para Cliente 32 at 409.93\n",
            "Cliente 32 su requerimiento finaliza el proceso #2 y se cierra ticket at 409.93\n",
            "Cliente 34 comienza a ser atendido su requerimiento por el proceso #2 at 409.93\n",
            "Proceso #2 finalizado para Cliente 31 at 413.36\n",
            "Cliente 31 su requerimiento finaliza el proceso #2 y se cierra ticket at 413.36\n",
            "Cliente 33 comienza a ser atendido su requerimiento por el proceso #2 at 413.36\n",
            "Proceso #1 finalizado para Cliente 46 at 420.59\n",
            "Cliente 46 su requerimiento finaliza el proceso #1 at 420.59\n",
            "Cliente 46 su requerimiento ingresa al Backlog #2 at 420.59!\n",
            "Cliente 48 comienza a ser atendido su requerimiento por el proceso #1 at 420.59\n",
            "Cliente 100 ingresa requerimiento al Backlog #1 at 421.65!\n",
            "Cliente 101 ingresa requerimiento al Backlog #1 at 423.72!\n",
            "Proceso #2 finalizado para Cliente 33 at 431.62\n",
            "Cliente 33 su requerimiento finaliza el proceso #2 y se cierra ticket at 431.62\n",
            "Cliente 35 comienza a ser atendido su requerimiento por el proceso #2 at 431.62\n",
            "Proceso #1 finalizado para Cliente 47 at 433.57\n",
            "Cliente 47 su requerimiento finaliza el proceso #1 at 433.57\n",
            "Cliente 47 su requerimiento ingresa al Backlog #2 at 433.57!\n",
            "Cliente 49 comienza a ser atendido su requerimiento por el proceso #1 at 433.57\n",
            "Proceso #2 finalizado para Cliente 34 at 434.88\n",
            "Cliente 34 su requerimiento finaliza el proceso #2 y se cierra ticket at 434.88\n",
            "Cliente 36 comienza a ser atendido su requerimiento por el proceso #2 at 434.88\n",
            "Proceso #1 finalizado para Cliente 48 at 437.92\n",
            "Cliente 48 su requerimiento finaliza el proceso #1 at 437.92\n",
            "Cliente 48 su requerimiento ingresa al Backlog #2 at 437.92!\n",
            "Cliente 50 comienza a ser atendido su requerimiento por el proceso #1 at 437.92\n",
            "Proceso #2 finalizado para Cliente 36 at 444.17\n",
            "Cliente 36 su requerimiento finaliza el proceso #2 y se cierra ticket at 444.17\n",
            "Cliente 38 comienza a ser atendido su requerimiento por el proceso #2 at 444.17\n",
            "Cliente 102 ingresa requerimiento al Backlog #1 at 445.03!\n",
            "Proceso #1 finalizado para Cliente 49 at 445.27\n",
            "Cliente 49 su requerimiento finaliza el proceso #1 at 445.27\n",
            "Cliente 49 su requerimiento ingresa al Backlog #2 at 445.27!\n",
            "Cliente 51 comienza a ser atendido su requerimiento por el proceso #1 at 445.27\n",
            "Cliente 103 ingresa requerimiento al Backlog #1 at 456.06!\n",
            "Proceso #1 finalizado para Cliente 50 at 456.10\n",
            "Cliente 50 su requerimiento finaliza el proceso #1 at 456.10\n",
            "Cliente 50 su requerimiento ingresa al Backlog #2 at 456.10!\n",
            "Cliente 52 comienza a ser atendido su requerimiento por el proceso #1 at 456.10\n",
            "Proceso #2 finalizado para Cliente 38 at 466.19\n",
            "Cliente 38 su requerimiento finaliza el proceso #2 y se cierra ticket at 466.19\n",
            "Cliente 37 comienza a ser atendido su requerimiento por el proceso #2 at 466.19\n",
            "Proceso #2 finalizado para Cliente 35 at 466.58\n",
            "Cliente 35 su requerimiento finaliza el proceso #2 y se cierra ticket at 466.58\n",
            "Cliente 40 comienza a ser atendido su requerimiento por el proceso #2 at 466.58\n",
            "Proceso #1 finalizado para Cliente 51 at 467.51\n",
            "Cliente 51 su requerimiento finaliza el proceso #1 at 467.51\n",
            "Cliente 51 su requerimiento ingresa al Backlog #2 at 467.51!\n",
            "Cliente 53 comienza a ser atendido su requerimiento por el proceso #1 at 467.51\n",
            "Cliente 104 ingresa requerimiento al Backlog #1 at 469.14!\n",
            "Proceso #1 finalizado para Cliente 52 at 471.27\n",
            "Cliente 52 su requerimiento finaliza el proceso #1 at 471.27\n",
            "Cliente 52 su requerimiento ingresa al Backlog #2 at 471.27!\n",
            "Cliente 54 comienza a ser atendido su requerimiento por el proceso #1 at 471.27\n",
            "Cliente 105 ingresa requerimiento al Backlog #1 at 473.17!\n",
            "Cliente 106 ingresa requerimiento al Backlog #1 at 477.37!\n",
            "Customer handled: 37\n",
            "106 ;\n",
            "37 ;\n",
            "0.3490566037735849 ;\n",
            "174.57809884457464\n"
          ]
        }
      ]
    },
    {
      "cell_type": "markdown",
      "source": [
        "##Análisis de resultados\n",
        "\n",
        "Luego de correr un día laboral, es decir, una réplica del modelo durante 8 horas, los resultados que vemos son:\n",
        "\n",
        "* Cantidad de tickets creados en un día laboral = **106**\n",
        "* Cantidad de tickets resueltos en un día laboral = **37** \n",
        "* Nivel de atención de un día laboral = **34.9%**\n",
        "* Leadtime end to end de un día laboral = **174.5** minutos\n",
        "\n",
        "Los datos anteriores son valores agregados del día laboral simulado, por tanto esconden detalle. Por ejemplo si quisieramos conocer la distribución completa de los tiempos totales de atención (que en promedio nos da un leadtime de 174.5 min) tenemos que tomar el dataset creado donde está el registro de cada tocket resuelto con su tiempo total de atención.\n",
        "\n",
        "En el siguiente gráfico podremos apreciar todo este detalle de los tiempos totales de atención:"
      ],
      "metadata": {
        "id": "xxx7vrknbS7L"
      }
    },
    {
      "cell_type": "code",
      "source": [
        "#Graficar histograma de tiempos totales de atención\n",
        "\n",
        "print(total_times) #este es el dataset\n",
        "print('n: ', len(total_times)) \n",
        "print('Leadtime de un día :', np.mean(total_times), 'minutos')\n",
        "\n",
        "plt.hist(total_times, bins=10, range=(0, 320))\n",
        "plt.ylabel('frecuencia')\n",
        "plt.xlabel('Tiempo total de duración')\n",
        "plt.title('Histograma')\n",
        "plt.show()"
      ],
      "metadata": {
        "colab": {
          "base_uri": "https://localhost:8080/",
          "height": 368
        },
        "id": "5WNmAF-BPSsa",
        "outputId": "863e783c-6d63-4868-ef42-6d21a749ebb2"
      },
      "execution_count": null,
      "outputs": [
        {
          "output_type": "stream",
          "name": "stdout",
          "text": [
            "[42.66816688704138, 35.04455673950152, 55.381488633057224, 67.34987600208916, 80.05224326374623, 71.16310082205617, 103.11295652928604, 89.20309618546233, 105.21646967749413, 112.71275542223248, 125.95212569980748, 127.16741912428326, 132.69379710954078, 153.71700018083692, 155.40705447061225, 165.06688169227039, 159.8828483336034, 170.83790392494393, 176.37636923895911, 192.55379988849472, 183.1836388400512, 198.817949431194, 208.049718138486, 210.71410371279563, 220.19484405066794, 218.05475634358493, 233.69414078607616, 238.1512171365627, 237.511695769106, 243.01056997002075, 259.98316807376585, 264.4431518776433, 273.3398557628204, 274.40338086937663, 277.8876731464829, 295.3352289216651, 301.05465459364325]\n",
            "n:  37\n",
            "Leadtime de un día : 174.57809884457464 minutos\n"
          ]
        },
        {
          "output_type": "display_data",
          "data": {
            "text/plain": [
              "<Figure size 432x288 with 1 Axes>"
            ],
            "image/png": "[encoded data removed]"
          },
          "metadata": {
            "needs_background": "light"
          }
        }
      ]
    },
    {
      "cell_type": "markdown",
      "source": [
        "Como podemos ver nuestro modelo al considerar la variabilidad de los factores incorporados en el modelo, nos permite el dinamismo y aleatoridad en los resultados. Por esta razón podemos ver tickets con tiempos totales muy bajos cercanos a 40 minutos, y otros extremos por la derecha cercados a los 310 minutos. Por esta razón los modelos lineales basados en valores promedios y constantes, entregan resultados que normalmente subestiman la realidad.\n",
        "\n",
        "En el siguiente gráfico he creado un run chart para ver como evolucionan los tiempos totales de los tickets. Claramente podemos ver la tendencia al alza, lo que es muy preocupante, ya que nos indica que si la jornada tuviera más de 8 horas, los tiempos seguirían subiendo, y con ello el Leadtime. Claramente este sistema de trabajo se encuentra desbalanceado.\n",
        "\n"
      ],
      "metadata": {
        "id": "jUJJSZLYdDkU"
      }
    },
    {
      "cell_type": "code",
      "source": [
        "#Graficar run chart\n",
        "\n",
        "plt.plot(total_times)\n",
        "plt.ylabel('Tiempo total de duración')\n",
        "plt.xlabel('N° de ticket')\n",
        "plt.title('Run chart')\n",
        "plt.show()"
      ],
      "metadata": {
        "id": "yh3ZLWSnZz-P",
        "colab": {
          "base_uri": "https://localhost:8080/",
          "height": 295
        },
        "outputId": "56390ddc-c0a3-42e1-df0d-691e07e0e4e9"
      },
      "execution_count": null,
      "outputs": [
        {
          "output_type": "display_data",
          "data": {
            "text/plain": [
              "<Figure size 432x288 with 1 Axes>"
            ],
            "image/png": "[encoded data removed]"
          },
          "metadata": {
            "needs_background": "light"
          }
        }
      ]
    },
    {
      "cell_type": "markdown",
      "source": [
        "Recordemos que la simulación corrida anteriormente fue solo una, y como estamos en la presencia de un modelo probabilístico, tener solo una réplica para análisis y toma de deciones, es muy riesgoso. La solución sugerida aquí es correr varias simulaciones, un buen número es 30 o más (regla de pulgar), y con sus respuestas construir histogramas y calcular intervalos, que nos entreguen mayor confiabilidad de los resultados obtenidos.\n",
        "\n",
        "A continuación presentaremos en el análisis de resultados luego de correr 30 veces el modelo de situación inicial. Recordemos que el modelo incial cuenta con 2 agentes en proceso N°1 y otros 2 agentes en el proceso N°2, por tanto en total tiene 4 agentes nuestro Help Desk.\n"
      ],
      "metadata": {
        "id": "oYo-fwslll9W"
      }
    },
    {
      "cell_type": "markdown",
      "source": [
        "### Análisis de Resultados Modelo situación inicial con 4 agentes (2 + 2)\n",
        "\n",
        "* Cantidad agentes en proceso N° 1 = **2**\n",
        "* Cantidad agentes en proceso N° 2 = **2**"
      ],
      "metadata": {
        "id": "VLY20DjT7sRv"
      }
    },
    {
      "cell_type": "markdown",
      "source": [
        "####Cantidad de tickets creados en un día laboral"
      ],
      "metadata": {
        "id": "aqfXag3S0dvD"
      }
    },
    {
      "cell_type": "code",
      "source": [
        "#dataset \"cantidad de tickets creados\" luego de las 30 replicas \n",
        "\n",
        "q_creados_2_2 = (112,\t138,\t115,\t129,\t110,\t140,\t121,\t113,\t126,\t149,\t123,\t141,\t128,\t130,\t111,\t134,\t123,\t123,\t118,\t123,\t120,\t97,\t118,\t115,\t119,\t128,\t127,\t133,\t127,\t101)\n",
        "print('media : ', np.mean(q_creados_2_2))\n",
        "print('mediana : ', np.median(q_creados_2_2))\n",
        "print('desv. std : ', np.std(q_creados_2_2))\n",
        "\n",
        "#calculo intervalos\n",
        "#aplicando Normal\n",
        "alpha = 0.10\n",
        "NC = 1 - alpha #nivel de confianza\n",
        "Z = stats.norm.ppf(1-(alpha)/2)\n",
        "LI = np.mean(q_creados_2_2) - ( Z * np.std(q_creados_2_2))\n",
        "LS = np.mean(q_creados_2_2) + ( Z * np.std(q_creados_2_2))\n",
        "\n",
        "print(\"con un \", NC, \"de Nivel de confianza el intervalo está entre: \", LI, LS)\n",
        "\n",
        "\n",
        "\n",
        "#aplicando Poisson (dado que es una variable discreta)\n",
        "LI_p = stats.poisson(np.mean(q_creados_2_2)).ppf(alpha/2)\n",
        "LS_p = stats.poisson(np.mean(q_creados_2_2)).ppf(1-alpha/2)\n",
        "print(\"con un \", NC, \"de Nivel de confianza el intervalo está entre: \", LI_p, LS_p)\n",
        "\n",
        "#graficando\n",
        "plt.hist(q_creados_2_2, bins=10, range=(90, 150))\n",
        "plt.vlines(ymin=0, ymax=7, x=LI_p,  colors='r', label='LI')\n",
        "plt.vlines(ymin=0, ymax=7, x=LS_p,  colors='r', label='LS')\n",
        "plt.ylabel('frecuencia')\n",
        "plt.xlabel('cantidad de tickets creados por día')\n",
        "plt.title('Histograma')\n",
        "plt.legend()\n",
        "plt.show()\n"
      ],
      "metadata": {
        "id": "nWNh6L_F9rBO",
        "colab": {
          "base_uri": "https://localhost:8080/",
          "height": 383
        },
        "outputId": "7546d838-1f78-4795-88d2-d07854f181c6"
      },
      "execution_count": null,
      "outputs": [
        {
          "output_type": "stream",
          "name": "stdout",
          "text": [
            "media :  123.06666666666666\n",
            "mediana :  123.0\n",
            "desv. std :  11.272187996224256\n",
            "con un  0.9 de Nivel de confianza el intervalo está entre:  104.52556735739834 141.60776597593497\n",
            "con un  0.9 de Nivel de confianza el intervalo está entre:  105.0 142.0\n"
          ]
        },
        {
          "output_type": "display_data",
          "data": {
            "text/plain": [
              "<Figure size 432x288 with 1 Axes>"
            ],
            "image/png": "[encoded data removed]"
          },
          "metadata": {
            "needs_background": "light"
          }
        }
      ]
    },
    {
      "cell_type": "markdown",
      "source": [
        "El análisis arrojó que en promedio un día laboral recibirá 123 tickets, y con una seguridad del 90% podemos concluir que la cantidad de tickets creados por día estará entre 105 y 142.\n",
        "\n",
        "Recordemos que el lambda definido al inicio del modelamiento era de 15 tickets por hora, si hubiesemos modelado el Help Desk de forma determinística siempre tendriamos 120 tickets por día (8 horas x 15 ticket/hora). La probabilidad de que ocurra esta situación es cercana a un 4%, cifra extremadamente baja, lo que hubiese generado resultados muy riesgosos para los experimentos, análisis y sus conclusiones.\n",
        "\n"
      ],
      "metadata": {
        "id": "NbhdkKuo4Ujt"
      }
    },
    {
      "cell_type": "code",
      "source": [
        "#probabilidad de tener en un día 120 tickets\n",
        "prob_120= stats.poisson(np.mean(q_creados_2_2)).pmf(120)\n",
        "print(\"probabilidad de tener en un día 120 tickets: \", prob_120)"
      ],
      "metadata": {
        "colab": {
          "base_uri": "https://localhost:8080/"
        },
        "id": "oIfoj41S20zw",
        "outputId": "3737ed2f-98af-4459-a6ab-6d8c87dbbb46"
      },
      "execution_count": null,
      "outputs": [
        {
          "output_type": "stream",
          "name": "stdout",
          "text": [
            "probabilidad de tener en un día 120 tickets:  0.03501744291370185\n"
          ]
        }
      ]
    },
    {
      "cell_type": "markdown",
      "source": [
        "####Cantidad de tickets resueltos en un día laboral"
      ],
      "metadata": {
        "id": "UClEt5sD0mTl"
      }
    },
    {
      "cell_type": "code",
      "source": [
        "#dataset \"cantidad de tickets resueltos\" luego de las 30 replicas \n",
        "\n",
        "q_resueltos_2_2 = (33,\t32,\t35,\t37,\t38,\t39,\t41,\t36,\t39,\t35,\t34,\t36,\t36,\t37,\t37,\t37,\t36,\t38,\t39,\t37,\t33,\t35,\t33,\t35,\t33,\t36,\t34,\t40,\t36,\t37)\n",
        "print('media : ', np.mean(q_resueltos_2_2))\n",
        "print('mediana : ', np.median(q_resueltos_2_2))\n",
        "print('desv. std : ', np.std(q_resueltos_2_2))\n",
        "\n",
        "#calculo intervalos\n",
        "#aplicando Normal\n",
        "alpha = 0.10\n",
        "NC = 1 - alpha #nivel de confianza\n",
        "Z = stats.norm.ppf(1-(alpha)/2)\n",
        "LI = np.mean(q_resueltos_2_2) - ( Z * np.std(q_resueltos_2_2))\n",
        "LS = np.mean(q_resueltos_2_2) + ( Z * np.std(q_resueltos_2_2))\n",
        "\n",
        "print(\"con un \", NC, \"de Nivel de confianza el intervalo está entre: \", LI, LS)\n",
        "\n",
        "plt.hist(q_resueltos_2_2, bins=10, range=(25, 45))\n",
        "plt.ylabel('frecuencia')\n",
        "plt.xlabel('cantidad de tickets resueltos por día')\n",
        "plt.title('Histograma')\n",
        "plt.show()\n",
        "\n",
        "#calculo de min y max\n",
        "print(np.min(q_resueltos_2_2))\n",
        "print(np.max(q_resueltos_2_2))"
      ],
      "metadata": {
        "id": "YKC2ZgHZ_K2k",
        "colab": {
          "base_uri": "https://localhost:8080/",
          "height": 400
        },
        "outputId": "8642cc29-1b10-4f11-a549-d01ca53d206a"
      },
      "execution_count": null,
      "outputs": [
        {
          "output_type": "stream",
          "name": "stdout",
          "text": [
            "media :  36.13333333333333\n",
            "mediana :  36.0\n",
            "desv. std :  2.2020192753218324\n",
            "con un  0.9 de Nivel de confianza el intervalo está entre:  32.511333941703164 39.7553327249635\n"
          ]
        },
        {
          "output_type": "display_data",
          "data": {
            "text/plain": [
              "<Figure size 432x288 with 1 Axes>"
            ],
            "image/png": "[encoded data removed]"
          },
          "metadata": {
            "needs_background": "light"
          }
        },
        {
          "output_type": "stream",
          "name": "stdout",
          "text": [
            "32\n",
            "41\n"
          ]
        }
      ]
    },
    {
      "cell_type": "markdown",
      "source": [
        "El análisis arrojó que en promedio en un día laboral se finalizarán/solucionarán 36 tickets, y con una seguridad del 90% podemos concluir que la cantidad de tickets resueltos por día estará entre 33 y 40."
      ],
      "metadata": {
        "id": "r2xgkFmEZucE"
      }
    },
    {
      "cell_type": "markdown",
      "source": [
        "####Nivel de atención de un día laboral"
      ],
      "metadata": {
        "id": "1AgV0rMU01i2"
      }
    },
    {
      "cell_type": "code",
      "source": [
        "#dataset \"nivel de atención\" luego de las 30 replicas \n",
        "\n",
        "nivel_atencion_2_2 = (0.294642857142857,\t0.231884057971014,\t0.304347826086956,\t0.286821705426356,\t0.345454545454545,\t0.278571428571428,\t0.338842975206611,\t0.31858407079646,\t0.309523809523809,\t0.23489932885906,\t0.276422764227642,\t0.25531914893617,\t0.28125,\t0.284615384615384,\t0.333333333333333,\t0.276119402985074,\t0.292682926829268,\t0.308943089430894,\t0.330508474576271,\t0.300813008130081,\t0.275,\t0.360824742268041,\t0.279661016949152,\t0.304347826086956,\t0.277310924369747,\t0.28125,\t0.26771653543307,\t0.300751879699248,\t0.283464566929133,\t0.366336633663366)\n",
        "print('media : ', np.mean(nivel_atencion_2_2))\n",
        "print('mediana : ', np.median(nivel_atencion_2_2))\n",
        "\n",
        "#calculo intervalos\n",
        "#aplicando Normal\n",
        "alpha = 0.10\n",
        "NC = 1 - alpha #nivel de confianza\n",
        "Z = stats.norm.ppf(1-(alpha)/2)\n",
        "LI = np.mean(nivel_atencion_2_2) - ( Z * np.std(nivel_atencion_2_2))\n",
        "LS = np.mean(nivel_atencion_2_2) + ( Z * np.std(nivel_atencion_2_2))\n",
        "print(\"con un \", NC, \"de Nivel de confianza el intervalo está entre: \", LI, LS)\n",
        "\n",
        "plt.hist(nivel_atencion_2_2, bins=10, range=(0.1, 0.4))\n",
        "plt.ylabel('frecuencia')\n",
        "plt.xlabel('Nivel de atención de un día')\n",
        "plt.title('Histograma')\n",
        "plt.show()"
      ],
      "metadata": {
        "id": "5nCvwwym_k_Z",
        "colab": {
          "base_uri": "https://localhost:8080/",
          "height": 347
        },
        "outputId": "6e45c48f-af9b-4418-fbd2-4fa57f996b0c"
      },
      "execution_count": null,
      "outputs": [
        {
          "output_type": "stream",
          "name": "stdout",
          "text": [
            "media :  0.29600814211673093\n",
            "mediana :  0.289752316127812\n",
            "con un  0.9 de Nivel de confianza el intervalo está entre:  0.24371796996051448 0.3482983142729474\n"
          ]
        },
        {
          "output_type": "display_data",
          "data": {
            "text/plain": [
              "<Figure size 432x288 with 1 Axes>"
            ],
            "image/png": "[encoded data removed]"
          },
          "metadata": {
            "needs_background": "light"
          }
        }
      ]
    },
    {
      "cell_type": "markdown",
      "source": [
        "El análisis arrojó que en promedio en un día laboral se podrán resolver el 29.6% de los tickets recibidos, y con una seguridad del 90% podemos concluir que  el nivel de atención diario estará entre 24.3% y 34.8%."
      ],
      "metadata": {
        "id": "WXp9AtoXaE3k"
      }
    },
    {
      "cell_type": "markdown",
      "source": [
        "####Leadtime end to end de un día laboral"
      ],
      "metadata": {
        "id": "leMhckUD0-vv"
      }
    },
    {
      "cell_type": "code",
      "source": [
        "#dataset \"leadtime\" luego de las 30 replicas \n",
        "\n",
        "leadtime_2_2 = (188.827856690904,\t199.922963853521,\t187.007727778683,\t194.425959485549,\t188.524303601884,\t202.185320030128,\t187.53344023586,\t202.142265787084,\t185.391470825178,\t217.064384301977,\t187.007480372357,\t184.267098972501,\t185.375935176701,\t197.567710552377,\t164.295758772825,\t193.565318693733,\t195.543044599861,\t208.537960533699,\t178.505435623653,\t199.677806262011,\t198.638547391796,\t191.095241289683,\t189.551214320211,\t213.109510763968,\t174.301212768979,\t207.708104307923,\t160.241554905982,\t188.001880739077,\t157.381055075366,\t197.500183284262)\n",
        "print('media : ', np.mean(leadtime_2_2))\n",
        "print('mediana : ', np.median(leadtime_2_2))\n",
        "print('desv. std : ', np.std(leadtime_2_2))\n",
        "\n",
        "#calculo intervalos\n",
        "#aplicando Normal\n",
        "alpha = 0.10\n",
        "NC = 1 - alpha #nivel de confianza\n",
        "Z = stats.norm.ppf(1-(alpha)/2)\n",
        "LI = np.mean(leadtime_2_2) - ( Z * np.std(leadtime_2_2))\n",
        "LS = np.mean(leadtime_2_2) + ( Z * np.std(leadtime_2_2))\n",
        "print(\"con un \", NC, \"de Nivel de confianza el intervalo está entre: \", LI, LS)\n",
        "\n",
        "plt.hist(leadtime_2_2, bins=10, range=(140, 240))\n",
        "plt.ylabel('frecuencia')\n",
        "plt.xlabel('Leadtime (promedio) de un día')\n",
        "plt.title('Histograma')\n",
        "plt.show()"
      ],
      "metadata": {
        "id": "zAXa6q0dANzh",
        "colab": {
          "base_uri": "https://localhost:8080/",
          "height": 365
        },
        "outputId": "e4c001f5-5a93-4ff2-bfbe-c6767d749292"
      },
      "execution_count": null,
      "outputs": [
        {
          "output_type": "stream",
          "name": "stdout",
          "text": [
            "media :  190.82992489992446\n",
            "mediana :  190.323227804947\n",
            "desv. std :  13.831829682968879\n",
            "con un  0.9 de Nivel de confianza el intervalo está entre:  168.07858967851809 213.58126012133084\n"
          ]
        },
        {
          "output_type": "display_data",
          "data": {
            "text/plain": [
              "<Figure size 432x288 with 1 Axes>"
            ],
            "image/png": "[encoded data removed]"
          },
          "metadata": {
            "needs_background": "light"
          }
        }
      ]
    },
    {
      "cell_type": "markdown",
      "source": [
        "El análisis arrojó que en promedio la media diaria de tiempos totales de atención (leadtime de un día laboral) es de 190.8 minutos, y con una seguridad del 90% podemos concluir que la media diaria de tiempos totales de atención (leadtime de un día laboral) estará entre 168.0 y 213.5 minutos.\n",
        "\n",
        "\n",
        "Recordemos que el gráfico anterior nos muestra la distribución de las medias de un día laboral (8 horas) de los tiempos totales de atención de los tickets que si fueron resueltos, por tanto aquí tendremos calculos de estas medias con muestras de entre 31 y 41 tickets (véase distribución de tickets resueltos). Por tanto este gráfico nos esconde el detalle de la distribución de los tiempos totales de los tickets, para ver este detalle a continuación presentaré un histrograma de estos tiempos luego de juntar dataset de 6 réplicas corridas."
      ],
      "metadata": {
        "id": "Sp9tP1p6ajvw"
      }
    },
    {
      "cell_type": "code",
      "source": [
        "#ANEXO\n",
        "#dataset tiempos totales (end to end) creado a partir los casos generados en 6 réplicas\n",
        "\n",
        "tiempos_totales_2_2= (35.831669401539045, 40.255885268661665, 51.474226464211874, 70.69154194002736, 79.65447847193255, 79.39626815214015, 91.63356877778433, 96.71682953736499, 104.04099054566045, 114.05243301633044, 112.05848933764511, 116.60000024203882, 115.40331383811674, 131.08444644380677, 140.89467790099283, 143.2158548730897, 146.1617554082644, 157.5575108071671, 164.49657158465254, 187.99855030445414, 182.30946819094234, 225.57449436963665, 217.3687723980606, 232.420916627924, 240.2150599587364, 250.68701536232896, 265.14140048578736, 272.38210842062847, 271.7841051587901, 272.624144907462, 260.9453937462149, 281.629862081765, 273.4184719094575, 294.5604151889539, 311.29058624746654, 326.2064826015318, 316.1497497528029, 32.54175697259509, 51.66783436491119, 51.86326633266467, 52.221663185527866, 78.33265501336402, 86.41765435204252, 89.33149433274897, 66.09121041850796, 83.82794582904992, 100.25316057833197, 100.87380879893725, 104.15014554330918, 116.08633489581464, 128.07711523638812, 123.83606894743176, 138.14056416570827, 138.53495566570587, 138.07987726384908, 157.41130649764733, 152.1761071344995, 153.20143332748214, 161.62421138350862, 162.3973250697666, 177.63316569384492, 177.9549788548457, 195.26433155661675, 203.8565844362805, 220.95814509949523, 204.86451003633593, 214.6125226822901, 218.3365449911394, 223.45158429989885, 221.35947582055354, 236.83431774690317, 241.74892292589797, 235.06209181994336, 243.3258912579638, 262.15849753011025, 274.47544438947205, 293.42992749490145, 294.40147665399695, 59.017888802965786, 56.85782043449259, 83.82425749632628, 97.04473163548235, 101.88975716064547, 116.2307171434257, 102.6777200358241, 123.97568014401986, 125.15508778620048, 137.89904552137452, 147.81853295827443, 169.44306998023018, 177.9327028486365, 172.65691745657432, 184.94770652353625, 210.46740956669223, 212.29967502397457, 228.00225696466418, 222.98955132033285, 231.4236417944632, 239.46237848080557, 247.05241715700913, 271.9067507647036, 285.9708915229043, 268.1217464399665, 272.87978262639183, 291.2251059937717, 307.2616108347608, 316.3793456944132, 317.1077412851681, 328.8906112173802, 22.479780467012162, 49.41462789463068, 42.616954745499015, 44.87291102722482, 63.971385680435205, 65.20566704347551, 71.25450106280735, 70.43644060404219, 85.25434019273641, 95.0842509031842, 94.63119164109784, 108.07639513023861, 99.1461198268239, 116.64812094206971, 115.95355406532123, 136.66211446677974, 143.79963799652077, 153.2035606897166, 163.4914865869024, 170.69573999911347, 175.80493195861237, 178.7814680915297, 190.26334900581196, 191.48342275742613, 202.4609636632873, 209.62580120092673, 221.60734050683334, 221.82388606553505, 225.03151583407634, 244.96496436091553, 242.59002032716205, 256.4617163245764, 252.86715618502558, 274.35671823795934, 279.06047953526655, 283.87260987172806, 299.61775719695606, 292.95999160615423, 310.66793462195045, 25.919570891437946, 34.99320343190854, 42.86324549683097, 47.50994816399625, 56.40687773594438, 46.8957713491441, 52.44434143735891, 67.99565902259175, 68.07311779424626, 85.7242489518245, 100.2061921929423, 114.02098659228851, 123.54457276499488, 126.29086530158693, 154.97175163503232, 155.4935818031846, 162.5937319737589, 164.35083575272478, 170.0490898514704, 184.5366287965341, 186.64278918998474, 195.00164218119713, 215.35310931919844, 215.393796174626, 221.65869216417155, 237.6323886344316, 255.31789850007493, 266.0913290167808, 269.52005206212164, 294.7681673785235, 305.79187938384405, 314.499717683373, 321.21353414234954, 337.48853466212415, 342.915521144149, 35.01201480901257, 47.81291648962316, 70.35243186873575, 72.89620088538376, 84.07592727954031, 86.35639136181892, 104.94097490910505, 93.54817590215825, 110.13002125158641, 112.07865011087426, 133.7921530568256, 142.33433447362626, 158.7352616975469, 161.90955815309061, 187.4722817275494, 187.996695258185, 208.65412838796334, 229.43927256174814, 226.92915473232395, 236.49322737749975, 246.2969283311027, 245.49670502399312, 264.65057857552586, 262.3264232678134, 273.45387713118015, 273.9347632859398, 277.0419415539126, 285.5451943944066, 294.266166579533, 300.81049321447085, 304.2568481030414, 316.9769524954915, 325.83324677704775, 324.4836095735189, 340.26708107352647, 344.1389584469295, 353.43413342436224)\n",
        "\n",
        "print(\"media: \", np.mean(tiempos_totales_2_2))\n",
        "print(\"desv. std: \", np.std(tiempos_totales_2_2))\n",
        "plt.hist(tiempos_totales_2_2, bins=10, range=(0,380))\n",
        "plt.show()"
      ],
      "metadata": {
        "id": "lNqSKzan72ne",
        "colab": {
          "base_uri": "https://localhost:8080/",
          "height": 300
        },
        "outputId": "bf3038bd-5e8f-4e61-b6c8-6fd70d4cd488"
      },
      "execution_count": null,
      "outputs": [
        {
          "output_type": "stream",
          "name": "stdout",
          "text": [
            "media:  179.75070056990987\n",
            "desv. std:  87.43725619876177\n"
          ]
        },
        {
          "output_type": "display_data",
          "data": {
            "text/plain": [
              "<Figure size 432x288 with 1 Axes>"
            ],
            "image/png": "[encoded data removed]"
          },
          "metadata": {
            "needs_background": "light"
          }
        }
      ]
    },
    {
      "cell_type": "code",
      "source": [
        "\n",
        "plt.hist(tiempos_totales_2_2, bins=20, range=(0,380), density=True, color='r', alpha=0.5, label=\"Dist. tickets\")\n",
        "plt.hist(leadtime_2_2, bins=10, range=(140, 240), density=True, color='b', alpha=0.5, label=\"Dist. leadtime día\")\n",
        "plt.legend()\n",
        "plt.show()"
      ],
      "metadata": {
        "colab": {
          "base_uri": "https://localhost:8080/",
          "height": 269
        },
        "id": "CXBtFOwsetOo",
        "outputId": "41004251-eee4-46b4-dbf8-af69eb40be8b"
      },
      "execution_count": null,
      "outputs": [
        {
          "output_type": "display_data",
          "data": {
            "text/plain": [
              "<Figure size 432x288 with 1 Axes>"
            ],
            "image/png": "[encoded data removed]"
          },
          "metadata": {
            "needs_background": "light"
          }
        }
      ]
    },
    {
      "cell_type": "markdown",
      "source": [
        "Es evidente que la distribución de los tiempos totales de los tickets tiene mayor variabilidad que la de las medias diarias, además no es tan simétrica como la de las medias diarias (leadtime de un día laboral).\n",
        "\n",
        "La explicación al fenómeno anterior la podemos encontrar en el Teorema del Límite Central (TLC), la que nos dice que independiente de la distribución que tenga la variable medida en los individuos objetos de estudio, si tomamos de esta población de individuos muestras grandes, y luego calculamos su media muestral, estás medias muestrales tendrán una distribución normal."
      ],
      "metadata": {
        "id": "6XlfkQQIdrJ9"
      }
    },
    {
      "cell_type": "markdown",
      "source": [
        "##Desafío de negocio\n",
        "\n",
        "Vamos a imaginar que el negocio y sus clientes se encuentran insatisfacehos con los resultados que ha exhibido el Help Desk durante los último meses, esto porque los indicadores monitoreados no cumplen las expectativas planteadas al inicio de este servicio.\n",
        "\n",
        "Los indicadores más relevantes para este servicio son 2:\n",
        "\n",
        "1. Nivel de atención de un día laboral.\n",
        "2. Leadtime end to end de un día laboral. \n",
        "\n",
        "Ambos se encuentran fuera del target definido de > 85% para el primero y < 60 minutos para el segundo.\n",
        "\n",
        "Actualmente el Help Desk tiene el siguiente rendimiento:\n",
        "\n",
        "* Nivel de atención de un día laboral = 29%\n",
        "* Leadtime end to end de un día laboral = 185 minutos (sigma= 86 min)\n",
        "\n",
        "Del 'Análisis de resultados del modelo inicial' podemos apreciar que estos 2 indicadores (29% y 185 min), se encuentran contenido en el intervalo de confianza de 90%. Por tanto podemos concluir que el modelo predice de buena forma el rendimiento del sistema de trabajo.\n",
        "\n",
        "Otra manaera para validar si el modelo predice bien o tiene buen ajuste,  sería por medio de un test de hipótesis, planteado de la siguiente forma:\n",
        "\n",
        "* H0: El leadtime diario es igual a 185 minutos\n",
        "* H1: El leadtime diario es diferente a 185 minutos\n",
        "\n",
        "Si la media de los 30 leadtime generados en las 30 réplicas, se situa entre los siguientes límites, caería en zona de no rechazo de H0, de lo contario se rechazaría la H0.\n",
        "\n",
        "$$LI = 185 - 1.64* {\\frac{86}{\\sqrt{36}}} = 161.49 $$ \n",
        "$$LS = 185 + 1.64* {\\frac{86}{\\sqrt{36}}} = 208.50 $$ \n",
        "\n",
        "En este caso como la media de los 30 leadtime es 190.8 minutos cae en la zona de no rechazo, no podemos concluir que existe una diferencia, por tanto el modelo ajusta bien a la realidad.\n",
        "\n",
        "\n",
        ">Nota 1: se trabaja con muestras de 36 tickets, ya que es el valor promedio de tickets creados/resueltos en un día.\n",
        "Nota 2: se trabaja con Z=1.64 para una prueba de 2 colas con alpha de 0.10.\n",
        "\n",
        "Una vez validado el modelo, se procede a configuar distintos escenarios donde modificaremos los parámetros de control, en este caso solo ajustaremos:\n",
        "\n",
        "* cantidad de agentes proceso N°1\n",
        "* cantidad de agentes proceso N°2\n",
        "\n",
        "De tal forma que haremos experimentos, cada uno con 30 réplicas, ajustando dichos parámetros hasta llegar a un escenario que nos permita cumplir las metas de negocio para el Nivel de atención y el Leadtime de un día laboral.\n",
        "\n",
        "Estos escenarios pueden ser:\n",
        "\n",
        "* Experimento 1:\n",
        " * Cantidad agentes en proceso N° 1 = **3**\n",
        " * Cantidad agentes en proceso N° 2 = **3**\n",
        "* Experimento 2:\n",
        " * Cantidad agentes en proceso N° 1 = **4**\n",
        " * Cantidad agentes en proceso N° 2 = **4**\n",
        "* Experimento 3:\n",
        " * Cantidad agentes en proceso N° 1 = **5**\n",
        " * Cantidad agentes en proceso N° 2 = **5**\n",
        "* Experimento 4:\n",
        " * Cantidad agentes en proceso N° 1 = **6**\n",
        " * Cantidad agentes en proceso N° 2 = **6**\n",
        "\n",
        "\n",
        "Luego de realizar todos los experimentos anteriores, es el experimento número 4 el que generó los mejores resultados, es decir, la distribución de los indicadores \"nivel de atención diario\" y \"leadtime de un día laboral\" se acercan a la meta trazada.\n",
        "\n",
        "A contunuación veamos en particular los resultados de este escenario:\n",
        "\n"
      ],
      "metadata": {
        "id": "n-D1bNi-gneN"
      }
    },
    {
      "cell_type": "markdown",
      "source": [
        "### Análisis de Resultados Modelo con 12 agentes (6 + 6)\n",
        "\n",
        "* Cantidad agentes en proceso N° 1 = **6**\n",
        "* Cantidad agentes en proceso N° 2 = **6**"
      ],
      "metadata": {
        "id": "B4glF7cMHgIW"
      }
    },
    {
      "cell_type": "markdown",
      "source": [
        "####Cantidad de tickets creados en un día laboral"
      ],
      "metadata": {
        "id": "fpqrxKwe1SfT"
      }
    },
    {
      "cell_type": "code",
      "source": [
        "#dataset \"cantidad de tickets creados\" luego de las 30 replicas \n",
        "\n",
        "q_creados_6_6 = (122,\t115,\t119,\t105,\t126,\t126,\t123,\t116,\t128,\t123,\t125,\t125,\t110,\t132,\t128,\t124,\t128,\t137,\t124,\t157,\t136,\t131,\t125,\t128,\t127,\t113,\t150,\t129,\t124,\t104)\n",
        "print('media : ', np.mean(q_creados_6_6))\n",
        "print('median : ', np.median(q_creados_6_6))\n",
        "\n",
        "plt.hist(q_creados_6_6, bins=10)\n",
        "plt.ylabel('frecuencia')\n",
        "plt.xlabel('cantidad de tickets creados por día')\n",
        "plt.title('Histograma')\n",
        "plt.show()"
      ],
      "metadata": {
        "id": "8OGiKVrwHvtl",
        "colab": {
          "base_uri": "https://localhost:8080/",
          "height": 331
        },
        "outputId": "ea58e98d-65b5-47b3-fa61-9eeb3bb30fce"
      },
      "execution_count": null,
      "outputs": [
        {
          "output_type": "stream",
          "name": "stdout",
          "text": [
            "media :  125.33333333333333\n",
            "median :  125.0\n"
          ]
        },
        {
          "output_type": "display_data",
          "data": {
            "text/plain": [
              "<Figure size 432x288 with 1 Axes>"
            ],
            "image/png": "[encoded data removed]"
          },
          "metadata": {
            "needs_background": "light"
          }
        }
      ]
    },
    {
      "cell_type": "markdown",
      "source": [
        "####Cantidad de tickets resueltos en un día laboral"
      ],
      "metadata": {
        "id": "H8PY3OHy1X7Y"
      }
    },
    {
      "cell_type": "code",
      "source": [
        "#dataset \"cantidad de tickets resueltos\" luego de las 30 replicas \n",
        "\n",
        "q_resueltos_6_6 = (106,\t98,\t104,\t100,\t104,\t102,\t104,\t103,\t111,\t108,\t108,\t100,\t95,\t105,\t96,\t102,\t109,\t109,\t106,\t101,\t115,\t107,\t100,\t106,\t108,\t103,\t107,\t114,\t107,\t88)\n",
        "print('media : ', np.mean(q_resueltos_6_6))\n",
        "print('median : ', np.median(q_resueltos_6_6))\n",
        "\n",
        "plt.hist(q_resueltos_6_6, bins=10)\n",
        "plt.ylabel('frecuencia')\n",
        "plt.xlabel('cantidad de tickets resueltos por día')\n",
        "plt.title('Histograma')\n",
        "plt.show()"
      ],
      "metadata": {
        "id": "S2ahhsxpH2M8",
        "colab": {
          "base_uri": "https://localhost:8080/",
          "height": 331
        },
        "outputId": "ab4637ed-65c0-40ed-fd63-d56fd42402a0"
      },
      "execution_count": null,
      "outputs": [
        {
          "output_type": "stream",
          "name": "stdout",
          "text": [
            "media :  104.2\n",
            "median :  104.5\n"
          ]
        },
        {
          "output_type": "display_data",
          "data": {
            "text/plain": [
              "<Figure size 432x288 with 1 Axes>"
            ],
            "image/png": "[encoded data removed]"
          },
          "metadata": {
            "needs_background": "light"
          }
        }
      ]
    },
    {
      "cell_type": "markdown",
      "source": [
        "####Nivel de atención de un día laboral"
      ],
      "metadata": {
        "id": "wFv5YngS1evk"
      }
    },
    {
      "cell_type": "code",
      "source": [
        "#dataset \"nivel de atención\" luego de las 30 replicas \n",
        "\n",
        "nivel_atencion_6_6 = (0.868852459016393,\t0.852173913043478,\t0.873949579831932,\t0.952380952380952,\t0.825396825396825,\t0.809523809523809,\t0.845528455284552,\t0.887931034482758,\t0.8671875,\t0.878048780487804,\t0.864,\t0.8,\t0.863636363636363,\t0.795454545454545,\t0.75,\t0.82258064516129,\t0.8515625,\t0.795620437956204,\t0.854838709677419,\t0.643312101910828,\t0.845588235294117,\t0.816793893129771,\t0.8,\t0.828125,\t0.850393700787401,\t0.911504424778761,\t0.713333333333333,\t0.883720930232558,\t0.862903225806451,\t0.8461538462)\n",
        "print('media : ', np.mean(nivel_atencion_6_6))\n",
        "print('median : ', np.median(nivel_atencion_6_6))\n",
        "\n",
        "plt.hist(nivel_atencion_6_6, bins=10, range=(0.6, 1))\n",
        "plt.ylabel('frecuencia')\n",
        "plt.xlabel('Nivel de atención de un día')\n",
        "plt.title('Histograma')\n",
        "plt.show()"
      ],
      "metadata": {
        "id": "iN3b_170H901",
        "colab": {
          "base_uri": "https://localhost:8080/",
          "height": 330
        },
        "outputId": "7ce0d201-aee2-4a3b-94a9-d208b65d0498"
      },
      "execution_count": null,
      "outputs": [
        {
          "output_type": "stream",
          "name": "stdout",
          "text": [
            "media :  0.835349840093585\n",
            "median :  0.8482737734937005\n"
          ]
        },
        {
          "output_type": "display_data",
          "data": {
            "text/plain": [
              "<Figure size 432x288 with 1 Axes>"
            ],
            "image/png": "[encoded data removed]"
          },
          "metadata": {
            "needs_background": "light"
          }
        }
      ]
    },
    {
      "cell_type": "markdown",
      "source": [
        "####Leadtime end to end de un día laboral"
      ],
      "metadata": {
        "id": "KRwCNlw81kbe"
      }
    },
    {
      "cell_type": "code",
      "source": [
        "#dataset \"leadtime\" luego de las 30 replicas \n",
        "\n",
        "leadtime_6_6 = (77.7755504658576,\t49.8441997177277,\t44.8449992023631,\t61.4319700990561,\t71.7068198625584,\t61.0558109550445,\t76.3808125742075,\t48.2472966809966,\t60.0976070264819,\t62.7662002729237,\t82.2288706551354,\t70.6177971396824,\t48.4617875720327,\t77.169481988603,\t67.8927654147056,\t48.4599101317043,\t68.1327773124144,\t89.3547927174183,\t68.7888914929531,\t104.632427450098,\t68.6840733784177,\t89.7051162519958,\t76.4994446151993,\t86.8653036518144,\t62.9893585697354,\t61.361034813918,\t102.430036772007,\t70.5475640521686,\t71.9695632784953,\t46.08107122)\n",
        "print('media : ', np.mean(leadtime_6_6))\n",
        "print('median : ', np.median(leadtime_6_6))\n",
        "print('desv. std : ', np.std(leadtime_6_6))\n",
        "\n",
        "plt.hist(leadtime_6_6, bins=10, range=(40, 120))\n",
        "plt.ylabel('frecuencia')\n",
        "plt.xlabel('Leadtime (promedio) de un día')\n",
        "plt.title('Histograma')\n",
        "plt.show()"
      ],
      "metadata": {
        "id": "Omeh-b7MItoE",
        "colab": {
          "base_uri": "https://localhost:8080/",
          "height": 348
        },
        "outputId": "29c12552-aa8c-4bfe-b83a-c7b65ae2a0f6"
      },
      "execution_count": null,
      "outputs": [
        {
          "output_type": "stream",
          "name": "stdout",
          "text": [
            "media :  69.23411117785719\n",
            "median :  68.73648243568539\n",
            "desv. std :  15.366182573296228\n"
          ]
        },
        {
          "output_type": "display_data",
          "data": {
            "text/plain": [
              "<Figure size 432x288 with 1 Axes>"
            ],
            "image/png": "[encoded data removed]"
          },
          "metadata": {
            "needs_background": "light"
          }
        }
      ]
    },
    {
      "cell_type": "markdown",
      "source": [
        "####Conclusión\n",
        "\n",
        "Los resultados muestran una mejora significativa al comparar este escenario (6 + 6) V/S la situaicón inicial (2 + 2), esto para los 2 indicadores objeto de optimización. A modo de resumen se comparten los boxplots para ambos indicadores.\n",
        "\n"
      ],
      "metadata": {
        "id": "AfG9q0RSVBYK"
      }
    },
    {
      "cell_type": "code",
      "source": [
        "#Graficar boxplots de nivel de atención\n",
        "\n",
        "columns_to_plot = [nivel_atencion_2_2, nivel_atencion_6_6]\n",
        "\n",
        "plt.boxplot(columns_to_plot)\n",
        "plt.ylabel('Nivel de atención diario')\n",
        "plt.xlabel('Escenarios')\n",
        "plt.title('Gráfico Boxplot')\n",
        "plt.xticks([1, 2],\n",
        "           [\"2 + 2\", \"6 + 6\"])\n",
        "plt.show()\n",
        "\n",
        "columns_to_plot = [leadtime_2_2,  leadtime_6_6]\n",
        "\n",
        "plt.boxplot(columns_to_plot)\n",
        "plt.ylabel('Leadtime de un día')\n",
        "plt.xlabel('Escenarios')\n",
        "plt.title('Gráfico Boxplot')\n",
        "plt.xticks([1, 2],\n",
        "           [\"2 + 2\", \"6 + 6\"])\n",
        "plt.show()"
      ],
      "metadata": {
        "colab": {
          "base_uri": "https://localhost:8080/",
          "height": 573
        },
        "id": "HUyBwg7OVpUL",
        "outputId": "0b1a7c76-5f00-49de-a72d-a4897a4f1029"
      },
      "execution_count": null,
      "outputs": [
        {
          "output_type": "display_data",
          "data": {
            "text/plain": [
              "<Figure size 432x288 with 1 Axes>"
            ],
            "image/png": "[encoded data removed]"
          },
          "metadata": {
            "needs_background": "light"
          }
        },
        {
          "output_type": "display_data",
          "data": {
            "text/plain": [
              "<Figure size 432x288 with 1 Axes>"
            ],
            "image/png": "[encoded data removed]"
          },
          "metadata": {
            "needs_background": "light"
          }
        }
      ]
    },
    {
      "cell_type": "markdown",
      "source": [
        "Si bien existe una mejora significativa, aún falta mejorar para llegar a las metas planteadas. Por esta razón se continuará con nuevos experimentos, donde primero incorporaremos 1 nueva persona al Help Desk, primero en el proceso N°1 y luego otro experimento donde esta persona adicional se sumará al proceso N°2. Finalmente el último experimento será con 7 personas en el proceso N°1 y 7 en el proceso N°2. \n",
        "\n",
        "Aquí la configuración:\n",
        "\n",
        "* Experimento 5:\n",
        " * Cantidad agentes en proceso N° 1 = **7**\n",
        " * Cantidad agentes en proceso N° 2 = **6**\n",
        "* Experimento 6:\n",
        " * Cantidad agentes en proceso N° 1 = **6**\n",
        " * Cantidad agentes en proceso N° 2 = **7**\n",
        "* Experimento 7:\n",
        " * Cantidad agentes en proceso N° 1 = **7**\n",
        " * Cantidad agentes en proceso N° 2 = **7**\n",
        "\n",
        "\n"
      ],
      "metadata": {
        "id": "T58w_0Ijdri8"
      }
    },
    {
      "cell_type": "markdown",
      "source": [
        "### Análisis de Resultados Modelo con 13 agentes (7 + 6)\n",
        "\n",
        "* Cantidad agentes en proceso N° 1 = **7**\n",
        "* Cantidad agentes en proceso N° 2 = **6**"
      ],
      "metadata": {
        "id": "e3V3_-VoQdmX"
      }
    },
    {
      "cell_type": "markdown",
      "source": [
        "####Cantidad de tickets creados en un día laboral\n"
      ],
      "metadata": {
        "id": "1xpCFuzG21ed"
      }
    },
    {
      "cell_type": "code",
      "source": [
        "#dataset \"cantidad de tickets creados\" luego de las 30 replicas \n",
        "\n",
        "q_creados_7_6 = (115,\t154,\t121,\t127,\t118,\t116,\t133,\t108,\t121,\t115,\t126,\t124,\t143,\t109,\t127,\t109,\t119,\t125,\t125,\t116,\t108,\t120,\t117,\t117,\t110,\t128,\t120,\t128,\t121,\t130)\n",
        "print('media : ', np.mean(q_creados_7_6))\n",
        "print('median : ', np.median(q_creados_7_6))\n",
        "\n",
        "plt.hist(q_creados_7_6, bins=10, range=(80, 160))\n",
        "plt.ylabel('frecuencia')\n",
        "plt.xlabel('cantidad de tickets creados por día')\n",
        "plt.title('Histograma')\n",
        "plt.show()"
      ],
      "metadata": {
        "id": "alPqfQz5SRO7",
        "colab": {
          "base_uri": "https://localhost:8080/",
          "height": 331
        },
        "outputId": "5bbc437d-31c2-4ff3-ac7a-be43ed9bd8b5"
      },
      "execution_count": null,
      "outputs": [
        {
          "output_type": "stream",
          "name": "stdout",
          "text": [
            "media :  121.66666666666667\n",
            "median :  120.5\n"
          ]
        },
        {
          "output_type": "display_data",
          "data": {
            "text/plain": [
              "<Figure size 432x288 with 1 Axes>"
            ],
            "image/png": "[encoded data removed]"
          },
          "metadata": {
            "needs_background": "light"
          }
        }
      ]
    },
    {
      "cell_type": "markdown",
      "source": [
        "####Cantidad de tickets resueltos en un día laboral"
      ],
      "metadata": {
        "id": "yxxVwU0Y2481"
      }
    },
    {
      "cell_type": "code",
      "source": [
        "#dataset \"cantidad de tickets resueltos\" luego de las 30 replicas \n",
        "\n",
        "q_resueltos_7_6 = (101,\t106,\t95,\t103,\t107,\t98,\t107,\t91,\t109,\t107,\t113,\t103,\t107,\t99,\t104,\t97,\t111,\t106,\t96,\t101,\t98,\t101,\t105,\t103,\t105,\t107,\t107,\t110,\t100,\t100)\n",
        "print('media : ', np.mean(q_resueltos_7_6))\n",
        "print('median : ', np.median(q_resueltos_7_6))\n",
        "\n",
        "plt.hist(q_resueltos_7_6, bins=10, range=(80, 120))\n",
        "plt.ylabel('frecuencia')\n",
        "plt.xlabel('cantidad de tickets resueltos por día')\n",
        "plt.title('Histograma')\n",
        "plt.show()"
      ],
      "metadata": {
        "id": "N-E0cduiSRO8",
        "colab": {
          "base_uri": "https://localhost:8080/",
          "height": 331
        },
        "outputId": "54c773a8-6b23-4be5-c471-403060346248"
      },
      "execution_count": null,
      "outputs": [
        {
          "output_type": "stream",
          "name": "stdout",
          "text": [
            "media :  103.23333333333333\n",
            "median :  103.5\n"
          ]
        },
        {
          "output_type": "display_data",
          "data": {
            "text/plain": [
              "<Figure size 432x288 with 1 Axes>"
            ],
            "image/png": "[encoded data removed]"
          },
          "metadata": {
            "needs_background": "light"
          }
        }
      ]
    },
    {
      "cell_type": "markdown",
      "source": [
        "####Nivel de atención de un día laboral"
      ],
      "metadata": {
        "id": "O8hbKnLv3L7q"
      }
    },
    {
      "cell_type": "code",
      "source": [
        "#dataset \"nivel de atención\" luego de las 30 replicas \n",
        "\n",
        "nivel_atencion_7_6 = (0.878260869565217,\t0.688311688311688,\t0.785123966942148,\t0.811023622047244,\t0.906779661016949,\t0.844827586206896,\t0.804511278195488,\t0.842592592592592,\t0.900826446280991,\t0.930434782608695,\t0.896825396825396,\t0.830645161290322,\t0.748251748251748,\t0.908256880733945,\t0.818897637795275,\t0.889908256880733,\t0.932773109243697,\t0.848,\t0.768,\t0.870689655172413,\t0.907407407407407,\t0.841666666666666,\t0.897435897435897,\t0.88034188034188,\t0.954545454545454,\t0.8359375,\t0.891666666666666,\t0.859375,\t0.826446280991735,\t0.7692307692)\n",
        "print('media : ', np.mean(nivel_atencion_7_6))\n",
        "print('median : ', np.median(nivel_atencion_7_6))\n",
        "print('desv. std : ', np.std(nivel_atencion_7_6))\n",
        "\n",
        "plt.hist(nivel_atencion_7_6, bins=10, range=(0.6, 1))\n",
        "plt.ylabel('frecuencia')\n",
        "plt.xlabel('Nivel de atención de un día')\n",
        "plt.title('Histograma')\n",
        "plt.show()"
      ],
      "metadata": {
        "id": "9uCixJw-SRO8",
        "colab": {
          "base_uri": "https://localhost:8080/",
          "height": 347
        },
        "outputId": "91bddefa-bffa-433c-ff2f-db9641ff320c"
      },
      "execution_count": null,
      "outputs": [
        {
          "output_type": "stream",
          "name": "stdout",
          "text": [
            "media :  0.8522997954405713\n",
            "median :  0.8536874999999999\n",
            "desv. std :  0.059550009445770095\n"
          ]
        },
        {
          "output_type": "display_data",
          "data": {
            "text/plain": [
              "<Figure size 432x288 with 1 Axes>"
            ],
            "image/png": "[encoded data removed]"
          },
          "metadata": {
            "needs_background": "light"
          }
        }
      ]
    },
    {
      "cell_type": "markdown",
      "source": [
        "####Leadtime end to end de un día laboral"
      ],
      "metadata": {
        "id": "gUNUgbAl3TwR"
      }
    },
    {
      "cell_type": "code",
      "source": [
        "#dataset \"leadtime\" luego de las 30 replicas \n",
        "\n",
        "leadtime_7_6 = (49.1583700819085,\t99.0533526345536,\t61.7102852322823,\t82.0716740199001,\t75.8669605798243,\t58.9988543359881,\t91.7117890817056,\t47.9534404529701,\t63.0071097367501,\t50.0256823940301,\t47.9709323379706,\t64.4313735298912,\t76.4917384357869,\t44.8833550228611,\t55.0968182281751,\t56.8770522018284,\t65.5131876839091,\t73.9362035659634,\t79.8549101663167,\t46.5015064883481,\t52.5896192016395,\t52.3636933077031,\t50.5158797155093,\t56.374835893221,\t51.894337294223,\t58.7121738883838,\t65.2399701292719,\t56.4945455351782,\t63.1323334660087,\t89.98064151)\n",
        "print('media : ', np.mean(leadtime_7_6))\n",
        "print('median : ', np.median(leadtime_7_6))\n",
        "print('desv. std : ', np.std(leadtime_7_6))\n",
        "\n",
        "plt.hist(leadtime_7_6, bins=10, range=(35, 110))\n",
        "plt.ylabel('frecuencia')\n",
        "plt.xlabel('Leadtime (promedio) de un día')\n",
        "plt.title('Histograma')\n",
        "plt.show()"
      ],
      "metadata": {
        "id": "RP7QCWOwSRO8",
        "colab": {
          "base_uri": "https://localhost:8080/",
          "height": 348
        },
        "outputId": "34b03e0e-155f-4675-b56b-7624a0bff476"
      },
      "execution_count": null,
      "outputs": [
        {
          "output_type": "stream",
          "name": "stdout",
          "text": [
            "media :  62.947087538403395\n",
            "median :  58.85551411218595\n",
            "desv. std :  14.278202691447657\n"
          ]
        },
        {
          "output_type": "display_data",
          "data": {
            "text/plain": [
              "<Figure size 432x288 with 1 Axes>"
            ],
            "image/png": "[encoded data removed]"
          },
          "metadata": {
            "needs_background": "light"
          }
        }
      ]
    },
    {
      "cell_type": "markdown",
      "source": [
        "####Conclusiones \n",
        "Este escenario que adiciona una nueva persona al Help Desk (al primer proceso), no genera resultados muy diferentes al escenario con 6 y 6 agentes visto anteriormente, y en consecuencia tampoco vemos cumplimiento del target trazado por el negocio."
      ],
      "metadata": {
        "id": "2SfEvvSbeneY"
      }
    },
    {
      "cell_type": "code",
      "source": [
        "#Graficar boxplots de nivel de atención\n",
        "\n",
        "columns_to_plot = [nivel_atencion_6_6, nivel_atencion_7_6]\n",
        "\n",
        "plt.boxplot(columns_to_plot)\n",
        "plt.ylabel('Nivel de atención diario')\n",
        "plt.xlabel('Escenarios')\n",
        "plt.title('Gráfico Boxplot')\n",
        "plt.xticks([1, 2],\n",
        "           [\"6 + 6\", \"7 + 6\"])\n",
        "plt.show()\n",
        "\n",
        "columns_to_plot = [leadtime_6_6,  leadtime_7_6]\n",
        "\n",
        "plt.boxplot(columns_to_plot)\n",
        "plt.ylabel('Leadtime de un día')\n",
        "plt.xlabel('Escenarios')\n",
        "plt.title('Gráfico Boxplot')\n",
        "plt.xticks([1, 2],\n",
        "           [\"6 + 6\", \"7 + 6\"])\n",
        "plt.show()"
      ],
      "metadata": {
        "colab": {
          "base_uri": "https://localhost:8080/",
          "height": 573
        },
        "id": "ii7gHUoKfH9s",
        "outputId": "82f21d27-64f9-42ad-9060-cc4e9339ed3c"
      },
      "execution_count": null,
      "outputs": [
        {
          "output_type": "display_data",
          "data": {
            "text/plain": [
              "<Figure size 432x288 with 1 Axes>"
            ],
            "image/png": "[encoded data removed]"
          },
          "metadata": {
            "needs_background": "light"
          }
        },
        {
          "output_type": "display_data",
          "data": {
            "text/plain": [
              "<Figure size 432x288 with 1 Axes>"
            ],
            "image/png": "[encoded data removed]"
          },
          "metadata": {
            "needs_background": "light"
          }
        }
      ]
    },
    {
      "cell_type": "markdown",
      "source": [
        "Si quisieramos calcular la probabilidad de cumplir el target en nivel de atención y en leadtime, podríamos hacerlo con el siguiente código:"
      ],
      "metadata": {
        "id": "o7kuuCwlfHNh"
      }
    },
    {
      "cell_type": "code",
      "source": [
        "#nivel de atención\n",
        "target_na= 0.85\n",
        "prob_mayor_85 = stats.norm(np.mean(nivel_atencion_7_6), np.std(nivel_atencion_7_6)).sf(target_na)\n",
        "print('Prob cumplir target Nivel de atención: ',prob_mayor_85)\n",
        "\n",
        "\n",
        "#Leadtime\n",
        "target_lt= 60\n",
        "prob_menor_60 = stats.norm(np.mean(leadtime_7_6), np.std(leadtime_7_6)).cdf(target_lt)\n",
        "print('Prob cumplir target Nivel de atención: ',prob_menor_60)"
      ],
      "metadata": {
        "colab": {
          "base_uri": "https://localhost:8080/"
        },
        "id": "UupbV52GgBCG",
        "outputId": "2acfa076-172c-4b8a-db96-2e3baabbef96"
      },
      "execution_count": null,
      "outputs": [
        {
          "output_type": "stream",
          "name": "stdout",
          "text": [
            "Prob cumplir target Nivel de atención:  0.5154031482093854\n",
            "Prob cumplir target Nivel de atención:  0.4182374164430283\n"
          ]
        }
      ]
    },
    {
      "cell_type": "markdown",
      "source": [
        "La probabilidad es muy baja, debemos seguir iterando con otro escenario."
      ],
      "metadata": {
        "id": "Nu0LILgvhWQK"
      }
    },
    {
      "cell_type": "markdown",
      "source": [
        "### Análisis de Resultados Modelo con 13 agentes (6 + 7)\n",
        "\n",
        "* Cantidad agentes en proceso N° 1 = **6**\n",
        "* Cantidad agentes en proceso N° 2 = **7**"
      ],
      "metadata": {
        "id": "EQmrizlSQhBz"
      }
    },
    {
      "cell_type": "markdown",
      "source": [
        "####Cantidad de tickets creados en un día laboral"
      ],
      "metadata": {
        "id": "tGm2nAl83YR8"
      }
    },
    {
      "cell_type": "code",
      "source": [
        "#dataset \"cantidad de tickets creados\" luego de las 30 replicas \n",
        "\n",
        "q_creados_6_7 = (135,\t114,\t130,\t139,\t117,\t109,\t96,\t110,\t123,\t127,\t133,\t126,\t115,\t125,\t127,\t114,\t121,\t109,\t124,\t138,\t115,\t113,\t110,\t113,\t134,\t121,\t122,\t123,\t138,\t117)\n",
        "print('media : ', np.mean(q_creados_6_7))\n",
        "print('median : ', np.median(q_creados_6_7))\n",
        "\n",
        "plt.hist(q_creados_6_7, bins=10, range=(80, 160))\n",
        "plt.show()"
      ],
      "metadata": {
        "id": "UGd-ARsOVWK5",
        "colab": {
          "base_uri": "https://localhost:8080/",
          "height": 300
        },
        "outputId": "f713cc32-5dc8-452f-d451-6beb59d9dc32"
      },
      "execution_count": null,
      "outputs": [
        {
          "output_type": "stream",
          "name": "stdout",
          "text": [
            "media :  121.26666666666667\n",
            "median :  121.5\n"
          ]
        },
        {
          "output_type": "display_data",
          "data": {
            "text/plain": [
              "<Figure size 432x288 with 1 Axes>"
            ],
            "image/png": "[encoded data removed]"
          },
          "metadata": {
            "needs_background": "light"
          }
        }
      ]
    },
    {
      "cell_type": "markdown",
      "source": [
        "####Cantidad de tickets resueltos en un día laboral"
      ],
      "metadata": {
        "id": "jUtfhqI03dw9"
      }
    },
    {
      "cell_type": "code",
      "source": [
        "#dataset \"cantidad de tickets resueltos\" luego de las 30 replicas \n",
        "\n",
        "q_resueltos_6_7 = (122,\t103,\t116,\t120,\t108,\t99,\t88,\t97,\t112,\t110,\t115,\t110,\t104,\t109,\t115,\t97,\t107,\t98,\t110,\t122,\t108,\t101,\t100,\t104,\t112,\t102,\t106,\t105,\t122,\t105)\n",
        "print('media : ', np.mean(q_resueltos_6_7))\n",
        "print('median : ', np.median(q_resueltos_6_7))\n",
        "\n",
        "plt.hist(q_resueltos_6_7, bins=10, range=(80, 140))\n",
        "plt.show()"
      ],
      "metadata": {
        "id": "fKggcFzWVWK6",
        "colab": {
          "base_uri": "https://localhost:8080/",
          "height": 300
        },
        "outputId": "4a67e367-8a94-4e87-9ee5-44a28039f9ed"
      },
      "execution_count": null,
      "outputs": [
        {
          "output_type": "stream",
          "name": "stdout",
          "text": [
            "media :  107.56666666666666\n",
            "median :  107.5\n"
          ]
        },
        {
          "output_type": "display_data",
          "data": {
            "text/plain": [
              "<Figure size 432x288 with 1 Axes>"
            ],
            "image/png": "[encoded data removed]"
          },
          "metadata": {
            "needs_background": "light"
          }
        }
      ]
    },
    {
      "cell_type": "markdown",
      "source": [
        "####Nivel de atención de un día laboral"
      ],
      "metadata": {
        "id": "pNqTeRET3h-N"
      }
    },
    {
      "cell_type": "code",
      "source": [
        "#dataset \"nivel de atención\" luego de las 30 replicas \n",
        "\n",
        "nivel_atencion_6_7 = (0.903703703703703,\t0.903508771929824,\t0.892307692307692,\t0.863309352517985,\t0.923076923076923,\t0.908256880733945,\t0.916666666666666,\t0.881818181818181,\t0.910569105691056,\t0.866141732283464,\t0.864661654135338,\t0.873015873015873,\t0.904347826086956,\t0.872,\t0.905511811023622,\t0.850877192982456,\t0.884297520661157,\t0.899082568807339,\t0.887096774193548,\t0.884057971014492,\t0.939130434782608,\t0.893805309734513,\t0.909090909090909,\t0.920353982300884,\t0.835820895522388,\t0.84297520661157,\t0.868852459016393,\t0.853658536585365,\t0.884057971014492,\t0.8974358974)\n",
        "print('media : ', np.mean(nivel_atencion_6_7))\n",
        "print('median : ', np.median(nivel_atencion_6_7))\n",
        "print('desv. std : ', np.std(nivel_atencion_6_7))\n",
        "\n",
        "plt.hist(nivel_atencion_6_7, bins=10, range=(0.8, 1))\n",
        "plt.show()"
      ],
      "metadata": {
        "id": "qglpeVnsVWK6",
        "colab": {
          "base_uri": "https://localhost:8080/",
          "height": 317
        },
        "outputId": "4f669202-6359-4807-d082-129f862c723f"
      },
      "execution_count": null,
      "outputs": [
        {
          "output_type": "stream",
          "name": "stdout",
          "text": [
            "media :  0.8879829934903113\n",
            "median :  0.88970223325062\n",
            "desv. std :  0.02468018420139606\n"
          ]
        },
        {
          "output_type": "display_data",
          "data": {
            "text/plain": [
              "<Figure size 432x288 with 1 Axes>"
            ],
            "image/png": "[encoded data removed]"
          },
          "metadata": {
            "needs_background": "light"
          }
        }
      ]
    },
    {
      "cell_type": "markdown",
      "source": [
        "####Leadtime end to end de un día laboral"
      ],
      "metadata": {
        "id": "UHWMVqPr3ntN"
      }
    },
    {
      "cell_type": "code",
      "source": [
        "#dataset \"leadtime\" luego de las 30 replicas \n",
        "\n",
        "leadtime_6_7 = (53.1975596318308,\t49.0244255473882,\t56.4567660607805,\t62.315738496735,\t47.4281121105065,\t46.6693427385964,\t41.9643835213676,\t49.8300003236978,\t45.3129103834484,\t46.2416443983409,\t54.8283574717164,\t45.0278871046012,\t46.4974472088699,\t47.1194241680025,\t49.210585830925,\t42.9706044889407,\t45.220848756284,\t44.3338572635864,\t45.9869260692168,\t47.7193533971424,\t51.6963373720519,\t45.9063969156246,\t45.7106181342354,\t45.9948574833915,\t49.4042514184657,\t45.8652389578306,\t44.8065634654348,\t47.3734979407537,\t53.3425928733828,\t47.06012839)\n",
        "print('media : ', np.mean(leadtime_6_7))\n",
        "print('median : ', np.median(leadtime_6_7))\n",
        "print('desv. std : ', np.std(leadtime_6_7))\n",
        "\n",
        "plt.hist(leadtime_6_7, bins=10, range=(35, 70))\n",
        "plt.show()"
      ],
      "metadata": {
        "id": "AeR5uRhfVWK6",
        "colab": {
          "base_uri": "https://localhost:8080/",
          "height": 317
        },
        "outputId": "17b2dce3-193b-4cca-c00e-19d717f26901"
      },
      "execution_count": null,
      "outputs": [
        {
          "output_type": "stream",
          "name": "stdout",
          "text": [
            "media :  48.15055526410494\n",
            "median :  46.8647355642982\n",
            "desv. std :  4.244337367479355\n"
          ]
        },
        {
          "output_type": "display_data",
          "data": {
            "text/plain": [
              "<Figure size 432x288 with 1 Axes>"
            ],
            "image/png": "[encoded data removed]"
          },
          "metadata": {
            "needs_background": "light"
          }
        }
      ]
    },
    {
      "cell_type": "markdown",
      "source": [
        "####Conclusiones\n",
        "\n",
        "Este escenario que adiciona una nueva persona al Help Desk (al segundo proceso), vemos que si genera resultados diferentes al escenario con 6 y 6 agentes visto anteriormente. Estos resultados se acercan y calzan muy bien con las metas trazadas."
      ],
      "metadata": {
        "id": "lNVEmfugh9Fs"
      }
    },
    {
      "cell_type": "code",
      "source": [
        "#Graficar boxplots de nivel de atención\n",
        "\n",
        "columns_to_plot = [nivel_atencion_6_6, nivel_atencion_6_7]\n",
        "\n",
        "plt.boxplot(columns_to_plot)\n",
        "plt.ylabel('Nivel de atención diario')\n",
        "plt.xlabel('Escenarios')\n",
        "plt.title('Gráfico Boxplot')\n",
        "plt.xticks([1, 2],\n",
        "           [\"6 + 6\", \"6 + 7\"])\n",
        "plt.show()\n",
        "\n",
        "columns_to_plot = [leadtime_6_6,  leadtime_6_7]\n",
        "\n",
        "plt.boxplot(columns_to_plot)\n",
        "plt.ylabel('Leadtime de un día')\n",
        "plt.xlabel('Escenarios')\n",
        "plt.title('Gráfico Boxplot')\n",
        "plt.xticks([1, 2],\n",
        "           [\"6 + 6\", \"6 + 7\"])\n",
        "plt.show()"
      ],
      "metadata": {
        "colab": {
          "base_uri": "https://localhost:8080/",
          "height": 573
        },
        "id": "57qJXKfjh_yb",
        "outputId": "3ab91b75-4a79-4f55-9ccb-d39ef0c777c9"
      },
      "execution_count": null,
      "outputs": [
        {
          "output_type": "display_data",
          "data": {
            "text/plain": [
              "<Figure size 432x288 with 1 Axes>"
            ],
            "image/png": "[encoded data removed]"
          },
          "metadata": {
            "needs_background": "light"
          }
        },
        {
          "output_type": "display_data",
          "data": {
            "text/plain": [
              "<Figure size 432x288 with 1 Axes>"
            ],
            "image/png": "[encoded data removed]"
          },
          "metadata": {
            "needs_background": "light"
          }
        }
      ]
    },
    {
      "cell_type": "markdown",
      "source": [
        "Si quisieramos calcular la probabilidad de cumplir el target en nivel de atención y en leadtime, podríamos hacerlo con el siguiente código:"
      ],
      "metadata": {
        "id": "B2rY8xRfioPy"
      }
    },
    {
      "cell_type": "code",
      "source": [
        "#nivel de atención\n",
        "target_na= 0.85\n",
        "prob_mayor_85 = stats.norm(np.mean(nivel_atencion_6_7), np.std(nivel_atencion_6_7)).sf(target_na)\n",
        "print('Prob cumplir target Nivel de atención: ',prob_mayor_85)\n",
        "\n",
        "\n",
        "#Leadtime\n",
        "target_lt= 60\n",
        "prob_menor_60 = stats.norm(np.mean(leadtime_6_7), np.std(leadtime_6_7)).cdf(target_lt)\n",
        "print('Prob cumplir target Leadtime: ',prob_menor_60)"
      ],
      "metadata": {
        "colab": {
          "base_uri": "https://localhost:8080/"
        },
        "id": "6EVcEHWPixDH",
        "outputId": "27c0abc1-4fb6-448c-a79b-ee462f829d52"
      },
      "execution_count": 407,
      "outputs": [
        {
          "output_type": "stream",
          "name": "stdout",
          "text": [
            "Prob cumplir target Nivel de atención:  0.9380987916114423\n",
            "Prob cumplir target Leadtime:  0.9973794106642423\n"
          ]
        }
      ]
    },
    {
      "cell_type": "markdown",
      "source": [
        "Una buena seguridad es de 85% o 90%, en este caso ambos cuentan con una probabilidad de cumplirse sobre 90%.\n",
        "\n",
        "\n",
        "De todas formas haremos el último experimento, tomaremos este escenario óptimo (6 + 7) y le incorporaremos una nueva persona, pero ahora al primer proceso de tal forma de tener 7 y 7 agentes, veamos si genera una mejora."
      ],
      "metadata": {
        "id": "Oz1VNeTPi7jp"
      }
    },
    {
      "cell_type": "markdown",
      "source": [
        "### Análisis de Resultados Modelo con 14 agentes (7 + 7)\n",
        "\n",
        "* Cantidad agentes en proceso N° 1 = **7**\n",
        "* Cantidad agentes en proceso N° 2 = **7**"
      ],
      "metadata": {
        "id": "saSRKvbla0i7"
      }
    },
    {
      "cell_type": "markdown",
      "source": [
        "####Cantidad de tickets creados en un día laboral"
      ],
      "metadata": {
        "id": "t-XtTqrw3w01"
      }
    },
    {
      "cell_type": "code",
      "source": [
        "#dataset \"cantidad de tickets creados\" luego de las 30 replicas \n",
        "\n",
        "q_creados_7_7 = (105,\t125,\t119,\t108,\t126,\t127,\t121,\t115,\t142,\t118,\t112,\t143,\t108,\t117,\t132,\t117,\t125,\t120,\t117,\t119,\t100,\t113,\t118,\t120,\t104,\t123,\t124,\t134,\t133,\t115)\n",
        "print('media : ', np.mean(q_creados_7_7))\n",
        "print('median : ', np.median(q_creados_7_7))\n",
        "\n",
        "plt.hist(q_creados_7_7, bins=10, range=(90, 150))\n",
        "plt.show()"
      ],
      "metadata": {
        "id": "wuaYD_Wia_JK",
        "colab": {
          "base_uri": "https://localhost:8080/",
          "height": 300
        },
        "outputId": "1ea912da-1ed8-4ba2-8522-222041a31488"
      },
      "execution_count": null,
      "outputs": [
        {
          "output_type": "stream",
          "name": "stdout",
          "text": [
            "media :  120.0\n",
            "median :  119.0\n"
          ]
        },
        {
          "output_type": "display_data",
          "data": {
            "text/plain": [
              "<Figure size 432x288 with 1 Axes>"
            ],
            "image/png": "[encoded data removed]"
          },
          "metadata": {
            "needs_background": "light"
          }
        }
      ]
    },
    {
      "cell_type": "markdown",
      "source": [
        "####Cantidad de tickets resueltos en un día laboral"
      ],
      "metadata": {
        "id": "pmNZ4uLN31Vq"
      }
    },
    {
      "cell_type": "code",
      "source": [
        "#dataset \"cantidad de tickets resueltos\" luego de las 30 replicas \n",
        "\n",
        "q_resueltos_7_7 = (96,\t111,\t111,\t100,\t111,\t110,\t104,\t108,\t122,\t97,\t92,\t125,\t96,\t101,\t116,\t103,\t105,\t106,\t98,\t106,\t87,\t99,\t110,\t107,\t90,\t107,\t105,\t121,\t113,\t96)\n",
        "print('media : ', np.mean(q_resueltos_7_7))\n",
        "print('median : ', np.median(q_resueltos_7_7))\n",
        "\n",
        "plt.hist(q_resueltos_7_7, bins=10, range=(80, 140))\n",
        "plt.show()"
      ],
      "metadata": {
        "id": "mCKSBNdpa_JL",
        "colab": {
          "base_uri": "https://localhost:8080/",
          "height": 300
        },
        "outputId": "6dd14edf-b00e-4dc5-a17b-9fb450fc23e6"
      },
      "execution_count": null,
      "outputs": [
        {
          "output_type": "stream",
          "name": "stdout",
          "text": [
            "media :  105.1\n",
            "median :  105.5\n"
          ]
        },
        {
          "output_type": "display_data",
          "data": {
            "text/plain": [
              "<Figure size 432x288 with 1 Axes>"
            ],
            "image/png": "[encoded data removed]"
          },
          "metadata": {
            "needs_background": "light"
          }
        }
      ]
    },
    {
      "cell_type": "markdown",
      "source": [
        "####Nivel de atención de un día laboral"
      ],
      "metadata": {
        "id": "CeQ07kOv34g0"
      }
    },
    {
      "cell_type": "code",
      "source": [
        "#dataset \"nivel de atención\" luego de las 30 replicas \n",
        "\n",
        "nivel_atencion_7_7 = (0.914285714285714,\t0.888,\t0.932773109243697,\t0.925925925925925,\t0.88095238095238,\t0.866141732283464,\t0.859504132231405,\t0.939130434782608,\t0.859154929577464,\t0.822033898305084,\t0.821428571428571,\t0.874125874125874,\t0.888888888888888,\t0.863247863247863,\t0.878787878787878,\t0.88034188034188,\t0.84,\t0.883333333333333,\t0.837606837606837,\t0.890756302521008,\t0.87,\t0.876106194690265,\t0.932203389830508,\t0.891666666666666,\t0.865384615384615,\t0.869918699186991,\t0.846774193548387,\t0.902985074626865,\t0.849624060150376,\t0.8347826087)\n",
        "print('media : ', np.mean(nivel_atencion_7_7))\n",
        "print('median : ', np.median(nivel_atencion_7_7))\n",
        "print('desv. std : ', np.std(nivel_atencion_7_7))\n",
        "\n",
        "plt.hist(nivel_atencion_7_7, bins=10, range=(0.75, 1))\n",
        "plt.show()"
      ],
      "metadata": {
        "id": "beGtc9A-a_JL",
        "colab": {
          "base_uri": "https://localhost:8080/",
          "height": 317
        },
        "outputId": "6f90e2da-91af-4c12-baa5-77be7ae72665"
      },
      "execution_count": null,
      "outputs": [
        {
          "output_type": "stream",
          "name": "stdout",
          "text": [
            "media :  0.8761955063551514\n",
            "median :  0.8751160344080695\n",
            "desv. std :  0.03100813690943246\n"
          ]
        },
        {
          "output_type": "display_data",
          "data": {
            "text/plain": [
              "<Figure size 432x288 with 1 Axes>"
            ],
            "image/png": "[encoded data removed]"
          },
          "metadata": {
            "needs_background": "light"
          }
        }
      ]
    },
    {
      "cell_type": "markdown",
      "source": [
        "####Leadtime end to end de un día laboral"
      ],
      "metadata": {
        "id": "HL3nJnUv39Cv"
      }
    },
    {
      "cell_type": "code",
      "source": [
        "#dataset \"leadtime\" luego de las 30 replicas \n",
        "\n",
        "leadtime_7_7 = (43.322609896691,\t47.084180425769,\t45.7720978324494,\t46.156849988107,\t46.6197117347084,\t57.2581328874476,\t56.0493584196893,\t45.6947766761175,\t56.532099201808,\t48.0833235558764,\t47.7781348669569,\t48.4721537127348,\t45.5728938345168,\t51.8554585602254,\t55.4767600336189,\t48.3963766899343,\t45.5228953511932,\t47.6058706796067,\t44.3303444366427,\t44.9878699944936,\t45.7933292366337,\t45.1188994440432,\t43.6738025569844,\t47.9401518730451,\t41.117363422725,\t46.8715102764807,\t47.0931850707286,\t68.2184092771946,\t65.1999877058515,\t46.60710628)\n",
        "print('media : ', np.mean(leadtime_7_7))\n",
        "print('median : ', np.median(leadtime_7_7))\n",
        "print('desv. std : ', np.std(leadtime_7_7))\n",
        "\n",
        "plt.hist(leadtime_7_7, bins=10, range=(35, 75))\n",
        "plt.show()"
      ],
      "metadata": {
        "id": "Qux97slUa_JL",
        "colab": {
          "base_uri": "https://localhost:8080/",
          "height": 317
        },
        "outputId": "62f1bce4-82ef-4f63-8a8a-0f34cab16adc"
      },
      "execution_count": null,
      "outputs": [
        {
          "output_type": "stream",
          "name": "stdout",
          "text": [
            "media :  49.00685479740911\n",
            "median :  46.97784535112485\n",
            "desv. std :  6.123806425763224\n"
          ]
        },
        {
          "output_type": "display_data",
          "data": {
            "text/plain": [
              "<Figure size 432x288 with 1 Axes>"
            ],
            "image/png": "[encoded data removed]"
          },
          "metadata": {
            "needs_background": "light"
          }
        }
      ]
    },
    {
      "cell_type": "markdown",
      "source": [
        "####Conclusiones\n",
        "\n",
        "Al comparar los resultados de este escenario (7+7) V/S el escenario óptimo anterior con 6 + 7 agentes, no vemos diferencias. Por un tema de eficiencia recomendamos el escenario con 6 + 7 agentes."
      ],
      "metadata": {
        "id": "8r1qoKEyj-rn"
      }
    },
    {
      "cell_type": "code",
      "source": [
        "#Graficar boxplots de nivel de atención\n",
        "\n",
        "columns_to_plot = [nivel_atencion_6_7, nivel_atencion_7_7]\n",
        "\n",
        "plt.boxplot(columns_to_plot)\n",
        "plt.ylabel('Nivel de atención diario')\n",
        "plt.xlabel('Escenarios')\n",
        "plt.title('Gráfico Boxplot')\n",
        "plt.xticks([1, 2],\n",
        "           [\"6 + 7\", \"7 + 7\"])\n",
        "plt.show()\n",
        "\n",
        "columns_to_plot = [leadtime_6_7,  leadtime_7_7]\n",
        "\n",
        "plt.boxplot(columns_to_plot)\n",
        "plt.ylabel('Leadtime de un día')\n",
        "plt.xlabel('Escenarios')\n",
        "plt.title('Gráfico Boxplot')\n",
        "plt.xticks([1, 2],\n",
        "           [\"6 + 7\", \"7 + 7\"])\n",
        "plt.show()"
      ],
      "metadata": {
        "colab": {
          "base_uri": "https://localhost:8080/",
          "height": 573
        },
        "id": "9WKLKlAIkAxn",
        "outputId": "3834d7dc-80d9-4648-d691-750e311e163c"
      },
      "execution_count": null,
      "outputs": [
        {
          "output_type": "display_data",
          "data": {
            "text/plain": [
              "<Figure size 432x288 with 1 Axes>"
            ],
            "image/png": "[encoded data removed]"
          },
          "metadata": {
            "needs_background": "light"
          }
        },
        {
          "output_type": "display_data",
          "data": {
            "text/plain": [
              "<Figure size 432x288 with 1 Axes>"
            ],
            "image/png": "[encoded data removed]"
          },
          "metadata": {
            "needs_background": "light"
          }
        }
      ]
    },
    {
      "cell_type": "markdown",
      "source": [
        "Al calcular la probabilidad de cumplir target vemos que este escenario tiene menos capacidad que el anterior con 6 + 7 agentes."
      ],
      "metadata": {
        "id": "M5_Vgn7BkuZE"
      }
    },
    {
      "cell_type": "code",
      "source": [
        "#nivel de atención\n",
        "target_na= 0.85\n",
        "prob_mayor_85 = stats.norm(np.mean(nivel_atencion_7_7), np.std(nivel_atencion_7_7)).sf(target_na)\n",
        "print('Prob cumplir target Nivel de atención: ',prob_mayor_85)\n",
        "\n",
        "\n",
        "#Leadtime\n",
        "target_lt= 60\n",
        "prob_menor_60 = stats.norm(np.mean(leadtime_7_7), np.std(leadtime_7_7)).cdf(target_lt)\n",
        "print('Prob cumplir target Leadtime: ',prob_menor_60)"
      ],
      "metadata": {
        "colab": {
          "base_uri": "https://localhost:8080/"
        },
        "id": "IPMCc6R2ku12",
        "outputId": "fb8f01ec-e40a-47a2-c672-e1e5ef616919"
      },
      "execution_count": 406,
      "outputs": [
        {
          "output_type": "stream",
          "name": "stdout",
          "text": [
            "Prob cumplir target Nivel de atención:  0.8008872325810505\n",
            "Prob cumplir target Leadtime:  0.9636850210964173\n"
          ]
        }
      ]
    },
    {
      "cell_type": "markdown",
      "source": [
        "A continuación un resumen con todos los escenarios desarrollados:"
      ],
      "metadata": {
        "id": "-aT6Oxnznlzh"
      }
    },
    {
      "cell_type": "code",
      "source": [
        "#Boxplot resumen\n",
        "columns_to_plot = [leadtime_2_2, leadtime_6_6, leadtime_6_7, leadtime_7_6, leadtime_7_7]\n",
        "plt.boxplot(columns_to_plot)\n",
        "plt.xticks([1, 2, 3 , 4, 5],\n",
        "           [\"2 + 2\", \"6 + 6\", \"7 + 6\", \"6 + 7\", \"7 + 7\"])\n",
        "plt.show()"
      ],
      "metadata": {
        "colab": {
          "base_uri": "https://localhost:8080/",
          "height": 268
        },
        "id": "xXC4cmApPp9R",
        "outputId": "a1eac7d6-8e31-449a-8a44-4e8c04871587"
      },
      "execution_count": null,
      "outputs": [
        {
          "output_type": "display_data",
          "data": {
            "text/plain": [
              "<Figure size 432x288 with 1 Axes>"
            ],
            "image/png": "[encoded data removed]"
          },
          "metadata": {
            "needs_background": "light"
          }
        }
      ]
    },
    {
      "cell_type": "markdown",
      "source": [
        "La invitación es a seguir planteando hipótesis y a crear experimientos, por ejemplo:\n",
        "\n",
        "* ¿qué pasa sí trabajamos con un modelo con 5 + 7 agentes?\n",
        "* ¿qué pasa si al modelo con 6 + 6 agentes al proceso N°2 le aplicamos una mejora que reduzca la media de ese proceso en 2 minutos ?\n",
        "\n",
        "o está que procederé a testear:\n",
        "* ¿qué pasa sí el proceso ahora es más Lean, es decir los agentes tendrán la habilidad de desarrollar de forma autónoma tanto el proceso N°1 como el N°2, es decir, sin tener especialista por proceso, y así evitar dependencias ?\n",
        "\n",
        "\n",
        "Para esta última idea procederé a crear un nuevo modelo donde los agentes trabajan de punta a punta (end to ened) los requerimientos, mantendré la misma variabialidad en el arribo de requerimientos y en los tiempos de proceso N°1 y proceso N°2, pero comenzaré con 10 agentes en el Help Desk."
      ],
      "metadata": {
        "id": "pZOGpxUzoE8H"
      }
    },
    {
      "cell_type": "markdown",
      "source": [
        "###Análisis de Resultados Modelo Lean con 10 agentes\n",
        "\n",
        "* Cantidad agentes en sistema: 10 (multi-skill)"
      ],
      "metadata": {
        "id": "irf9JNzWqOE-"
      }
    },
    {
      "cell_type": "markdown",
      "source": [
        "####Cantidad de tickets creados en un día laboral"
      ],
      "metadata": {
        "id": "L_AEQ5aVqifR"
      }
    },
    {
      "cell_type": "code",
      "source": [
        "#dataset \"cantidad de tickets creados\" luego de las 30 replicas \n",
        "\n",
        "q_creados_10 = (125,\t121,\t127,\t118,\t111,\t114,\t118,\t117,\t129,\t97,\t132,\t119,\t101,\t113,\t102,\t125,\t132,\t111,\t130,\t108,\t120,\t118,\t123,\t107,\t118,\t138,\t109,\t105,\t111,\t121)\n",
        "print('media : ', np.mean(q_creados_10))\n",
        "print('median : ', np.median(q_creados_10))\n",
        "\n",
        "plt.hist(q_creados_10, bins=10, range=(90, 140))\n",
        "plt.show()"
      ],
      "metadata": {
        "colab": {
          "base_uri": "https://localhost:8080/",
          "height": 300
        },
        "id": "Y7mUn7VKqVku",
        "outputId": "7b1a3f10-30bd-46f8-f13b-43974b3fd1e5"
      },
      "execution_count": null,
      "outputs": [
        {
          "output_type": "stream",
          "name": "stdout",
          "text": [
            "media :  117.33333333333333\n",
            "median :  118.0\n"
          ]
        },
        {
          "output_type": "display_data",
          "data": {
            "text/plain": [
              "<Figure size 432x288 with 1 Axes>"
            ],
            "image/png": "[encoded data removed]"
          },
          "metadata": {
            "needs_background": "light"
          }
        }
      ]
    },
    {
      "cell_type": "markdown",
      "source": [
        "####Cantidad de tickets resueltos en un día laboral"
      ],
      "metadata": {
        "id": "Mae57TO9qk5F"
      }
    },
    {
      "cell_type": "code",
      "source": [
        "#dataset \"cantidad de tickets resueltos\" luego de las 30 replicas \n",
        "\n",
        "q_resueltos_10 = (101,\t107,\t99,\t101,\t96,\t92,\t98,\t103,\t106,\t90,\t102,\t87,\t90,\t98,\t87,\t107,\t107,\t104,\t100,\t96,\t103,\t93,\t110,\t90,\t102,\t102,\t92,\t93,\t89,\t104)\n",
        "print('media : ', np.mean(q_resueltos_10))\n",
        "print('median : ', np.median(q_resueltos_10))\n",
        "\n",
        "plt.hist(q_resueltos_10, bins=10, range=(80, 120))\n",
        "plt.show()"
      ],
      "metadata": {
        "colab": {
          "base_uri": "https://localhost:8080/",
          "height": 300
        },
        "id": "ei0klJeiqqsQ",
        "outputId": "5517466e-298f-492e-cd4e-4ae0b8e2ff89"
      },
      "execution_count": null,
      "outputs": [
        {
          "output_type": "stream",
          "name": "stdout",
          "text": [
            "media :  98.3\n",
            "median :  99.5\n"
          ]
        },
        {
          "output_type": "display_data",
          "data": {
            "text/plain": [
              "<Figure size 432x288 with 1 Axes>"
            ],
            "image/png": "[encoded data removed]"
          },
          "metadata": {
            "needs_background": "light"
          }
        }
      ]
    },
    {
      "cell_type": "markdown",
      "source": [
        "####Nivel de atención de un día laboral"
      ],
      "metadata": {
        "id": "BqSver7pqzvp"
      }
    },
    {
      "cell_type": "code",
      "source": [
        "#dataset \"nivel de atención\" luego de las 30 replicas \n",
        "\n",
        "nivel_atencion_10 = (0.808,\t0.884297520661157,\t0.779527559055118,\t0.85593220338983,\t0.864864864864864,\t0.807017543859649,\t0.830508474576271,\t0.88034188034188,\t0.821705426356589,\t0.927835051546391,\t0.772727272727272,\t0.731092436974789,\t0.891089108910891,\t0.867256637168141,\t0.852941176470588,\t0.856,\t0.81060606060606,\t0.936936936936936,\t0.769230769230769,\t0.888888888888888,\t0.858333333333333,\t0.788135593220339,\t0.89430894308943,\t0.841121495327102,\t0.864406779661017,\t0.739130434782608,\t0.844036697247706,\t0.885714285714285,\t0.801801801801801,\t0.8595041322)\n",
        "print('media : ', np.mean(nivel_atencion_10))\n",
        "print('median : ', np.median(nivel_atencion_10))\n",
        "print('desv. std : ', np.std(nivel_atencion_10))\n",
        "\n",
        "plt.hist(nivel_atencion_10, bins=10, range=(0.7, 1))\n",
        "plt.show()"
      ],
      "metadata": {
        "colab": {
          "base_uri": "https://localhost:8080/",
          "height": 317
        },
        "id": "_fVXXCveq0O6",
        "outputId": "7265ac92-0883-45ed-fc5e-383a7e74350a"
      },
      "execution_count": null,
      "outputs": [
        {
          "output_type": "stream",
          "name": "stdout",
          "text": [
            "media :  0.8404431102981236\n",
            "median :  0.8544366899302089\n",
            "desv. std :  0.050622571980637056\n"
          ]
        },
        {
          "output_type": "display_data",
          "data": {
            "text/plain": [
              "<Figure size 432x288 with 1 Axes>"
            ],
            "image/png": "[encoded data removed]"
          },
          "metadata": {
            "needs_background": "light"
          }
        }
      ]
    },
    {
      "cell_type": "markdown",
      "source": [
        "####Leadtime end to end de un día laboral"
      ],
      "metadata": {
        "id": "gV72IWq2rA2l"
      }
    },
    {
      "cell_type": "code",
      "source": [
        "#dataset \"leadtime\" luego de las 30 replicas \n",
        "\n",
        "leadtime_10 = (53.1863054978049,\t53.2612969324382,\t71.7309401026294,\t58.9759604216758,\t47.7658880298651,\t61.026104922349,\t57.7298706680236,\t51.6020378434249,\t71.9253073663495,\t50.5544056907006,\t67.5954012027775,\t67.4082744127459,\t57.261201625455,\t56.7830632757687,\t55.779709150814,\t50.3577318585442,\t77.3067153144377,\t46.0836769224701,\t66.5089683243229,\t48.2067916324666,\t91.5704616969531,\t53.6056626704019,\t61.4775914821813,\t47.3216918687722,\t70.8206745562992,\t68.233277248549,\t47.1540420928041,\t42.7090659519467,\t59.1570735330091,\t59.99542734)\n",
        "print('media : ', np.mean(leadtime_10))\n",
        "print('median : ', np.median(leadtime_10))\n",
        "print('desv. std : ', np.std(leadtime_10))\n",
        "\n",
        "plt.hist(leadtime_10, bins=10, range=(35, 85))\n",
        "plt.show()"
      ],
      "metadata": {
        "colab": {
          "base_uri": "https://localhost:8080/",
          "height": 317
        },
        "id": "QQYDOWw8rBKP",
        "outputId": "54bc002d-90ed-4c1e-e3ec-7fc62b73de8e"
      },
      "execution_count": null,
      "outputs": [
        {
          "output_type": "stream",
          "name": "stdout",
          "text": [
            "media :  59.10315398786601\n",
            "median :  57.4955361467393\n",
            "desv. std :  10.692881202693417\n"
          ]
        },
        {
          "output_type": "display_data",
          "data": {
            "text/plain": [
              "<Figure size 432x288 with 1 Axes>"
            ],
            "image/png": "[encoded data removed]"
          },
          "metadata": {
            "needs_background": "light"
          }
        }
      ]
    },
    {
      "cell_type": "markdown",
      "source": [
        "####Conclusiones\n",
        "\n",
        "Al analizar los resultados de este escenario, vemos que no cumple de buena forma el target planteado, pero podemos darnos cuenta que sus resultados son muy similares al escenario con procesos especializados con 6 + 6 agentes. La diferencia aquí radica en los costos asociados, ya que este escenario tendría los mismos resultados que el modelo con 12 agentes (6 + 6) pero con menores costos, aproximdamente un 17% menor.\n",
        "\n",
        "Tendríamos que probar otro escenario con 11 agentes en modo lean y ver si cumple el target. \n",
        "\n",
        "\n",
        "\n",
        "\n"
      ],
      "metadata": {
        "id": "vMi51KKNrc9Y"
      }
    },
    {
      "cell_type": "code",
      "source": [
        "#Graficar boxplots de nivel de atención\n",
        "\n",
        "columns_to_plot = [nivel_atencion_6_6, nivel_atencion_10]\n",
        "\n",
        "plt.boxplot(columns_to_plot)\n",
        "plt.ylabel('Nivel de atención diario')\n",
        "plt.xlabel('Escenarios')\n",
        "plt.title('Gráfico Boxplot')\n",
        "plt.xticks([1, 2],\n",
        "           [\"6 + 6\", \"10 \"])\n",
        "plt.show()\n",
        "\n",
        "columns_to_plot = [leadtime_6_6,  leadtime_10]\n",
        "\n",
        "plt.boxplot(columns_to_plot)\n",
        "plt.ylabel('Leadtime de un día')\n",
        "plt.xlabel('Escenarios')\n",
        "plt.title('Gráfico Boxplot')\n",
        "plt.xticks([1, 2],\n",
        "           [\"6 + 6\", \"10 \"])\n",
        "plt.show()"
      ],
      "metadata": {
        "colab": {
          "base_uri": "https://localhost:8080/",
          "height": 573
        },
        "id": "Tr-VRXVirgnB",
        "outputId": "33da38b9-7067-4b77-d4f4-0f2a72b3b9fa"
      },
      "execution_count": null,
      "outputs": [
        {
          "output_type": "display_data",
          "data": {
            "text/plain": [
              "<Figure size 432x288 with 1 Axes>"
            ],
            "image/png": "[encoded data removed]"
          },
          "metadata": {
            "needs_background": "light"
          }
        },
        {
          "output_type": "display_data",
          "data": {
            "text/plain": [
              "<Figure size 432x288 with 1 Axes>"
            ],
            "image/png": "[encoded data removed]"
          },
          "metadata": {
            "needs_background": "light"
          }
        }
      ]
    },
    {
      "cell_type": "markdown",
      "source": [
        "###Cierre"
      ],
      "metadata": {
        "id": "AcDhX6WoyiIK"
      }
    },
    {
      "cell_type": "markdown",
      "source": [
        "Para finalizar solo quiero recordar que este es solo un ejercicio de ejemplo, hemos dejado muchos factores aleatorios fuera del modelo de simulación, así como respuestas interesantes de evaluar como por ejemplo la utilización, productividad, ingresos por ticket finalizado, premios o multas, entre otros.\n",
        "\n",
        "Espero sea de gran valor y lo puedas poner en prática ya sea ejecutando nuevos escenarios, creando más replicas, o ajustándolo a nuevos desafíos o casos de uso. Recuerda solo necesitas Colab y podrás jugar a tu ritmo, aplicando programación con Python, tal como lo hemos visto en este notebook, la que nos permitió contar con una enorme cantidad de potentes herramientas matemáticas y estadísticas, sumado a ello SimPy para simulación discreta, lo que se traduce sin duda en un toolkit de alto valor.\n",
        "\n",
        "\n",
        "¿Tienes alguna pregunta o sugerencia? Déjame comentarios en https://www.linkedin.com/in/robertomoragad/ y haré todo lo posible para responder.\n",
        "\n"
      ],
      "metadata": {
        "id": "PMdeSZGUt7oz"
      }
    },
    {
      "cell_type": "markdown",
      "source": [
        "##Referencias\n",
        "\n",
        "* Teorema del límite central  https://en.wikipedia.org/wiki/Central_limit_theorem\n",
        "* framework SimPy https://simpy.readthedocs.io/en/latest/\n",
        "* Simulación discreta https://en.wikipedia.org/wiki/Discrete-event_simulation\n"
      ],
      "metadata": {
        "id": "7Yb_1Wl90Qmf"
      }
    }
  ]
}