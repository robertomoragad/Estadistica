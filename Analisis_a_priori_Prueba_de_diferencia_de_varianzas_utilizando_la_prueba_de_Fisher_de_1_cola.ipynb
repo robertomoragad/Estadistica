{
  "nbformat": 4,
  "nbformat_minor": 0,
  "metadata": {
    "colab": {
      "provenance": [],
      "authorship_tag": "ABX9TyPytod/mFwdFu2+jELWHQ6S",
      "include_colab_link": true
    },
    "kernelspec": {
      "name": "python3",
      "display_name": "Python 3"
    },
    "language_info": {
      "name": "python"
    }
  },
  "cells": [
    {
      "cell_type": "markdown",
      "metadata": {
        "id": "view-in-github",
        "colab_type": "text"
      },
      "source": [
        "<a href=\"https://colab.research.google.com/github/robertomoragad/Estadistica/blob/master/Analisis_a_priori_Prueba_de_diferencia_de_varianzas_utilizando_la_prueba_de_Fisher_de_1_cola.ipynb\" target=\"_parent\"><img src=\"https://colab.research.google.com/assets/colab-badge.svg\" alt=\"Open In Colab\"/></a>"
      ]
    },
    {
      "cell_type": "markdown",
      "source": [
        "#Ejemplo de código en Python para calcular el tamaño de las dos muestras en una prueba de diferencia de varianzas utilizando la prueba de Fisher de 1 cola.\n",
        "\n",
        "\n",
        "\n",
        "La prueba de Fisher de 1 cola se utiliza para comparar la varianza de dos poblaciones diferentes. El objetivo es determinar si las varianzas son iguales o si la una de ellas es mayor que la otra.\n",
        "\n",
        "\n",
        "La hipótesis nula establece que la razón es igual a 1,\n",
        "$$H_0:  \\frac{\\sigma^2_{A}}{\\sigma^2_{B}} = 1$$\n",
        "\n",
        "y la hipótesis alternativa establece que el ratio es mayor a 1,\n",
        "\n",
        "$$H_1:  \\frac{\\sigma^2_{A}}{\\sigma^2_{B}}  > 1$$\n",
        "\n",
        "\n",
        "El código que presentaré a continuación sirve para realizar un Análisis A priori que permita determinar el tamaño de las muestras antes de ejecutar el experimento.\n",
        "\n",
        "El código toma como entrada tres valores: \n",
        "\n",
        "* el nivel de significancia deseado (*alpha*), \n",
        "* la potencia deseada (*power*), y \n",
        "* el tamaño del efecto deseado (*effect_size*). \n",
        "\n",
        "\n",
        "A continuación, utiliza un ciclo for para iterar a través de diferentes tamaños muestrales hasta que se alcanza la potencia deseada.\n",
        "\n",
        "En cada iteración del ciclo for, el código calcula el valor crítico de F utilizando el nivel de significancia deseado (por la cola derecha) y el tamaño muestral actual. Luego, utiliza el tamaño del efecto y el valor crítico de F para calcular la potencia de la prueba. Si la potencia de la prueba es mayor o igual a la potencia deseada, se detiene el ciclo for y se devuelve el tamaño muestral necesario para cada grupo.\n",
        "\n",
        "Por lo tanto espero que este código sea útil para los investigadores que desean planificar un estudio que involucre una prueba de diferencia de varianzas y necesitan determinar el tamaño muestral necesario para alcanzar una potencia específica.\n",
        "\n",
        "Finalmente para este caso el tamaño del efecto será calculado de acuerdo a la siguiente ratio:\n",
        "\n",
        "$$Efecto:  \\frac{\\sigma_{A}}{\\sigma_{B}} $$"
      ],
      "metadata": {
        "id": "csg8S7gr4MzH"
      }
    },
    {
      "cell_type": "code",
      "execution_count": 97,
      "metadata": {
        "id": "2IBSuABKy10S"
      },
      "outputs": [],
      "source": [
        "#Importamos librerias\n",
        "import numpy as np #\n",
        "from scipy import stats \n",
        "import matplotlib.pyplot as plt"
      ]
    },
    {
      "cell_type": "markdown",
      "source": [
        "##Análisis a priori"
      ],
      "metadata": {
        "id": "j4nenGmR9ysH"
      }
    },
    {
      "cell_type": "code",
      "source": [
        "#Analisis A priori - Prueba de 1 cola\n",
        "#Calculo de tamaño muestral\n",
        "\n",
        "#Definir parametros\n",
        "alpha = 0.05\n",
        "power = 0.8\n",
        "effect_size = 1.4\n",
        "ratio_n = 1.0 #muestra 1 será % más grande que la muestra 2\n",
        "\n",
        "###################################\n",
        "def sample_size_fisher(alpha, power, effect_size):\n",
        "    \"\"\"\n",
        "    Calcula el tamaño muestral de dos grupos para una prueba de diferencia de varianzas\n",
        "    utilizando la prueba de Fisher.\n",
        "    Args:\n",
        "        alpha (float): Nivel de significancia deseado (0 < alpha < 1).\n",
        "        power (float): Potencia deseada (0 < power < 1).\n",
        "        effect_size (float): Tamaño del efecto deseado.\n",
        "    Returns:\n",
        "        n1, n2: Tamaño muestral necesario para cada grupo.\n",
        "    \"\"\"\n",
        "    for n in range(2, 1000):\n",
        "        f_crit = stats.f.ppf(1-alpha, dfn=(n-1)*ratio_n, dfd=n-1, loc=0, scale=1)\n",
        "        power_value = stats.f.sf(f_crit, (n-1)*ratio_n, dfd=n-1, loc=0, scale=1*effect_size**2)\n",
        "        if power_value >= power:\n",
        "            n1 = n * ratio_n\n",
        "            n2 = n\n",
        "            break\n",
        "    return n1, n2\n",
        "\n",
        "n1, n2 = sample_size_fisher(alpha, power, effect_size)\n",
        "print(\"Tamaño muestral necesario para el grupo 1: \", int(np.ceil(n1)))\n",
        "print(\"Tamaño muestral necesario para el grupo 2: \", n2)"
      ],
      "metadata": {
        "colab": {
          "base_uri": "https://localhost:8080/"
        },
        "id": "ZxJiVy2DxSry",
        "outputId": "b1afd9a7-bd6c-4d98-c177-cc7e44abfff4"
      },
      "execution_count": 99,
      "outputs": [
        {
          "output_type": "stream",
          "name": "stdout",
          "text": [
            "Tamaño muestral necesario para el grupo 1:  57\n",
            "Tamaño muestral necesario para el grupo 2:  57\n"
          ]
        }
      ]
    },
    {
      "cell_type": "markdown",
      "source": [
        "##Analisis post-hoc"
      ],
      "metadata": {
        "id": "FG_PeqOH98wV"
      }
    },
    {
      "cell_type": "markdown",
      "source": [
        "Si se quiere commprobar el caso anterior, por medio de un Análisis Post-hoc, he creado el siguiente código para dicho fin:"
      ],
      "metadata": {
        "id": "YhB-rR406s_P"
      }
    },
    {
      "cell_type": "code",
      "source": [
        "#Analisis Post-hoc\n",
        "\n",
        "#completar resultados\n",
        "effect = 1.4 #ratio de desv. std s1/s2\n",
        "F = effect**2 #ratio de varianzas σ1^2/σ2^2\n",
        "alpha= 0.05\n",
        "n1 = 57\n",
        "n2 = 57\n",
        "\n",
        "\n",
        "#Prueba de 1 cola\n",
        "LS= stats.f.ppf(1-alpha, dfn=n1-1, dfd=n2-1, loc=0, scale=1)\n",
        "print(f'F-critic:       {LS:4.4f}')\n",
        "\n",
        "print(f'F-test:         {F:4.4f}')\n",
        "\n",
        "\n",
        "#Calculo de p-value\n",
        "pvalue = (stats.f.sf(F, dfn=n1-1, dfd=n2-1, loc=0, scale=1))#1 cola\n",
        "print(f'p-value:        {pvalue:4.4f}')\n",
        "\n",
        "#Calculo de poder, beta y efecto\n",
        "power = stats.f.sf(LS, dfn=n1-1, dfd=n2-1, loc=0, scale=1*F)\n",
        "print(f'Power:          {power:4.4f}')\n",
        "\n",
        "beta = stats.f.cdf(LS, dfn=n1-1, dfd=n2-1, loc=0, scale=1*F)\n",
        "print(f'beta:           {beta:4.4f}')\n",
        "\n",
        "print(f'efecto (ratio de desv. std s1/s2): {effect:4.4f}')\n",
        "\n",
        "#d = (σ1^2 - σ2^2) / sqrt((σ1^2 + σ2^2) / 2)\n",
        "d = (2.25 - 1) / np.sqrt((2.25+1)/2)\n",
        "print('d: ', d)"
      ],
      "metadata": {
        "colab": {
          "base_uri": "https://localhost:8080/"
        },
        "id": "O6GW55LBzD1y",
        "outputId": "b49b43f4-6cda-4016-de77-383df690c3f8"
      },
      "execution_count": 100,
      "outputs": [
        {
          "output_type": "stream",
          "name": "stdout",
          "text": [
            "F-critic:       1.5579\n",
            "F-test:         1.9600\n",
            "p-value:        0.0065\n",
            "Power:          0.8035\n",
            "beta:           0.1965\n",
            "efecto (ratio de desv. std s1/s2): 1.4000\n",
            "d:  0.9805806756909202\n"
          ]
        }
      ]
    },
    {
      "cell_type": "markdown",
      "source": [
        "##Gráficas de nivel"
      ],
      "metadata": {
        "id": "GTzqv61g-BEN"
      }
    },
    {
      "cell_type": "markdown",
      "source": [
        "Finalmente si se quiere conocer las curvas de nivel para tamaño de muestras:"
      ],
      "metadata": {
        "id": "-tmH5SQq7KEm"
      }
    },
    {
      "cell_type": "code",
      "source": [
        "effect = 1.4 #ratio de desv. std s1/s2\n",
        "F = effect**2 #ratio de varianzas s1Λ2/s2Λ2\n",
        "alpha= 0.05\n",
        "\n",
        "x = np.arange(2,100)\n",
        "FC= stats.f.ppf(1-alpha, dfn=x-1, dfd=x-1, loc=0, scale=1)\n",
        "power = stats.f.sf(FC, dfn=x-1, dfd=x-1, loc=0, scale=1*F)\n",
        "#print(power)\n",
        "\n",
        "plt.figure(figsize=(15, 6)) \n",
        "plt.plot(x, power,\"orange\", label=r'$Power$') #\n",
        "plt.hlines(y= 0.8 , xmin=1, xmax=100, label=r'target')\n",
        "plt.ylabel('Power')\n",
        "plt.xlabel('Tamaño de ambas muestras (A y B)')\n",
        "plt.title('F Test - dif. variances 1 sided,  Simulation plot')\n",
        "plt.legend()\n",
        "plt.show()"
      ],
      "metadata": {
        "colab": {
          "base_uri": "https://localhost:8080/",
          "height": 404
        },
        "id": "_iKZuMOY1k6R",
        "outputId": "b756e95b-d868-4c09-a908-39fec07e2a92"
      },
      "execution_count": 125,
      "outputs": [
        {
          "output_type": "display_data",
          "data": {
            "text/plain": [
              "<Figure size 1080x432 with 1 Axes>"
            ],
            "image/png": "[encoded data removed]"
          },
          "metadata": {
            "needs_background": "light"
          }
        }
      ]
    },
    {
      "cell_type": "markdown",
      "source": [
        "##Resumen\n",
        "\n",
        "El código que he desarrollado permite calcular el tamaño muestral necesario para una prueba de diferencia de varianzas utilizando la prueba de Fisher, a partir de un nivel de significancia, una potencia y un tamaño del efecto deseado. Este código es útil para investigadores que planean estudios que involucren una prueba de diferencia de varianzas y necesitan determinar el tamaño muestral necesario para alcanzar una potencia específica. \n",
        "\n",
        "Al utilizar este código, los investigadores pueden planificar estudios más efectivos y rigurosos, lo que aumenta la calidad de la investigación y la confiabilidad de los resultados. En resumen, este código puede ser útil en la planificación y diseño de estudios para una amplia variedad de disciplinas y áreas de investigación."
      ],
      "metadata": {
        "id": "Rks4QkSi-vPm"
      }
    }
  ]
}